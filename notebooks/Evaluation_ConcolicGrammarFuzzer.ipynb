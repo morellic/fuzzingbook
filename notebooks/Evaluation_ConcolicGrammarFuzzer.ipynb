{
 "cells": [
  {
   "cell_type": "markdown",
   "metadata": {},
   "source": [
    "# Evaluating ConcolicGrammarFuzzer"
   ]
  },
  {
   "cell_type": "markdown",
   "metadata": {},
   "source": [
    "In this chapter, we will evaluate our concolic fuzzer that uses grammars. Namely, we want to compare  `ConcolicGrammarFuzzer` and `GrammarFuzzer`. We are mainly interested in **speed**, **line coverage**, **branch coverage** and **number of valid inputs** achieved by these fuzzers.\n",
    "\n",
    "We will fuzz a simple Python program with both fuzzers and compare their success. Note that the features of `ConcolicGrammarFuzzer` is limited by symbolic execution and the SMT solver used ([Z3](https://github.com/Z3Prover/z3)), so we restricted our target to be a simple program. We believe this evaluation could be extended to more complex programs (which would lead to amore comprehensive evaluation of our concolic fuzzer) when more features are added to `ConcolicGrammarFuzzer` or Z3.\n",
    "\n",
    "We describe our evaluation step by step, starting from the target program. We also describe our implementation of how we obtain our metrics (e.g. coverage) or how we run our fuzzers. Those who are interested only in the results can jump right in to [Evaluations](#evaluations) part. Note that it is very easy to replicate our evaluation. Furthermore, you can also try out the evaluation with different configurations."
   ]
  },
  {
   "cell_type": "markdown",
   "metadata": {},
   "source": [
    "### Table of Contents\n",
    "1. [Target Program](#target-program)\n",
    "2. [Calculating Coverage](#calculating-coverage)\n",
    "3. [Representing Fuzzing Results](#representing-fuzzing-results)\n",
    "4. [Running Fuzzers](#running-fuzzers)\n",
    "5. [Comparing Fuzzing Results](#comparing-fuzzing-results)"
   ]
  },
  {
   "cell_type": "markdown",
   "metadata": {},
   "source": [
    "Let's import our fuzzingbook utils and fuzzers first."
   ]
  },
  {
   "cell_type": "code",
   "execution_count": 121,
   "metadata": {},
   "outputs": [],
   "source": [
    "import fuzzingbook_utils"
   ]
  },
  {
   "cell_type": "code",
   "execution_count": 122,
   "metadata": {},
   "outputs": [],
   "source": [
    "from ConcolicFuzzer import ConcolicGrammarFuzzer, ConcolicTracer\n",
    "from GrammarFuzzer import GrammarFuzzer"
   ]
  },
  {
   "cell_type": "markdown",
   "metadata": {},
   "source": [
    "## Target Program: `query_db` function <a name=\"target-program\"></a>\n",
    "\n",
    "Our target program, `query_db`, is a function defined as below. This simple function mimics querying an SQL database. We mock the SQL database using the `ConcolicDB` and its grammar `INVENTORY_GRAMMAR` from the [InformationFlow](InformationFlow.ipynb) chapter.\n",
    "\n",
    "We should point some important aspects of `query_db`:\n",
    "* The databese is initialized to `INITIAL_DB` in each execution. This is done mainly because we want the database to be in the same state for each query created by the fuzzers so that our results can be reproduced easily. Later on, we will also test our fuzzers with different `INITIAL_DB` values.\n",
    "\n",
    "\n",
    "* If the query input is not valid, our target throws an `SQLException`. For example, if the table targeted by the query doesn't exist in the database, we would get an `SQLException`. This makes fuzzing challenging because fuzzers need to produce queries that have specific table or field names. Also, because of this, we expect the `ConcolicGrammarFuzzer` to be more successfull since it should be able to find out these specific values with symbolic execution and update its grammar to produce better queries."
   ]
  },
  {
   "cell_type": "code",
   "execution_count": 118,
   "metadata": {},
   "outputs": [],
   "source": [
    "from InformationFlow import INVENTORY_GRAMMAR, SQLException\n",
    "from ConcolicFuzzer import ConcolicDB\n",
    "from copy import deepcopy\n",
    "\n",
    "INITIAL_DB = [\n",
    "    (\n",
    "        'vehicles',\n",
    "        (\n",
    "            {'year': int, 'kind': str, 'company': str, 'model': str},\n",
    "            [\n",
    "                {'year': 1997, 'kind': 'van', 'company': 'Ford', 'model': 'E350'},\n",
    "                {'year': 2000, 'kind': 'car', 'company': 'Mercury', 'model': 'Cougar'},\n",
    "                {'year': 1999, 'kind': 'car', 'company': 'Chevy', 'model': 'Venture'}\n",
    "            ]\n",
    "        )\n",
    "    ),\n",
    "    (\n",
    "        'months',\n",
    "        (\n",
    "            {'month': int, 'name': str},\n",
    "            [\n",
    "                {'month': 1, 'name': 'jan'},\n",
    "                {'month': 2, 'name': 'feb'},\n",
    "                {'month': 3, 'name': 'mar'},\n",
    "                {'month': 4, 'name': 'apr'},\n",
    "                {'month': 5, 'name': 'may'},\n",
    "                {'month': 6, 'name': 'jun'},\n",
    "                {'month': 7, 'name': 'jul'},\n",
    "                {'month': 8, 'name': 'aug'},\n",
    "                {'month': 9, 'name': 'sep'},\n",
    "                {'month': 10, 'name': 'oct'},\n",
    "                {'month': 11, 'name': 'nov'},\n",
    "                {'month': 12, 'name': 'dec'}\n",
    "            ]\n",
    "        )\n",
    "    )\n",
    "]\n",
    "\n",
    "def query_db(query):\n",
    "    global INITIAL_DB\n",
    "    concolic_db = ConcolicDB()\n",
    "    concolic_db.db = deepcopy(INITIAL_DB)\n",
    "    return concolic_db.sql(query)"
   ]
  },
  {
   "cell_type": "markdown",
   "metadata": {},
   "source": [
    "## Calculating Coverage: `FilteredCoverage` class <a name=\"calculating-coverage\"></a>\n",
    "\n",
    "We calculate the coverage achieved by the fuzzers with the context manager below (`FilteredCoverage`). This coverage class works very similar to `Coverage` and `BranchCoverage` classes which are described in the [Coverage](Coverage.ipynb) chapter. Further information about context managers can be found at [docs](https://docs.python.org/3/library/contextlib.html) and [PEP343](https://docs.python.org/3/whatsnew/2.6.html#pep-343-the-with-statement).\n",
    "\n",
    "First, we should clarify why we chose to implement the `FilteredCoverage` class instead of using our already available `Coverage` and `BranchCoverage` classes. Main reason is that the execution of the target program is wrapped by concolic execution in `ConcolicGrammarFuzzer`. Instances of many types (`int`, `str`, `float` etc.) are replaced by their symbolic equivalents (`zint`, `zstr`, `zfloat` etc.) and during the execution, methods of these symbolic types are called frequently. However, we are not interested in these methods since they are not related to the target program. In other words, if we were to use `Coverage` or `BranchCoverage` class, we would obtain coverages from many functions which are not related to target program but to our concolic execution implementation.\n",
    "\n",
    "In order to avoid this, we chose to whitelist the functions that we are interested in. The `FilteredCoverage` class takes a set of function names and traces only the functions included in this set, obtaining their line/branch coverage. In other words, it provides a filtered coverage (hence the name) which includes only the functions we whitelist. Also, note that `FilteredCoverage` provides both line coverage and branch coverage.\n",
    "\n",
    "Another option is to blacklist the functions that we are not interested in. However, this also requires to blacklist all the functions used in concolic execution, which could be cumbersome because of the third-party software components used (e.g. Z3). Thus, for simplicity, we chose whitelisting.\n",
    "\n",
    "You don't need to understand fully how the following works, but if you are interested in, we encourage you to check out the [Coverage](Coverage.ipynb) chapter."
   ]
  },
  {
   "cell_type": "code",
   "execution_count": 123,
   "metadata": {},
   "outputs": [],
   "source": [
    "import sys\n",
    "\n",
    "class FilteredCoverage:\n",
    "    def __init__(self, functions=set()):\n",
    "        self._traces = []\n",
    "        self._line_coverage = set()\n",
    "        self._branch_coverage = set()\n",
    "        self._functions = functions\n",
    "    \n",
    "    def __enter__(self):\n",
    "        self.original_tracer = sys.gettrace()\n",
    "        sys.settrace(self._tracer)\n",
    "        return self\n",
    "\n",
    "    def __exit__(self, exc_type, exc_value, tb):\n",
    "        sys.settrace(self.original_tracer)\n",
    "        \n",
    "    def _tracer(self, frame, event, arg):\n",
    "        if self.original_tracer is not None:\n",
    "            self.original_tracer(frame, event, arg)\n",
    "            \n",
    "        should_trace = (event == 'line' and \n",
    "                        frame.f_code.co_name in self._functions)\n",
    "        \n",
    "        if should_trace:\n",
    "            function_name = frame.f_code.co_name\n",
    "            line_no = frame.f_lineno\n",
    "            trace = (function_name, line_no)\n",
    "            \n",
    "            if len(self._traces) > 0:\n",
    "                last_trace = self._traces[-1]\n",
    "                if last_trace[0] == function_name:\n",
    "                    self._branch_coverage.add((last_trace, trace))\n",
    "                \n",
    "            self._traces.append(trace)\n",
    "            self._line_coverage.add(trace)\n",
    "\n",
    "        return self._tracer\n",
    "    \n",
    "    def get_traces(self):\n",
    "        return self._traces\n",
    "\n",
    "    def get_line_coverage(self):\n",
    "        return self._line_coverage\n",
    "    \n",
    "    def get_branch_coverage(self):\n",
    "        return self._branch_coverage"
   ]
  },
  {
   "cell_type": "markdown",
   "metadata": {},
   "source": [
    "Here is how this class can be used."
   ]
  },
  {
   "cell_type": "code",
   "execution_count": 181,
   "metadata": {},
   "outputs": [],
   "source": [
    "def my_multiply(n1, n2):\n",
    "    r = n1 * n2\n",
    "    return r\n",
    "\n",
    "def my_square(n):\n",
    "    r = my_multiply(n, n)\n",
    "    return r"
   ]
  },
  {
   "cell_type": "code",
   "execution_count": 182,
   "metadata": {},
   "outputs": [
    {
     "name": "stdout",
     "output_type": "stream",
     "text": [
      "{('my_square', 6), ('my_square', 7), ('my_multiply', 2), ('my_multiply', 3)}\n",
      "{(('my_multiply', 2), ('my_multiply', 3))}\n"
     ]
    }
   ],
   "source": [
    "functions = {'my_multiply', 'my_square'}\n",
    "with FilteredCoverage(functions) as fc:\n",
    "    my_square(3)\n",
    "\n",
    "print(fc.get_line_coverage())\n",
    "print(fc.get_branch_coverage())"
   ]
  },
  {
   "cell_type": "markdown",
   "metadata": {},
   "source": [
    "Let's try obtaining coverage only from `my_multiply` function."
   ]
  },
  {
   "cell_type": "code",
   "execution_count": 183,
   "metadata": {},
   "outputs": [
    {
     "name": "stdout",
     "output_type": "stream",
     "text": [
      "{('my_multiply', 2), ('my_multiply', 3)}\n",
      "{(('my_multiply', 2), ('my_multiply', 3))}\n"
     ]
    }
   ],
   "source": [
    "functions = {'my_multiply'}\n",
    "with FilteredCoverage(functions) as fc:\n",
    "    my_square(3)\n",
    "\n",
    "print(fc.get_line_coverage())\n",
    "print(fc.get_branch_coverage())"
   ]
  },
  {
   "cell_type": "markdown",
   "metadata": {},
   "source": [
    "## Representing Fuzzing Results: `Result` class <a name=\"representing-fuzzing-results\"></a>\n",
    "\n",
    "We will obtain many metrics (line coverage, branch coverage, expeptions raised ...) when we fuzz our target program. To easily represent and compare these with other fuzzer's results, we define a class called `Result`. It contains all the metrics we are interested in. For convenience, each fuzzer runner will return a `Result` object.\n",
    "\n",
    "Implementation is fairly simple and self-explanatory. Nevertheless, here are some basic explanations for constructor parameters and metrics provided as class fields.\n",
    "\n",
    "Constructor takes these parameters:\n",
    "* **functions**: set of function names that we want to obtain coverage from\n",
    "* **fuzzer_name**: name of the fuzzer\n",
    "* **n_fuzz**: number of fuzzes\n",
    "* **line_coverage**: set of `(function_name, line_no)` tuples, represents total line coverage\n",
    "* **branch_coverage**: set of `((function_name, line_no1), (function_name, line_no2))` tuples, represents total branch coverage\n",
    "* **exceptions**:  exceptions thrown while fuzzing\n",
    "* **valid_inputs**:  inputs produced by fuzzer which did not result in an exception\n",
    "* **elapsed_time**:  seconds it took to fuzz n_fuzz times\n",
    "\n",
    "Main metric fields (remaining fields are self-explanatory):\n",
    "* **line_coverage_dict**: lines covered of each function, function_name -> list_lines_covered\n",
    "* **branch_coverage_dict**: branches covered of each function, function_name -> list_branches_covered\n",
    "* **exceptions_dict**: exceptions raised of each type, exception_type -> list_exceptions\n"
   ]
  },
  {
   "cell_type": "code",
   "execution_count": 124,
   "metadata": {},
   "outputs": [],
   "source": [
    "from collections import defaultdict\n",
    "\n",
    "class Result:\n",
    "    def __init__(\n",
    "            self, \n",
    "            functions,\n",
    "            fuzzer_name,\n",
    "            n_fuzz,\n",
    "            line_coverage, \n",
    "            branch_coverage, \n",
    "            exceptions, \n",
    "            valid_inputs,\n",
    "            elapsed_time):\n",
    "        \n",
    "        self.functions = functions\n",
    "        self.fuzzer_name = fuzzer_name\n",
    "        self.n_fuzz = n_fuzz\n",
    "        \n",
    "        self.line_coverage = line_coverage\n",
    "        self.branch_coverage = branch_coverage\n",
    "    \n",
    "        self.exceptions = exceptions\n",
    "        self.valid_inputs = valid_inputs\n",
    "        \n",
    "        self.n_lines_covered = len(line_coverage)\n",
    "        self.n_branches_covered = len(branch_coverage)\n",
    "        self.n_exceptions = len(exceptions)\n",
    "        self.n_valid_inputs = len(valid_inputs)\n",
    "        self.valid_input_percentage = (len(valid_inputs) / float(n_fuzz)) * 100\n",
    "        \n",
    "        self.elapsed_time = elapsed_time\n",
    "        \n",
    "        self.line_coverage_dict = self._generate_line_coverage_dict()\n",
    "        self.branch_coverage_dict = self._generate_branch_coverage_dict()\n",
    "        self.exceptions_dict = self._generate_exceptions_dict()\n",
    "\n",
    "    def _generate_line_coverage_dict(self):\n",
    "        line_coverage_dict = defaultdict(list)\n",
    "        for function_name, line in self.line_coverage:\n",
    "            line_coverage_dict[function_name].append(line)\n",
    "        return line_coverage_dict\n",
    "\n",
    "    def _generate_branch_coverage_dict(self):\n",
    "        branch_coverage_dict = defaultdict(list)\n",
    "        for branch in self.branch_coverage:\n",
    "            function_name = branch[0][0]\n",
    "            branch_coverage_dict[function_name].append(branch)\n",
    "        return branch_coverage_dict\n",
    "            \n",
    "    def _generate_exceptions_dict(self):\n",
    "        exceptions_dict = defaultdict(list)\n",
    "        for e in self.exceptions:\n",
    "            e_type = type(e).__name__\n",
    "            exceptions_dict[e_type].append(e)\n",
    "        return exceptions_dict"
   ]
  },
  {
   "cell_type": "markdown",
   "metadata": {},
   "source": [
    "Now, we will see how this class is used in fuzzer runners."
   ]
  },
  {
   "cell_type": "markdown",
   "metadata": {},
   "source": [
    "## Running Fuzzers: `run_concolic_fuzzer` and `run_concolic_grammar_fuzzer` <a name=\"running-fuzzers\"></a>"
   ]
  },
  {
   "cell_type": "markdown",
   "metadata": {},
   "source": [
    "A single function that fuzzes a given target multiple times using a given fuzzer object would be pretty useful. For this purpose, we implement the `fuzz_multiple_times` function, which takes a target, set of functions to obtain coverage from, a fuzzer instance, and number of fuzzes. This function not only fuzzes the target, but also saves line coverage, branch coverage, exceptions, valid inputs, elapsed time, and returns a `Result` object with these metrics.\n",
    "\n",
    "**A tiny implementation detail - `run_target`**: Note that while fuzzing with `ConcolicGrammarFuzzer`, we need to do some extra work compared to `GrammarFuzzer`. Namely, we need to invoke the target program in the context of `ConcolicTracer` (thus, we have concolic execution) and update the grammar in `ConcolicGrammarFuzzer` after each concolic invocation. Because of this, we also implement the inner function `run_target` which runs the target program properly according the fuzzer's type."
   ]
  },
  {
   "cell_type": "code",
   "execution_count": 159,
   "metadata": {},
   "outputs": [],
   "source": [
    "import time\n",
    "\n",
    "def fuzz_multiple_times(target, functions, fuzzer, n_fuzz):\n",
    "    fuzzer_name = fuzzer.__class__.__name__\n",
    "    \n",
    "    def run_target(inp):\n",
    "        if 'concolic' in fuzzer_name.lower():\n",
    "            with ConcolicTracer() as tracer:\n",
    "                try:\n",
    "                    return tracer[target](inp)\n",
    "                except Exception as e:\n",
    "                    raise e\n",
    "                finally:\n",
    "                    fuzzer.update_grammar(tracer)\n",
    "        else:\n",
    "            return target(inp)\n",
    "    \n",
    "    line_coverage = set()\n",
    "    branch_coverage = set()\n",
    "    exceptions = []\n",
    "    valid_inputs = []\n",
    "    \n",
    "    start_time = time.time()\n",
    "\n",
    "    for i in range(n_fuzz):\n",
    "        print('{0:<30}-> fuzz {1} of {2}'.format(fuzzer_name, i, n_fuzz), end='\\r')\n",
    "        inp = fuzzer.fuzz()\n",
    "        with FilteredCoverage(functions) as fc:\n",
    "            try:\n",
    "                run_target(inp)\n",
    "                valid_inputs.append(inp)\n",
    "            except Exception as e:\n",
    "                exceptions.append(e)\n",
    "\n",
    "        line_coverage |= fc.get_line_coverage()\n",
    "        branch_coverage |= fc.get_branch_coverage()\n",
    "        \n",
    "    elapsed_time = time.time() - start_time\n",
    "\n",
    "    print('{0:<30}-> fuzzed {1} times in {2:.2f} seconds!'.format(fuzzer_name, n_fuzz, elapsed_time))\n",
    "    \n",
    "    return Result(functions,\n",
    "                  fuzzer_name,\n",
    "                  n_fuzz,\n",
    "                  line_coverage, \n",
    "                  branch_coverage, \n",
    "                  exceptions,\n",
    "                  valid_inputs,\n",
    "                  elapsed_time)"
   ]
  },
  {
   "cell_type": "markdown",
   "metadata": {},
   "source": [
    "Now that we have our \"generic\" function to run our fuzzer instances of different types, let's continue with runners of each fuzzer, `run_grammar_fuzzer` and `run_concolic_grammar_fuzzer`. These are very simple functions which instantiate a fuzzer with the given configurations and fuzz the target many times with the help of `fuzz_multiple_times`. When the fuzzing is all done, these runners return a `Result` object which contains all the metrics we are interested in."
   ]
  },
  {
   "cell_type": "code",
   "execution_count": 160,
   "metadata": {},
   "outputs": [],
   "source": [
    "def run_grammar_fuzzer(\n",
    "        target, \n",
    "        grammar, \n",
    "        max_nonterminals,\n",
    "        n_fuzz,\n",
    "        functions): \n",
    "    \n",
    "    gf = GrammarFuzzer(grammar=grammar, \n",
    "                       max_nonterminals=max_nonterminals)\n",
    "    \n",
    "    result = fuzz_multiple_times(target=target, \n",
    "                                 functions=functions, \n",
    "                                 fuzzer=gf, \n",
    "                                 n_fuzz=n_fuzz)\n",
    "    \n",
    "    return result"
   ]
  },
  {
   "cell_type": "code",
   "execution_count": 161,
   "metadata": {},
   "outputs": [],
   "source": [
    "def run_concolic_grammar_fuzzer(\n",
    "        target, \n",
    "        grammar, \n",
    "        max_nonterminals, \n",
    "        n_fuzz,\n",
    "        functions):\n",
    "    \n",
    "    cgf = ConcolicGrammarFuzzer(grammar=grammar,\n",
    "                                max_nonterminals=max_nonterminals)\n",
    "\n",
    "    #tokens_to_prune = ['<value>', '<table>', '<column>', \n",
    "    #                   '<literals>', '<exprs>', '<bexpr>'] \n",
    "    \n",
    "    tokens_to_prune = [] \n",
    "    \n",
    "    cgf.prune_tokens(tokens_to_prune)\n",
    "    \n",
    "    result = fuzz_multiple_times(target=target, \n",
    "                                 functions=functions, \n",
    "                                 fuzzer=cgf, \n",
    "                                 n_fuzz=n_fuzz)\n",
    "    \n",
    "    return result"
   ]
  },
  {
   "cell_type": "markdown",
   "metadata": {},
   "source": [
    "Soon we will run our fuzzers and compare their results, all we need is just a little patience!\n",
    "\n",
    "Or you can jump right into [Evaluations](#evaluations)."
   ]
  },
  {
   "cell_type": "markdown",
   "metadata": {},
   "source": [
    "## Comparing Fuzzing Results: `ResultComparator` class <a name=\"comparing-fuzzing-results\"></a>"
   ]
  },
  {
   "cell_type": "code",
   "execution_count": 157,
   "metadata": {},
   "outputs": [],
   "source": [
    "import matplotlib.pyplot as plt\n",
    "import numpy as np\n",
    "\n",
    "class ResultComparator:\n",
    "    def __init__(self, result1, result2):\n",
    "        self.result1 = result1\n",
    "        self.result2 = result2\n",
    "        \n",
    "        self.name1 = result1.fuzzer_name\n",
    "        self.name2 = result2.fuzzer_name\n",
    "        \n",
    "        assert(result1.functions == result2.functions)\n",
    "        self.functions = result1.functions\n",
    " \n",
    "    def _print_formatted(self, arg1, arg2, arg3):\n",
    "        print('{0: <30} {1: <25} {2: <25}'.format(arg1, arg2, arg3))\n",
    "        \n",
    "    def _print_title(self, title):\n",
    "        print('\\n')\n",
    "        self._print_formatted(title, self.name1, self.name2)\n",
    "        print('-' * 80)\n",
    "        \n",
    "    def _print_coverage_comparison(self, cov_dict1, n1, cov_dict2, n2, title):\n",
    "        self._print_title(title)\n",
    "        self._print_formatted('all functions', n1, n2)\n",
    "        for f in self.functions:\n",
    "            n_lines1 = len(cov_dict1[f])\n",
    "            n_lines2 = len(cov_dict2[f])\n",
    "            self._print_formatted(f, n_lines1, n_lines2)\n",
    "    \n",
    "    def _plot_coverage_comparison(self, cov_dict1, n1, cov_dict2, n2, title):\n",
    "        x_indexes = [i for i in range(len(self.functions) + 1)]\n",
    "        x_labels = ['all functions'] + list(self.functions)\n",
    "\n",
    "        plt.title(title)\n",
    "        plt.bar([x-0.1 for x in x_indexes], \n",
    "                [n1] + [len(cov_dict1[f]) for f in self.functions],  \n",
    "                width=0.2, align='center', label=self.name1)\n",
    "\n",
    "        plt.bar([x+0.1 for x in x_indexes], \n",
    "                [n2] + [len(cov_dict2[f]) for f in self.functions],  \n",
    "                width=0.2, align='center', label=self.name2)\n",
    "\n",
    "        plt.legend(loc='upper right')\n",
    "        plt.xticks(x_indexes, x_labels, rotation=20)\n",
    "        plt.show()\n",
    "        \n",
    "    def compare_line_coverage(self):\n",
    "        args = [\n",
    "            self.result1.line_coverage_dict,\n",
    "            self.result1.n_lines_covered,\n",
    "            self.result2.line_coverage_dict,\n",
    "            self.result2.n_lines_covered,\n",
    "            'Line Coverage'\n",
    "        ]\n",
    "        \n",
    "        self._print_coverage_comparison(*args)\n",
    "        self._plot_coverage_comparison(*args)\n",
    "    \n",
    "    def compare_branch_coverage(self):\n",
    "        args = [\n",
    "            self.result1.branch_coverage_dict,\n",
    "            self.result1.n_branches_covered,\n",
    "            self.result2.branch_coverage_dict,\n",
    "            self.result2.n_branches_covered,\n",
    "            'Branch Coverage'\n",
    "        ]\n",
    "        \n",
    "        self._print_coverage_comparison(*args)\n",
    "        self._plot_coverage_comparison(*args)\n",
    "    \n",
    "    def compare_exceptions(self):\n",
    "        n_all1 = self.result1.n_exceptions\n",
    "        n_all2 = self.result2.n_exceptions\n",
    "\n",
    "        e_dict1 = self.result1.exceptions_dict\n",
    "        e_dict2 = self.result2.exceptions_dict\n",
    "\n",
    "        self._print_title('Exception Type')\n",
    "        self._print_formatted('all exceptions', n_all1, n_all2)\n",
    "        \n",
    "        all_e_types = e_dict1.keys() | e_dict2.keys()\n",
    "        for e_type in all_e_types:\n",
    "            n1 = len(e_dict1[e_type])\n",
    "            n2 = len(e_dict2[e_type])\n",
    "            self._print_formatted(e_type, n1, n2)\n",
    "\n",
    "    def compare_valid_inputs(self):\n",
    "        n1 = self.result1.n_valid_inputs\n",
    "        n2 = self.result2.n_valid_inputs\n",
    "        \n",
    "        perc1 = self.result1.valid_input_percentage\n",
    "        perc2 = self.result2.valid_input_percentage\n",
    "\n",
    "        self._print_title('Valid Inputs')\n",
    "        self._print_formatted('Number', n1, n2)\n",
    "        self._print_formatted('Percentage %', perc1, perc2)\n",
    "\n",
    "    def compare_elapsed_time(self):\n",
    "        t1_ms = '{:.0f} ms'.format(self.result1.elapsed_time * 1000)\n",
    "        t2_ms = '{:.0f} ms'.format(self.result2.elapsed_time * 1000)\n",
    "        \n",
    "        t1_s = '{:.2f} s'.format(self.result1.elapsed_time)\n",
    "        t2_s = '{:.2f} s'.format(self.result2.elapsed_time)\n",
    "        \n",
    "        t1_m = '{:.2f} m'.format(self.result1.elapsed_time / 60.0)\n",
    "        t2_m = '{:.2f} m'.format(self.result2.elapsed_time / 60.0)\n",
    "        \n",
    "        self._print_title('Elapsed Time')\n",
    "        self._print_formatted('in minutes', t1_m, t2_m)\n",
    "        self._print_formatted('in seconds', t1_s, t2_s)\n",
    "        self._print_formatted('in milliseconds', t1_ms, t2_ms)\n",
    "\n",
    "    def compare_all(self):\n",
    "        self.compare_line_coverage()\n",
    "        self.compare_branch_coverage()\n",
    "        self.compare_exceptions()\n",
    "        self.compare_valid_inputs()\n",
    "        self.compare_elapsed_time()"
   ]
  },
  {
   "cell_type": "code",
   "execution_count": 158,
   "metadata": {},
   "outputs": [],
   "source": []
  },
  {
   "cell_type": "markdown",
   "metadata": {},
   "source": [
    "## Fuzzing Configuration"
   ]
  },
  {
   "cell_type": "code",
   "execution_count": 162,
   "metadata": {},
   "outputs": [],
   "source": [
    "N_FUZZ_DEFAULT = 10\n",
    "TARGET_DEFAULT = query_db\n",
    "GRAMMAR_DEFAULT = INVENTORY_GRAMMAR\n",
    "MAX_NONTERMINALS_DEFAULT = 10\n",
    "FUNCTIONS_DEFAULT = {\n",
    "    'sql', \n",
    "    'table',\n",
    "    'do_update', \n",
    "    'do_insert', \n",
    "    'do_delete', \n",
    "    'query_db'\n",
    "}"
   ]
  },
  {
   "cell_type": "markdown",
   "metadata": {},
   "source": [
    "## Evaluations <a name=\"evaluations\"></a>"
   ]
  },
  {
   "cell_type": "markdown",
   "metadata": {},
   "source": [
    "## Comparative Run"
   ]
  },
  {
   "cell_type": "code",
   "execution_count": 163,
   "metadata": {},
   "outputs": [],
   "source": [
    "def comperative_run(runner1, config1, runner2, config2):\n",
    "    result1 = runner1(**config1)\n",
    "    result2 = runner2(**config2)\n",
    "    return result1, result2"
   ]
  },
  {
   "cell_type": "code",
   "execution_count": 164,
   "metadata": {},
   "outputs": [],
   "source": [
    "def compare_results(result1, result2):\n",
    "    result_comparator = ResultComparator(result1, result2)    \n",
    "    result_comparator.compare_all()"
   ]
  },
  {
   "cell_type": "code",
   "execution_count": 165,
   "metadata": {},
   "outputs": [
    {
     "name": "stdout",
     "output_type": "stream",
     "text": [
      "ConcolicGrammarFuzzer         -> fuzzed 10000 times in 1186.39 seconds!\n",
      "GrammarFuzzer                 -> fuzzed 10000 times in 277.66 seconds!\n",
      "\n",
      "\n",
      "Line Coverage                  ConcolicGrammarFuzzer     GrammarFuzzer            \n",
      "--------------------------------------------------------------------------------\n",
      "all functions                  61                        29                       \n",
      "query_db                       3                         3                        \n",
      "do_delete                      11                        5                        \n",
      "do_insert                      15                        5                        \n",
      "do_update                      21                        6                        \n",
      "table                          4                         3                        \n",
      "sql                            7                         7                        \n"
     ]
    },
    {
     "data": {
      "image/png": "[encoded data removed]",
      "text/plain": [
       "<Figure size 432x288 with 1 Axes>"
      ]
     },
     "metadata": {
      "needs_background": "light"
     },
     "output_type": "display_data"
    },
    {
     "name": "stdout",
     "output_type": "stream",
     "text": [
      "\n",
      "\n",
      "Branch Coverage                ConcolicGrammarFuzzer     GrammarFuzzer            \n",
      "--------------------------------------------------------------------------------\n",
      "all functions                  57                        25                       \n",
      "query_db                       2                         2                        \n",
      "do_delete                      10                        4                        \n",
      "do_insert                      14                        4                        \n",
      "do_update                      20                        5                        \n",
      "table                          4                         3                        \n",
      "sql                            7                         7                        \n"
     ]
    },
    {
     "data": {
      "image/png": "[encoded data removed]",
      "text/plain": [
       "<Figure size 432x288 with 1 Axes>"
      ]
     },
     "metadata": {
      "needs_background": "light"
     },
     "output_type": "display_data"
    },
    {
     "name": "stdout",
     "output_type": "stream",
     "text": [
      "\n",
      "\n",
      "Exception Type                 ConcolicGrammarFuzzer     GrammarFuzzer            \n",
      "--------------------------------------------------------------------------------\n",
      "SQLException                   9384                      10000                    \n",
      "TypeError                      338                       0                        \n",
      "\n",
      "\n",
      "Valid Inputs                   ConcolicGrammarFuzzer     GrammarFuzzer            \n",
      "--------------------------------------------------------------------------------\n",
      "Number                         278                       0                        \n",
      "Percentage                     2.78                      0.0                      \n",
      "\n",
      "\n",
      "Elapsed Time                   ConcolicGrammarFuzzer     GrammarFuzzer            \n",
      "--------------------------------------------------------------------------------\n",
      "In minutes                     19.77 m                   4.63 m                   \n",
      "In seconds                     1186.39 s                 277.66 s                 \n",
      "In milliseconds                1186388 ms                277662 ms                \n"
     ]
    }
   ],
   "source": [
    "config = {\n",
    "    'target': TARGET_DEFAULT, \n",
    "    'grammar': GRAMMAR_DEFAULT, \n",
    "    'max_nonterminals': MAX_NONTERMINALS_DEFAULT, \n",
    "    'n_fuzz': 10000,\n",
    "    'functions': FUNCTIONS_DEFAULT\n",
    "}\n",
    "\n",
    "result1, result2 = comperative_run(\n",
    "    runner1=run_concolic_grammar_fuzzer,\n",
    "    config1=config,\n",
    "    runner2=run_grammar_fuzzer,\n",
    "    config2=config\n",
    ")\n",
    "\n",
    "compare_results(result1, result2)"
   ]
  },
  {
   "cell_type": "code",
   "execution_count": 115,
   "metadata": {},
   "outputs": [
    {
     "name": "stdout",
     "output_type": "stream",
     "text": [
      "ConcolicGrammarFuzzer         -> fuzzed 1000 times in 120.74 seconds!\n",
      "GrammarFuzzer                 -> fuzzed 1000 times in 28.17 seconds!\n",
      "\n",
      "\n",
      "Line Coverage                  ConcolicGrammarFuzzer     GrammarFuzzer            \n",
      "--------------------------------------------------------------------------------\n",
      "all functions                  61                        29                       \n",
      "query_db                       3                         3                        \n",
      "do_delete                      11                        5                        \n",
      "do_insert                      15                        5                        \n",
      "do_update                      21                        6                        \n",
      "table                          4                         3                        \n",
      "sql                            7                         7                        \n"
     ]
    },
    {
     "data": {
      "image/png": "[encoded data removed]",
      "text/plain": [
       "<Figure size 432x288 with 1 Axes>"
      ]
     },
     "metadata": {
      "needs_background": "light"
     },
     "output_type": "display_data"
    },
    {
     "name": "stdout",
     "output_type": "stream",
     "text": [
      "\n",
      "\n",
      "Branch Coverage                ConcolicGrammarFuzzer     GrammarFuzzer            \n",
      "--------------------------------------------------------------------------------\n",
      "all functions                  57                        25                       \n",
      "query_db                       2                         2                        \n",
      "do_delete                      10                        4                        \n",
      "do_insert                      14                        4                        \n",
      "do_update                      20                        5                        \n",
      "table                          4                         3                        \n",
      "sql                            7                         7                        \n"
     ]
    },
    {
     "data": {
      "image/png": "[encoded data removed]",
      "text/plain": [
       "<Figure size 432x288 with 1 Axes>"
      ]
     },
     "metadata": {
      "needs_background": "light"
     },
     "output_type": "display_data"
    },
    {
     "name": "stdout",
     "output_type": "stream",
     "text": [
      "\n",
      "\n",
      "Exception Type                 ConcolicGrammarFuzzer     GrammarFuzzer            \n",
      "--------------------------------------------------------------------------------\n",
      "SQLException                   925                       1000                     \n",
      "TypeError                      42                        0                        \n",
      "\n",
      "\n",
      "Number of Valid Inputs         ConcolicGrammarFuzzer     GrammarFuzzer            \n",
      "--------------------------------------------------------------------------------\n",
      "                               33                        0                        \n",
      "\n",
      "\n",
      "Elapsed Time                   ConcolicGrammarFuzzer     GrammarFuzzer            \n",
      "--------------------------------------------------------------------------------\n",
      "In minutes                     2.01 m                    0.47 m                   \n",
      "In seconds                     120.74 s                  28.17 s                  \n",
      "In milliseconds                120736 ms                 28166 ms                 \n"
     ]
    }
   ],
   "source": [
    "config = {\n",
    "    'target': TARGET_DEFAULT, \n",
    "    'grammar': GRAMMAR_DEFAULT, \n",
    "    'max_nonterminals': MAX_NONTERMINALS_DEFAULT, \n",
    "    'n_fuzz': 1000,\n",
    "    'functions': FUNCTIONS_DEFAULT\n",
    "}\n",
    "\n",
    "result1, result2 = comperative_run(\n",
    "    runner1=run_concolic_grammar_fuzzer,\n",
    "    config1=config,\n",
    "    runner2=run_grammar_fuzzer,\n",
    "    config2=config\n",
    ")\n",
    "\n",
    "compare_results(result1, result2)"
   ]
  },
  {
   "cell_type": "code",
   "execution_count": null,
   "metadata": {},
   "outputs": [],
   "source": []
  },
  {
   "cell_type": "code",
   "execution_count": null,
   "metadata": {},
   "outputs": [],
   "source": []
  },
  {
   "cell_type": "markdown",
   "metadata": {},
   "source": [
    "## under construction"
   ]
  },
  {
   "cell_type": "code",
   "execution_count": null,
   "metadata": {},
   "outputs": [],
   "source": [
    "from urllib.parse import urlparse\n",
    "from Grammars import URL_GRAMMAR\n",
    "\n",
    "config = {\n",
    "    'target': urlparse, \n",
    "    'grammar': URL_GRAMMAR, \n",
    "    'max_nonterminals': MAX_NONTERMINALS_DEFAULT, \n",
    "    'n_fuzz': 100,\n",
    "    'functions': {\n",
    "        'urlparse',\n",
    "         '_splitnetloc',\n",
    "         'urlsplit',\n",
    "         '_checknetloc',\n",
    "         '_noop',\n",
    "    }\n",
    "}\n",
    "\n",
    "result1, result2 = comperative_run(\n",
    "    runner1=run_concolic_grammar_fuzzer,\n",
    "    config1=config,\n",
    "    runner2=run_grammar_fuzzer,\n",
    "    config2=config\n",
    ")\n",
    "\n",
    "compare_results(result1, result2)"
   ]
  },
  {
   "cell_type": "code",
   "execution_count": null,
   "metadata": {},
   "outputs": [],
   "source": [
    "def sum_results(results):\n",
    "    assert (len(results) > 1)\n",
    "    \n",
    "    functions = sorted(results[0].functions)\n",
    "    fuzzer_name = results[0].fuzzer_name\n",
    "    line_coverage = set()\n",
    "    branch_coverage = set()\n",
    "    exceptions = []\n",
    "    elapsed_time = 0\n",
    "    \n",
    "    assert (all(sorted(r.functions) == functions for r in results))\n",
    "    assert (all(r.fuzzer_name == fuzzer_name for r in results))\n",
    "    \n",
    "    for result in results:\n",
    "        line_coverage |= result.line_coverage\n",
    "        branch_coverage |= result.branch_coverage\n",
    "        exceptions += result.exceptions\n",
    "        elapsed_time += result.elapsed_time\n",
    "        \n",
    "    return Result(functions,\n",
    "                  fuzzer_name,\n",
    "                  line_coverage, \n",
    "                  branch_coverage, \n",
    "                  exceptions, \n",
    "                  elapsed_time)"
   ]
  },
  {
   "cell_type": "code",
   "execution_count": null,
   "metadata": {},
   "outputs": [],
   "source": [
    "def run_fuzzer(fuzzer_class, fuzzer_config, target, functions, n_fuzz):\n",
    "    fuzzer = fuzzer_class(**fuzzer_config)  \n",
    "    fuzzer_name = fuzzer.__class__.__name__\n",
    "    \n",
    "    if 'concolic' in fuzzer_name.lower():\n",
    "        tokens_to_prune = ['<value>', '<table>', '<column>', \n",
    "                           '<literals>', '<exprs>', '<bexpr>'] \n",
    "        fuzzer.prune_tokens(tokens_to_prune)\n",
    "    else:\n",
    "        assert ('grammar' in fuzzer_name.lower())\n",
    "    \n",
    "    result = fuzz_n_times(target=target, \n",
    "                          functions=functions, \n",
    "                          fuzzer=fuzzer, \n",
    "                          n=n_fuzz)\n",
    "    \n",
    "    return result"
   ]
  },
  {
   "cell_type": "code",
   "execution_count": null,
   "metadata": {},
   "outputs": [],
   "source": []
  },
  {
   "cell_type": "code",
   "execution_count": null,
   "metadata": {},
   "outputs": [],
   "source": []
  },
  {
   "cell_type": "code",
   "execution_count": null,
   "metadata": {},
   "outputs": [],
   "source": []
  },
  {
   "cell_type": "code",
   "execution_count": null,
   "metadata": {},
   "outputs": [],
   "source": []
  },
  {
   "cell_type": "code",
   "execution_count": 14,
   "metadata": {},
   "outputs": [
    {
     "name": "stdout",
     "output_type": "stream",
     "text": [
      "ConcolicGrammarFuzzer         -> fuzzed 20000 times in 2213.64s !\n",
      "GrammarFuzzer                 -> fuzzed 20000 times in 521.60s !\n",
      "\n",
      "\n",
      "Line Coverage                  ConcolicGrammarFuzzer     GrammarFuzzer            \n",
      "--------------------------------------------------------------------------------\n",
      "all functions                  61                        29                       \n",
      "query_db                       3                         3                        \n",
      "do_delete                      11                        5                        \n",
      "do_insert                      15                        5                        \n",
      "do_update                      21                        6                        \n",
      "table                          4                         3                        \n",
      "sql                            7                         7                        \n"
     ]
    },
    {
     "data": {
      "image/png": "[encoded data removed]",
      "text/plain": [
       "<Figure size 432x288 with 1 Axes>"
      ]
     },
     "metadata": {
      "needs_background": "light"
     },
     "output_type": "display_data"
    },
    {
     "name": "stdout",
     "output_type": "stream",
     "text": [
      "\n",
      "\n",
      "Branch Coverage                ConcolicGrammarFuzzer     GrammarFuzzer            \n",
      "--------------------------------------------------------------------------------\n",
      "all functions                  57                        25                       \n",
      "query_db                       2                         2                        \n",
      "do_delete                      10                        4                        \n",
      "do_insert                      14                        4                        \n",
      "do_update                      20                        5                        \n",
      "table                          4                         3                        \n",
      "sql                            7                         7                        \n"
     ]
    },
    {
     "data": {
      "image/png": "[encoded data removed]",
      "text/plain": [
       "<Figure size 432x288 with 1 Axes>"
      ]
     },
     "metadata": {
      "needs_background": "light"
     },
     "output_type": "display_data"
    },
    {
     "name": "stdout",
     "output_type": "stream",
     "text": [
      "\n",
      "\n",
      "Exception Type                 ConcolicGrammarFuzzer     GrammarFuzzer            \n",
      "--------------------------------------------------------------------------------\n",
      "SQLException                   18757                     20000                    \n",
      "TypeError                      646                       0                        \n",
      "\n",
      "\n",
      "Number of Valid Inputs         ConcolicGrammarFuzzer     GrammarFuzzer            \n",
      "--------------------------------------------------------------------------------\n",
      "                               597                       0                        \n",
      "\n",
      "\n",
      "Elapsed Time (s)               ConcolicGrammarFuzzer     GrammarFuzzer            \n",
      "--------------------------------------------------------------------------------\n",
      "                               2213.64                   521.6                    \n"
     ]
    }
   ],
   "source": [
    "config = {\n",
    "    'target': TARGET_DEFAULT, \n",
    "    'grammar': GRAMMAR_DEFAULT, \n",
    "    'max_nonterminals': MAX_NONTERMINALS_DEFAULT, \n",
    "    'n_fuzz': 20000,\n",
    "    'functions': FUNCTIONS_DEFAULT\n",
    "}\n",
    "\n",
    "result1, result2 = comperative_run(\n",
    "    runner1=run_concolic_grammar_fuzzer,\n",
    "    config1=config,\n",
    "    runner2=run_grammar_fuzzer,\n",
    "    config2=config\n",
    ")\n",
    "\n",
    "compare_results(result1, result2)"
   ]
  },
  {
   "cell_type": "code",
   "execution_count": null,
   "metadata": {},
   "outputs": [],
   "source": []
  },
  {
   "cell_type": "code",
   "execution_count": null,
   "metadata": {},
   "outputs": [],
   "source": [
    "seeds"
   ]
  },
  {
   "cell_type": "code",
   "execution_count": null,
   "metadata": {},
   "outputs": [],
   "source": []
  }
 ],
 "metadata": {
  "kernelspec": {
   "display_name": "Python 3",
   "language": "python",
   "name": "python3"
  },
  "language_info": {
   "codemirror_mode": {
    "name": "ipython",
    "version": 3
   },
   "file_extension": ".py",
   "mimetype": "text/x-python",
   "name": "python",
   "nbconvert_exporter": "python",
   "pygments_lexer": "ipython3",
   "version": "3.7.3"
  }
 },
 "nbformat": 4,
 "nbformat_minor": 2
}
