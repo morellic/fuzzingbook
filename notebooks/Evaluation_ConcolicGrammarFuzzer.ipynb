{
 "cells": [
  {
   "cell_type": "markdown",
   "metadata": {},
   "source": [
    "## Evaluating ConcolicGrammarFuzzer"
   ]
  },
  {
   "cell_type": "markdown",
   "metadata": {},
   "source": [
    "In this chapter, we will evaluate `ConcolicGrammarFuzzer`, which is our concolic fuzzer that uses grammars.\n",
    "\n",
    "Our target will be a basic program that mimics an SQL database. We will fuzz this program using the `INVENTORY_GRAMMAR`, both with `ConcolicGrammarFuzzer` and `GrammarCoverageFuzzer`, then we will compare the success of these fuzzers. Namely, we will consider **line coverage**, **branch coverage** and **program depth** reached."
   ]
  },
  {
   "cell_type": "code",
   "execution_count": null,
   "metadata": {},
   "outputs": [],
   "source": [
    "import fuzzingbook_utils"
   ]
  },
  {
   "cell_type": "code",
   "execution_count": null,
   "metadata": {},
   "outputs": [],
   "source": [
    "from ConcolicFuzzer import ConcolicGrammarFuzzer, ConcolicTracer\n",
    "from GrammarCoverageFuzzer import GrammarCoverageFuzzer\n",
    "from Coverage import Coverage, BranchCoverage"
   ]
  },
  {
   "cell_type": "markdown",
   "metadata": {},
   "source": [
    "## Target Program"
   ]
  },
  {
   "cell_type": "code",
   "execution_count": null,
   "metadata": {},
   "outputs": [],
   "source": [
    "from InformationFlow import INVENTORY_GRAMMAR, SQLException\n",
    "from ConcolicFuzzer import ConcolicDB\n",
    "\n",
    "INITIAL_DB = [\n",
    "    (\n",
    "        'vehicles',\n",
    "        (\n",
    "            {'year': int, 'kind': str, 'company': str, 'model': str},\n",
    "            [\n",
    "                {'year': 1997, 'kind': 'van', 'company': 'Ford', 'model': 'E350'},\n",
    "                {'year': 2000, 'kind': 'car', 'company': 'Mercury', 'model': 'Cougar'},\n",
    "                {'year': 1999, 'kind': 'car', 'company': 'Chevy', 'model': 'Venture'}\n",
    "            ]\n",
    "        )\n",
    "    ),\n",
    "    (\n",
    "        'months',\n",
    "        (\n",
    "            {'month': int, 'name': str},\n",
    "            [\n",
    "                {'month': 1, 'name': 'jan'},\n",
    "                {'month': 2, 'name': 'feb'},\n",
    "                {'month': 3, 'name': 'mar'},\n",
    "                {'month': 4, 'name': 'apr'},\n",
    "                {'month': 5, 'name': 'may'},\n",
    "                {'month': 6, 'name': 'jun'},\n",
    "                {'month': 7, 'name': 'jul'},\n",
    "                {'month': 8, 'name': 'aug'},\n",
    "                {'month': 9, 'name': 'sep'},\n",
    "                {'month': 10, 'name': 'oct'},\n",
    "                {'month': 11, 'name': 'nov'},\n",
    "                {'month': 12, 'name': 'dec'}\n",
    "            ]\n",
    "        )\n",
    "    )\n",
    "]\n",
    "\n",
    "def db_select(query):\n",
    "    global INITIAL_DB\n",
    "    concolic_db = ConcolicDB()\n",
    "    concolic_db.db = INITIAL_DB\n",
    "    return concolic_db.sql(query)"
   ]
  },
  {
   "cell_type": "markdown",
   "metadata": {},
   "source": [
    "## Fuzzer Runners"
   ]
  },
  {
   "cell_type": "code",
   "execution_count": null,
   "metadata": {},
   "outputs": [],
   "source": [
    "def run_grammar_coverage_fuzzer(target, grammar, max_nonterminals, n_fuzz): \n",
    "    gcf = GrammarCoverageFuzzer(grammar=grammar, \n",
    "                                max_nonterminals=max_nonterminals)\n",
    "    coverage = set()\n",
    "    branch_coverage = set()\n",
    "    sql_exceptions = []\n",
    "    other_exceptions = []\n",
    "    \n",
    "    for _ in range(n_fuzz):\n",
    "        query = gcf.fuzz()\n",
    "        with Coverage() as cov, BranchCoverage() as b_cov:\n",
    "            try:\n",
    "                target(query)\n",
    "            except SQLException as e:\n",
    "                sql_exceptions.append(e)\n",
    "            except Exception as e:\n",
    "                other_exceptions.append(e)\n",
    "            \n",
    "        coverage |= cov.coverage()\n",
    "        branch_coverage |= b_cov.coverage()\n",
    "    \n",
    "    return coverage, branch_coverage, sql_exceptions, other_exceptions"
   ]
  },
  {
   "cell_type": "code",
   "execution_count": null,
   "metadata": {},
   "outputs": [],
   "source": [
    "def run_concolic_grammar_fuzzer(target, grammar, max_nonterminals, n_fuzz):\n",
    "    cgf = ConcolicGrammarFuzzer(grammar=grammar,\n",
    "                                max_nonterminals=max_nonterminals)\n",
    "\n",
    "    tokens_to_prune = ['<value>', '<table>', '<column>', \n",
    "                       '<literals>', '<exprs>', '<bexpr>']    \n",
    "    cgf.prune_tokens(tokens_to_prune)\n",
    "    \n",
    "    coverage = set()\n",
    "    branch_coverage = set()\n",
    "    sql_exceptions = []\n",
    "    other_exceptions = []\n",
    "    \n",
    "    for _ in range(n_fuzz):\n",
    "        query = cgf.fuzz()\n",
    "        with ConcolicTracer() as tracer, \\\n",
    "             Coverage() as cov, \\\n",
    "             BranchCoverage() as b_cov:\n",
    "            try:\n",
    "                tracer[target](query)\n",
    "            except SQLException as e:\n",
    "                sql_exceptions.append(e)\n",
    "            except Exception as e:\n",
    "                other_exceptions.append(e)\n",
    "                \n",
    "        cgf.update_grammar(tracer)\n",
    "\n",
    "        coverage |= cov.coverage()\n",
    "        branch_coverage |= b_cov.coverage()\n",
    "            \n",
    "        \n",
    "            \n",
    "    return coverage, branch_coverage, sql_exceptions, other_exceptions"
   ]
  },
  {
   "cell_type": "markdown",
   "metadata": {},
   "source": [
    "## Reporters"
   ]
  },
  {
   "cell_type": "code",
   "execution_count": null,
   "metadata": {},
   "outputs": [],
   "source": [
    "from collections import defaultdict\n",
    "    \n",
    "def report_line_coverage(coverage, coverage_functions):\n",
    "    coverage = {(function, line) for (function, line) in coverage\n",
    "                if function in coverage_functions}\n",
    "    n_lines_covered = defaultdict(int)\n",
    "    n_lines_covered['all functions'] = len(coverage)\n",
    "    \n",
    "    for func_name, line in coverage:\n",
    "        n_lines_covered[func_name] += 1\n",
    "    \n",
    "    print('-' * 80)\n",
    "    print(' {0: <40} {1}'.format('Function Name', 'Number of Lines Covered'))\n",
    "    print('-' * 80)\n",
    "    \n",
    "    sorted_by_n_lines = sorted(n_lines_covered.items(), \n",
    "                               key=lambda x: x[1],\n",
    "                               reverse=True)\n",
    "    \n",
    "    for func_name, n_lines in sorted_by_n_lines:\n",
    "        print(' {0: <40} {1}'.format(func_name, n_lines))\n",
    "        \n",
    "    print('-' * 80 + '\\n')"
   ]
  },
  {
   "cell_type": "code",
   "execution_count": null,
   "metadata": {},
   "outputs": [],
   "source": [
    "def report_exceptions(sql_exceptions, other_exceptions):\n",
    "    print('-' * 80)\n",
    "    print(' {0: <40} {1}'.format('Exception Type', 'Number of Occurrences'))\n",
    "    print('-' * 80)\n",
    "    print(' {0: <40} {1}'.format('SQLException', len(sql_exceptions)))\n",
    "    print(' {0: <40} {1}'.format('Other', len(other_exceptions)))    \n",
    "    print('-' * 80 + '\\n')"
   ]
  },
  {
   "cell_type": "code",
   "execution_count": null,
   "metadata": {},
   "outputs": [],
   "source": [
    "class CoverageHelper:\n",
    "    def __init__(self, coverage, branch_coverage, functions):\n",
    "        self._coverage = coverage\n",
    "        self._branch_coverage = branch_coverage\n",
    "        self._functions = functions\n",
    "        \n",
    "        self._filtered_coverage = {\n",
    "            (function, line) for (function, line) in coverage\n",
    "            if function in functions\n",
    "        }\n",
    "        \n",
    "        self._filtered_branch_coverage = {\n",
    "            branch for branch in branch_coverage\n",
    "            #if (branch[0][0] == branch[1][0] and\n",
    "            #    branch[0][0] in functions)\n",
    "            if (branch[0][0] in functions and\n",
    "                branch[1][0] in functions)\n",
    "        }\n",
    "    \n",
    "    def get_functions(self):\n",
    "        return self._functions\n",
    "    \n",
    "    def get_line_coverage(self):\n",
    "        line_dict = defaultdict(int)\n",
    "        n_lines_covered = len(self._filtered_coverage)\n",
    "        for func_name, line in self._filtered_coverage:\n",
    "            line_dict[func_name] += 1\n",
    "        return line_dict, n_lines_covered\n",
    "    \n",
    "    def get_branch_coverage(self):\n",
    "        branch_dict = defaultdict(int)\n",
    "        n_branches_covered = len(self._filtered_branch_coverage)\n",
    "        for branch in self._filtered_branch_coverage:\n",
    "            func_name = branch[0][0]\n",
    "            branch_dict[func_name] += 1\n",
    "        return branch_dict, n_branches_covered\n"
   ]
  },
  {
   "cell_type": "markdown",
   "metadata": {},
   "source": [
    "## Fuzzing Configuration"
   ]
  },
  {
   "cell_type": "code",
   "execution_count": null,
   "metadata": {},
   "outputs": [],
   "source": [
    "N_FUZZ = 10\n",
    "TARGET = db_select\n",
    "GRAMMAR = INVENTORY_GRAMMAR\n",
    "MAX_NONTERMINALS = 10\n",
    "COVERAGE_FUNCTIONS = {\n",
    "    'sql', \n",
    "    'table',\n",
    "    'do_update', \n",
    "    'do_insert', \n",
    "    'do_delete', \n",
    "    'db_select'\n",
    "}"
   ]
  },
  {
   "cell_type": "markdown",
   "metadata": {},
   "source": [
    "## Evaluation"
   ]
  },
  {
   "cell_type": "code",
   "execution_count": null,
   "metadata": {},
   "outputs": [],
   "source": [
    "from collections import defaultdict\n",
    "import matplotlib.pyplot as plt\n",
    "\n",
    "def compare_coverage(ch1, name1, ch2, name2, functions):\n",
    "    \n",
    "    def print_plot_coverage(cov_dict1, total1, cov_dict2, total2, title):\n",
    "        def print_coverage():\n",
    "            print_format = '{0: <30} {1: <25} {2: <25}'\n",
    "            print(print_format.format(title, name1, name2))\n",
    "            print('-' * 80)\n",
    "            print(print_format.format('all functions', total1, total2))\n",
    "            for f in functions:\n",
    "                print(print_format.format(f, cov_dict1[f], cov_dict2[f]))\n",
    "\n",
    "        def plot_coverage():\n",
    "            x_indexes = [i for i in range(len(functions) + 1)]\n",
    "            x_labels = ['all functions'] + list(functions)\n",
    "\n",
    "            plt.title(title)\n",
    "            plt.bar([x-0.1 for x in x_indexes], \n",
    "                    [total1] + [cov_dict1[f] for f in functions],  \n",
    "                    width=0.2, align='center', label=name1)\n",
    "\n",
    "            plt.bar([x+0.1 for x in x_indexes], \n",
    "                    [total2] + [cov_dict2[f] for f in functions],  \n",
    "                    width=0.2, align='center', label=name2)\n",
    "\n",
    "            plt.legend(loc='upper right')\n",
    "            plt.xticks(x_indexes, x_labels, rotation=20)\n",
    "            plt.show()\n",
    "            \n",
    "        print_coverage()\n",
    "        plot_coverage()\n",
    "    \n",
    "    def compare_line_coverage():\n",
    "        print_plot_coverage(*ch1.get_line_coverage(),\n",
    "                            *ch2.get_line_coverage(),\n",
    "                            'Line Coverage')\n",
    "        \n",
    "    \n",
    "    def compare_branch_coverage():\n",
    "        print_plot_coverage(*ch1.get_branch_coverage(),\n",
    "                            *ch2.get_branch_coverage(),\n",
    "                            'Branch Coverage')\n",
    "        \n",
    "    compare_line_coverage()\n",
    "    compare_branch_coverage()\n",
    "\n",
    "def compare_exceptions(sql1, other1, name1, sql2, other2, name2):\n",
    "    print()\n",
    "    print_format = '{0: <30} {1: <25} {2: <25}'\n",
    "    print(print_format.format('Exception Type', name1, name2))\n",
    "    print('-' * 80)\n",
    "    print(print_format.format('sql', len(sql1), len(sql2)))\n",
    "    print(print_format.format('other', len(other1), len(other2)))\n",
    "\n",
    "        \n",
    "def comperative_run(target, grammar, max_nonterminals, n_fuzz, functions):\n",
    "    cov1, b_cov1, sql1, other1 = run_concolic_grammar_fuzzer(\n",
    "        target=target, \n",
    "        grammar=grammar, \n",
    "        max_nonterminals=max_nonterminals, \n",
    "        n_fuzz=n_fuzz\n",
    "    )\n",
    "    \n",
    "    cov2, b_cov2, sql2, other2 = run_grammar_coverage_fuzzer(\n",
    "        target=target, \n",
    "        grammar=grammar, \n",
    "        max_nonterminals=max_nonterminals, \n",
    "        n_fuzz=n_fuzz\n",
    "    )\n",
    "\n",
    "    ch1 = CoverageHelper(cov1, b_cov1, functions)\n",
    "    ch2 = CoverageHelper(cov2, b_cov2, functions)\n",
    "    \n",
    "    compare_coverage(ch1, 'ConcolicGrammarFuzzer',\n",
    "                     ch2, 'GrammarCoverageFuzzer',\n",
    "                     functions)\n",
    "    \n",
    "    compare_exceptions(sql1, other1, 'ConcolicGrammarFuzzer',\n",
    "                       sql2, other2, 'GrammarCoverageFuzzer',)"
   ]
  },
  {
   "cell_type": "code",
   "execution_count": null,
   "metadata": {},
   "outputs": [],
   "source": [
    "comperative_run(\n",
    "    target=TARGET, \n",
    "    grammar=GRAMMAR, \n",
    "    max_nonterminals=MAX_NONTERMINALS, \n",
    "    n_fuzz=100,\n",
    "    functions=COVERAGE_FUNCTIONS\n",
    ")"
   ]
  },
  {
   "cell_type": "code",
   "execution_count": null,
   "metadata": {},
   "outputs": [],
   "source": [
    "coverage, sql_exceptions, other_exceptions = run_concolic_grammar_fuzzer(\n",
    "    target=TARGET, \n",
    "    grammar=GRAMMAR, \n",
    "    max_nonterminals=MAX_NONTERMINALS, \n",
    "    n_fuzz=100\n",
    ")\n",
    "\n",
    "report_line_coverage(coverage, COVERAGE_FUNCTIONS)\n",
    "report_exceptions(sql_exceptions, other_exceptions)"
   ]
  },
  {
   "cell_type": "code",
   "execution_count": null,
   "metadata": {},
   "outputs": [],
   "source": [
    "coverage, sql_exceptions, other_exceptions = run_grammar_coverage_fuzzer(\n",
    "    target=TARGET, \n",
    "    grammar=GRAMMAR, \n",
    "    max_nonterminals=MAX_NONTERMINALS, \n",
    "    n_fuzz=1\n",
    ")\n",
    "\n",
    "report_line_coverage(coverage, COVERAGE_FUNCTIONS)\n",
    "report_exceptions(sql_exceptions, other_exceptions)"
   ]
  },
  {
   "cell_type": "code",
   "execution_count": null,
   "metadata": {},
   "outputs": [],
   "source": []
  }
 ],
 "metadata": {
  "kernelspec": {
   "display_name": "Python 3",
   "language": "python",
   "name": "python3"
  },
  "language_info": {
   "codemirror_mode": {
    "name": "ipython",
    "version": 3
   },
   "file_extension": ".py",
   "mimetype": "text/x-python",
   "name": "python",
   "nbconvert_exporter": "python",
   "pygments_lexer": "ipython3",
   "version": "3.7.3"
  }
 },
 "nbformat": 4,
 "nbformat_minor": 2
}
