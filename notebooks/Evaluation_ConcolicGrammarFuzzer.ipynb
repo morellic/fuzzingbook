{
 "cells": [
  {
   "cell_type": "markdown",
   "metadata": {
    "slideshow": {
     "slide_type": "slide"
    }
   },
   "source": [
    "# Evaluation: ConcolicGrammarFuzzer"
   ]
  },
  {
   "cell_type": "markdown",
   "metadata": {
    "slideshow": {
     "slide_type": "skip"
    }
   },
   "source": [
    "In this chapter, we will evaluate our concolic fuzzer that uses grammars. Namely, we want to compare  `ConcolicGrammarFuzzer` and `GrammarFuzzer`. We are mainly interested in **speed**, **coverage** and **number of valid inputs** achieved by these fuzzers.\n",
    "\n",
    "We will fuzz a simple Python program with both fuzzers and compare their success. Note that the features of `ConcolicGrammarFuzzer` is limited by symbolic execution and the SMT solver used ([Z3](https://github.com/Z3Prover/z3)), so we restricted our target to be a simple program. We believe this evaluation could be extended to more complex programs (which would lead to amore comprehensive evaluation of our concolic fuzzer) when more features are added to `ConcolicGrammarFuzzer` or Z3.\n",
    "\n",
    "We explain our evaluation step by step, starting from the target program. We also describe our implementation details such as how we obtain the metrics (e.g. coverage) or how we run our fuzzers. Those who are interested only in the results can jump right in to [Evaluation](#evaluation) part. \n",
    "\n",
    "It is very easy to replicate our evaluation. You can try out the evaluation with different configurations, how to do this is explained in [Evaluation](#evaluation). \n",
    "\n",
    "**Important Note:** `Z3 version 4.8.5 - 64 bit` was used."
   ]
  },
  {
   "cell_type": "markdown",
   "metadata": {
    "slideshow": {
     "slide_type": "slide"
    }
   },
   "source": [
    "### Table of Contents\n",
    "1. [Target Program](#target-program)\n",
    "2. [Calculating Coverage](#calculating-coverage)\n",
    "3. [Encapsulating Metrics](#metrics)\n",
    "4. [Running Fuzzers](#running-fuzzers)\n",
    "5. [Comparing Fuzzing Results](#comparing-fuzzing-results)\n",
    "6. [Evaluation](#evaluation)\n",
    "7. [Comments, Conclusion and Future Work](#comments)"
   ]
  },
  {
   "cell_type": "markdown",
   "metadata": {
    "slideshow": {
     "slide_type": "skip"
    }
   },
   "source": [
    "Let's import our fuzzingbook utils and fuzzers first."
   ]
  },
  {
   "cell_type": "code",
   "execution_count": 1,
   "metadata": {
    "slideshow": {
     "slide_type": "skip"
    }
   },
   "outputs": [],
   "source": [
    "import fuzzingbook_utils\n",
    "from ConcolicFuzzer import ConcolicGrammarFuzzer, ConcolicTracer\n",
    "from GrammarFuzzer import GrammarFuzzer"
   ]
  },
  {
   "cell_type": "markdown",
   "metadata": {
    "slideshow": {
     "slide_type": "slide"
    }
   },
   "source": [
    "## 1. Target Program: `query_db` function <a name=\"target-program\"></a>\n",
    "\n",
    "Our target program, `query_db`, is a function defined as below. This simple function mimics querying an SQL database. We mock an SQL database using the `ConcolicDB` and its grammar `INVENTORY_GRAMMAR` from the [InformationFlow](InformationFlow.ipynb) chapter."
   ]
  },
  {
   "cell_type": "markdown",
   "metadata": {
    "slideshow": {
     "slide_type": "skip"
    }
   },
   "source": [
    "We should point some important aspects of `query_db`:\n",
    "* The databese is initialized to `INITIAL_DB` in each execution. This is done mainly because we want the database to be in the same state for each query created by the fuzzers so that our results can be reproduced easily.\n",
    "\n",
    "\n",
    "* If the query input is not valid, our target throws an `SQLException`. For example, if the table targeted by the query doesn't exist in the database, we would get an `SQLException`. This makes fuzzing challenging because fuzzers need to produce queries that have specific table or field names. Also, because of this, we expect the `ConcolicGrammarFuzzer` to be more successfull since it should be able to find out these specific values with symbolic execution and update its grammar to produce better queries."
   ]
  },
  {
   "cell_type": "code",
   "execution_count": 2,
   "metadata": {
    "slideshow": {
     "slide_type": "slide"
    }
   },
   "outputs": [],
   "source": [
    "from InformationFlow import INVENTORY_GRAMMAR, SQLException\n",
    "from ConcolicFuzzer import ConcolicDB\n",
    "from copy import deepcopy\n",
    "\n",
    "INITIAL_DB = [\n",
    "    (\n",
    "        'vehicles',\n",
    "        (\n",
    "            {'year': int, 'kind': str, 'company': str, 'model': str},\n",
    "            [\n",
    "                {'year': 1997, 'kind': 'van', 'company': 'Ford', 'model': 'E350'},\n",
    "                {'year': 2000, 'kind': 'car', 'company': 'Mercury', 'model': 'Cougar'},\n",
    "                {'year': 1999, 'kind': 'car', 'company': 'Chevy', 'model': 'Venture'},\n",
    "                {'year': 1975, 'kind': 'bus', 'company': 'Mercedes', 'model': 'Busy'},\n",
    "                {'year': 1996, 'kind': 'motorcycle', 'company': 'Yamaha', 'model': 'Storm'}\n",
    "            ]\n",
    "        )\n",
    "    ),\n",
    "    (\n",
    "        'months',\n",
    "        (\n",
    "            {'month': int, 'name': str},\n",
    "            [\n",
    "                {'month': 1, 'name': 'jan'},\n",
    "                {'month': 2, 'name': 'feb'},\n",
    "                {'month': 3, 'name': 'mar'},\n",
    "                {'month': 4, 'name': 'apr'},\n",
    "                {'month': 5, 'name': 'may'},\n",
    "                {'month': 6, 'name': 'jun'},\n",
    "                {'month': 7, 'name': 'jul'},\n",
    "                {'month': 8, 'name': 'aug'},\n",
    "                {'month': 9, 'name': 'sep'},\n",
    "                {'month': 10, 'name': 'oct'},\n",
    "                {'month': 11, 'name': 'nov'},\n",
    "                {'month': 12, 'name': 'dec'}\n",
    "            ]\n",
    "        )\n",
    "    )\n",
    "]\n",
    "\n",
    "def query_db(query):\n",
    "    global INITIAL_DB\n",
    "    concolic_db = ConcolicDB()\n",
    "    concolic_db.db = deepcopy(INITIAL_DB)\n",
    "    return concolic_db.sql(query)"
   ]
  },
  {
   "cell_type": "markdown",
   "metadata": {
    "slideshow": {
     "slide_type": "slide"
    }
   },
   "source": [
    "## 2. Calculating Coverage: `FilteredCoverage` class <a name=\"calculating-coverage\"></a>"
   ]
  },
  {
   "cell_type": "markdown",
   "metadata": {
    "slideshow": {
     "slide_type": "skip"
    }
   },
   "source": [
    "We calculate the coverage achieved by the fuzzers with the context manager below (`FilteredCoverage`). This coverage class works very similar to `Coverage` and `BranchCoverage` classes which are described in the [Coverage](Coverage.ipynb) chapter. Further information about context managers can be found at [docs](https://docs.python.org/3/library/contextlib.html) and [PEP343](https://docs.python.org/3/whatsnew/2.6.html#pep-343-the-with-statement).\n",
    "\n",
    "First, we should clarify why we chose to implement the `FilteredCoverage` class instead of using our already available `Coverage` and `BranchCoverage` classes. Main reason is that the execution of the target program is wrapped by concolic execution in `ConcolicGrammarFuzzer`. Instances of many types (`int`, `str`, `float` etc.) are replaced by their symbolic equivalents (`zint`, `zstr`, `zfloat` etc.) and during the execution, methods of these symbolic types are called frequently. However, we are not interested in these methods since they are not related to the target program. In other words, if we were to use `Coverage` or `BranchCoverage` class, we would obtain coverages from many functions which are not related to target program but to our concolic execution implementation.\n",
    "\n",
    "In order to avoid this, we chose to whitelist the functions that we are interested in. The `FilteredCoverage` class takes a set of function names and traces only the functions included in this set, obtaining their line/branch coverage. In other words, it provides a filtered coverage (hence the name) which includes only the functions we whitelist. Also, note that `FilteredCoverage` provides both line coverage and branch coverage.\n",
    "\n",
    "Another option is to blacklist the functions that we are not interested in. However, this also requires to blacklist all the functions used in concolic execution, which could be cumbersome because of the third-party software components used (e.g. Z3). Thus, for simplicity, we chose whitelisting.\n",
    "\n",
    "You don't need to understand fully how the following works, but if you are interested in, we encourage you to check out the [Coverage](Coverage.ipynb) chapter."
   ]
  },
  {
   "cell_type": "code",
   "execution_count": 3,
   "metadata": {
    "slideshow": {
     "slide_type": "skip"
    }
   },
   "outputs": [],
   "source": [
    "import sys\n",
    "\n",
    "class FilteredCoverage:\n",
    "    def __init__(self, functions=set()):\n",
    "        self._traces = []\n",
    "        self._line_coverage = set()\n",
    "        self._branch_coverage = set()\n",
    "        self._functions = functions\n",
    "    \n",
    "    def __enter__(self):\n",
    "        self.original_tracer = sys.gettrace()\n",
    "        sys.settrace(self._tracer)\n",
    "        return self\n",
    "\n",
    "    def __exit__(self, exc_type, exc_value, tb):\n",
    "        sys.settrace(self.original_tracer)\n",
    "        \n",
    "    def _tracer(self, frame, event, arg):\n",
    "        if self.original_tracer is not None:\n",
    "            self.original_tracer(frame, event, arg)\n",
    "            \n",
    "        should_trace = (event == 'line' and \n",
    "                        frame.f_code.co_name in self._functions)\n",
    "        \n",
    "        if should_trace:\n",
    "            function_name = frame.f_code.co_name\n",
    "            line_no = frame.f_lineno\n",
    "            trace = (function_name, line_no)\n",
    "            \n",
    "            if len(self._traces) > 0:\n",
    "                last_trace = self._traces[-1]\n",
    "                if last_trace[0] == function_name:\n",
    "                    self._branch_coverage.add((last_trace, trace))\n",
    "                \n",
    "            self._traces.append(trace)\n",
    "            self._line_coverage.add(trace)\n",
    "\n",
    "        return self._tracer\n",
    "    \n",
    "    def get_traces(self):\n",
    "        return self._traces\n",
    "\n",
    "    def get_line_coverage(self):\n",
    "        return self._line_coverage\n",
    "    \n",
    "    def get_branch_coverage(self):\n",
    "        return self._branch_coverage"
   ]
  },
  {
   "cell_type": "markdown",
   "metadata": {
    "slideshow": {
     "slide_type": "skip"
    }
   },
   "source": [
    "Here is how this class can be used."
   ]
  },
  {
   "cell_type": "code",
   "execution_count": 4,
   "metadata": {
    "slideshow": {
     "slide_type": "slide"
    }
   },
   "outputs": [
    {
     "name": "stdout",
     "output_type": "stream",
     "text": [
      "{('my_square', 6), ('my_square', 7), ('my_multiply', 3), ('my_multiply', 2)}\n",
      "{(('my_multiply', 2), ('my_multiply', 3))}\n",
      "[('my_square', 6), ('my_multiply', 2), ('my_multiply', 3), ('my_square', 7)]\n"
     ]
    }
   ],
   "source": [
    "def my_multiply(n1, n2):\n",
    "    r = n1 * n2\n",
    "    return r\n",
    "\n",
    "def my_square(n):\n",
    "    r = my_multiply(n, n)\n",
    "    return r\n",
    "\n",
    "functions = {'my_multiply', 'my_square'}\n",
    "with FilteredCoverage(functions) as fc:\n",
    "    my_square(3)\n",
    "\n",
    "print(fc.get_line_coverage())\n",
    "print(fc.get_branch_coverage())\n",
    "print(fc.get_traces())"
   ]
  },
  {
   "cell_type": "markdown",
   "metadata": {
    "slideshow": {
     "slide_type": "skip"
    }
   },
   "source": [
    "Let's try obtaining coverage only from `my_multiply` function."
   ]
  },
  {
   "cell_type": "code",
   "execution_count": 5,
   "metadata": {
    "slideshow": {
     "slide_type": "skip"
    }
   },
   "outputs": [
    {
     "name": "stdout",
     "output_type": "stream",
     "text": [
      "{('my_multiply', 2), ('my_multiply', 3)}\n",
      "{(('my_multiply', 2), ('my_multiply', 3))}\n"
     ]
    }
   ],
   "source": [
    "functions = {'my_multiply'}\n",
    "with FilteredCoverage(functions) as fc:\n",
    "    my_square(3)\n",
    "\n",
    "print(fc.get_line_coverage())\n",
    "print(fc.get_branch_coverage())"
   ]
  },
  {
   "cell_type": "markdown",
   "metadata": {
    "slideshow": {
     "slide_type": "slide"
    }
   },
   "source": [
    "## 3. Encapsulating Metrics: `Result` class <a name=\"metrics\"></a>"
   ]
  },
  {
   "cell_type": "markdown",
   "metadata": {
    "slideshow": {
     "slide_type": "skip"
    }
   },
   "source": [
    "We will obtain many metrics (line coverage, branch coverage, expeptions raised ...) when we fuzz our target program. To easily represent and compare these with other fuzzer's results, we define a class called `Result`. It contains all the metrics we obtain from fuzzing a target. For convenience, each fuzzer runner will return a `Result` object.\n",
    "\n",
    "Implementation is fairly simple and self-explanatory. Nevertheless, here are some basic explanations for constructor parameters and metrics provided as class fields."
   ]
  },
  {
   "cell_type": "markdown",
   "metadata": {
    "slideshow": {
     "slide_type": "slide"
    }
   },
   "source": [
    "Constructor takes these parameters:\n",
    "* **functions**: set of function names that we want to obtain coverage from\n",
    "* **fuzzer_name**: name of the fuzzer\n",
    "* **n_fuzz**: number of fuzzes\n",
    "* **line_coverage**: set of `(function_name, line_no)` tuples, represents total line coverage\n",
    "* **branch_coverage**: set of `((function_name, line_no1), (function_name, line_no2))` tuples, represents total branch coverage\n",
    "* **exceptions**:  list of `(input, exception)` tuples representing exceptions thrown while fuzzing\n",
    "* **valid_inputs**:  list of inputs produced by fuzzer which did not cause an exception\n",
    "* **elapsed_time**:  seconds it took to fuzz n_fuzz times"
   ]
  },
  {
   "cell_type": "markdown",
   "metadata": {
    "slideshow": {
     "slide_type": "slide"
    }
   },
   "source": [
    "Main metric fields (remaining fields are self-explanatory):\n",
    "* **line_coverage_dict**: dictionary of lines covered of each function (function_name -> list_lines_covered)\n",
    "* **branch_coverage_dict**: dictionary of branches covered of each function (function_name -> list_branches_covered)\n",
    "* **exceptions_dict**: dictionary of exceptions raised of each type (exception_type -> list_exceptions)"
   ]
  },
  {
   "cell_type": "code",
   "execution_count": 6,
   "metadata": {
    "slideshow": {
     "slide_type": "skip"
    }
   },
   "outputs": [],
   "source": [
    "from collections import defaultdict\n",
    "\n",
    "class Result:\n",
    "    def __init__(\n",
    "            self, \n",
    "            functions,\n",
    "            fuzzer_name,\n",
    "            n_fuzz,\n",
    "            line_coverage, \n",
    "            branch_coverage, \n",
    "            exceptions, \n",
    "            valid_inputs,\n",
    "            elapsed_time):\n",
    "        \n",
    "        self.functions = functions\n",
    "        self.fuzzer_name = fuzzer_name\n",
    "        self.n_fuzz = n_fuzz\n",
    "        \n",
    "        self.line_coverage = line_coverage\n",
    "        self.branch_coverage = branch_coverage\n",
    "    \n",
    "        self.exceptions = exceptions\n",
    "        self.valid_inputs = valid_inputs\n",
    "        \n",
    "        self.n_lines_covered = len(line_coverage)\n",
    "        self.n_branches_covered = len(branch_coverage)\n",
    "        self.n_exceptions = len(exceptions)\n",
    "        self.n_valid_inputs = len(valid_inputs)\n",
    "        self.valid_input_percentage = (len(valid_inputs) / float(n_fuzz)) * 100\n",
    "        \n",
    "        self.elapsed_time = elapsed_time\n",
    "        \n",
    "        self.line_coverage_dict = self._generate_line_coverage_dict()\n",
    "        self.branch_coverage_dict = self._generate_branch_coverage_dict()\n",
    "        self.exceptions_dict = self._generate_exceptions_dict()\n",
    "\n",
    "    def _generate_line_coverage_dict(self):\n",
    "        line_coverage_dict = defaultdict(list)\n",
    "        for function_name, line in self.line_coverage:\n",
    "            line_coverage_dict[function_name].append(line)\n",
    "        return line_coverage_dict\n",
    "\n",
    "    def _generate_branch_coverage_dict(self):\n",
    "        branch_coverage_dict = defaultdict(list)\n",
    "        for branch in self.branch_coverage:\n",
    "            function_name = branch[0][0]\n",
    "            branch_coverage_dict[function_name].append(branch)\n",
    "        return branch_coverage_dict\n",
    "            \n",
    "    def _generate_exceptions_dict(self):\n",
    "        exceptions_dict = defaultdict(list)\n",
    "        for inp, exp in self.exceptions:\n",
    "            exp_type = type(exp).__name__\n",
    "            exceptions_dict[exp_type].append(exp)\n",
    "        return exceptions_dict"
   ]
  },
  {
   "cell_type": "markdown",
   "metadata": {
    "slideshow": {
     "slide_type": "skip"
    }
   },
   "source": [
    "Now, we have a class to represent the \"success\" of a fuzzer. Let's see how we can run our fuzzers and create a `Result` object."
   ]
  },
  {
   "cell_type": "markdown",
   "metadata": {
    "slideshow": {
     "slide_type": "slide"
    }
   },
   "source": [
    "## 4. Running Fuzzers: `run_grammar_fuzzer` and `run_concolic_grammar_fuzzer` <a name=\"running-fuzzers\"></a>"
   ]
  },
  {
   "cell_type": "markdown",
   "metadata": {
    "slideshow": {
     "slide_type": "skip"
    }
   },
   "source": [
    "A single function that fuzzes a given target multiple times using a given fuzzer object would be pretty useful. For this purpose, we implement the `fuzz_n_times` function, which takes a target, set of functions to obtain coverage from, a fuzzer instance, and number of fuzzes. This function not only fuzzes the target, but also saves line coverage, branch coverage, exceptions, valid inputs, elapsed time, and returns a `Result` object that contains these metrics.\n",
    "\n",
    "**A tiny implementation detail - `run_target`**: Note that while fuzzing with `ConcolicGrammarFuzzer`, we need to do some extra work compared to `GrammarFuzzer`. Namely, we need to invoke the target program in the context of `ConcolicTracer` (so we have concolic execution) and update the grammar in `ConcolicGrammarFuzzer` after each execution. Because of this, we also implement the function `run_target` which runs the target program with the given input properly according the fuzzer's type."
   ]
  },
  {
   "cell_type": "code",
   "execution_count": 7,
   "metadata": {
    "slideshow": {
     "slide_type": "fragment"
    }
   },
   "outputs": [],
   "source": [
    "import time\n",
    "\n",
    "def run_target(target, inp, fuzzer):\n",
    "    if 'concolic' in fuzzer.__class__.__name__.lower():\n",
    "        with ConcolicTracer() as tracer:\n",
    "            try:\n",
    "                return tracer[target](inp)\n",
    "            except Exception as e:\n",
    "                raise e\n",
    "            finally:\n",
    "                fuzzer.update_grammar(tracer)\n",
    "    else:\n",
    "        return target(inp)"
   ]
  },
  {
   "cell_type": "code",
   "execution_count": 8,
   "metadata": {
    "slideshow": {
     "slide_type": "slide"
    }
   },
   "outputs": [],
   "source": [
    "def fuzz_n_times(target, functions, fuzzer, n_fuzz):\n",
    "    fuzzer_name = fuzzer.__class__.__name__\n",
    "    \n",
    "    line_coverage = set()\n",
    "    branch_coverage = set()\n",
    "    exceptions = []\n",
    "    valid_inputs = []\n",
    "    invalid_inputs = dict()\n",
    "    \n",
    "    start_time = time.time()\n",
    "\n",
    "    for i in range(n_fuzz):\n",
    "        print('{0:<30}-> fuzz {1} of {2}'.format(fuzzer_name, i, n_fuzz), end='\\r')\n",
    "        inp = fuzzer.fuzz()\n",
    "        with FilteredCoverage(functions) as fc:\n",
    "            try:\n",
    "                run_target(target, inp, fuzzer)\n",
    "                valid_inputs.append(inp)\n",
    "            except Exception as e:\n",
    "                exceptions.append((inp, e))\n",
    "                #raise e\n",
    "\n",
    "        line_coverage |= fc.get_line_coverage()\n",
    "        branch_coverage |= fc.get_branch_coverage()\n",
    "        \n",
    "    elapsed_time = time.time() - start_time\n",
    "\n",
    "    print('{0:<30}-> fuzzed {1} times in {2:.2f} seconds!'.format(fuzzer_name, n_fuzz, elapsed_time))\n",
    "    \n",
    "    return Result(functions,\n",
    "                  fuzzer_name,\n",
    "                  n_fuzz,\n",
    "                  line_coverage, \n",
    "                  branch_coverage, \n",
    "                  exceptions,\n",
    "                  valid_inputs,\n",
    "                  elapsed_time)"
   ]
  },
  {
   "cell_type": "markdown",
   "metadata": {
    "slideshow": {
     "slide_type": "skip"
    }
   },
   "source": [
    "Now that we have our \"generic\" function to run fuzzer instances of different types, let's continue with runners of each fuzzer, `run_grammar_fuzzer` and `run_concolic_grammar_fuzzer`. These are very simple functions that properly instantiate a fuzzer with the given configurations and fuzz the target many times with the help of the function `fuzz_n_times`. When the fuzzing is all done, these runners return a `Result` object which contains all the metrics we are interested in."
   ]
  },
  {
   "cell_type": "code",
   "execution_count": 9,
   "metadata": {
    "slideshow": {
     "slide_type": "slide"
    }
   },
   "outputs": [],
   "source": [
    "def run_grammar_fuzzer(\n",
    "        target, \n",
    "        grammar, \n",
    "        min_nonterminals,\n",
    "        max_nonterminals,\n",
    "        n_fuzz,\n",
    "        functions): \n",
    "    \n",
    "    gf = GrammarFuzzer(grammar=grammar, \n",
    "                       min_nonterminals=min_nonterminals,\n",
    "                       max_nonterminals=max_nonterminals)\n",
    "    \n",
    "    result = fuzz_n_times(target=target, \n",
    "                          functions=functions, \n",
    "                          fuzzer=gf, \n",
    "                          n_fuzz=n_fuzz)\n",
    "    \n",
    "    return result"
   ]
  },
  {
   "cell_type": "code",
   "execution_count": 10,
   "metadata": {
    "slideshow": {
     "slide_type": "slide"
    }
   },
   "outputs": [],
   "source": [
    "def run_concolic_grammar_fuzzer(\n",
    "        target, \n",
    "        grammar, \n",
    "        min_nonterminals,\n",
    "        max_nonterminals, \n",
    "        n_fuzz,\n",
    "        functions):\n",
    "    \n",
    "    cgf = ConcolicGrammarFuzzer(grammar=grammar,\n",
    "                                min_nonterminals=min_nonterminals,\n",
    "                                max_nonterminals=max_nonterminals)\n",
    "\n",
    "    cgf.prune_tokens([])\n",
    "    \n",
    "    result = fuzz_n_times(target=target, \n",
    "                          functions=functions, \n",
    "                          fuzzer=cgf, \n",
    "                          n_fuzz=n_fuzz)\n",
    "    \n",
    "    return result"
   ]
  },
  {
   "cell_type": "markdown",
   "metadata": {
    "slideshow": {
     "slide_type": "skip"
    }
   },
   "source": [
    "We can now run our fuzzers and obtain the metrics we are interested in. \n",
    "\n",
    "Let's see if our runners work as expected. First, we define the default configurations for our runners."
   ]
  },
  {
   "cell_type": "code",
   "execution_count": 11,
   "metadata": {
    "slideshow": {
     "slide_type": "skip"
    }
   },
   "outputs": [],
   "source": [
    "N_FUZZ_DEFAULT = 100                  # how many times we fuzz\n",
    "TARGET_DEFAULT = query_db             # target function we are fuzzing\n",
    "GRAMMAR_DEFAULT = INVENTORY_GRAMMAR   # grammar for fuzzing\n",
    "MIN_NONTERMINALS_DEFAULT = 0          # min nonterminal grammar expansions for fuzzing\n",
    "MAX_NONTERMINALS_DEFAULT = 10         # max nonterminal grammar expansions for fuzzing\n",
    "FUNCTIONS_DEFAULT = {                 # functions we want to obtain coverage from\n",
    "    'sql', \n",
    "    'table',\n",
    "    'do_update', \n",
    "    'do_insert', \n",
    "    'do_delete', \n",
    "    'query_db'\n",
    "}"
   ]
  },
  {
   "cell_type": "code",
   "execution_count": 12,
   "metadata": {
    "slideshow": {
     "slide_type": "slide"
    }
   },
   "outputs": [],
   "source": [
    "DEFAULT_CONFIG = {\n",
    "    'target': TARGET_DEFAULT, \n",
    "    'grammar': GRAMMAR_DEFAULT, \n",
    "    'min_nonterminals': MIN_NONTERMINALS_DEFAULT, \n",
    "    'max_nonterminals': MAX_NONTERMINALS_DEFAULT, \n",
    "    'n_fuzz': N_FUZZ_DEFAULT,\n",
    "    'functions': FUNCTIONS_DEFAULT\n",
    "}"
   ]
  },
  {
   "cell_type": "markdown",
   "metadata": {
    "slideshow": {
     "slide_type": "skip"
    }
   },
   "source": [
    "Time to run! \n",
    "\n",
    "(**Tiny Python note:** We pass the dictionary items as function arguments using `**`. If there is a function defined as `def foo(x, y)`, we can pass the items of the dictionary `bar = {'x': 1, 'y': 2}` to this function by `foo(**bar)`, which is equivalent to `foo(x=1, y=2)`.)"
   ]
  },
  {
   "cell_type": "code",
   "execution_count": 13,
   "metadata": {
    "slideshow": {
     "slide_type": "fragment"
    }
   },
   "outputs": [
    {
     "name": "stdout",
     "output_type": "stream",
     "text": [
      "ConcolicGrammarFuzzer         -> fuzzed 100 times in 13.95 seconds!\n",
      "GrammarFuzzer                 -> fuzzed 100 times in 3.13 seconds!\n"
     ]
    }
   ],
   "source": [
    "result1 = run_concolic_grammar_fuzzer(**DEFAULT_CONFIG)\n",
    "result2 = run_grammar_fuzzer(**DEFAULT_CONFIG)"
   ]
  },
  {
   "cell_type": "markdown",
   "metadata": {
    "slideshow": {
     "slide_type": "skip"
    }
   },
   "source": [
    "Seems like everything ran smoothly, let's have a look at which lines of the functions are executed."
   ]
  },
  {
   "cell_type": "code",
   "execution_count": 14,
   "metadata": {
    "slideshow": {
     "slide_type": "skip"
    }
   },
   "outputs": [
    {
     "name": "stdout",
     "output_type": "stream",
     "text": [
      "--- ConcolicGrammarFuzzer ---\n",
      "defaultdict(<class 'list'>, {'do_update': [169, 159, 172, 177, 175, 157, 162, 183, 173, 181, 150, 168, 158, 163, 176, 153, 156, 161, 182, 151], 'do_insert': [110, 137, 125, 107, 126, 108, 118, 135, 105, 116, 106, 133, 113, 134, 122, 127, 114, 109, 131, 132], 'do_delete': [194, 193, 196, 195, 190, 189, 191], 'sql': [52, 57, 54, 56, 53, 58, 55], 'table': [741, 743, 740, 742], 'query_db': [45, 43, 44]})\n",
      "\n",
      "--- GrammarFuzzer ---\n",
      "defaultdict(<class 'list'>, {'query_db': [43, 45, 44], 'do_delete': [190, 194, 189, 193, 191], 'sql': [56, 52, 57, 53, 58, 54, 55], 'table': [740, 741, 743], 'do_insert': [106, 107, 108, 109, 105], 'do_update': [150, 158, 157, 153, 156, 151]})\n"
     ]
    }
   ],
   "source": [
    "print('--- ConcolicGrammarFuzzer ---')\n",
    "print(result1.line_coverage_dict)\n",
    "print()\n",
    "print('--- GrammarFuzzer ---')\n",
    "print(result2.line_coverage_dict)"
   ]
  },
  {
   "cell_type": "markdown",
   "metadata": {
    "slideshow": {
     "slide_type": "skip"
    }
   },
   "source": [
    "It works, but looks very ugly. Also, we not only have line coverage but many other metrics. Wouldn't it be nice to have some fancy prints and plots for our metrics? Well, let's have that!\n",
    "\n",
    "If you are not interested in how we print/plot and compare two `Result` objects, you can jump right into [Evaluation](#evaluation)."
   ]
  },
  {
   "cell_type": "markdown",
   "metadata": {
    "slideshow": {
     "slide_type": "slide"
    }
   },
   "source": [
    "## 5. Comparing Fuzzing Results: `ResultComparator` class <a name=\"comparing-fuzzing-results\"></a>\n",
    "\n",
    "The last step before the [Evaluation](#evaluation) is the `ResultComparator` class, which basically takes two `Result` objects upon initialization and compares them by nicely printing/plotting their metrics.\n",
    "\n",
    "Its main methods are:\n",
    "* **compare_line_coverage**: prints and plots line coverage by function name\n",
    "* **compare_branch_coverage**: prints and plots branch coverage by function name\n",
    "* **compare_exceptions**: prints the exceptions thrown by their type\n",
    "* **compare_valid_inputs**: prints percentage and number of inputs that did not raise any exceptions\n",
    "* **compare_elapsed_time**: prints time it took to fuzz in minutes, seconds and milliseconds\n",
    "* **compare_all**: calls all the methods above"
   ]
  },
  {
   "cell_type": "code",
   "execution_count": 15,
   "metadata": {
    "slideshow": {
     "slide_type": "skip"
    }
   },
   "outputs": [],
   "source": [
    "import matplotlib.pyplot as plt\n",
    "import numpy as np\n",
    "\n",
    "class ResultComparator:\n",
    "    def __init__(self, result1, result2):\n",
    "        self.result1 = result1\n",
    "        self.result2 = result2\n",
    "        \n",
    "        self.name1 = result1.fuzzer_name\n",
    "        self.name2 = result2.fuzzer_name\n",
    "        \n",
    "        assert(result1.functions == result2.functions)\n",
    "        self.functions = result1.functions\n",
    " \n",
    "    def _print_formatted(self, arg1, arg2, arg3):\n",
    "        print('{0: <30} {1: <25} {2: <25}'.format(arg1, arg2, arg3))\n",
    "        \n",
    "    def _print_title(self, title):\n",
    "        print('\\n')\n",
    "        self._print_formatted(title, self.name1, self.name2)\n",
    "        print('-' * 75)\n",
    "        \n",
    "    def _print_coverage_comparison(self, cov_dict1, n1, cov_dict2, n2, title):\n",
    "        self._print_title(title)\n",
    "        self._print_formatted('all functions', n1, n2)\n",
    "        for f in self.functions:\n",
    "            n_lines1 = len(cov_dict1[f])\n",
    "            n_lines2 = len(cov_dict2[f])\n",
    "            self._print_formatted(f, n_lines1, n_lines2)\n",
    "    \n",
    "    def _plot_coverage_comparison(self, cov_dict1, n1, cov_dict2, n2, title):\n",
    "        x_indexes = [i for i in range(len(self.functions) + 1)]\n",
    "        x_labels = ['all functions'] + list(self.functions)\n",
    "\n",
    "        plt.title(title)\n",
    "        plt.bar([x-0.1 for x in x_indexes], \n",
    "                [n1] + [len(cov_dict1[f]) for f in self.functions],  \n",
    "                width=0.2, align='center', label=self.name1)\n",
    "\n",
    "        plt.bar([x+0.1 for x in x_indexes], \n",
    "                [n2] + [len(cov_dict2[f]) for f in self.functions],  \n",
    "                width=0.2, align='center', label=self.name2)\n",
    "            \n",
    "        plt.legend(loc='upper right')\n",
    "        plt.xticks(x_indexes, x_labels, rotation=20)\n",
    "        plt.show()\n",
    "        \n",
    "    def compare_line_coverage(self):\n",
    "        args = [\n",
    "            self.result1.line_coverage_dict,\n",
    "            self.result1.n_lines_covered,\n",
    "            self.result2.line_coverage_dict,\n",
    "            self.result2.n_lines_covered,\n",
    "            'Line Coverage'\n",
    "        ]\n",
    "        \n",
    "        self._print_coverage_comparison(*args)\n",
    "        self._plot_coverage_comparison(*args)\n",
    "    \n",
    "    def compare_branch_coverage(self):\n",
    "        args = [\n",
    "            self.result1.branch_coverage_dict,\n",
    "            self.result1.n_branches_covered,\n",
    "            self.result2.branch_coverage_dict,\n",
    "            self.result2.n_branches_covered,\n",
    "            'Branch Coverage'\n",
    "        ]\n",
    "        \n",
    "        self._print_coverage_comparison(*args)\n",
    "        self._plot_coverage_comparison(*args)\n",
    "    \n",
    "    def compare_exceptions(self):\n",
    "        n_all1 = self.result1.n_exceptions\n",
    "        n_all2 = self.result2.n_exceptions\n",
    "\n",
    "        e_dict1 = self.result1.exceptions_dict\n",
    "        e_dict2 = self.result2.exceptions_dict\n",
    "\n",
    "        self._print_title('Exception Type')\n",
    "        self._print_formatted('all exceptions', n_all1, n_all2)\n",
    "        \n",
    "        all_e_types = e_dict1.keys() | e_dict2.keys()\n",
    "        for e_type in all_e_types:\n",
    "            n1 = len(e_dict1[e_type])\n",
    "            n2 = len(e_dict2[e_type])\n",
    "            self._print_formatted(e_type, n1, n2)\n",
    "\n",
    "    def compare_valid_inputs(self):\n",
    "        n1 = self.result1.n_valid_inputs\n",
    "        n2 = self.result2.n_valid_inputs\n",
    "        \n",
    "        perc1 = self.result1.valid_input_percentage\n",
    "        perc2 = self.result2.valid_input_percentage\n",
    "\n",
    "        self._print_title('Valid Inputs')\n",
    "        self._print_formatted('Number', n1, n2)\n",
    "        self._print_formatted('Percentage %', round(perc1, 2), round(perc2, 2))\n",
    "\n",
    "    def compare_elapsed_time(self):\n",
    "        t1_ms = '{:.0f} ms'.format(self.result1.elapsed_time * 1000)\n",
    "        t2_ms = '{:.0f} ms'.format(self.result2.elapsed_time * 1000)\n",
    "        \n",
    "        t1_s = '{:.2f} s'.format(self.result1.elapsed_time)\n",
    "        t2_s = '{:.2f} s'.format(self.result2.elapsed_time)\n",
    "        \n",
    "        t1_m = '{:.2f} m'.format(self.result1.elapsed_time / 60.0)\n",
    "        t2_m = '{:.2f} m'.format(self.result2.elapsed_time / 60.0)\n",
    "        \n",
    "        self._print_title('Elapsed Time')\n",
    "        self._print_formatted('in minutes', t1_m, t2_m)\n",
    "        self._print_formatted('in seconds', t1_s, t2_s)\n",
    "        self._print_formatted('in milliseconds', t1_ms, t2_ms)\n",
    "\n",
    "    def compare_all(self):\n",
    "        self.compare_line_coverage()\n",
    "        self.compare_branch_coverage()\n",
    "        self.compare_exceptions()\n",
    "        self.compare_valid_inputs()\n",
    "        self.compare_elapsed_time()"
   ]
  },
  {
   "cell_type": "markdown",
   "metadata": {
    "slideshow": {
     "slide_type": "skip"
    }
   },
   "source": [
    "Time to make some experiments!"
   ]
  },
  {
   "cell_type": "markdown",
   "metadata": {
    "slideshow": {
     "slide_type": "slide"
    }
   },
   "source": [
    "## 6. Evaluation <a name=\"evaluation\"></a>\n",
    "\n",
    "First, we will see how we can use the classes implemented in evaluation. Then, we will provide a **single function** that runs two fuzzers with given configurations and compares their success. Using that function, you can easily try out different configurations and compare fuzzers.\n",
    "\n",
    "For a start, let's see how we can run our fuzzers just 1000 times and compare their success."
   ]
  },
  {
   "cell_type": "code",
   "execution_count": 16,
   "metadata": {
    "slideshow": {
     "slide_type": "slide"
    }
   },
   "outputs": [],
   "source": [
    "config = {\n",
    "    'target': TARGET_DEFAULT,       # target function we are fuzzing\n",
    "    'grammar': GRAMMAR_DEFAULT,     # grammar for fuzzing\n",
    "    'min_nonterminals': 0,          # min nonterminal grammar expansions\n",
    "    'max_nonterminals': 10,         # max nonterminal grammar expansions\n",
    "    'n_fuzz': 1000,                 # how many times we fuzz\n",
    "    'functions': FUNCTIONS_DEFAULT  # functions we want to obtain coverage\n",
    "}"
   ]
  },
  {
   "cell_type": "code",
   "execution_count": 17,
   "metadata": {
    "slideshow": {
     "slide_type": "fragment"
    }
   },
   "outputs": [
    {
     "name": "stdout",
     "output_type": "stream",
     "text": [
      "ConcolicGrammarFuzzer         -> fuzzed 1000 times in 124.59 seconds!\n",
      "GrammarFuzzer                 -> fuzzed 1000 times in 30.41 seconds!\n"
     ]
    }
   ],
   "source": [
    "result1 = run_concolic_grammar_fuzzer(**config)\n",
    "result2 = run_grammar_fuzzer(**config)"
   ]
  },
  {
   "cell_type": "markdown",
   "metadata": {
    "slideshow": {
     "slide_type": "skip"
    }
   },
   "source": [
    "Let's compare these results using the `ResultComparator`."
   ]
  },
  {
   "cell_type": "code",
   "execution_count": 18,
   "metadata": {
    "slideshow": {
     "slide_type": "fragment"
    }
   },
   "outputs": [],
   "source": [
    "result_comparator = ResultComparator(result1, result2)"
   ]
  },
  {
   "cell_type": "markdown",
   "metadata": {
    "slideshow": {
     "slide_type": "skip"
    }
   },
   "source": [
    "Let's compare the line coverage first."
   ]
  },
  {
   "cell_type": "code",
   "execution_count": 19,
   "metadata": {
    "slideshow": {
     "slide_type": "slide"
    }
   },
   "outputs": [
    {
     "name": "stdout",
     "output_type": "stream",
     "text": [
      "\n",
      "\n",
      "Line Coverage                  ConcolicGrammarFuzzer     GrammarFuzzer            \n",
      "---------------------------------------------------------------------------\n",
      "all functions                  66                        29                       \n",
      "do_delete                      11                        5                        \n",
      "table                          4                         3                        \n",
      "do_update                      21                        6                        \n",
      "sql                            7                         7                        \n",
      "query_db                       3                         3                        \n",
      "do_insert                      20                        5                        \n"
     ]
    },
    {
     "data": {
      "image/png": "[encoded data removed]",
      "text/plain": [
       "<Figure size 432x288 with 1 Axes>"
      ]
     },
     "metadata": {
      "needs_background": "light"
     },
     "output_type": "display_data"
    }
   ],
   "source": [
    "result_comparator.compare_line_coverage()"
   ]
  },
  {
   "cell_type": "markdown",
   "metadata": {
    "slideshow": {
     "slide_type": "skip"
    }
   },
   "source": [
    "Looks like the `ConcolicGrammarFuzzer` is winning. This is what we expected because the concolic fuzzer should be able to figure out precise table/field names with the help of symbolic execution, and update its grammar in order produce better queries.\n",
    "\n",
    "Let's see the branch coverage."
   ]
  },
  {
   "cell_type": "code",
   "execution_count": 20,
   "metadata": {
    "slideshow": {
     "slide_type": "slide"
    }
   },
   "outputs": [
    {
     "name": "stdout",
     "output_type": "stream",
     "text": [
      "\n",
      "\n",
      "Branch Coverage                ConcolicGrammarFuzzer     GrammarFuzzer            \n",
      "---------------------------------------------------------------------------\n",
      "all functions                  65                        25                       \n",
      "do_delete                      10                        4                        \n",
      "table                          4                         3                        \n",
      "do_update                      20                        5                        \n",
      "sql                            7                         7                        \n",
      "query_db                       2                         2                        \n",
      "do_insert                      22                        4                        \n"
     ]
    },
    {
     "data": {
      "image/png": "[encoded data removed]",
      "text/plain": [
       "<Figure size 432x288 with 1 Axes>"
      ]
     },
     "metadata": {
      "needs_background": "light"
     },
     "output_type": "display_data"
    }
   ],
   "source": [
    "result_comparator.compare_branch_coverage()"
   ]
  },
  {
   "cell_type": "markdown",
   "metadata": {
    "slideshow": {
     "slide_type": "skip"
    }
   },
   "source": [
    "This is similar to line coverage."
   ]
  },
  {
   "cell_type": "code",
   "execution_count": 21,
   "metadata": {
    "slideshow": {
     "slide_type": "slide"
    }
   },
   "outputs": [
    {
     "name": "stdout",
     "output_type": "stream",
     "text": [
      "\n",
      "\n",
      "Exception Type                 ConcolicGrammarFuzzer     GrammarFuzzer            \n",
      "---------------------------------------------------------------------------\n",
      "all exceptions                 952                       1000                     \n",
      "TypeError                      1                         0                        \n",
      "SQLException                   951                       1000                     \n"
     ]
    }
   ],
   "source": [
    "result_comparator.compare_exceptions()"
   ]
  },
  {
   "cell_type": "markdown",
   "metadata": {
    "slideshow": {
     "slide_type": "skip"
    }
   },
   "source": [
    "Looks like both fuzzers had many `SQLException`s. We can see that the concolic fuzzer had some runs without any exceptions where as the grammar fuzzer had none. "
   ]
  },
  {
   "cell_type": "markdown",
   "metadata": {
    "slideshow": {
     "slide_type": "skip"
    }
   },
   "source": [
    "Let's now have a look at the valid inputs produced."
   ]
  },
  {
   "cell_type": "code",
   "execution_count": 24,
   "metadata": {
    "slideshow": {
     "slide_type": "slide"
    }
   },
   "outputs": [
    {
     "name": "stdout",
     "output_type": "stream",
     "text": [
      "\n",
      "\n",
      "Valid Inputs                   ConcolicGrammarFuzzer     GrammarFuzzer            \n",
      "---------------------------------------------------------------------------\n",
      "Number                         48                        0                        \n",
      "Percentage %                   4.8                       0.0                      \n"
     ]
    }
   ],
   "source": [
    "result_comparator.compare_valid_inputs()"
   ]
  },
  {
   "cell_type": "markdown",
   "metadata": {
    "slideshow": {
     "slide_type": "skip"
    }
   },
   "source": [
    "We can also see what exactly are these valid inputs."
   ]
  },
  {
   "cell_type": "code",
   "execution_count": 25,
   "metadata": {
    "slideshow": {
     "slide_type": "slide"
    }
   },
   "outputs": [
    {
     "data": {
      "text/plain": [
       "['select (months+months*name),month<month,name from months where (8)==month!=month',\n",
       " \"insert into months (name) values ('%7#A;')\",\n",
       " 'delete from months where month==1477.09',\n",
       " 'select ((42.15)) from months',\n",
       " 'select (month) from months',\n",
       " 'select (((1.4))) from months',\n",
       " 'select company from vehicles',\n",
       " 'select month from months',\n",
       " 'update vehicles set company=name,company=model:G where year==29.12',\n",
       " 'delete from months where 3.67==(54)',\n",
       " 'select 7 from vehicles',\n",
       " 'select 2.52 from months',\n",
       " \"insert into vehicles (kind) values ('@#')\",\n",
       " \"insert into vehicles (company) values ('P')\",\n",
       " 'delete from months where name!=-3',\n",
       " 'delete from months where (name)==-473',\n",
       " \"insert into vehicles (model) values ('^u')\",\n",
       " \"insert into vehicles (model) values ('%M<n')\",\n",
       " \"insert into vehicles (kind) values ('8')\",\n",
       " 'select 8.339563 from vehicles',\n",
       " 'select year(year>company,name)-model+month+name-month+months*company/company-(9.1) from vehicles where 5==7',\n",
       " 'insert into months (name) values (051.103522)',\n",
       " 'select (kind) from vehicles',\n",
       " 'select month from months',\n",
       " 'delete from months where -7.6==-2.18!=(-6.6)',\n",
       " 'select (1) from months',\n",
       " \"insert into vehicles (model) values ('``&')\",\n",
       " 'delete from vehicles where company>(company)',\n",
       " 'select 1.5 from vehicles',\n",
       " 'insert into vehicles (kind) values (7.7)',\n",
       " 'delete from vehicles where company!=kind',\n",
       " 'select year*months(name),months,kind from vehicles where kind==company==(model-vehicles<year)',\n",
       " 'delete from vehicles where year==3.4170',\n",
       " 'select kind from vehicles',\n",
       " \"insert into months (month) values ('5')\",\n",
       " 'insert into vehicles (model) values (5)',\n",
       " 'select 45.7,vehicles,(year),kind from months where month>month!=kind*vehicles==month',\n",
       " \"insert into months (name) values ('X')\",\n",
       " 'select (-05.4893) from vehicles',\n",
       " 'insert into vehicles (year) values (-8.3)',\n",
       " \"insert into vehicles (company) values ('bu')\",\n",
       " 'select 0.708921 from months',\n",
       " 'delete from vehicles where (2)==-16',\n",
       " \"insert into months (name) values ('^n')\",\n",
       " 'insert into months (month) values (-834)',\n",
       " \"insert into vehicles (kind) values ('%')\",\n",
       " 'select 6.2 from vehicles',\n",
       " 'select year from vehicles']"
      ]
     },
     "execution_count": 25,
     "metadata": {},
     "output_type": "execute_result"
    }
   ],
   "source": [
    "result1.valid_inputs"
   ]
  },
  {
   "cell_type": "markdown",
   "metadata": {
    "slideshow": {
     "slide_type": "slide"
    }
   },
   "source": [
    "We see that the `ConcolicGrammarFuzzer` is able to update the grammar to include values that depend on the state of the database such as table names (`vehicles`, `months`, ...)."
   ]
  },
  {
   "cell_type": "markdown",
   "metadata": {
    "slideshow": {
     "slide_type": "slide"
    }
   },
   "source": [
    "Let's check what is wrong with the inputs produced by the `GrammarFuzzer`."
   ]
  },
  {
   "cell_type": "code",
   "execution_count": 26,
   "metadata": {
    "slideshow": {
     "slide_type": "fragment"
    }
   },
   "outputs": [
    {
     "data": {
      "text/plain": [
       "[('select V from Q where c-K<k+W+Z/G*S(E,X)-G',\n",
       "  InformationFlow.SQLException(\"Table ('Q') was not found\")),\n",
       " ('select (W==F),B,: from D37 where .!=((Y/g))',\n",
       "  InformationFlow.SQLException(\"Table ('D37') was not found\")),\n",
       " ('delete from DXZ where j(W)<Wz(u,F)!=((B/L+f+x))',\n",
       "  InformationFlow.SQLException(\"Table ('DXZ') was not found\")),\n",
       " ('delete from q where L*y+n-r/L>v/K*N-Y(c)',\n",
       "  InformationFlow.SQLException(\"Table ('q') was not found\")),\n",
       " (\"insert into W (e) values (2.85,'|+Xx',5.2,'x')\",\n",
       "  InformationFlow.SQLException(\"Table ('W') was not found\")),\n",
       " ('update mM set :=mdeI6S where H*B<S/J>p(m,q)!=(Z)',\n",
       "  InformationFlow.SQLException(\"Table ('mM') was not found\")),\n",
       " ('select Q,O,WB,g(((R<K)*N+b-m+_<Z>f)) from MS2',\n",
       "  InformationFlow.SQLException(\"Table ('MS2') was not found\")),\n",
       " (\"insert into h (HUqDgTj14,IH,a335) values ('n','5')\",\n",
       "  InformationFlow.SQLException(\"Table ('h') was not found\")),\n",
       " (\"insert into y2OTy (QhS5) values (-9,'s','{','i')\",\n",
       "  InformationFlow.SQLException(\"Table ('y2OTy') was not found\")),\n",
       " ('select B>m/Z*M,x/U*a*m-W-A from u',\n",
       "  InformationFlow.SQLException(\"Table ('u') was not found\")),\n",
       " ('update Sl set Mv=D where T<a+S/v-y-K+E',\n",
       "  InformationFlow.SQLException(\"Table ('Sl') was not found\")),\n",
       " (\"insert into R35 (B2,X2b) values (-0,'AVn',---9.84,'o`','pl',1.7119,77)\",\n",
       "  InformationFlow.SQLException(\"Table ('R35') was not found\")),\n",
       " ('select ((h)),(j),b from F where y-s*u*N/n!=m==(j)',\n",
       "  InformationFlow.SQLException(\"Table ('F') was not found\")),\n",
       " ('update M set T=W,k=k,Z=: where L==z<((y))/L+p',\n",
       "  InformationFlow.SQLException(\"Table ('M') was not found\")),\n",
       " ('select (-6) from .',\n",
       "  InformationFlow.SQLException(\"Table ('.') was not found\")),\n",
       " ('insert into _R (Y) values (319.255)',\n",
       "  InformationFlow.SQLException(\"Table ('_R') was not found\")),\n",
       " ('select (u*h-S-c),i,Q from Z6 where (m)!=P',\n",
       "  InformationFlow.SQLException(\"Table ('Z6') was not found\")),\n",
       " ('select V/h*W>q*L,Xe_,-4.34 from K56',\n",
       "  InformationFlow.SQLException(\"Table ('K56') was not found\")),\n",
       " ('delete from V where j0(J<x)>L<B-f*P/K',\n",
       "  InformationFlow.SQLException(\"Table ('V') was not found\")),\n",
       " (\"insert into f (G,d) values ('&y?',10,'h')\",\n",
       "  InformationFlow.SQLException(\"Table ('f') was not found\")),\n",
       " ('select (Fh)==(q*W/C*f+x-Q*W*I-T>zX(F)) from w99',\n",
       "  InformationFlow.SQLException(\"Table ('w99') was not found\")),\n",
       " ('select 1 from L',\n",
       "  InformationFlow.SQLException(\"Table ('L') was not found\")),\n",
       " ('select h,-9.5 from T_',\n",
       "  InformationFlow.SQLException(\"Table ('T_') was not found\")),\n",
       " (\"insert into o (jNj) values ('h',0,'xR')\",\n",
       "  InformationFlow.SQLException(\"Table ('o') was not found\")),\n",
       " (\"insert into zq3s (E,M7MD:U6) values ('8M')\",\n",
       "  InformationFlow.SQLException(\"Table ('zq3s') was not found\")),\n",
       " ('select p>cr(j),260,lR,X from B',\n",
       "  InformationFlow.SQLException(\"Table ('B') was not found\")),\n",
       " ('delete from q0 where K/o/M+Q*g==.<a(6,m,S,e)',\n",
       "  InformationFlow.SQLException(\"Table ('q0') was not found\")),\n",
       " ('delete from Qs where 2.1!=F/x-D+x/l(E)*Y<A((s-./G),(20))',\n",
       "  InformationFlow.SQLException(\"Table ('Qs') was not found\")),\n",
       " ('delete from XHuuEO where (((v/i-s/O/U/P(F)+r)))!=M7!=(60.1)',\n",
       "  InformationFlow.SQLException(\"Table ('XHuuEO') was not found\")),\n",
       " ('update Z set Y=i,hl=G where f!=b!=q!=x==z(S)==w3o2',\n",
       "  InformationFlow.SQLException(\"Table ('Z') was not found\")),\n",
       " (\"insert into s (xE8,q72f,A,r368) values ('~k')\",\n",
       "  InformationFlow.SQLException(\"Table ('s') was not found\")),\n",
       " ('select ((-40.2)) from T82 where u!=K!=i>v',\n",
       "  InformationFlow.SQLException(\"Table ('T82') was not found\")),\n",
       " ('select ((-527.7)) from r3949t7P1O',\n",
       "  InformationFlow.SQLException(\"Table ('r3949t7P1O') was not found\")),\n",
       " ('select (((I9))!=x/s-_/y+d/D*c+W>m/B),(6.1) from OM',\n",
       "  InformationFlow.SQLException(\"Table ('OM') was not found\")),\n",
       " ('delete from v9I6 where g((V(U)>zl(O)),2,l,n,(w))!=x6',\n",
       "  InformationFlow.SQLException(\"Table ('v9I6') was not found\")),\n",
       " ('select ((:*W-M)),d-a-F/b/j>N from n',\n",
       "  InformationFlow.SQLException(\"Table ('n') was not found\")),\n",
       " ('select g from mL7i where j*h-b<w(n)-G',\n",
       "  InformationFlow.SQLException(\"Table ('mL7i') was not found\")),\n",
       " ('update U set c=A,q=t where U/j-m+_/M-t>D+V',\n",
       "  InformationFlow.SQLException(\"Table ('U') was not found\")),\n",
       " ('delete from ac where H*L*b(E)-W+y==V(E)*y(M)',\n",
       "  InformationFlow.SQLException(\"Table ('ac') was not found\")),\n",
       " ('update C6 set o2=Tp where A!=G>B',\n",
       "  InformationFlow.SQLException(\"Table ('C6') was not found\")),\n",
       " ('update V75 set g=y,h=V where K<EW(U,A)',\n",
       "  InformationFlow.SQLException(\"Table ('V75') was not found\")),\n",
       " ('update u4 set i=h,K=Y,M=s where D>Q/Z!=(:==j<I)',\n",
       "  InformationFlow.SQLException(\"Table ('u4') was not found\")),\n",
       " ('select (:),M from AeY where Q(r)/d==Z(d)*x-g',\n",
       "  InformationFlow.SQLException(\"Table ('AeY') was not found\")),\n",
       " ('select UV261((nu)) from R',\n",
       "  InformationFlow.SQLException(\"Table ('R') was not found\")),\n",
       " ('select Q>q from XS5 where W*A>S(y)+h',\n",
       "  InformationFlow.SQLException(\"Table ('XS5') was not found\")),\n",
       " ('select l==I,a,u,L from l where .co!=A!=(O)',\n",
       "  InformationFlow.SQLException(\"Table ('l') was not found\")),\n",
       " ('select (o!=Q)/I(P,r) from v where c-U-.>K+y',\n",
       "  InformationFlow.SQLException(\"Table ('v') was not found\")),\n",
       " ('update P2 set R1=q where X+r/y*y/g<L0n(E,n)',\n",
       "  InformationFlow.SQLException(\"Table ('P2') was not found\")),\n",
       " (\"insert into B.82469QF1Mw817g56l537 (s,yj,Jxt:,T,x6,T_) values (';')\",\n",
       "  InformationFlow.SQLException(\"Table ('B.82469QF1Mw817g56l537') was not found\")),\n",
       " ('select M!=h from wj130 where C==V==z>p',\n",
       "  InformationFlow.SQLException(\"Table ('wj130') was not found\")),\n",
       " ('insert into b571 (Z) values (0)',\n",
       "  InformationFlow.SQLException(\"Table ('b571') was not found\")),\n",
       " ('delete from T where I/x==j>v/g*i+Z/h-s8(p)',\n",
       "  InformationFlow.SQLException(\"Table ('T') was not found\")),\n",
       " (\"insert into B (j,y:x) values ('F',--26657)\",\n",
       "  InformationFlow.SQLException(\"Table ('B') was not found\")),\n",
       " ('update nn set t=z,DoV=m where H(a)==b<i!=n!=l',\n",
       "  InformationFlow.SQLException(\"Table ('nn') was not found\")),\n",
       " ('update R set y=_ where O(o)<Z(l,l)*c',\n",
       "  InformationFlow.SQLException(\"Table ('R') was not found\")),\n",
       " (\"insert into b708 (u38,tN,VA,DW476R21w33t2v,D8) values (2,'TMvKhf')\",\n",
       "  InformationFlow.SQLException(\"Table ('b708') was not found\")),\n",
       " ('select 8,p-F+G+o+y(Q,h)<F*H*h,k from Cye',\n",
       "  InformationFlow.SQLException(\"Table ('Cye') was not found\")),\n",
       " ('update p set O1v=N where g/R+f+p*f>y(C)*M5(f)!=---63',\n",
       "  InformationFlow.SQLException(\"Table ('p') was not found\")),\n",
       " ('select (s(R)<L),(U>t),((y)),:/H*z from Fw',\n",
       "  InformationFlow.SQLException(\"Table ('Fw') was not found\")),\n",
       " ('update QHa05oE0Y set E=. where 62==(w+A+E>W>M/r-Z+q)',\n",
       "  InformationFlow.SQLException(\"Table ('QHa05oE0Y') was not found\")),\n",
       " ('select (n) from P5 where j(F,:)*B<uQ(L)',\n",
       "  InformationFlow.SQLException(\"Table ('P5') was not found\")),\n",
       " ('select k(I,p)*Q from .2U where Z+w==f+P',\n",
       "  InformationFlow.SQLException(\"Table ('.2U') was not found\")),\n",
       " (\"insert into eu (m_535,S,b,:.) values ('L')\",\n",
       "  InformationFlow.SQLException(\"Table ('eu') was not found\")),\n",
       " ('delete from Nn where x*s+x*o>X*K*K+k',\n",
       "  InformationFlow.SQLException(\"Table ('Nn') was not found\")),\n",
       " (\"insert into s13F8 (wZ) values ('~U')\",\n",
       "  InformationFlow.SQLException(\"Table ('s13F8') was not found\")),\n",
       " ('select L,.,:,b from P where N(N)*v<s',\n",
       "  InformationFlow.SQLException(\"Table ('P') was not found\")),\n",
       " ('update qS set L=A4,X=W where N/v-L(Y)!=(P==R)',\n",
       "  InformationFlow.SQLException(\"Table ('qS') was not found\")),\n",
       " ('delete from y7 where ZV6s==(I/Q*a>U)!=G/B-(M)',\n",
       "  InformationFlow.SQLException(\"Table ('y7') was not found\")),\n",
       " ('select -85.8==f==B!=O,((f<c+t)!=(V==R)) from ro82JY',\n",
       "  InformationFlow.SQLException(\"Table ('ro82JY') was not found\")),\n",
       " ('delete from j where (D==o*C-h<d+v)==o+U+p+j+c==N',\n",
       "  InformationFlow.SQLException(\"Table ('j') was not found\")),\n",
       " ('select (Q),((K)),e from p96 where L+D<a/q',\n",
       "  InformationFlow.SQLException(\"Table ('p96') was not found\")),\n",
       " ('select A from G80.Q where vl(htZYM,T+I/z*B/H+k-d-(g-H*Z),l)>Pt_(NJ4)',\n",
       "  InformationFlow.SQLException(\"Table ('G80.Q') was not found\")),\n",
       " ('update :K9G set v=Kx where V0==(aMo7rcp8)==(o(B)<Z*y-E)',\n",
       "  InformationFlow.SQLException(\"Table (':K9G') was not found\")),\n",
       " ('delete from N where (Z-y+s+x(U,b))==c+i*H+O',\n",
       "  InformationFlow.SQLException(\"Table ('N') was not found\")),\n",
       " ('delete from c where NuI9C((W*e*Y))<Q(M*X-M*X-U)*Ys54',\n",
       "  InformationFlow.SQLException(\"Table ('c') was not found\")),\n",
       " (\"insert into H6 (i8) values (1.244,'w wM')\",\n",
       "  InformationFlow.SQLException(\"Table ('H6') was not found\")),\n",
       " ('update T4MWd set Rk=Y where (r>b/Y)<k*t<L(t)+F',\n",
       "  InformationFlow.SQLException(\"Table ('T4MWd') was not found\")),\n",
       " ('select ((L*g+k*w+p)),z from :t1 where (n-A)==(l==M==c)',\n",
       "  InformationFlow.SQLException(\"Table (':t1') was not found\")),\n",
       " ('select Ul2 from l6_U0 where (e==n!=_)==(o!=r)',\n",
       "  InformationFlow.SQLException(\"Table ('l6_U0') was not found\")),\n",
       " ('select 17.2,C-W>r,w from NvjZxI',\n",
       "  InformationFlow.SQLException(\"Table ('NvjZxI') was not found\")),\n",
       " ('update P6 set D=J,N=O,W=. where n*l!=--2.5',\n",
       "  InformationFlow.SQLException(\"Table ('P6') was not found\")),\n",
       " ('select ./_/u+O,L(B)<Q,D3(n) from Amj',\n",
       "  InformationFlow.SQLException(\"Table ('Amj') was not found\")),\n",
       " ('update r set N.4v818=nj where ((U/I))>(a(j)!=s)',\n",
       "  InformationFlow.SQLException(\"Table ('r') was not found\")),\n",
       " (\"insert into Kv4 (:01,fB,F5) values ('2',37,-7)\",\n",
       "  InformationFlow.SQLException(\"Table ('Kv4') was not found\")),\n",
       " ('select (_/B(C)) from ink56 where C/y(D)<e',\n",
       "  InformationFlow.SQLException(\"Table ('ink56') was not found\")),\n",
       " ('select -375.8!=D0 from l0 where J95M4x!=(E+L*Z+O*I/v<U+F+a(y))!=MU',\n",
       "  InformationFlow.SQLException(\"Table ('l0') was not found\")),\n",
       " ('update e set T7W=rj where D-z+F*G*K==n',\n",
       "  InformationFlow.SQLException(\"Table ('e') was not found\")),\n",
       " ('select nzq!=(e) from c',\n",
       "  InformationFlow.SQLException(\"Table ('c') was not found\")),\n",
       " ('select a from x280B91t where (((V==.))>Z/_*i)!=(Z)-S1(w)+(z==(I))==(k)',\n",
       "  InformationFlow.SQLException(\"Table ('x280B91t') was not found\")),\n",
       " ('insert into y7_ (q) values (-74.3)',\n",
       "  InformationFlow.SQLException(\"Table ('y7_') was not found\")),\n",
       " (\"insert into JG: (j,p2,ibH,MGK3M5S0n7gd) values ('S')\",\n",
       "  InformationFlow.SQLException(\"Table ('JG:') was not found\")),\n",
       " ('select H<V from xEd where B/U>x*a*w',\n",
       "  InformationFlow.SQLException(\"Table ('xEd') was not found\")),\n",
       " ('select ((i)>T5) from :D where e-D>x!=O(G-q)',\n",
       "  InformationFlow.SQLException(\"Table (':D') was not found\")),\n",
       " ('update Iv set l=k where (((O)))==D*t>W+p(T)',\n",
       "  InformationFlow.SQLException(\"Table ('Iv') was not found\")),\n",
       " ('delete from d where 35.5==Ed928ey(Z)',\n",
       "  InformationFlow.SQLException(\"Table ('d') was not found\")),\n",
       " (\"insert into kLj (zr,y) values (-2,'d','D','*')\",\n",
       "  InformationFlow.SQLException(\"Table ('kLj') was not found\")),\n",
       " (\"insert into j33 (g) values ('jo','V')\",\n",
       "  InformationFlow.SQLException(\"Table ('j33') was not found\")),\n",
       " ('select P+m6(Y)>J-j from v where z(p)==-5==i',\n",
       "  InformationFlow.SQLException(\"Table ('v') was not found\")),\n",
       " ('select y,W,E from X where i>h-V-F+T*x',\n",
       "  InformationFlow.SQLException(\"Table ('X') was not found\")),\n",
       " ('update Uu1 set G8=W,:=q,s=t where h!=h',\n",
       "  InformationFlow.SQLException(\"Table ('Uu1') was not found\")),\n",
       " (\"insert into X (.,B,X293) values (-29,'pL')\",\n",
       "  InformationFlow.SQLException(\"Table ('X') was not found\")),\n",
       " ('select 16 from xcH',\n",
       "  InformationFlow.SQLException(\"Table ('xcH') was not found\")),\n",
       " (\"insert into DE (GgiM) values ('O',-194.9,193.0)\",\n",
       "  InformationFlow.SQLException(\"Table ('DE') was not found\")),\n",
       " ('select D(L)-h+p==H!=N,n*i/H*R,5 from n.',\n",
       "  InformationFlow.SQLException(\"Table ('n.') was not found\")),\n",
       " ('delete from X0O where k(X)+S-z>v*U/l-W1(a)',\n",
       "  InformationFlow.SQLException(\"Table ('X0O') was not found\")),\n",
       " ('delete from jFd where Z-G/x/T-C+z+m-W>(V>S)',\n",
       "  InformationFlow.SQLException(\"Table ('jFd') was not found\")),\n",
       " (\"insert into B1430 (n) values ('}\\\\Cb7u.')\",\n",
       "  InformationFlow.SQLException(\"Table ('B1430') was not found\")),\n",
       " ('select M7,(((T)))-5,z(.),C<q==(I),U,S from i0k',\n",
       "  InformationFlow.SQLException(\"Table ('i0k') was not found\")),\n",
       " ('delete from Y3I where h/f(y)*l/e*K>H(p,Z)!=1',\n",
       "  InformationFlow.SQLException(\"Table ('Y3I') was not found\")),\n",
       " ('select ((K(B)+w(s)+N<e*y/w+V+L)) from Efb:',\n",
       "  InformationFlow.SQLException(\"Table ('Efb:') was not found\")),\n",
       " ('select f((--3)) from KR',\n",
       "  InformationFlow.SQLException(\"Table ('KR') was not found\")),\n",
       " ('update W6X4 set X=e,W=o where s+T<z/e*a',\n",
       "  InformationFlow.SQLException(\"Table ('W6X4') was not found\")),\n",
       " ('select R from ic where U-.*K<W-H-J',\n",
       "  InformationFlow.SQLException(\"Table ('ic') was not found\")),\n",
       " ('update BkyED set r=L where ((vx))<w/s/c-O',\n",
       "  InformationFlow.SQLException(\"Table ('BkyED') was not found\")),\n",
       " ('select M*D-G==(N/y),u*P-W+X-Z from E9',\n",
       "  InformationFlow.SQLException(\"Table ('E9') was not found\")),\n",
       " ('select b5,(L+U*F+ng(h)*j-J+H/F),9 from o6:0',\n",
       "  InformationFlow.SQLException(\"Table ('o6:0') was not found\")),\n",
       " (\"insert into bc_ (o5,hu,V,E) values ('i','d#',8)\",\n",
       "  InformationFlow.SQLException(\"Table ('bc_') was not found\")),\n",
       " ('insert into f5 (g,FJk,G0G) values (670.031)',\n",
       "  InformationFlow.SQLException(\"Table ('f5') was not found\")),\n",
       " ('select B*S*j+e-p-Q/H4*_!=_!=p/e!=T from zu:20',\n",
       "  InformationFlow.SQLException(\"Table ('zu:20') was not found\")),\n",
       " ('select n,y,V from n6N where f-_/e!=K(B)',\n",
       "  InformationFlow.SQLException(\"Table ('n6N') was not found\")),\n",
       " (\"insert into Q6r2ZeH (a) values (5,'x','S','19')\",\n",
       "  InformationFlow.SQLException(\"Table ('Q6r2ZeH') was not found\")),\n",
       " ('delete from P9P where a==rQ',\n",
       "  InformationFlow.SQLException(\"Table ('P9P') was not found\")),\n",
       " ('update QE set v=o_ where ((y==(K)))==(B!=V)!=nA4(g<b)',\n",
       "  InformationFlow.SQLException(\"Table ('QE') was not found\")),\n",
       " ('update Hs24 set j1=r where (a-n<w)!=(c)',\n",
       "  InformationFlow.SQLException(\"Table ('Hs24') was not found\")),\n",
       " ('select 6.0 from m0K3.5x where ktM(w)!=((j<i))',\n",
       "  InformationFlow.SQLException(\"Table ('m0K3.5x') was not found\")),\n",
       " ('select f(B,y),R!=J from M where o==c!=r-_+y',\n",
       "  InformationFlow.SQLException(\"Table ('M') was not found\")),\n",
       " ('select p+R*:!=:==e from wep where (p)!=3.3!=6',\n",
       "  InformationFlow.SQLException(\"Table ('wep') was not found\")),\n",
       " ('select FW8hf:,HT from i',\n",
       "  InformationFlow.SQLException(\"Table ('i') was not found\")),\n",
       " ('delete from ue91455 where b+g(O)-g-r==(K)>q-j/n+U',\n",
       "  InformationFlow.SQLException(\"Table ('ue91455') was not found\")),\n",
       " ('select 8,Z,8,sI,J(D)<X+D/q/x*e-U,i==(5) from tQy4E',\n",
       "  InformationFlow.SQLException(\"Table ('tQy4E') was not found\")),\n",
       " ('select -1 from E',\n",
       "  InformationFlow.SQLException(\"Table ('E') was not found\")),\n",
       " ('update N9 set i2=qo where ((36))==O(1,J03(U==p==w+:-:/fl(i)>y(t)))',\n",
       "  InformationFlow.SQLException(\"Table ('N9') was not found\")),\n",
       " ('update p5 set Wv6=Q where m*W/K/c>N-x+A',\n",
       "  InformationFlow.SQLException(\"Table ('p5') was not found\")),\n",
       " (\"insert into lPc77B (N11K,B0) values ('^')\",\n",
       "  InformationFlow.SQLException(\"Table ('lPc77B') was not found\")),\n",
       " ('select R>j+B+X/p,L!=k!=Y!=:*v*E from d992',\n",
       "  InformationFlow.SQLException(\"Table ('d992') was not found\")),\n",
       " ('delete from B where h-b+A<E*M==a*n<E(S)',\n",
       "  InformationFlow.SQLException(\"Table ('B') was not found\")),\n",
       " ('update fB7 set L=I,O=T5 where Q!=(A==_)',\n",
       "  InformationFlow.SQLException(\"Table ('fB7') was not found\")),\n",
       " ('select (k) from X9Eq where (E)!=(2.43)!=C/_+.*n(m,z)',\n",
       "  InformationFlow.SQLException(\"Table ('X9Eq') was not found\")),\n",
       " ('insert into XX (eQ,yGKNyi,_) values (9.7)',\n",
       "  InformationFlow.SQLException(\"Table ('XX') was not found\")),\n",
       " (\"insert into SO (ZY,r) values ('0s',1.46)\",\n",
       "  InformationFlow.SQLException(\"Table ('SO') was not found\")),\n",
       " ('insert into u6p6I (E188,z,F0Cpi54o) values (-6)',\n",
       "  InformationFlow.SQLException(\"Table ('u6p6I') was not found\")),\n",
       " ('delete from j71 where V==s-F/v*J==(V)!=(Z+o==(f(.,z)))',\n",
       "  InformationFlow.SQLException(\"Table ('j71') was not found\")),\n",
       " ('select e,n from w where o-s+Z-Y(Z)>d*j/m',\n",
       "  InformationFlow.SQLException(\"Table ('w') was not found\")),\n",
       " ('delete from j where K6wF((u),u,h)!=q/t(L)',\n",
       "  InformationFlow.SQLException(\"Table ('j') was not found\")),\n",
       " ('update IA6 set Z4=tR,k8C=n where ((h(_)*i-O))==EV',\n",
       "  InformationFlow.SQLException(\"Table ('IA6') was not found\")),\n",
       " ('select (z) from zRnP2E',\n",
       "  InformationFlow.SQLException(\"Table ('zRnP2E') was not found\")),\n",
       " ('select :/E(p)<W(j,x),V,A,x from n',\n",
       "  InformationFlow.SQLException(\"Table ('n') was not found\")),\n",
       " ('select (N) from C8L where (-73)!=b-e-L-((J))*k!=(f3kzz((W(e))))',\n",
       "  InformationFlow.SQLException(\"Table ('C8L') was not found\")),\n",
       " ('delete from H where h==H*d*e-b+y==K>A!=4.4',\n",
       "  InformationFlow.SQLException(\"Table ('H') was not found\")),\n",
       " ('select i,K from O0w where k<N/k/Y',\n",
       "  InformationFlow.SQLException(\"Table ('O0w') was not found\")),\n",
       " (\"insert into K11 (Ht,D,p,n) values ('x','H','u')\",\n",
       "  InformationFlow.SQLException(\"Table ('K11') was not found\")),\n",
       " (\"insert into l (eRP2jK) values ('1d')\",\n",
       "  InformationFlow.SQLException(\"Table ('l') was not found\")),\n",
       " ('insert into X (od) values (5.4)',\n",
       "  InformationFlow.SQLException(\"Table ('X') was not found\")),\n",
       " ('update k set J=j,d=p,b=l where 5!=k==h!=m',\n",
       "  InformationFlow.SQLException(\"Table ('k') was not found\")),\n",
       " ('select (((--3))) from e71885666',\n",
       "  InformationFlow.SQLException(\"Table ('e71885666') was not found\")),\n",
       " ('select 6.5 from J',\n",
       "  InformationFlow.SQLException(\"Table ('J') was not found\")),\n",
       " ('insert into f6U (_O) values (7.136)',\n",
       "  InformationFlow.SQLException(\"Table ('f6U') was not found\")),\n",
       " (\"insert into i.1lS9 (L8) values ('D','Y?d')\",\n",
       "  InformationFlow.SQLException(\"Table ('i.1lS9') was not found\")),\n",
       " ('update b61q set M_QS=e7 where U/R>Y*_/l7',\n",
       "  InformationFlow.SQLException(\"Table ('b61q') was not found\")),\n",
       " ('delete from Q0 where V*S+w+M+h<o-w(h)/s==:',\n",
       "  InformationFlow.SQLException(\"Table ('Q0') was not found\")),\n",
       " ('select (0.5) from Z',\n",
       "  InformationFlow.SQLException(\"Table ('Z') was not found\")),\n",
       " ('select u*N-k from X5 where c*H+P*_==L',\n",
       "  InformationFlow.SQLException(\"Table ('X5') was not found\")),\n",
       " ('select i0 from i where X+L+x(m)>t+F*d+l',\n",
       "  InformationFlow.SQLException(\"Table ('i') was not found\")),\n",
       " ('delete from I7 where (((D(q)*E(J,K)+_)))<T+l-d(O+B)',\n",
       "  InformationFlow.SQLException(\"Table ('I7') was not found\")),\n",
       " ('select g<w from u86qO where :(T)>Z*O',\n",
       "  InformationFlow.SQLException(\"Table ('u86qO') was not found\")),\n",
       " ('update W2zF set n=T,o=L where C-X+v!=7',\n",
       "  InformationFlow.SQLException(\"Table ('W2zF') was not found\")),\n",
       " ('select -4 from lq2 where f2(17.8)>p(1,(i!=S>e!=8.981),(v-D(g)))',\n",
       "  InformationFlow.SQLException(\"Table ('lq2') was not found\")),\n",
       " ('delete from V where m+J/a/X<v5(i,:,U,X)',\n",
       "  InformationFlow.SQLException(\"Table ('V') was not found\")),\n",
       " ('select (z-k/i*E-b/h<k(H)) from DA280X6',\n",
       "  InformationFlow.SQLException(\"Table ('DA280X6') was not found\")),\n",
       " ('delete from S where (D-I-W10D(l,x))!=g!=o',\n",
       "  InformationFlow.SQLException(\"Table ('S') was not found\")),\n",
       " (\"insert into tS (RO) values ('d')\",\n",
       "  InformationFlow.SQLException(\"Table ('tS') was not found\")),\n",
       " ('delete from k where r-./.*y*X/X(j)<p(Q)-D',\n",
       "  InformationFlow.SQLException(\"Table ('k') was not found\")),\n",
       " ('select J/y*F+X*C,U(_),(M),:,Q from TnN',\n",
       "  InformationFlow.SQLException(\"Table ('TnN') was not found\")),\n",
       " ('update W1 set m=r,j=_ where R(L)>K*S/i',\n",
       "  InformationFlow.SQLException(\"Table ('W1') was not found\")),\n",
       " ('delete from v8T6 where :+Z+U+N+o-U==30.44',\n",
       "  InformationFlow.SQLException(\"Table ('v8T6') was not found\")),\n",
       " ('update R set h1C=U where k/a/V>l+s/p',\n",
       "  InformationFlow.SQLException(\"Table ('R') was not found\")),\n",
       " ('update MQ set i=U where Z+L+T/A/h<Q0w(G,w)',\n",
       "  InformationFlow.SQLException(\"Table ('MQ') was not found\")),\n",
       " (\"insert into J (Z0,ST:9WUQ) values ('=',755)\",\n",
       "  InformationFlow.SQLException(\"Table ('J') was not found\")),\n",
       " ('select 3!=Q2(x)+(Q),-9,((L!=P)!=z*i/t) from h8ApN',\n",
       "  InformationFlow.SQLException(\"Table ('h8ApN') was not found\")),\n",
       " ('delete from J where -54!=p-H(t)-m+s/Y*x*m+n+u',\n",
       "  InformationFlow.SQLException(\"Table ('J') was not found\")),\n",
       " ('delete from bb2lm8x where (R420!=((j(W7584))))!=(kf)',\n",
       "  InformationFlow.SQLException(\"Table ('bb2lm8x') was not found\")),\n",
       " ('update n set I=Z,K=A where P-T*n>T/W-n',\n",
       "  InformationFlow.SQLException(\"Table ('n') was not found\")),\n",
       " ('select m(S) from iF0J0 where F-S/p+D+g==((1))',\n",
       "  InformationFlow.SQLException(\"Table ('iF0J0') was not found\")),\n",
       " ('update Q set c=m:,R=h where (H!=A==(h))!=p==w',\n",
       "  InformationFlow.SQLException(\"Table ('Q') was not found\")),\n",
       " (\"insert into h9 (fL2,.,q,C) values (7,'~i4')\",\n",
       "  InformationFlow.SQLException(\"Table ('h9') was not found\")),\n",
       " ('select O==i,w,a,V from Bn9 where O<g',\n",
       "  InformationFlow.SQLException(\"Table ('Bn9') was not found\")),\n",
       " ('update wU4 set j4=Q where Ft41Q32==ON(I!=c)*-6!=c9!=(g!=P)',\n",
       "  InformationFlow.SQLException(\"Table ('wU4') was not found\")),\n",
       " ('update .e set iI=g_90 where 7.6==s<A-T==q((S+p-C<l))',\n",
       "  InformationFlow.SQLException(\"Table ('.e') was not found\")),\n",
       " ('update zZwZ set i0=fJ where q(q)<z*w',\n",
       "  InformationFlow.SQLException(\"Table ('zZwZ') was not found\")),\n",
       " ('select (p70),((Y/i+q/X-S+U(i))!=0.687),p from Gyf6t',\n",
       "  InformationFlow.SQLException(\"Table ('Gyf6t') was not found\")),\n",
       " ('select GBK(.,U) from v0 where v-U<v/P',\n",
       "  InformationFlow.SQLException(\"Table ('v0') was not found\")),\n",
       " ('select (9181.22),90.05,4,O,D from Y0S',\n",
       "  InformationFlow.SQLException(\"Table ('Y0S') was not found\")),\n",
       " (\"insert into g (b) values ('l$H1')\",\n",
       "  InformationFlow.SQLException(\"Table ('g') was not found\")),\n",
       " ('delete from cX where 65!=-0.1',\n",
       "  InformationFlow.SQLException(\"Table ('cX') was not found\")),\n",
       " ('select (j(d-F-q+P<B*E/E/G*W)) from Vh90',\n",
       "  InformationFlow.SQLException(\"Table ('Vh90') was not found\")),\n",
       " ('update u set _s=Q where :-.>B*U+:-S',\n",
       "  InformationFlow.SQLException(\"Table ('u') was not found\")),\n",
       " ('update q5 set F=m,L=r where L*S>P*G',\n",
       "  InformationFlow.SQLException(\"Table ('q5') was not found\")),\n",
       " ('update Cs84 set d=g where P*u/D/u-y+y-x+v>o!=n<S',\n",
       "  InformationFlow.SQLException(\"Table ('Cs84') was not found\")),\n",
       " ('select (-43)==U!=(D) from c where u/c*c*I*u>F',\n",
       "  InformationFlow.SQLException(\"Table ('c') was not found\")),\n",
       " ('update c: set s=.,b=R where i+J<_+Y(C)',\n",
       "  InformationFlow.SQLException(\"Table ('c:') was not found\")),\n",
       " ('delete from x2E20s8 where T-K-S<S(7.7)',\n",
       "  InformationFlow.SQLException(\"Table ('x2E20s8') was not found\")),\n",
       " ('delete from mu5fF9 where b>w-w==woV',\n",
       "  InformationFlow.SQLException(\"Table ('mu5fF9') was not found\")),\n",
       " (\"insert into Q6S6L (HH_,Q5,N,n6,JEl5B6,Pgd376e) values ('G')\",\n",
       "  InformationFlow.SQLException(\"Table ('Q6S6L') was not found\")),\n",
       " ('update t set a=E,K=C,v=. where (v>B)==f',\n",
       "  InformationFlow.SQLException(\"Table ('t') was not found\")),\n",
       " ('update o58 set O=q where C>c==w-q',\n",
       "  InformationFlow.SQLException(\"Table ('o58') was not found\")),\n",
       " ('insert into B (Zf1W0) values (--151.40)',\n",
       "  InformationFlow.SQLException(\"Table ('B') was not found\")),\n",
       " ('update ad5 set :=B,K=F where pD(_)>R/N',\n",
       "  InformationFlow.SQLException(\"Table ('ad5') was not found\")),\n",
       " ('select 6 from a767 where oJ(O)*C/s*a<a*o-E/H==-2',\n",
       "  InformationFlow.SQLException(\"Table ('a767') was not found\")),\n",
       " ('delete from PZ where 18!=wu(o473,u+G-k*x*B*D/N*O+w/(((s==.))))',\n",
       "  InformationFlow.SQLException(\"Table ('PZ') was not found\")),\n",
       " (\"insert into PA7Q (P,UH,:84) values ('k')\",\n",
       "  InformationFlow.SQLException(\"Table ('PA7Q') was not found\")),\n",
       " ('select ((L(T,b)*e*i+D*a/B)),(O)!=((o)) from o4',\n",
       "  InformationFlow.SQLException(\"Table ('o4') was not found\")),\n",
       " ('select ---52 from WX where a(i)*v<c>HX(6.64,e,_)',\n",
       "  InformationFlow.SQLException(\"Table ('WX') was not found\")),\n",
       " ('delete from e where ---8==((D-S+G-E<V*B-./x-S))',\n",
       "  InformationFlow.SQLException(\"Table ('e') was not found\")),\n",
       " ('select v.,R*T from rr0.4 where (f!=f)==r(J)',\n",
       "  InformationFlow.SQLException(\"Table ('rr0.4') was not found\")),\n",
       " (\"insert into Dm0F8V (vsx) values ('Zz',-27)\",\n",
       "  InformationFlow.SQLException(\"Table ('Dm0F8V') was not found\")),\n",
       " ('update U set K6=q,A=U where q*n>e(u)',\n",
       "  InformationFlow.SQLException(\"Table ('U') was not found\")),\n",
       " ('select i/X/j/p,W+I/e+k-Q-V from b',\n",
       "  InformationFlow.SQLException(\"Table ('b') was not found\")),\n",
       " ('delete from OTl where (W*v+H*U-Y<f*G*Z/K+o)!=-4',\n",
       "  InformationFlow.SQLException(\"Table ('OTl') was not found\")),\n",
       " ('delete from Bi688u8 where p*C/H(H)<H+G*L',\n",
       "  InformationFlow.SQLException(\"Table ('Bi688u8') was not found\")),\n",
       " ('delete from QQ where r==d+X7(v>Q)>tf3((M!=Y))',\n",
       "  InformationFlow.SQLException(\"Table ('QQ') was not found\")),\n",
       " ('delete from j where 6!=sy3638',\n",
       "  InformationFlow.SQLException(\"Table ('j') was not found\")),\n",
       " ('insert into My:1 (Z,Va253Pr) values (-499)',\n",
       "  InformationFlow.SQLException(\"Table ('My:1') was not found\")),\n",
       " ('select Z-E/Q from a0 where n/Q>q+J-C',\n",
       "  InformationFlow.SQLException(\"Table ('a0') was not found\")),\n",
       " ('delete from xr where m*v<a4(b,V)==n403',\n",
       "  InformationFlow.SQLException(\"Table ('xr') was not found\")),\n",
       " ('update r set u=I9h,j=E where g>h==m',\n",
       "  InformationFlow.SQLException(\"Table ('r') was not found\")),\n",
       " ('update fvt4 set F=l,_=w,y=h where l-s<5',\n",
       "  InformationFlow.SQLException(\"Table ('fvt4') was not found\")),\n",
       " (\"insert into F (b5) values ('@J')\",\n",
       "  InformationFlow.SQLException(\"Table ('F') was not found\")),\n",
       " ('select V*f-S*l+O from z8 where Z+d!=r+F-u',\n",
       "  InformationFlow.SQLException(\"Table ('z8') was not found\")),\n",
       " (\"insert into R (g) values (3,'|.')\",\n",
       "  InformationFlow.SQLException(\"Table ('R') was not found\")),\n",
       " ('insert into M_i (f3n52sy,hg3,x,A5IM) values (28.0)',\n",
       "  InformationFlow.SQLException(\"Table ('M_i') was not found\")),\n",
       " ('delete from B where c+r(U)-.-K/s>Y(E/X,p,Y)',\n",
       "  InformationFlow.SQLException(\"Table ('B') was not found\")),\n",
       " (\"insert into o (JE435) values ('3','4%','a|','4',4,'1R')\",\n",
       "  InformationFlow.SQLException(\"Table ('o') was not found\")),\n",
       " (\"insert into ru (z) values ('Yn','o',-72,7.4507)\",\n",
       "  InformationFlow.SQLException(\"Table ('ru') was not found\")),\n",
       " ('update fK set f5=h where (K-t>W6(I))==m+m/Y+z-F',\n",
       "  InformationFlow.SQLException(\"Table ('fK') was not found\")),\n",
       " ('select z<u-b==s>p from ZaF2r',\n",
       "  InformationFlow.SQLException(\"Table ('ZaF2r') was not found\")),\n",
       " ('delete from J where (n7z)>u(E)/v/N-P+D+C-:',\n",
       "  InformationFlow.SQLException(\"Table ('J') was not found\")),\n",
       " ('select ((o)),B(p,C)/W/v+i*M-G<B!=(q) from qBP',\n",
       "  InformationFlow.SQLException(\"Table ('qBP') was not found\")),\n",
       " ('delete from Cn1l where Z==w<g*A*Y==W<m',\n",
       "  InformationFlow.SQLException(\"Table ('Cn1l') was not found\")),\n",
       " ('select (((2.8)))==j from x0 where (c)!=CHU(s==T)*(v2p)>S/K/U-W',\n",
       "  InformationFlow.SQLException(\"Table ('x0') was not found\")),\n",
       " ('update s set Z=w,j=.,N=X,V=A,W=z where P>W',\n",
       "  InformationFlow.SQLException(\"Table ('s') was not found\")),\n",
       " ('update Y set P=W,b=.,r=o where uN(r)*h<H((m))',\n",
       "  InformationFlow.SQLException(\"Table ('Y') was not found\")),\n",
       " (\"insert into J (hH) values ('9')\",\n",
       "  InformationFlow.SQLException(\"Table ('J') was not found\")),\n",
       " (\"insert into LV7d (K) values ('q')\",\n",
       "  InformationFlow.SQLException(\"Table ('LV7d') was not found\")),\n",
       " ('update rEe3b set R=U1 where s>E*Y==mw(s)',\n",
       "  InformationFlow.SQLException(\"Table ('rEe3b') was not found\")),\n",
       " (\"insert into O (z,Xz,_,f) values ('N','7')\",\n",
       "  InformationFlow.SQLException(\"Table ('O') was not found\")),\n",
       " ('insert into n (S32,X) values (7.4,-06.966)',\n",
       "  InformationFlow.SQLException(\"Table ('n') was not found\")),\n",
       " ('insert into H60F (I42,m) values (--128)',\n",
       "  InformationFlow.SQLException(\"Table ('H60F') was not found\")),\n",
       " ('delete from _6 where ((r))==ob(p)==c==e==s==K>.==u',\n",
       "  InformationFlow.SQLException(\"Table ('_6') was not found\")),\n",
       " (\"insert into l879048e (tR) values (2.02,'70%}',0,'(',742,'.',3.551,'%')\",\n",
       "  InformationFlow.SQLException(\"Table ('l879048e') was not found\")),\n",
       " ('select 23324 from R',\n",
       "  InformationFlow.SQLException(\"Table ('R') was not found\")),\n",
       " ('select ((---21)),((5)==_(W)-s+W/x*I+i>U+r/c),8,e3 from d',\n",
       "  InformationFlow.SQLException(\"Table ('d') was not found\")),\n",
       " ('select (3.6) from JC where A+O/W>a+F',\n",
       "  InformationFlow.SQLException(\"Table ('JC') was not found\")),\n",
       " ('select (x+S-_l(e)==Ke),(r)>r/Y+e from Q',\n",
       "  InformationFlow.SQLException(\"Table ('Q') was not found\")),\n",
       " ('delete from R where S3(929829)>((yA(t==i)-x(W)>4.8*i+w*o))',\n",
       "  InformationFlow.SQLException(\"Table ('R') was not found\")),\n",
       " ('update g42x7R set m7=pP where (8==t*t*_+f-X*X(R*x/E,g,:))!=c7',\n",
       "  InformationFlow.SQLException(\"Table ('g42x7R') was not found\")),\n",
       " ('update g set Gy=I where P(W,k)+u<F-k',\n",
       "  InformationFlow.SQLException(\"Table ('g') was not found\")),\n",
       " ('select w==X/N,p from vy where Y/k!=m+P+m-V',\n",
       "  InformationFlow.SQLException(\"Table ('vy') was not found\")),\n",
       " ('insert into J (U1,N) values (614.71)',\n",
       "  InformationFlow.SQLException(\"Table ('J') was not found\")),\n",
       " ('select ---2 from W',\n",
       "  InformationFlow.SQLException(\"Table ('W') was not found\")),\n",
       " ('delete from Ug8 where A-e<O+a==B-z(K,y,e)',\n",
       "  InformationFlow.SQLException(\"Table ('Ug8') was not found\")),\n",
       " ('update I2b045 set n50=Xe where l==P',\n",
       "  InformationFlow.SQLException(\"Table ('I2b045') was not found\")),\n",
       " ('delete from v where M((F9))==4.68',\n",
       "  InformationFlow.SQLException(\"Table ('v') was not found\")),\n",
       " ('select m,a,B from b where s*K+H-m>I*U+Z',\n",
       "  InformationFlow.SQLException(\"Table ('b') was not found\")),\n",
       " ('update L set akS7Y=IN where eN4==(((M<L*B)!=Qy(_)*x*J+D))',\n",
       "  InformationFlow.SQLException(\"Table ('L') was not found\")),\n",
       " ('update l set J=b where T==e==P*A*n>v-_+F',\n",
       "  InformationFlow.SQLException(\"Table ('l') was not found\")),\n",
       " ('select (_-f/G),(X),k,S from Ig where W1!=J!=(X==a)',\n",
       "  InformationFlow.SQLException(\"Table ('Ig') was not found\")),\n",
       " ('delete from iE where I1qH71>(W<D-M)-n/W*T-lT(((i-s))!=z)',\n",
       "  InformationFlow.SQLException(\"Table ('iE') was not found\")),\n",
       " ('select Z6(Q),c+D*G-Z*p*C+h*I from yP1',\n",
       "  InformationFlow.SQLException(\"Table ('yP1') was not found\")),\n",
       " ('update wt2 set it408pc=Z where F-E>I!=X(M,i)==4',\n",
       "  InformationFlow.SQLException(\"Table ('wt2') was not found\")),\n",
       " ('update ec9 set u=u where ((T+U*_))==J((x))+v/H+N*p-Q*(92)',\n",
       "  InformationFlow.SQLException(\"Table ('ec9') was not found\")),\n",
       " ('select (N),H,x from eCs5 where u-o==:!=C',\n",
       "  InformationFlow.SQLException(\"Table ('eCs5') was not found\")),\n",
       " ('delete from K where 6==(d/l+J*F(B)-U==KtY4((j)))',\n",
       "  InformationFlow.SQLException(\"Table ('K') was not found\")),\n",
       " ('insert into v6 (U78GHW96) values (33.15,3)',\n",
       "  InformationFlow.SQLException(\"Table ('v6') was not found\")),\n",
       " ('select ((f)),u<g-D from M where U>w/G/_',\n",
       "  InformationFlow.SQLException(\"Table ('M') was not found\")),\n",
       " ('delete from fimo where zN==((P+s/X-I/h-n-I-o-m-r))',\n",
       "  InformationFlow.SQLException(\"Table ('fimo') was not found\")),\n",
       " (\"insert into r5 (i,P,x) values ('f')\",\n",
       "  InformationFlow.SQLException(\"Table ('r5') was not found\")),\n",
       " ('delete from h where i+H(t!=T,Z)+R+Z(Z,Y)+j/A<1',\n",
       "  InformationFlow.SQLException(\"Table ('h') was not found\")),\n",
       " (\"insert into f (U,Uhs) values ('X/')\",\n",
       "  InformationFlow.SQLException(\"Table ('f') was not found\")),\n",
       " (\"insert into n6FXwP340 (X52,:) values ('sp,h',4.3,--77)\",\n",
       "  InformationFlow.SQLException(\"Table ('n6FXwP340') was not found\")),\n",
       " ('update aQ set _=y,l=i,j=y where t>T(B)',\n",
       "  InformationFlow.SQLException(\"Table ('aQ') was not found\")),\n",
       " ('update S27 set X=s,B=Y,q=M where r<d',\n",
       "  InformationFlow.SQLException(\"Table ('S27') was not found\")),\n",
       " (\"insert into C (HX:,:,S,E,W) values (8,-0,1,'h')\",\n",
       "  InformationFlow.SQLException(\"Table ('C') was not found\")),\n",
       " ('delete from za45 where n+Z+W*P<d/v==((((m*V*b-b))))',\n",
       "  InformationFlow.SQLException(\"Table ('za45') was not found\")),\n",
       " ('select C,-4 from m',\n",
       "  InformationFlow.SQLException(\"Table ('m') was not found\")),\n",
       " ('update V set L=F,E=l,t=e,q=C where 8.3==I+K',\n",
       "  InformationFlow.SQLException(\"Table ('V') was not found\")),\n",
       " (\"insert into aF (Y,V,E,I) values (-51.09,'$T',5.0,546)\",\n",
       "  InformationFlow.SQLException(\"Table ('aF') was not found\")),\n",
       " ('select n,(d!=p),L from B0 where T*_<j+K',\n",
       "  InformationFlow.SQLException(\"Table ('B0') was not found\")),\n",
       " ('delete from _Y where G(A)-Y(n,C)<U>k==a<y',\n",
       "  InformationFlow.SQLException(\"Table ('_Y') was not found\")),\n",
       " ('select (c),U from q7 where :<V(p)-m+N(n)',\n",
       "  InformationFlow.SQLException(\"Table ('q7') was not found\")),\n",
       " ('select U5n(P),((6)) from K5 where (0.44)!=34',\n",
       "  InformationFlow.SQLException(\"Table ('K5') was not found\")),\n",
       " ('update a1 set r=t,u=Q,Z=e where r<C(N)',\n",
       "  InformationFlow.SQLException(\"Table ('a1') was not found\")),\n",
       " ('delete from q2L where P4X(e0((_!=r)))<J8P8(z,V,Q)',\n",
       "  InformationFlow.SQLException(\"Table ('q2L') was not found\")),\n",
       " ('delete from m5b7Ek5B where S-j+b*A<d-e/V==-7',\n",
       "  InformationFlow.SQLException(\"Table ('m5b7Ek5B') was not found\")),\n",
       " ('select -3.85 from AC',\n",
       "  InformationFlow.SQLException(\"Table ('AC') was not found\")),\n",
       " ('select 9 from r where 788.2==(U*y*i!=(95))==ne(V)!=(9.6)',\n",
       "  InformationFlow.SQLException(\"Table ('r') was not found\")),\n",
       " ('update mD7W set Ml=V3 where 9.0+Ug(_)<m36((O))-U==w',\n",
       "  InformationFlow.SQLException(\"Table ('mD7W') was not found\")),\n",
       " ('update pC5 set v=s,C=z where i>V*l',\n",
       "  InformationFlow.SQLException(\"Table ('pC5') was not found\")),\n",
       " ('insert into i (ZY) values (9080.5,3.582)',\n",
       "  InformationFlow.SQLException(\"Table ('i') was not found\")),\n",
       " ('select 1865.2 from pM',\n",
       "  InformationFlow.SQLException(\"Table ('pM') was not found\")),\n",
       " ('delete from Pm0 where F-./w(P)+l+.==k-C<A-C',\n",
       "  InformationFlow.SQLException(\"Table ('Pm0') was not found\")),\n",
       " ('select (x15((--34.7),((86.80))<D-a-k)) from t833a25v',\n",
       "  InformationFlow.SQLException(\"Table ('t833a25v') was not found\")),\n",
       " ('update Q set N9=u where (U<y)!=(h*M<L+X)',\n",
       "  InformationFlow.SQLException(\"Table ('Q') was not found\")),\n",
       " ('select k*:<d/s from a8 where W>h==((j))==6',\n",
       "  InformationFlow.SQLException(\"Table ('a8') was not found\")),\n",
       " ('update U9356 set n=Y748 where (b/v-c*F)!=(M*D/H<U)',\n",
       "  InformationFlow.SQLException(\"Table ('U9356') was not found\")),\n",
       " ('delete from d where o+F*o+R/X/j<x/s*V(b)',\n",
       "  InformationFlow.SQLException(\"Table ('d') was not found\")),\n",
       " ('update A set i=: where k+D/o>J/M!=((M)!=8*X+B-l)',\n",
       "  InformationFlow.SQLException(\"Table ('A') was not found\")),\n",
       " ('select e>h*b,s from q1 where F(L)==b',\n",
       "  InformationFlow.SQLException(\"Table ('q1') was not found\")),\n",
       " ('delete from Vr where :H31c==A4FF6NIIFu',\n",
       "  InformationFlow.SQLException(\"Table ('Vr') was not found\")),\n",
       " ('delete from J3D4pb where .U97BmD(W>U(R)*E(D)-M,(H>k*P))==Pd4',\n",
       "  InformationFlow.SQLException(\"Table ('J3D4pb') was not found\")),\n",
       " ('select T*f*D(_)*x-F from oC where E*Q>C/o',\n",
       "  InformationFlow.SQLException(\"Table ('oC') was not found\")),\n",
       " ('delete from c2e where (c>w+u(g,_))!=L-Z-S+L(X)',\n",
       "  InformationFlow.SQLException(\"Table ('c2e') was not found\")),\n",
       " ('select (e/R>H),(i)/H+_ from l where (z==x)!=--782',\n",
       "  InformationFlow.SQLException(\"Table ('l') was not found\")),\n",
       " ('select Z,:,x,e from W0q2 where r<j',\n",
       "  InformationFlow.SQLException(\"Table ('W0q2') was not found\")),\n",
       " ('insert into w (lfD1vq,WQ8) values (-1.856,-6,632)',\n",
       "  InformationFlow.SQLException(\"Table ('w') was not found\")),\n",
       " ('delete from Q7E2Q where C-G>k<H-e-u+:',\n",
       "  InformationFlow.SQLException(\"Table ('Q7E2Q') was not found\")),\n",
       " ('delete from p922538 where 0-G*O*Kb(t)+Z(s)==6.5',\n",
       "  InformationFlow.SQLException(\"Table ('p922538') was not found\")),\n",
       " ('select (-3.7498) from SY',\n",
       "  InformationFlow.SQLException(\"Table ('SY') was not found\")),\n",
       " ('update I set H=G where P*l*_-y>m-q-G',\n",
       "  InformationFlow.SQLException(\"Table ('I') was not found\")),\n",
       " ('update r8 set c0W=N1 where c!=:!=c!=x>m',\n",
       "  InformationFlow.SQLException(\"Table ('r8') was not found\")),\n",
       " ('select l/q+y(:,v)+u-d-j(y,s) from G',\n",
       "  InformationFlow.SQLException(\"Table ('G') was not found\")),\n",
       " (\"insert into y (Ujs412WA) values ('*','~j',7.851)\",\n",
       "  InformationFlow.SQLException(\"Table ('y') was not found\")),\n",
       " ('delete from qi where (0.5)+u+j/i(j)>hv8w1(i/E)',\n",
       "  InformationFlow.SQLException(\"Table ('qi') was not found\")),\n",
       " ('select (Q-J/E) from oi5 where (T<n)==A/t',\n",
       "  InformationFlow.SQLException(\"Table ('oi5') was not found\")),\n",
       " (\"insert into a (g4,nE,H) values ('x','.Ng',5)\",\n",
       "  InformationFlow.SQLException(\"Table ('a') was not found\")),\n",
       " ('select (LEJ75),-8!=Z,((O)) from Z',\n",
       "  InformationFlow.SQLException(\"Table ('Z') was not found\")),\n",
       " ('insert into iK697w0 (_) values (-3,--6924)',\n",
       "  InformationFlow.SQLException(\"Table ('iK697w0') was not found\")),\n",
       " ('select J*l/S!=V((U)) from T1c where g>l',\n",
       "  InformationFlow.SQLException(\"Table ('T1c') was not found\")),\n",
       " (\"insert into b (B98) values ('=','wE',---1)\",\n",
       "  InformationFlow.SQLException(\"Table ('b') was not found\")),\n",
       " ('select R/x(K)-I from LN9 where U<h/Y',\n",
       "  InformationFlow.SQLException(\"Table ('LN9') was not found\")),\n",
       " (\"insert into Av7 (V,hs,A8) values (3,'1','X')\",\n",
       "  InformationFlow.SQLException(\"Table ('Av7') was not found\")),\n",
       " ('select 07 from hIoPi where (V<x/f)!=(z-b)',\n",
       "  InformationFlow.SQLException(\"Table ('hIoPi') was not found\")),\n",
       " ('delete from p1GGIS where ((f/h+f/V*f+n))==fTn==H',\n",
       "  InformationFlow.SQLException(\"Table ('p1GGIS') was not found\")),\n",
       " ('select _N97 from s10',\n",
       "  InformationFlow.SQLException(\"Table ('s10') was not found\")),\n",
       " ('update WHp set T=v4Q where 4.2==A*s(K)!=u*K+i(T)+E/M+J',\n",
       "  InformationFlow.SQLException(\"Table ('WHp') was not found\")),\n",
       " ('update m0 set g=c3 where I!=((E)/M(K)/V>W+q-z(s,t))',\n",
       "  InformationFlow.SQLException(\"Table ('m0') was not found\")),\n",
       " ('select 30523.45976271 from HeW8',\n",
       "  InformationFlow.SQLException(\"Table ('HeW8') was not found\")),\n",
       " ('delete from Osj where S/O<P!=n!=G-h*T-.-n*H',\n",
       "  InformationFlow.SQLException(\"Table ('Osj') was not found\")),\n",
       " (\"insert into l (Sc73O89) values (9,'=',8.2)\",\n",
       "  InformationFlow.SQLException(\"Table ('l') was not found\")),\n",
       " ('delete from JOSQ where W*s/O>m(l)-j+n==-2',\n",
       "  InformationFlow.SQLException(\"Table ('JOSQ') was not found\")),\n",
       " ('update n set C0f=V where (x)!=(PT9)==O:',\n",
       "  InformationFlow.SQLException(\"Table ('n') was not found\")),\n",
       " ('update eL set W=_98,F=p where y(_,O)>CV(U,h,F)!=(((ax)))',\n",
       "  InformationFlow.SQLException(\"Table ('eL') was not found\")),\n",
       " ('select l>U*v*J,g(n)<u,P from Ik',\n",
       "  InformationFlow.SQLException(\"Table ('Ik') was not found\")),\n",
       " (\"insert into H (h) values ('_','nj9','X.',0.9899)\",\n",
       "  InformationFlow.SQLException(\"Table ('H') was not found\")),\n",
       " (\"insert into q (i,j535,w019b,g,._XVP) values (-4.5,'K')\",\n",
       "  InformationFlow.SQLException(\"Table ('q') was not found\")),\n",
       " ('delete from C_ where 8==d/z(k)+_*C+l+O+E(w)',\n",
       "  InformationFlow.SQLException(\"Table ('C_') was not found\")),\n",
       " ('update PeK set p=x,Y=D,E=d where ((L<w))==h',\n",
       "  InformationFlow.SQLException(\"Table ('PeK') was not found\")),\n",
       " ('select A*n*F,n,_ from K where s==A<N==y!=A',\n",
       "  InformationFlow.SQLException(\"Table ('K') was not found\")),\n",
       " (\"insert into lx (.s,M) values ('~gU')\",\n",
       "  InformationFlow.SQLException(\"Table ('lx') was not found\")),\n",
       " ('select V*n-J>J+q<0-X+c/Q from E',\n",
       "  InformationFlow.SQLException(\"Table ('E') was not found\")),\n",
       " ('update hj set H=a,z=U where H(W)-B<:(n)',\n",
       "  InformationFlow.SQLException(\"Table ('hj') was not found\")),\n",
       " ('select t<s+x+B,q!=U,y from Y_30428',\n",
       "  InformationFlow.SQLException(\"Table ('Y_30428') was not found\")),\n",
       " ('select -1 from Xm where (d)*G/s>E*l-p(D)*h/K*v',\n",
       "  InformationFlow.SQLException(\"Table ('Xm') was not found\")),\n",
       " (\"insert into NES (Tr95S9m0U) values ('h_')\",\n",
       "  InformationFlow.SQLException(\"Table ('NES') was not found\")),\n",
       " ('select 1 from L',\n",
       "  InformationFlow.SQLException(\"Table ('L') was not found\")),\n",
       " ('select (1.4-M(O)),(XK) from w1 where N(N)*C*A>:(w)',\n",
       "  InformationFlow.SQLException(\"Table ('w1') was not found\")),\n",
       " ('select i/s*T-A>f from K where .+G==U!=h',\n",
       "  InformationFlow.SQLException(\"Table ('K') was not found\")),\n",
       " ('select y,T-v/.-w(W)+A,m+G,e,e from W',\n",
       "  InformationFlow.SQLException(\"Table ('W') was not found\")),\n",
       " (\"insert into J (hk3) values ('p')\",\n",
       "  InformationFlow.SQLException(\"Table ('J') was not found\")),\n",
       " ('select -124.6 from t4 where .>j!=s-L-v<O/w',\n",
       "  InformationFlow.SQLException(\"Table ('t4') was not found\")),\n",
       " ('insert into g233 (W1LqAUfH,n5) values (50.2,4)',\n",
       "  InformationFlow.SQLException(\"Table ('g233') was not found\")),\n",
       " ('update n set T=:8 where L*p*E-m<M-m/W+c+e+d',\n",
       "  InformationFlow.SQLException(\"Table ('n') was not found\")),\n",
       " ('select ((.Nkh)),w!=U from Ihw where z/Q(c)+a==u>z',\n",
       "  InformationFlow.SQLException(\"Table ('Ihw') was not found\")),\n",
       " ('select bs42(9.1) from B4:A12',\n",
       "  InformationFlow.SQLException(\"Table ('B4:A12') was not found\")),\n",
       " ('select I2(U),D,t from V6_ where X+q!=R!=d!=(z)',\n",
       "  InformationFlow.SQLException(\"Table ('V6_') was not found\")),\n",
       " ('update a set f=c,o:=A,c=v,F=H where (---5.3)!=(u!=C)!=d/f!=-6',\n",
       "  InformationFlow.SQLException(\"Table ('a') was not found\")),\n",
       " ('delete from Ty where -9==d==c!=L==q==C==H(m)<e',\n",
       "  InformationFlow.SQLException(\"Table ('Ty') was not found\")),\n",
       " ('select x983 from WT',\n",
       "  InformationFlow.SQLException(\"Table ('WT') was not found\")),\n",
       " ('select _*3<A/x+e+m from j3U where (1.2)!=b-u',\n",
       "  InformationFlow.SQLException(\"Table ('j3U') was not found\")),\n",
       " ('select s,_,T from T1UU where Z(W,q)!=e!=f',\n",
       "  InformationFlow.SQLException(\"Table ('T1UU') was not found\")),\n",
       " ('insert into q (S) values (-6)',\n",
       "  InformationFlow.SQLException(\"Table ('q') was not found\")),\n",
       " ('delete from zg where ---9<k((-07.9!=E/p+H-G+J+r),V((H)))-05',\n",
       "  InformationFlow.SQLException(\"Table ('zg') was not found\")),\n",
       " ('select c-u*s,(O<x) from A where rd4==(.)',\n",
       "  InformationFlow.SQLException(\"Table ('A') was not found\")),\n",
       " ('select .(W)+.>s*k(D,i)*O from R where (.)!=p',\n",
       "  InformationFlow.SQLException(\"Table ('R') was not found\")),\n",
       " (\"insert into J (g,c6) values (0,73.32,'SJ','v5')\",\n",
       "  InformationFlow.SQLException(\"Table ('J') was not found\")),\n",
       " ('update vj4K9 set KR8o=d9 where f(w)>h-U',\n",
       "  InformationFlow.SQLException(\"Table ('vj4K9') was not found\")),\n",
       " ('delete from q81 where (B*a/w*H-r*n+S*e)==.277:',\n",
       "  InformationFlow.SQLException(\"Table ('q81') was not found\")),\n",
       " ('update g9 set T=T,l=X6 where N(1.2)!=(Q*R/w-W)',\n",
       "  InformationFlow.SQLException(\"Table ('g9') was not found\")),\n",
       " ('insert into Q (e895z2O385,Q8) values (-950)',\n",
       "  InformationFlow.SQLException(\"Table ('Q') was not found\")),\n",
       " ('update Cl set o=D,m=w,r=k where H==D(r)',\n",
       "  InformationFlow.SQLException(\"Table ('Cl') was not found\")),\n",
       " ('update RP set f7c=k057 where m(s)>S9(n)',\n",
       "  InformationFlow.SQLException(\"Table ('RP') was not found\")),\n",
       " ('update MT set N=..m where .e(y!=(D))*(A1)>(i-j*q*x*j/L*N)',\n",
       "  InformationFlow.SQLException(\"Table ('MT') was not found\")),\n",
       " ('update K01 set O=U,L=S where G>G(k)',\n",
       "  InformationFlow.SQLException(\"Table ('K01') was not found\")),\n",
       " ('select D3 from H where 550.76==l*R*G*I>o+:+m+:*D(d)',\n",
       "  InformationFlow.SQLException(\"Table ('H') was not found\")),\n",
       " ('select f==k==p,C(e),E from d where D/k*g==(k-i)',\n",
       "  InformationFlow.SQLException(\"Table ('d') was not found\")),\n",
       " ('update j set P2=O,R=C,f=T where z+h==XH(P==Y)',\n",
       "  InformationFlow.SQLException(\"Table ('j') was not found\")),\n",
       " ('select wp6,v(V)/P from B44R where (F*C*:)==(M==Y)',\n",
       "  InformationFlow.SQLException(\"Table ('B44R') was not found\")),\n",
       " ('update vS set h=F,o=d,B=t where :!=(B)!=(S+_*E)',\n",
       "  InformationFlow.SQLException(\"Table ('vS') was not found\")),\n",
       " ('select (((b))),C(-0.0!=(tZRI==(G*W-k*E*T*u))),(8) from xq',\n",
       "  InformationFlow.SQLException(\"Table ('xq') was not found\")),\n",
       " ('select -9.7,GD,:*J-j/V>a*:+Q-O/T/R from L:V',\n",
       "  InformationFlow.SQLException(\"Table ('L:V') was not found\")),\n",
       " ('update q set mUsC=Mk where (u-g*G/Ch(m))==47.1!=c!=O',\n",
       "  InformationFlow.SQLException(\"Table ('q') was not found\")),\n",
       " ('update r set _9E=OIlv9 where s==(5)',\n",
       "  InformationFlow.SQLException(\"Table ('r') was not found\")),\n",
       " ('update p4 set u=T: where E(C)<R*_',\n",
       "  InformationFlow.SQLException(\"Table ('p4') was not found\")),\n",
       " ('select Y<U+B,O,r>u,I,V from f14',\n",
       "  InformationFlow.SQLException(\"Table ('f14') was not found\")),\n",
       " ('delete from j8 where J(o)*v/P-A-U-g>l(b)*j',\n",
       "  InformationFlow.SQLException(\"Table ('j8') was not found\")),\n",
       " ('delete from fx7k where F+J+.+X<(Z>q-k-f/H-w)',\n",
       "  InformationFlow.SQLException(\"Table ('fx7k') was not found\")),\n",
       " (\"insert into cngAt1b (E2) values (-06,-0104.58,'u')\",\n",
       "  InformationFlow.SQLException(\"Table ('cngAt1b') was not found\")),\n",
       " ('select E,X!=a,U from Uwc0 where N>h',\n",
       "  InformationFlow.SQLException(\"Table ('Uwc0') was not found\")),\n",
       " ('select I(u-s)*R/z-a/L-Z/k/K-v from K',\n",
       "  InformationFlow.SQLException(\"Table ('K') was not found\")),\n",
       " (\"insert into r.NF (duN7NH6G,j) values ('S')\",\n",
       "  InformationFlow.SQLException(\"Table ('r.NF') was not found\")),\n",
       " ('update f761 set V=Ho,A=c where w!=h<v',\n",
       "  InformationFlow.SQLException(\"Table ('f761') was not found\")),\n",
       " (\"insert into y (:DFk66) values ('}pcbJ ')\",\n",
       "  InformationFlow.SQLException(\"Table ('y') was not found\")),\n",
       " ('select a from QEl where q*q/:*T<c(U)',\n",
       "  InformationFlow.SQLException(\"Table ('QEl') was not found\")),\n",
       " ('select k+o from y where W*j+u*C<A-s*L+L',\n",
       "  InformationFlow.SQLException(\"Table ('y') was not found\")),\n",
       " (\"insert into U (I5,l8U) values ('UP')\",\n",
       "  InformationFlow.SQLException(\"Table ('U') was not found\")),\n",
       " ('insert into J7p (n) values (26.89)',\n",
       "  InformationFlow.SQLException(\"Table ('J7p') was not found\")),\n",
       " ('insert into o44a (G,pAkrcj) values (5.5)',\n",
       "  InformationFlow.SQLException(\"Table ('o44a') was not found\")),\n",
       " ('select z((k-A<p*h/:*C+R(S)-r*o)) from h0pn8jo',\n",
       "  InformationFlow.SQLException(\"Table ('h0pn8jo') was not found\")),\n",
       " ('delete from tt2780F7 where ((D(i))!=K!=(Q==t!=u))!=2948==h95(((W)))',\n",
       "  InformationFlow.SQLException(\"Table ('tt2780F7') was not found\")),\n",
       " (\"insert into v2bw6 (q32k5QW) values ('*s',--4)\",\n",
       "  InformationFlow.SQLException(\"Table ('v2bw6') was not found\")),\n",
       " ('update P set wX=zJ where n/y==l<W*M',\n",
       "  InformationFlow.SQLException(\"Table ('P') was not found\")),\n",
       " ('delete from h796 where N-f/K(Z,X)/fm(_)>d2(W)',\n",
       "  InformationFlow.SQLException(\"Table ('h796') was not found\")),\n",
       " ('delete from x1 where t*A+N*I<G-H*:+_/A',\n",
       "  InformationFlow.SQLException(\"Table ('x1') was not found\")),\n",
       " ('insert into l (:225,K7) values (9)',\n",
       "  InformationFlow.SQLException(\"Table ('l') was not found\")),\n",
       " ('update L set V=X,V=w,X=y where (W*T)!=L(y)',\n",
       "  InformationFlow.SQLException(\"Table ('L') was not found\")),\n",
       " ('select e,T-P-.(f)+s+OJ+J-H-n from :',\n",
       "  InformationFlow.SQLException(\"Table (':') was not found\")),\n",
       " ('select 9 from y0',\n",
       "  InformationFlow.SQLException(\"Table ('y0') was not found\")),\n",
       " (\"insert into V91 (R,j,C) values ('B','hCF','5')\",\n",
       "  InformationFlow.SQLException(\"Table ('V91') was not found\")),\n",
       " ('delete from a_ where 0.6!=-5.219',\n",
       "  InformationFlow.SQLException(\"Table ('a_') was not found\")),\n",
       " ('select (R*G*f+q-B*:),F>(i),Y,W from hr4',\n",
       "  InformationFlow.SQLException(\"Table ('hr4') was not found\")),\n",
       " ('update V5 set _=q,L=r,I=K where l!=yp16',\n",
       "  InformationFlow.SQLException(\"Table ('V5') was not found\")),\n",
       " ('insert into xz (d51P65) values (--1)',\n",
       "  InformationFlow.SQLException(\"Table ('xz') was not found\")),\n",
       " ('update A set u=U,_=U,Z=:,u=d where D<S==L',\n",
       "  InformationFlow.SQLException(\"Table ('A') was not found\")),\n",
       " ('update H set i=F where (sz.)!=d2(o.4((R)!=h,x,w),K/h,s,G)',\n",
       "  InformationFlow.SQLException(\"Table ('H') was not found\")),\n",
       " (\"insert into M (aQ) values (81,'GB Z)?')\",\n",
       "  InformationFlow.SQLException(\"Table ('M') was not found\")),\n",
       " (\"insert into m (Y) values ('U&')\",\n",
       "  InformationFlow.SQLException(\"Table ('m') was not found\")),\n",
       " ('select (O)==y>E from H where l+D*P*S<j*h',\n",
       "  InformationFlow.SQLException(\"Table ('H') was not found\")),\n",
       " ('select r6w6,14 from S41ZK',\n",
       "  InformationFlow.SQLException(\"Table ('S41ZK') was not found\")),\n",
       " ('insert into T7LK40 (zb) values (---4)',\n",
       "  InformationFlow.SQLException(\"Table ('T7LK40') was not found\")),\n",
       " ('update H set A=H,g=C where n<W-f!=x(x)',\n",
       "  InformationFlow.SQLException(\"Table ('H') was not found\")),\n",
       " ('select (L>A),V from mj7 where P<q+.',\n",
       "  InformationFlow.SQLException(\"Table ('mj7') was not found\")),\n",
       " ('select --1 from i where E18(Q)+o-o(d)-I/y+o/G!=b',\n",
       "  InformationFlow.SQLException(\"Table ('i') was not found\")),\n",
       " ('delete from :784Pn08 where 70>D-f/q-h-d*l*n',\n",
       "  InformationFlow.SQLException(\"Table (':784Pn08') was not found\")),\n",
       " ('select i*W/z/c-d<(X),M5,V,D,a,f from cw3Fl3',\n",
       "  InformationFlow.SQLException(\"Table ('cw3Fl3') was not found\")),\n",
       " ('select c!=J,((P)) from Y where L==q-:/w-j==C4',\n",
       "  InformationFlow.SQLException(\"Table ('Y') was not found\")),\n",
       " ('delete from s where (d7)*i(b)<_(j>W(k)/c+G/I)!=72.508',\n",
       "  InformationFlow.SQLException(\"Table ('s') was not found\")),\n",
       " (\"insert into K (f3) values ('{',68115)\",\n",
       "  InformationFlow.SQLException(\"Table ('K') was not found\")),\n",
       " ('select (---8) from K',\n",
       "  InformationFlow.SQLException(\"Table ('K') was not found\")),\n",
       " ('select 2.00,z+v==Z==R,((T>L)),r,I,f from MdZ',\n",
       "  InformationFlow.SQLException(\"Table ('MdZ') was not found\")),\n",
       " ('delete from rE where x+T+u*p(u)/o-S*l!=(Mg8)',\n",
       "  InformationFlow.SQLException(\"Table ('rE') was not found\")),\n",
       " (\"insert into b (DO) values ('*H:',7,-1718.95,'E','}%')\",\n",
       "  InformationFlow.SQLException(\"Table ('b') was not found\")),\n",
       " ('select (C1R((H(h*_(a(K),O))>o-M/T*e+A(w)==(87))))==((m)) from e12',\n",
       "  InformationFlow.SQLException(\"Table ('e12') was not found\")),\n",
       " ('delete from L2526S where E/:*P+.>U-G+N*q',\n",
       "  InformationFlow.SQLException(\"Table ('L2526S') was not found\")),\n",
       " ('select (2.5),Q-x*wL(V)+y/D(E)*f+y from HIw',\n",
       "  InformationFlow.SQLException(\"Table ('HIw') was not found\")),\n",
       " ('delete from h where (--888.2)==((u)==i+U*q<W2A2(p==_,B))',\n",
       "  InformationFlow.SQLException(\"Table ('h') was not found\")),\n",
       " ('insert into c (y) values (1.8)',\n",
       "  InformationFlow.SQLException(\"Table ('c') was not found\")),\n",
       " ('select H6(o)-W/H<X from v where 03!=(A*K<Z-:)',\n",
       "  InformationFlow.SQLException(\"Table ('v') was not found\")),\n",
       " ('select (B==:x),c+Y+L+y-qr(i) from M',\n",
       "  InformationFlow.SQLException(\"Table ('M') was not found\")),\n",
       " (\"insert into N (QE7,o,Y) values ('94','!','(',' ','Q')\",\n",
       "  InformationFlow.SQLException(\"Table ('N') was not found\")),\n",
       " ('select -48.6 from pI9',\n",
       "  InformationFlow.SQLException(\"Table ('pI9') was not found\")),\n",
       " ('select L<C(H),rR(p,_),h==a,p from S1',\n",
       "  InformationFlow.SQLException(\"Table ('S1') was not found\")),\n",
       " ('update W7z set Iu=Kk where q!=T==g',\n",
       "  InformationFlow.SQLException(\"Table ('W7z') was not found\")),\n",
       " (\"insert into uLf (C.7AE90D) values ('wG')\",\n",
       "  InformationFlow.SQLException(\"Table ('uLf') was not found\")),\n",
       " ('delete from BU2 where 6.415==((((((a*Y(N)*H/A*I*E+t+r/g))))))!=(-84.49)==30.157',\n",
       "  InformationFlow.SQLException(\"Table ('BU2') was not found\")),\n",
       " ('delete from Vg1Z where N(h)*_(:)<U/q/s/s+:-z',\n",
       "  InformationFlow.SQLException(\"Table ('Vg1Z') was not found\")),\n",
       " ('update E6r set j=g,T=y where Z!=b<h',\n",
       "  InformationFlow.SQLException(\"Table ('E6r') was not found\")),\n",
       " ('insert into V (X,x,N) values (-7)',\n",
       "  InformationFlow.SQLException(\"Table ('V') was not found\")),\n",
       " ('select f,Q*G/V from l where R(o,p,f,z)!=x',\n",
       "  InformationFlow.SQLException(\"Table ('l') was not found\")),\n",
       " ('update V20 set t=:,b=b,W=v where m==.',\n",
       "  InformationFlow.SQLException(\"Table ('V20') was not found\")),\n",
       " (\"insert into O79 (k859,P3C,O) values ('/]',0,'U')\",\n",
       "  InformationFlow.SQLException(\"Table ('O79') was not found\")),\n",
       " ('insert into Gz.w9 (O5n) values (-405)',\n",
       "  InformationFlow.SQLException(\"Table ('Gz.w9') was not found\")),\n",
       " ('select y,H from v1 where v-e*Z<i(s,S)',\n",
       "  InformationFlow.SQLException(\"Table ('v1') was not found\")),\n",
       " ('select (((2.0)))!=(YW) from U4',\n",
       "  InformationFlow.SQLException(\"Table ('U4') was not found\")),\n",
       " ('select a,((D==x))/h/.>_*g*Q+R/Y(K) from NL where -2>(m!=C)',\n",
       "  InformationFlow.SQLException(\"Table ('NL') was not found\")),\n",
       " ('insert into q (c983,y) values (5.0)',\n",
       "  InformationFlow.SQLException(\"Table ('q') was not found\")),\n",
       " ('select U,D,q from U where (O*m*p/R==H)!=j==K',\n",
       "  InformationFlow.SQLException(\"Table ('U') was not found\")),\n",
       " ('select (N*B-Z*r/c+K-t),((k)),F,h from A',\n",
       "  InformationFlow.SQLException(\"Table ('A') was not found\")),\n",
       " ('update : set j=l,w=j,b=C where F*C+D<a(b)',\n",
       "  InformationFlow.SQLException(\"Table (':') was not found\")),\n",
       " (\"insert into P:b (h,lv) values ('L')\",\n",
       "  InformationFlow.SQLException(\"Table ('P:b') was not found\")),\n",
       " ('update H set K=r7,I=w,E=:,Z=v where h>m',\n",
       "  InformationFlow.SQLException(\"Table ('H') was not found\")),\n",
       " ('delete from F710cd where c+I*Y/U*F>U/z-O',\n",
       "  InformationFlow.SQLException(\"Table ('F710cd') was not found\")),\n",
       " ('select o==r!=c from X where V*t(z)/b>M*b-J',\n",
       "  InformationFlow.SQLException(\"Table ('X') was not found\")),\n",
       " ('update nK set f=C where e9==(((Y)))!=L-K*k+O+c',\n",
       "  InformationFlow.SQLException(\"Table ('nK') was not found\")),\n",
       " ('select E(_)<x-.,(S==F) from k where w>xq(k)',\n",
       "  InformationFlow.SQLException(\"Table ('k') was not found\")),\n",
       " ('update Pq3 set .z6=y where 5==G!=X/c',\n",
       "  InformationFlow.SQLException(\"Table ('Pq3') was not found\")),\n",
       " ('update .3 set F=M,L=S,X=C where Y-.*h/d>(T)==(r)',\n",
       "  InformationFlow.SQLException(\"Table ('.3') was not found\")),\n",
       " ('select _-I==_ from LW where j+Q+B/W>y9(Z)',\n",
       "  InformationFlow.SQLException(\"Table ('LW') was not found\")),\n",
       " ('delete from Fw where K(k4,c,H)<A(c,u)+P/C/R',\n",
       "  InformationFlow.SQLException(\"Table ('Fw') was not found\")),\n",
       " ('delete from I743X where q8acr==28.09',\n",
       "  InformationFlow.SQLException(\"Table ('I743X') was not found\")),\n",
       " ('select n/F+L*T*l+v,h,s(f)*A from C18',\n",
       "  InformationFlow.SQLException(\"Table ('C18') was not found\")),\n",
       " ('select z1,q==l,G>:,r from j5 where G<f',\n",
       "  InformationFlow.SQLException(\"Table ('j5') was not found\")),\n",
       " ('update R5 set b5=P where E(u,w)!=A+X',\n",
       "  InformationFlow.SQLException(\"Table ('R5') was not found\")),\n",
       " (\"insert into x (A,jP) values (-4,'_')\",\n",
       "  InformationFlow.SQLException(\"Table ('x') was not found\")),\n",
       " ('delete from o where r(.,f)-D/u*O+J>W(O)+X!=39.5',\n",
       "  InformationFlow.SQLException(\"Table ('o') was not found\")),\n",
       " ('update n set v=b,w=w where Q*Y*Y>b*q-u',\n",
       "  InformationFlow.SQLException(\"Table ('n') was not found\")),\n",
       " ('select ((K==(v))!=--6),T*b/o+F,F,G,b from .I',\n",
       "  InformationFlow.SQLException(\"Table ('.I') was not found\")),\n",
       " (\"insert into A5 (tN8) values ('}')\",\n",
       "  InformationFlow.SQLException(\"Table ('A5') was not found\")),\n",
       " ('select l,L,R from L4J where n/u<v*K',\n",
       "  InformationFlow.SQLException(\"Table ('L4J') was not found\")),\n",
       " ('select d!=p from c3VV where s*A-F<K-u',\n",
       "  InformationFlow.SQLException(\"Table ('c3VV') was not found\")),\n",
       " ('update p set v1=e where g<70.3-p-K-C+s+h+i+J(n)',\n",
       "  InformationFlow.SQLException(\"Table ('p') was not found\")),\n",
       " ('delete from uv where (-41)!=c',\n",
       "  InformationFlow.SQLException(\"Table ('uv') was not found\")),\n",
       " ('update s set _=q,n=C where c(X)==l/e<O',\n",
       "  InformationFlow.SQLException(\"Table ('s') was not found\")),\n",
       " ('select (d-j/l+x)!=F>z-G==K<n from Wb',\n",
       "  InformationFlow.SQLException(\"Table ('Wb') was not found\")),\n",
       " ('select z798==j*W-y*i/b(H)<((j*k/F))+((V)) from V8cA2G00hc',\n",
       "  InformationFlow.SQLException(\"Table ('V8cA2G00hc') was not found\")),\n",
       " ('update I0 set R=:,J=_ where (V)!=j(E)/E/l+M/E',\n",
       "  InformationFlow.SQLException(\"Table ('I0') was not found\")),\n",
       " ('select R==h,E,h from e2Cz where N!=z+T',\n",
       "  InformationFlow.SQLException(\"Table ('e2Cz') was not found\")),\n",
       " ('delete from M90 where 25==((3.8))',\n",
       "  InformationFlow.SQLException(\"Table ('M90') was not found\")),\n",
       " (\"insert into a (h2o,Z58) values ('[',777,'s')\",\n",
       "  InformationFlow.SQLException(\"Table ('a') was not found\")),\n",
       " ('delete from l where K/E-w-F-H>I/./r(:==P)',\n",
       "  InformationFlow.SQLException(\"Table ('l') was not found\")),\n",
       " (\"insert into h3CL (WE9,P1A) values (-3,'u','p')\",\n",
       "  InformationFlow.SQLException(\"Table ('h3CL') was not found\")),\n",
       " ('select (8.6159) from b where -0==L(h)/f*z+u',\n",
       "  InformationFlow.SQLException(\"Table ('b') was not found\")),\n",
       " ('update g.7Q set l=U,q=X,p=K where q>u',\n",
       "  InformationFlow.SQLException(\"Table ('g.7Q') was not found\")),\n",
       " ('select h(H)>:+r/.(Z) from J976 where T<x',\n",
       "  InformationFlow.SQLException(\"Table ('J976') was not found\")),\n",
       " ('select Wg1(X>t)/b(s) from Yj34l',\n",
       "  InformationFlow.SQLException(\"Table ('Yj34l') was not found\")),\n",
       " ('delete from :9O where (7)!=i97!=mt((j),I)<w*m',\n",
       "  InformationFlow.SQLException(\"Table (':9O') was not found\")),\n",
       " (\"insert into h (M) values ('V','l',4.94)\",\n",
       "  InformationFlow.SQLException(\"Table ('h') was not found\")),\n",
       " ('select o+p*a+e-g!=q==J from H where _==T>Q',\n",
       "  InformationFlow.SQLException(\"Table ('H') was not found\")),\n",
       " ('insert into c (I0) values (4)',\n",
       "  InformationFlow.SQLException(\"Table ('c') was not found\")),\n",
       " ('delete from c where (w*L-W)==(4)==k*x-C-D!=K1v8',\n",
       "  InformationFlow.SQLException(\"Table ('c') was not found\")),\n",
       " ('update :20 set N40=y where K-_*:-W<I',\n",
       "  InformationFlow.SQLException(\"Table (':20') was not found\")),\n",
       " ('select S,J>x from d.S7 where d*u+h<g',\n",
       "  InformationFlow.SQLException(\"Table ('d.S7') was not found\")),\n",
       " ('delete from Vb where (I!=A)-8<j+N-U*r!=O(H(m)/r+f)',\n",
       "  InformationFlow.SQLException(\"Table ('Vb') was not found\")),\n",
       " ('select J(L,Q)*e>.((l)),d,(A==l),n from DUS',\n",
       "  InformationFlow.SQLException(\"Table ('DUS') was not found\")),\n",
       " ('select ((W)!=k/p*i/m) from cS where (R==h)==r!=Q==-4.9',\n",
       "  InformationFlow.SQLException(\"Table ('cS') was not found\")),\n",
       " ('update g60 set p=D,l=g where .-Q>x*U+J',\n",
       "  InformationFlow.SQLException(\"Table ('g60') was not found\")),\n",
       " ('select ((b!=:)*d/d+y+k*x/s*-3) from N1R6',\n",
       "  InformationFlow.SQLException(\"Table ('N1R6') was not found\")),\n",
       " ('select x<o,4 from Q where H-l>X+M(A)*s',\n",
       "  InformationFlow.SQLException(\"Table ('Q') was not found\")),\n",
       " ('update r set _=jo,F=U,A=p,R=V where ((K-p))!=(((q)))',\n",
       "  InformationFlow.SQLException(\"Table ('r') was not found\")),\n",
       " (\"insert into hoU (Z6) values (',L','7q9}')\",\n",
       "  InformationFlow.SQLException(\"Table ('hoU') was not found\")),\n",
       " ('update .sEu set W=H where z*N+E>V*A*J+l',\n",
       "  InformationFlow.SQLException(\"Table ('.sEu') was not found\")),\n",
       " (\"insert into S0m (D,y) values (':`','?')\",\n",
       "  InformationFlow.SQLException(\"Table ('S0m') was not found\")),\n",
       " ('delete from A84M where C+l*s*F-((z))>d/y*t+T(r)',\n",
       "  InformationFlow.SQLException(\"Table ('A84M') was not found\")),\n",
       " ('select b-A*Q/V(C)/R-a-c from o6',\n",
       "  InformationFlow.SQLException(\"Table ('o6') was not found\")),\n",
       " ('select 9476 from h8 where 0!=(U)!=(s-P(f)+P/r*M(e))',\n",
       "  InformationFlow.SQLException(\"Table ('h8') was not found\")),\n",
       " ('select (036.36) from Ocm where (-03.3)<ZI(-3.7)',\n",
       "  InformationFlow.SQLException(\"Table ('Ocm') was not found\")),\n",
       " ('select 6,T/n from c where e-f/o<d+Y*U',\n",
       "  InformationFlow.SQLException(\"Table ('c') was not found\")),\n",
       " ('update G set U=:,w=h,n=S where (G)-E+H*k>L*X',\n",
       "  InformationFlow.SQLException(\"Table ('G') was not found\")),\n",
       " ('delete from L4 where 8==(-1)',\n",
       "  InformationFlow.SQLException(\"Table ('L4') was not found\")),\n",
       " ('select (V/k<X==Z),(F<o-m),(r),Y from f',\n",
       "  InformationFlow.SQLException(\"Table ('f') was not found\")),\n",
       " ('select (f),C from ISz where O+Q>:*v',\n",
       "  InformationFlow.SQLException(\"Table ('ISz') was not found\")),\n",
       " ('delete from u where O*N>r-c+m-p-l/d-S*Z==A<G1',\n",
       "  InformationFlow.SQLException(\"Table ('u') was not found\")),\n",
       " ('insert into w (xk6Rg3) values (-6.705)',\n",
       "  InformationFlow.SQLException(\"Table ('w') was not found\")),\n",
       " ('update b set .6=J,K=U,M=K,k=y where a!=b+Z/.+x',\n",
       "  InformationFlow.SQLException(\"Table ('b') was not found\")),\n",
       " ('delete from _ where (((IZ)))==O!=u0',\n",
       "  InformationFlow.SQLException(\"Table ('_') was not found\")),\n",
       " ('select H/h+L/o/L/R,Y+a(L)*L from a0',\n",
       "  InformationFlow.SQLException(\"Table ('a0') was not found\")),\n",
       " ('select 9.5,H6Z9LI77n((809.8!=(y2)))/--46.75143/(_sM) from q',\n",
       "  InformationFlow.SQLException(\"Table ('q') was not found\")),\n",
       " ('select 2>_-P/n*V,C7 from v where n==Q!=X4!=(.)!=f',\n",
       "  InformationFlow.SQLException(\"Table ('v') was not found\")),\n",
       " ('select v!=u,-7 from g12 where _*D<p*i/G/j(x)',\n",
       "  InformationFlow.SQLException(\"Table ('g12') was not found\")),\n",
       " ('delete from K where SF0An>x4C_(k)-Z-w+I',\n",
       "  InformationFlow.SQLException(\"Table ('K') was not found\")),\n",
       " ('delete from Q10x29 where u-g>W+n(z)-.-j',\n",
       "  InformationFlow.SQLException(\"Table ('Q10x29') was not found\")),\n",
       " ('update XT set j=r,X=n,T=i,P=v where (:)!=N==M',\n",
       "  InformationFlow.SQLException(\"Table ('XT') was not found\")),\n",
       " (\"insert into oDcm897167199 (CU,NeX038Qx9E:) values ('3C')\",\n",
       "  InformationFlow.SQLException(\"Table ('oDcm897167199') was not found\")),\n",
       " ('select ((p*k>a)) from oG where A==K==F+s>V',\n",
       "  InformationFlow.SQLException(\"Table ('oG') was not found\")),\n",
       " ('delete from tA where vX<-2*_/t*F*q*e*C+p*:+Z',\n",
       "  InformationFlow.SQLException(\"Table ('tA') was not found\")),\n",
       " (\"insert into g (C) values ('F')\",\n",
       "  InformationFlow.SQLException(\"Table ('g') was not found\")),\n",
       " ('update r set H=R where H((j7),H>a*Y)<jZ(T-E+K-.)',\n",
       "  InformationFlow.SQLException(\"Table ('r') was not found\")),\n",
       " ('select (((N==v(J)<t))),S+W-y/w*j from d',\n",
       "  InformationFlow.SQLException(\"Table ('d') was not found\")),\n",
       " ('select 954.95 from i9EzIC where E==i*B',\n",
       "  InformationFlow.SQLException(\"Table ('i9EzIC') was not found\")),\n",
       " (\"insert into yM449 (sP) values ('[m[')\",\n",
       "  InformationFlow.SQLException(\"Table ('yM449') was not found\")),\n",
       " ('update N8b set j52=: where S(a)>x(n,S)',\n",
       "  InformationFlow.SQLException(\"Table ('N8b') was not found\")),\n",
       " ('select (37.373==5.49==m+j+u) from e',\n",
       "  InformationFlow.SQLException(\"Table ('e') was not found\")),\n",
       " (\"insert into J9656v1 (s,FG,EyF,j) values ('($')\",\n",
       "  InformationFlow.SQLException(\"Table ('J9656v1') was not found\")),\n",
       " ('select P(j)+F/Z<x from m9 where w(M)>r-f(u)',\n",
       "  InformationFlow.SQLException(\"Table ('m9') was not found\")),\n",
       " ('delete from e where L-v*A*E-d+K<N89(a*.)',\n",
       "  InformationFlow.SQLException(\"Table ('e') was not found\")),\n",
       " ('delete from b where v/m*W-z>m-r(O,u)+R+v',\n",
       "  InformationFlow.SQLException(\"Table ('b') was not found\")),\n",
       " ('select (00.19602),X48 from c',\n",
       "  InformationFlow.SQLException(\"Table ('c') was not found\")),\n",
       " ('insert into i97j (HF,rF) values (42)',\n",
       "  InformationFlow.SQLException(\"Table ('i97j') was not found\")),\n",
       " ('update e2 set t6=b where .+d<w/B',\n",
       "  InformationFlow.SQLException(\"Table ('e2') was not found\")),\n",
       " ('update v set Y=rl where (W<:(H))!=k*L*G',\n",
       "  InformationFlow.SQLException(\"Table ('v') was not found\")),\n",
       " ('select (_+h/C),I<Y-M from PTqj',\n",
       "  InformationFlow.SQLException(\"Table ('PTqj') was not found\")),\n",
       " ('update Z2 set E8W5=uL1 where ((ZK))==kB0::L',\n",
       "  InformationFlow.SQLException(\"Table ('Z2') was not found\")),\n",
       " ('select 20.0,Z from y where W-t-H-B<B==(A==p)',\n",
       "  InformationFlow.SQLException(\"Table ('y') was not found\")),\n",
       " ('insert into a (T) values (77.6)',\n",
       "  InformationFlow.SQLException(\"Table ('a') was not found\")),\n",
       " ('select A==y+Y/s!=(6),(j==H==R),J==m,N,w from vb',\n",
       "  InformationFlow.SQLException(\"Table ('vb') was not found\")),\n",
       " ('delete from m2 where 657.64!=j+O*T!=o-F/M',\n",
       "  InformationFlow.SQLException(\"Table ('m2') was not found\")),\n",
       " ('delete from c41 where g+e-X/w(D)*X<r*G+V*W',\n",
       "  InformationFlow.SQLException(\"Table ('c41') was not found\")),\n",
       " ('insert into k (PU7607G2Q7M7Ab3248,L,e) values (591.29)',\n",
       "  InformationFlow.SQLException(\"Table ('k') was not found\")),\n",
       " ('select p(t)+l*f-d/H<.*: from l70i',\n",
       "  InformationFlow.SQLException(\"Table ('l70i') was not found\")),\n",
       " ('insert into Jf (boN,Xi,C,w) values (-10,9)',\n",
       "  InformationFlow.SQLException(\"Table ('Jf') was not found\")),\n",
       " ('select O,y,r,D from _7H93 where V!=bW(m)',\n",
       "  InformationFlow.SQLException(\"Table ('_7H93') was not found\")),\n",
       " ('select J4(v,S),V*H/O*:*k+w-L from :3s',\n",
       "  InformationFlow.SQLException(\"Table (':3s') was not found\")),\n",
       " ('select A from a2 where K*J+w+i-i(a)<S/D*d',\n",
       "  InformationFlow.SQLException(\"Table ('a2') was not found\")),\n",
       " ('update s0 set s=mt where I/n-d*G+v-k-(s)+s*M-L==N',\n",
       "  InformationFlow.SQLException(\"Table ('s0') was not found\")),\n",
       " (\"insert into Keg3 (G6dZ5) values ('LKy','41')\",\n",
       "  InformationFlow.SQLException(\"Table ('Keg3') was not found\")),\n",
       " ('select 9.88,((U(n)+z-D)),(m)!=(m),R>L,(Z) from PUB',\n",
       "  InformationFlow.SQLException(\"Table ('PUB') was not found\")),\n",
       " ('select ((8)),(K-C(U)-c4(J)<43.727) from r',\n",
       "  InformationFlow.SQLException(\"Table ('r') was not found\")),\n",
       " ('delete from dY where ((T*T+f-a*v+x-e*J-Z*:))==xrP',\n",
       "  InformationFlow.SQLException(\"Table ('dY') was not found\")),\n",
       " ('update sH set a=pv where G+I(D,P)<p',\n",
       "  InformationFlow.SQLException(\"Table ('sH') was not found\")),\n",
       " ('update M5C37 set u2=j,U=G where e!=F!=f',\n",
       "  InformationFlow.SQLException(\"Table ('M5C37') was not found\")),\n",
       " ('delete from bR928I where 122.1!=x*y-x/P/PV((:))',\n",
       "  InformationFlow.SQLException(\"Table ('bR928I') was not found\")),\n",
       " ('select Z*N+t-G(x)<q/p,(.!=(p)),p from u6bJ',\n",
       "  InformationFlow.SQLException(\"Table ('u6bJ') was not found\")),\n",
       " ('insert into b43 (zu2v52,c) values (--4.73)',\n",
       "  InformationFlow.SQLException(\"Table ('b43') was not found\")),\n",
       " ('select (12697) from hdCVZD',\n",
       "  InformationFlow.SQLException(\"Table ('hdCVZD') was not found\")),\n",
       " ('select (((bfJc)+Q(b,L)<y+R+(s(e)<w/s*c))!=S) from ID',\n",
       "  InformationFlow.SQLException(\"Table ('ID') was not found\")),\n",
       " ('select uTY(Y)-Y(s)!=(W) from fAI6vqO',\n",
       "  InformationFlow.SQLException(\"Table ('fAI6vqO') was not found\")),\n",
       " ('select ((pg(.,B)+ri(l,w))),wSP6 from ca5',\n",
       "  InformationFlow.SQLException(\"Table ('ca5') was not found\")),\n",
       " (\"insert into u9 (X:k) values ('>')\",\n",
       "  InformationFlow.SQLException(\"Table ('u9') was not found\")),\n",
       " ('select D/C*g(F*_>F) from RF where P>o-H/r',\n",
       "  InformationFlow.SQLException(\"Table ('RF') was not found\")),\n",
       " ('update j set P=X,o=f where R+k>_+_/H',\n",
       "  InformationFlow.SQLException(\"Table ('j') was not found\")),\n",
       " ('update G set j=_03,B=kA where d<b==i',\n",
       "  InformationFlow.SQLException(\"Table ('G') was not found\")),\n",
       " ('select R(R,d)/d-T+Y(G),0.27 from t',\n",
       "  InformationFlow.SQLException(\"Table ('t') was not found\")),\n",
       " ('delete from HD95 where (Y2)==u',\n",
       "  InformationFlow.SQLException(\"Table ('HD95') was not found\")),\n",
       " ('update R9 set G=P6044 where S/g+F<S(G==M,z)',\n",
       "  InformationFlow.SQLException(\"Table ('R9') was not found\")),\n",
       " ('select (Q<A),G!=n from Ie where o>Q2(U,y)',\n",
       "  InformationFlow.SQLException(\"Table ('Ie') was not found\")),\n",
       " ('select l+t+c*H-F+L+k-2-F/h from I',\n",
       "  InformationFlow.SQLException(\"Table ('I') was not found\")),\n",
       " ('insert into . (eSlX4FBy9,P) values (-94.27)',\n",
       "  InformationFlow.SQLException(\"Table ('.') was not found\")),\n",
       " ('select y9(a) from X where F*./H>f(Y)/T',\n",
       "  InformationFlow.SQLException(\"Table ('X') was not found\")),\n",
       " ('delete from :1I9gR where ((5.5706))==g(d)>k-T-_+J-f+(D)',\n",
       "  InformationFlow.SQLException(\"Table (':1I9gR') was not found\")),\n",
       " ('insert into KBKz (w7) values (72)',\n",
       "  InformationFlow.SQLException(\"Table ('KBKz') was not found\")),\n",
       " ('insert into Z8 (fDc) values (-80.6,7.82)',\n",
       "  InformationFlow.SQLException(\"Table ('Z8') was not found\")),\n",
       " ('insert into Y (o7e) values (81)',\n",
       "  InformationFlow.SQLException(\"Table ('Y') was not found\")),\n",
       " ('select i+X+m*O,l==(G>:/L-s) from u4W',\n",
       "  InformationFlow.SQLException(\"Table ('u4W') was not found\")),\n",
       " ('delete from :5nt where g/E*k-k<D*b/l',\n",
       "  InformationFlow.SQLException(\"Table (':5nt') was not found\")),\n",
       " ('delete from kz6XtZL where (r)+R-k>X-L-z(a)',\n",
       "  InformationFlow.SQLException(\"Table ('kz6XtZL') was not found\")),\n",
       " (\"insert into d0 (H,h2t,p) values (81.560,---737,'p','_')\",\n",
       "  InformationFlow.SQLException(\"Table ('d0') was not found\")),\n",
       " (\"insert into IG3 (b6:) values ('}T')\",\n",
       "  InformationFlow.SQLException(\"Table ('IG3') was not found\")),\n",
       " (\"insert into dr. (tCp65Dz) values (';F')\",\n",
       "  InformationFlow.SQLException(\"Table ('dr.') was not found\")),\n",
       " ('select _,h(d)>k-h*F from S where e-E!=5.12',\n",
       "  InformationFlow.SQLException(\"Table ('S') was not found\")),\n",
       " ('delete from bBE where l/R+O+V*e<(Q==n)-W+r(d)==((69.185))',\n",
       "  InformationFlow.SQLException(\"Table ('bBE') was not found\")),\n",
       " ('select (3.519262==((((i1hm))))) from t',\n",
       "  InformationFlow.SQLException(\"Table ('t') was not found\")),\n",
       " ('select (i>P)==((o)),T_0,B<i,P==E,J from u44',\n",
       "  InformationFlow.SQLException(\"Table ('u44') was not found\")),\n",
       " ('select c(_)/k-A*z*:*s5vT4v(G)+:<sSG(72.074)==su19,dE3 from R where -49==((U5))',\n",
       "  InformationFlow.SQLException(\"Table ('R') was not found\")),\n",
       " (\"insert into l (Gf,a,E,tQ1,r,ji2,aL) values ('T','O')\",\n",
       "  InformationFlow.SQLException(\"Table ('l') was not found\")),\n",
       " (\"insert into _ye4llWWZO64NM5z (_C2,dv) values ('2Dv')\",\n",
       "  InformationFlow.SQLException(\"Table ('_ye4llWWZO64NM5z') was not found\")),\n",
       " (\"insert into T (F) values ('@','Uw',-4.9)\",\n",
       "  InformationFlow.SQLException(\"Table ('T') was not found\")),\n",
       " ('delete from jP where YyQ(((C617(O))!=.D!=((r(z)*N*Y/n-(f))))==5084.60)<f(-0.7)',\n",
       "  InformationFlow.SQLException(\"Table ('jP') was not found\")),\n",
       " ('select C(E,l)>.(x)+G+V+z*R/Z+E from r',\n",
       "  InformationFlow.SQLException(\"Table ('r') was not found\")),\n",
       " ('insert into b294 (e41,g7Ef) values (6)',\n",
       "  InformationFlow.SQLException(\"Table ('b294') was not found\")),\n",
       " (\"insert into B0C (z,h,y,X) values ('/','v',8,'=','^')\",\n",
       "  InformationFlow.SQLException(\"Table ('B0C') was not found\")),\n",
       " ('select B>M/g from g where _*r(A)>lT(H)',\n",
       "  InformationFlow.SQLException(\"Table ('g') was not found\")),\n",
       " ('delete from a10 where P*W-x+g*C*_-y*m-O+r(C!=d,o)!=wRH.x',\n",
       "  InformationFlow.SQLException(\"Table ('a10') was not found\")),\n",
       " ('select Q*d/r*g*X<./W+C/o*: from jo',\n",
       "  InformationFlow.SQLException(\"Table ('jo') was not found\")),\n",
       " ('update em set B=c,O=p,h=w where x/L<U*t',\n",
       "  InformationFlow.SQLException(\"Table ('em') was not found\")),\n",
       " ('update k8N4 set N5=ved where Q<R!=g+q(S,o)+I!=e/F/w',\n",
       "  InformationFlow.SQLException(\"Table ('k8N4') was not found\")),\n",
       " ('delete from x686g. where ((o==a==B))!=C-t!=g(U)',\n",
       "  InformationFlow.SQLException(\"Table ('x686g.') was not found\")),\n",
       " ('insert into xY (D5d0,g,No) values (07.44848)',\n",
       "  InformationFlow.SQLException(\"Table ('xY') was not found\")),\n",
       " ('update Cok set r8=w,r=p where .!=((37))',\n",
       "  InformationFlow.SQLException(\"Table ('Cok') was not found\")),\n",
       " ('update u06 set A=B,t=B where V*X<s',\n",
       "  InformationFlow.SQLException(\"Table ('u06') was not found\")),\n",
       " ('update L997 set _=F,C=i where l<M(P)',\n",
       "  InformationFlow.SQLException(\"Table ('L997') was not found\")),\n",
       " ('select (3.7) from cR where C/C/f+P!=d/z/m/q(N)',\n",
       "  InformationFlow.SQLException(\"Table ('cR') was not found\")),\n",
       " (\"insert into n1W (p,u,OU3,Z,ak) values ('p~^xbMp')\",\n",
       "  InformationFlow.SQLException(\"Table ('n1W') was not found\")),\n",
       " ('select I!=A,L,p,M from fb73 where D==(V/L)',\n",
       "  InformationFlow.SQLException(\"Table ('fb73') was not found\")),\n",
       " ('delete from ib where (B)-O(k)+p(H)<b*t/p*z!=J',\n",
       "  InformationFlow.SQLException(\"Table ('ib') was not found\")),\n",
       " ('select (Jo),_-k(s)-t-Y*B-x-x>y-p from _4',\n",
       "  InformationFlow.SQLException(\"Table ('_4') was not found\")),\n",
       " ('select zZ from s7 where T+f*t-_<D*J-k*Q',\n",
       "  InformationFlow.SQLException(\"Table ('s7') was not found\")),\n",
       " ('delete from L8 where c(c)/F>v-N*N+I/M-Y(Q)',\n",
       "  InformationFlow.SQLException(\"Table ('L8') was not found\")),\n",
       " (\"insert into nk519 (u,W,f) values (1,4,',','H')\",\n",
       "  InformationFlow.SQLException(\"Table ('nk519') was not found\")),\n",
       " ('update q set L=cI where w(:)==V+e+k-l+U+d+j1',\n",
       "  InformationFlow.SQLException(\"Table ('q') was not found\")),\n",
       " ('insert into Gi (s,MY,.c5,w,Ir,J) values (4)',\n",
       "  InformationFlow.SQLException(\"Table ('Gi') was not found\")),\n",
       " ('update Y_F set ZE=F,X=q where s!=s==((e!=I))',\n",
       "  InformationFlow.SQLException(\"Table ('Y_F') was not found\")),\n",
       " ('delete from r where ((l>o+I+c))==(A*a>p/A)',\n",
       "  InformationFlow.SQLException(\"Table ('r') was not found\")),\n",
       " ('update n set T5=k3470U9 where (1.1)!=N/E+Z*s-s-g*M+a!=-0.6!=((1))',\n",
       "  InformationFlow.SQLException(\"Table ('n') was not found\")),\n",
       " ('update To5A set S=d where 3.3!=B(B)/F',\n",
       "  InformationFlow.SQLException(\"Table ('To5A') was not found\")),\n",
       " ('select h>h<i/V from O5KbH where J>K-k',\n",
       "  InformationFlow.SQLException(\"Table ('O5KbH') was not found\")),\n",
       " (\"insert into v4Y (Uh,V9.na) values ('6(')\",\n",
       "  InformationFlow.SQLException(\"Table ('v4Y') was not found\")),\n",
       " ('select z+E/j,x from h where C-T>t+W5(o)',\n",
       "  InformationFlow.SQLException(\"Table ('h') was not found\")),\n",
       " ('delete from B97 where 99.8!=P(j)-S-k+v/B/k',\n",
       "  InformationFlow.SQLException(\"Table ('B97') was not found\")),\n",
       " ('update hNB9 set u=b where y*.*U+O>R*K/I',\n",
       "  InformationFlow.SQLException(\"Table ('hNB9') was not found\")),\n",
       " ('select tEc4x8 from K where E/z/k<F(J(O)-m(W),n)',\n",
       "  InformationFlow.SQLException(\"Table ('K') was not found\")),\n",
       " ('select B+C<:*T*z/P(59)--325933,(uAkq2) from A8.',\n",
       "  InformationFlow.SQLException(\"Table ('A8.') was not found\")),\n",
       " ('select V!=Q<T,L!=z,a from Yh79Y',\n",
       "  InformationFlow.SQLException(\"Table ('Yh79Y') was not found\")),\n",
       " ('update BFG set g=iX where (y<K<s+X)==(:/P*h(B)-P)',\n",
       "  InformationFlow.SQLException(\"Table ('BFG') was not found\")),\n",
       " ('delete from Fr4P4 where E4(n)>l*G(q)-u+f/g+D',\n",
       "  InformationFlow.SQLException(\"Table ('Fr4P4') was not found\")),\n",
       " ('delete from L where v(B,.)<Q*Y/M-b/y/B+u',\n",
       "  InformationFlow.SQLException(\"Table ('L') was not found\")),\n",
       " (\"insert into O3 (nh,u_) values ('m',9)\",\n",
       "  InformationFlow.SQLException(\"Table ('O3') was not found\")),\n",
       " ('update E set h0s=k where X6(:,T,f)*P-n*BZ(q,.)!=Fp',\n",
       "  InformationFlow.SQLException(\"Table ('E') was not found\")),\n",
       " ('select (u),.>h/p+X/Q from F where (-41.3)!=8',\n",
       "  InformationFlow.SQLException(\"Table ('F') was not found\")),\n",
       " ('select T+c+u-U-E(n),(0424.25) from u4',\n",
       "  InformationFlow.SQLException(\"Table ('u4') was not found\")),\n",
       " ('delete from W_1T56h7U where (tQ8xjj)==kG813319d',\n",
       "  InformationFlow.SQLException(\"Table ('W_1T56h7U') was not found\")),\n",
       " ('select j*U>P/:*c/p(H) from d where H<(f-z)',\n",
       "  InformationFlow.SQLException(\"Table ('d') was not found\")),\n",
       " ('insert into Z9 (n,l7) values (07)',\n",
       "  InformationFlow.SQLException(\"Table ('Z9') was not found\")),\n",
       " (\"insert into WUr (t5Iy:,tc9fR) values ('^','9',67,'F')\",\n",
       "  InformationFlow.SQLException(\"Table ('WUr') was not found\")),\n",
       " ('select s>W(G)*a+x,(b/W+Q>Q-s) from X9',\n",
       "  InformationFlow.SQLException(\"Table ('X9') was not found\")),\n",
       " ('delete from T25 where F(k)*d*r<j*J*w+l*i',\n",
       "  InformationFlow.SQLException(\"Table ('T25') was not found\")),\n",
       " ('delete from a where d-a/H*L+t*R*h+U>x-r',\n",
       "  InformationFlow.SQLException(\"Table ('a') was not found\")),\n",
       " (\"insert into Q4466H (g2S4z) values ('G,')\",\n",
       "  InformationFlow.SQLException(\"Table ('Q4466H') was not found\")),\n",
       " ('select ((Y>L)),R+p from i where b!=Z+e+i-n',\n",
       "  InformationFlow.SQLException(\"Table ('i') was not found\")),\n",
       " ('select -0,((s8p)) from N73',\n",
       "  InformationFlow.SQLException(\"Table ('N73') was not found\")),\n",
       " ('update uq5v8Z set k=n,C=U where u-k!=(O)',\n",
       "  InformationFlow.SQLException(\"Table ('uq5v8Z') was not found\")),\n",
       " ('delete from SV514W618 where ((L>b))+D+r/V>e((M),f)',\n",
       "  InformationFlow.SQLException(\"Table ('SV514W618') was not found\")),\n",
       " ('select Mj(F<q,p!=j,Z),z-T*F(t) from i',\n",
       "  InformationFlow.SQLException(\"Table ('i') was not found\")),\n",
       " ('select (N:),(O(:)/n(j)-c-nf(A)*(o!=H)) from M',\n",
       "  InformationFlow.SQLException(\"Table ('M') was not found\")),\n",
       " ('select ((h)/c+z+f!=L(o)<v+Z/U) from w9',\n",
       "  InformationFlow.SQLException(\"Table ('w9') was not found\")),\n",
       " ('delete from FZ where PBT(I)>p+o!=T==q<H',\n",
       "  InformationFlow.SQLException(\"Table ('FZ') was not found\")),\n",
       " ('delete from M4d9 where z+P*Y>d*j*x/e/D*H',\n",
       "  InformationFlow.SQLException(\"Table ('M4d9') was not found\")),\n",
       " ('delete from BB2 where x==S+e+i-M*:!=z(:)<s+e',\n",
       "  InformationFlow.SQLException(\"Table ('BB2') was not found\")),\n",
       " ('update : set cR8MQ=D2 where ---77.6672==(-097)!=(((g+.(V)-G(t)/v*W(s,v))))',\n",
       "  InformationFlow.SQLException(\"Table (':') was not found\")),\n",
       " ('insert into Up (G66) values (---3.6)',\n",
       "  InformationFlow.SQLException(\"Table ('Up') was not found\")),\n",
       " ('select ao,(_) from w7r5 where 49.80!=c!=M',\n",
       "  InformationFlow.SQLException(\"Table ('w7r5') was not found\")),\n",
       " ('update T set D=f,iE=T where SM!=T!=M*e/c/y-E*c/L5(F,s)/j((W(i)))',\n",
       "  InformationFlow.SQLException(\"Table ('T') was not found\")),\n",
       " ('insert into Jb5G (E2KK6) values (16.13,7.803,3.0751)',\n",
       "  InformationFlow.SQLException(\"Table ('Jb5G') was not found\")),\n",
       " ('select B*g/Z+q-N-q/I(D!=D==(F)) from iE3.lM2',\n",
       "  InformationFlow.SQLException(\"Table ('iE3.lM2') was not found\")),\n",
       " ('delete from sX where j-Y*Z/a+X-.*v*P(y)<(((((Q!=K)))))!=(((J)))',\n",
       "  InformationFlow.SQLException(\"Table ('sX') was not found\")),\n",
       " ('insert into Gp3 (il7,i81) values (8)',\n",
       "  InformationFlow.SQLException(\"Table ('Gp3') was not found\")),\n",
       " ('delete from B9 where p>t-P!=N*G/L<Z-E*L',\n",
       "  InformationFlow.SQLException(\"Table ('B9') was not found\")),\n",
       " ('select a(V,I)>D*x*R+p,j==(400617) from K4',\n",
       "  InformationFlow.SQLException(\"Table ('K4') was not found\")),\n",
       " ('select D+k-W<L(N)/a/b+r+e-v from X',\n",
       "  InformationFlow.SQLException(\"Table ('X') was not found\")),\n",
       " ('delete from e74 where ((RF621X==(w==(n8(I)+a>_/X+U/C-k*L))))!=95',\n",
       "  InformationFlow.SQLException(\"Table ('e74') was not found\")),\n",
       " ('insert into Z6 (GB,I) values (-0.452,-239,56.0462)',\n",
       "  InformationFlow.SQLException(\"Table ('Z6') was not found\")),\n",
       " ('insert into q1w6k (t9eQ) values (2)',\n",
       "  InformationFlow.SQLException(\"Table ('q1w6k') was not found\")),\n",
       " ('delete from zox9 where 830!=l/W*a+T(t)<r/m*D-A/p',\n",
       "  InformationFlow.SQLException(\"Table ('zox9') was not found\")),\n",
       " ('select ((fI1e(((y!=z)),r!=s,C))),n(jM,_,h==E) from dH747',\n",
       "  InformationFlow.SQLException(\"Table ('dH747') was not found\")),\n",
       " ('select lpW56g from p',\n",
       "  InformationFlow.SQLException(\"Table ('p') was not found\")),\n",
       " ('select ((J3)!=((i9))) from f',\n",
       "  InformationFlow.SQLException(\"Table ('f') was not found\")),\n",
       " ('select (((07))!=(V)!=(D/S+y>h)>syx((Z4),07.16)) from r7',\n",
       "  InformationFlow.SQLException(\"Table ('r7') was not found\")),\n",
       " ('update g set y=H,.7=pi where d-t*t<I(p)',\n",
       "  InformationFlow.SQLException(\"Table ('g') was not found\")),\n",
       " ('delete from I where y/b+I+k<I+J-H*H-t-D',\n",
       "  InformationFlow.SQLException(\"Table ('I') was not found\")),\n",
       " ('select (O),N!=K from i.M4 where K/u*z(g)!=.',\n",
       "  InformationFlow.SQLException(\"Table ('i.M4') was not found\")),\n",
       " (\"insert into J97O (QYe8) values ('$','=')\",\n",
       "  InformationFlow.SQLException(\"Table ('J97O') was not found\")),\n",
       " ('select v from L7o',\n",
       "  InformationFlow.SQLException(\"Table ('L7o') was not found\")),\n",
       " ('select 751 from gm7 where q+s-L(K)/l<o-G*L*(E)',\n",
       "  InformationFlow.SQLException(\"Table ('gm7') was not found\")),\n",
       " (\"insert into .90 (P,U) values (8,'Pc-c ',-90.6,'FW')\",\n",
       "  InformationFlow.SQLException(\"Table ('.90') was not found\")),\n",
       " ('select Xd4(h)==(G<q*q-F-i==c)==((wN70)),(5.9) from oMQ',\n",
       "  InformationFlow.SQLException(\"Table ('oMQ') was not found\")),\n",
       " ('select S-z/B/Z-y*M-b(j)+B*S from g',\n",
       "  InformationFlow.SQLException(\"Table ('g') was not found\")),\n",
       " ('update g set :=f,S=Y where z(R)*U<e(i,j)',\n",
       "  InformationFlow.SQLException(\"Table ('g') was not found\")),\n",
       " ('select g*u-z(k)/b*u*u,-3.6,V!=Q from U',\n",
       "  InformationFlow.SQLException(\"Table ('U') was not found\")),\n",
       " ('select ((5.6))==N+k+l+M+f/K+d(e==x,c) from fXiDP',\n",
       "  InformationFlow.SQLException(\"Table ('fXiDP') was not found\")),\n",
       " ('delete from U5 where (-3.691)==H6L',\n",
       "  InformationFlow.SQLException(\"Table ('U5') was not found\")),\n",
       " ('select E(-62,Y,(A),Ac)>854.25!=a57,((((06)))) from b3',\n",
       "  InformationFlow.SQLException(\"Table ('b3') was not found\")),\n",
       " ('select I,s from r4a where m<I+Y==i>O',\n",
       "  InformationFlow.SQLException(\"Table ('r4a') was not found\")),\n",
       " ('select m>l!=S*(y)+(r+B*R)-:*K from Yj27',\n",
       "  InformationFlow.SQLException(\"Table ('Yj27') was not found\")),\n",
       " (\"insert into T1a3 (a,T,H,_) values ('H;','a','A')\",\n",
       "  InformationFlow.SQLException(\"Table ('T1a3') was not found\")),\n",
       " ('select l(w)+S,d,y from po5Lk where A/r<6',\n",
       "  InformationFlow.SQLException(\"Table ('po5Lk') was not found\")),\n",
       " (\"insert into W (:,Z2I,a) values (-948.89,4,'i')\",\n",
       "  InformationFlow.SQLException(\"Table ('W') was not found\")),\n",
       " ('update EX9 set R=k,s=B,S=P,J=w where H!=D',\n",
       "  InformationFlow.SQLException(\"Table ('EX9') was not found\")),\n",
       " ('delete from M5Ot9 where (g-w+u(S)>A)==A+P*K7(K)',\n",
       "  InformationFlow.SQLException(\"Table ('M5Ot9') was not found\")),\n",
       " ('update N7 set p=G,L=w,f=B,n=L where C==(Hi(V))',\n",
       "  InformationFlow.SQLException(\"Table ('N7') was not found\")),\n",
       " ('select b,b,b,i from uP733 where P>q/N',\n",
       "  InformationFlow.SQLException(\"Table ('uP733') was not found\")),\n",
       " ('delete from A where Y*F*_*J-y>S+F+g-x(L)',\n",
       "  InformationFlow.SQLException(\"Table ('A') was not found\")),\n",
       " ('select C(Z,b,_)*h-w-f/D+B-J*j from H',\n",
       "  InformationFlow.SQLException(\"Table ('H') was not found\")),\n",
       " ('select n+W-j-H-O+o from i532 where F==((S))',\n",
       "  InformationFlow.SQLException(\"Table ('i532') was not found\")),\n",
       " ('select Q/A,y,N from xZ4 where Y-D>s+E',\n",
       "  InformationFlow.SQLException(\"Table ('xZ4') was not found\")),\n",
       " ('update B2 set m=a,Y=P,j=c where M*_-y!=(Q(a))',\n",
       "  InformationFlow.SQLException(\"Table ('B2') was not found\")),\n",
       " ('update .0 set R=p,g=h,b=S where K>Q/R',\n",
       "  InformationFlow.SQLException(\"Table ('.0') was not found\")),\n",
       " ('update H set w=R48,B=n where (s)/w<p(i)*Y',\n",
       "  InformationFlow.SQLException(\"Table ('H') was not found\")),\n",
       " ('delete from X7h8 where ((33))!=B-H/(L)!=-1*O+h/l*g-Q+f',\n",
       "  InformationFlow.SQLException(\"Table ('X7h8') was not found\")),\n",
       " ('insert into S (FnjEud0) values (1.6,--8)',\n",
       "  InformationFlow.SQLException(\"Table ('S') was not found\")),\n",
       " ('update ffU3 set S1=b,k=o where 1!=G<x',\n",
       "  InformationFlow.SQLException(\"Table ('ffU3') was not found\")),\n",
       " ('delete from b where D+l>Di(Q)==G!=x>B(I)*h',\n",
       "  InformationFlow.SQLException(\"Table ('b') was not found\")),\n",
       " ('select W/t/p(v)+g*a<L(i)-k*: from C',\n",
       "  InformationFlow.SQLException(\"Table ('C') was not found\")),\n",
       " ('delete from IY415K where P/P+v-I/D>g/N+A(P)',\n",
       "  InformationFlow.SQLException(\"Table ('IY415K') was not found\")),\n",
       " ('insert into dBszs2W (o,eX2280) values (0991.0)',\n",
       "  InformationFlow.SQLException(\"Table ('dBszs2W') was not found\")),\n",
       " ('select -4,(c) from W6Q where m>H+x/P*Q',\n",
       "  InformationFlow.SQLException(\"Table ('W6Q') was not found\")),\n",
       " ('select s7(S,R),L,h from s where B<h',\n",
       "  InformationFlow.SQLException(\"Table ('s') was not found\")),\n",
       " (\"insert into W (.2) values ('B')\",\n",
       "  InformationFlow.SQLException(\"Table ('W') was not found\")),\n",
       " (\"insert into E (j,UL32sS5b) values ('*^FS[n',9.5)\",\n",
       "  InformationFlow.SQLException(\"Table ('E') was not found\")),\n",
       " ('update lJ set d=P7 where l-Y+T*p>F',\n",
       "  InformationFlow.SQLException(\"Table ('lJ') was not found\")),\n",
       " ('select Z-L+E from Z2W where D*h+s-o/F>P!=(E)',\n",
       "  InformationFlow.SQLException(\"Table ('Z2W') was not found\")),\n",
       " (\"insert into G (K8,j,:) values ('a6','G0j')\",\n",
       "  InformationFlow.SQLException(\"Table ('G') was not found\")),\n",
       " ('select B*l*g*b from :a where A/f<p<K',\n",
       "  InformationFlow.SQLException(\"Table (':a') was not found\")),\n",
       " ('select 9.49 from W239 where (Q-K-E+O/R)!=a(w)/I(N)-G',\n",
       "  InformationFlow.SQLException(\"Table ('W239') was not found\")),\n",
       " ('update P set l=E3 where m-y*t-z<z(K)+U+r/W*.',\n",
       "  InformationFlow.SQLException(\"Table ('P') was not found\")),\n",
       " (\"insert into fg_ (W) values (-2026,'-B')\",\n",
       "  InformationFlow.SQLException(\"Table ('fg_') was not found\")),\n",
       " ('select (n+n),E/A from n9 where A!=w!=G<L',\n",
       "  InformationFlow.SQLException(\"Table ('n9') was not found\")),\n",
       " ('select Xk from b5',\n",
       "  InformationFlow.SQLException(\"Table ('b5') was not found\")),\n",
       " (\"insert into t3 (C6P,M7) values (8.3,3,0.0,'L')\",\n",
       "  InformationFlow.SQLException(\"Table ('t3') was not found\")),\n",
       " ('select 69,((--0)) from g7_734',\n",
       "  InformationFlow.SQLException(\"Table ('g7_734') was not found\")),\n",
       " ('select S6,m==y!=g from Hg where y-k(.)<I8(z)',\n",
       "  InformationFlow.SQLException(\"Table ('Hg') was not found\")),\n",
       " ('delete from p74. where V-D-s-j-Q>b+N',\n",
       "  InformationFlow.SQLException(\"Table ('p74.') was not found\")),\n",
       " ('select Q(x)<X-i,H,o from YUkWs8',\n",
       "  InformationFlow.SQLException(\"Table ('YUkWs8') was not found\")),\n",
       " ('select O==F,Y*z,. from D69 where E-I<Q',\n",
       "  InformationFlow.SQLException(\"Table ('D69') was not found\")),\n",
       " ('delete from ir where ((W>i)!=n)==u+p/r-Q*g-g',\n",
       "  InformationFlow.SQLException(\"Table ('ir') was not found\")),\n",
       " ('update N5 set S23=.1k7_ where e7/B(k)-Y<a*B/G-r*z==6.5',\n",
       "  InformationFlow.SQLException(\"Table ('N5') was not found\")),\n",
       " ('update U15r8 set X=D where 090.837!=(C0(((pO884Z49k6p4))))',\n",
       "  InformationFlow.SQLException(\"Table ('U15r8') was not found\")),\n",
       " ('select p from Qk',\n",
       "  InformationFlow.SQLException(\"Table ('Qk') was not found\")),\n",
       " ('delete from Y where 7.462!=g(T,u)*r/O+(P)-c-z/S+.',\n",
       "  InformationFlow.SQLException(\"Table ('Y') was not found\")),\n",
       " ('select V<E>e,z-o-R/g from bB where E==T(Jl,N!=V)',\n",
       "  InformationFlow.SQLException(\"Table ('bB') was not found\")),\n",
       " ('select 17.5 from v5',\n",
       "  InformationFlow.SQLException(\"Table ('v5') was not found\")),\n",
       " ('insert into U (L,M,E05j15) values (72.9)',\n",
       "  InformationFlow.SQLException(\"Table ('U') was not found\")),\n",
       " ('select z!=E==y==h+Z>u,j*J+:*t from llbj where (6)==68',\n",
       "  InformationFlow.SQLException(\"Table ('llbj') was not found\")),\n",
       " ('select y,(s<j) from tCX where M3(A)<:!=S',\n",
       "  InformationFlow.SQLException(\"Table ('tCX') was not found\")),\n",
       " ('insert into i40 (Z8ml80) values (3)',\n",
       "  InformationFlow.SQLException(\"Table ('i40') was not found\")),\n",
       " ('update J6 set A=Ac,W=c,p=j where H<_!=H',\n",
       "  InformationFlow.SQLException(\"Table ('J6') was not found\")),\n",
       " ('delete from o68G where a+U-v(R)-C*i/C(J)+(_<T)!=2==(X)',\n",
       "  InformationFlow.SQLException(\"Table ('o68G') was not found\")),\n",
       " ('update L set .IS=V7X,u=O,_=m where (B)!=(7)!=(k)',\n",
       "  InformationFlow.SQLException(\"Table ('L') was not found\")),\n",
       " ('select _>O-Q*9 from t where (px)/C-j<v6N',\n",
       "  InformationFlow.SQLException(\"Table ('t') was not found\")),\n",
       " (\"insert into f8.10 (HpC0,.) values ('/J','1')\",\n",
       "  InformationFlow.SQLException(\"Table ('f8.10') was not found\")),\n",
       " ('select L4J,N*t,r from wX where ((WTq((.),F))==(1))!=08',\n",
       "  InformationFlow.SQLException(\"Table ('wX') was not found\")),\n",
       " ('select fj,(z) from mH13 where (b)==U+M',\n",
       "  InformationFlow.SQLException(\"Table ('mH13') was not found\")),\n",
       " ('insert into jK7I (zc35) values (83.4)',\n",
       "  InformationFlow.SQLException(\"Table ('jK7I') was not found\")),\n",
       " ('select ./i+a/_>x*U-I*d+i+D from r',\n",
       "  InformationFlow.SQLException(\"Table ('r') was not found\")),\n",
       " (\"insert into vI (E6S6,q) values ('F',277)\",\n",
       "  InformationFlow.SQLException(\"Table ('vI') was not found\")),\n",
       " ('delete from g where (31)==910.3',\n",
       "  InformationFlow.SQLException(\"Table ('g') was not found\")),\n",
       " ('update k set J=jx,d=N where wT(j)!=l',\n",
       "  InformationFlow.SQLException(\"Table ('k') was not found\")),\n",
       " ('select (F>w) from c7 where R/S>i*H*r+T',\n",
       "  InformationFlow.SQLException(\"Table ('c7') was not found\")),\n",
       " ('select I/S-a<S from h8 where T/k*O<g+P*j',\n",
       "  InformationFlow.SQLException(\"Table ('h8') was not found\")),\n",
       " (\"insert into qM (xeO,Qq) values ('9','A')\",\n",
       "  InformationFlow.SQLException(\"Table ('qM') was not found\")),\n",
       " ('delete from kI9 where S(l)-_v(Z)*g>W+u>y(o)<L',\n",
       "  InformationFlow.SQLException(\"Table ('kI9') was not found\")),\n",
       " ('delete from P where (Wm(i/P-G*h-b*w,Q/K,u,x))>8',\n",
       "  InformationFlow.SQLException(\"Table ('P') was not found\")),\n",
       " ('select F(Y)>q,v,d<n,x from x where U>f',\n",
       "  InformationFlow.SQLException(\"Table ('x') was not found\")),\n",
       " ('select ((m*i)),w-Y<J,(U<k),u from B11c',\n",
       "  InformationFlow.SQLException(\"Table ('B11c') was not found\")),\n",
       " ('select 1 from e2 where (Cs==8.05)==u*H/y-(Z-b)',\n",
       "  InformationFlow.SQLException(\"Table ('e2') was not found\")),\n",
       " ('delete from T3Ek where Z-Q+Z-y-(o)+hh(o)>O+y',\n",
       "  InformationFlow.SQLException(\"Table ('T3Ek') was not found\")),\n",
       " ('select P(r)*F7(B)<O+l/C+I+M from M',\n",
       "  InformationFlow.SQLException(\"Table ('M') was not found\")),\n",
       " ('update T set P=v,e=Y where I-H*A+Z+m<R*B',\n",
       "  InformationFlow.SQLException(\"Table ('T') was not found\")),\n",
       " (\"insert into T (m7b,Z5,q) values (4.5,'Z')\",\n",
       "  InformationFlow.SQLException(\"Table ('T') was not found\")),\n",
       " ('select (g+b/d/Q/P>R/Z+d+U/F) from dF',\n",
       "  InformationFlow.SQLException(\"Table ('dF') was not found\")),\n",
       " ('update Eg set V347=q33,cIBx=UwO where (6.6)!=(v)',\n",
       "  InformationFlow.SQLException(\"Table ('Eg') was not found\")),\n",
       " ('insert into DhOI (g2,p) values (7,--463084801.2)',\n",
       "  InformationFlow.SQLException(\"Table ('DhOI') was not found\")),\n",
       " ('update N set a0=E where Y-_+e/:-t>J(x)',\n",
       "  InformationFlow.SQLException(\"Table ('N') was not found\")),\n",
       " ('select k*i-u*Q(B)*B>u/G/H*G from E',\n",
       "  InformationFlow.SQLException(\"Table ('E') was not found\")),\n",
       " ('update y19 set R=N2 where Ns(u)/C==5==j>N',\n",
       "  InformationFlow.SQLException(\"Table ('y19') was not found\")),\n",
       " ('select t from o6A',\n",
       "  InformationFlow.SQLException(\"Table ('o6A') was not found\")),\n",
       " ('delete from WJ33 where (xG)-H(H!=w,P)<Z*B/r-D/D',\n",
       "  InformationFlow.SQLException(\"Table ('WJ33') was not found\")),\n",
       " ('delete from l45HM where r==R-U/N*H((V),M)*X-V*w==o6d',\n",
       "  InformationFlow.SQLException(\"Table ('l45HM') was not found\")),\n",
       " (\"insert into s2N (QbG) values (4.7,')A+','!')\",\n",
       "  InformationFlow.SQLException(\"Table ('s2N') was not found\")),\n",
       " ('delete from gI33 where N7(e)<g-X*L',\n",
       "  InformationFlow.SQLException(\"Table ('gI33') was not found\")),\n",
       " ('select (1.39)==2377 from V',\n",
       "  InformationFlow.SQLException(\"Table ('V') was not found\")),\n",
       " ('select (5),P<U==(S)!=l*a-w+K,(R),(N)==J from Z',\n",
       "  InformationFlow.SQLException(\"Table ('Z') was not found\")),\n",
       " ('update MK set Y=j,V=H,v=o where F*e<z(q)',\n",
       "  InformationFlow.SQLException(\"Table ('MK') was not found\")),\n",
       " ('select B>N+r*a-A/:/g-j*d from x',\n",
       "  InformationFlow.SQLException(\"Table ('x') was not found\")),\n",
       " ('select (y/a==4>c(r,P)+j*l(k)/C) from Z',\n",
       "  InformationFlow.SQLException(\"Table ('Z') was not found\")),\n",
       " ('insert into L8 (iJh.,pK9,Y725,T,Y9) values (7.92)',\n",
       "  InformationFlow.SQLException(\"Table ('L8') was not found\")),\n",
       " ('select (F-O>T/S+l) from B4467 where r(e,K)-U<E',\n",
       "  InformationFlow.SQLException(\"Table ('B4467') was not found\")),\n",
       " ('update n68 set A=i where U(t)<.+Q/f',\n",
       "  InformationFlow.SQLException(\"Table ('n68') was not found\")),\n",
       " ('select j9(n==i) from w where c*t+e(:)>J*S/i',\n",
       "  InformationFlow.SQLException(\"Table ('w') was not found\")),\n",
       " ('update hi set R4=v where ((W))==f*L+p*(G<u)>w-G-E-_-m',\n",
       "  InformationFlow.SQLException(\"Table ('hi') was not found\")),\n",
       " ('select 990089.32 from Byf',\n",
       "  InformationFlow.SQLException(\"Table ('Byf') was not found\")),\n",
       " ('select Z(k)-Y(.),d+R from e where hDo(B)>q',\n",
       "  InformationFlow.SQLException(\"Table ('e') was not found\")),\n",
       " ('select rk1(((y)),(c),A==w)>(t)+b(G)/r/e from vO7',\n",
       "  InformationFlow.SQLException(\"Table ('vO7') was not found\")),\n",
       " ('update s80 set C=l where f/m-n<m*D*w/x',\n",
       "  InformationFlow.SQLException(\"Table ('s80') was not found\")),\n",
       " ('update hMrc6 set zB=gI where z-F!=x(f,x,r)',\n",
       "  InformationFlow.SQLException(\"Table ('hMrc6') was not found\")),\n",
       " ('update W9d82 set y93=iC where a/R+P*f!=b(I,b)<Q+w-x-w',\n",
       "  InformationFlow.SQLException(\"Table ('W9d82') was not found\")),\n",
       " ('select aE198w,b4z,6,M,H,I from R',\n",
       "  InformationFlow.SQLException(\"Table ('R') was not found\")),\n",
       " ('select M(A,w) from d where i-U>j+N+U+u-K',\n",
       "  InformationFlow.SQLException(\"Table ('d') was not found\")),\n",
       " (\"insert into Pm (t,C42SO4) values ('*')\",\n",
       "  InformationFlow.SQLException(\"Table ('Pm') was not found\")),\n",
       " ('update C set .l=r4 where j*R/c-B<H(z)',\n",
       "  InformationFlow.SQLException(\"Table ('C') was not found\")),\n",
       " ('select s*G*b(Q)-O(I)>f(I)-B/e from W0',\n",
       "  InformationFlow.SQLException(\"Table ('W0') was not found\")),\n",
       " ('select ((U+S+V*w)) from t where B+j>C*T-c',\n",
       "  InformationFlow.SQLException(\"Table ('t') was not found\")),\n",
       " ('insert into a6P3v (T38,W,l) values (7)',\n",
       "  InformationFlow.SQLException(\"Table ('a6P3v') was not found\")),\n",
       " ('select H from k',\n",
       "  InformationFlow.SQLException(\"Table ('k') was not found\")),\n",
       " ('delete from Tv2:98bX where Q-N-V>C(N)+v-Y',\n",
       "  InformationFlow.SQLException(\"Table ('Tv2:98bX') was not found\")),\n",
       " ('select Ol,C,(x>b)!=M(l/l)/f(K)+d,E.,(F) from sDD',\n",
       "  InformationFlow.SQLException(\"Table ('sDD') was not found\")),\n",
       " ('delete from z05 where _6((V==d),g)+Y+e*K-n<M/j/e',\n",
       "  InformationFlow.SQLException(\"Table ('z05') was not found\")),\n",
       " (\"insert into Q (g_,D) values ('\\\\U8h')\",\n",
       "  InformationFlow.SQLException(\"Table ('Q') was not found\")),\n",
       " ('update _O7 set F51=V where V+t<l-t-X',\n",
       "  InformationFlow.SQLException(\"Table ('_O7') was not found\")),\n",
       " ('update Ck2 set m=w2B where d!=h==N>G',\n",
       "  InformationFlow.SQLException(\"Table ('Ck2') was not found\")),\n",
       " ('update O6 set N=G,x=: where j+I-U>t-j',\n",
       "  InformationFlow.SQLException(\"Table ('O6') was not found\")),\n",
       " ('update hA set y=C,s=v,h=w where b(M)>N',\n",
       "  InformationFlow.SQLException(\"Table ('hA') was not found\")),\n",
       " ('update _12 set s=c where Q-G*n+o==r==:/t*D*w+e-g',\n",
       "  InformationFlow.SQLException(\"Table ('_12') was not found\")),\n",
       " ('select _>P!=(s)!=z==U from o4s1a where nN==X==P',\n",
       "  InformationFlow.SQLException(\"Table ('o4s1a') was not found\")),\n",
       " ('delete from m8DNP8 where T/L>F3(r)',\n",
       "  InformationFlow.SQLException(\"Table ('m8DNP8') was not found\")),\n",
       " (\"insert into E320 (gHr6) values ('/','z')\",\n",
       "  InformationFlow.SQLException(\"Table ('E320') was not found\")),\n",
       " ('update V8 set e=eE,E=w,F=R where Z>m',\n",
       "  InformationFlow.SQLException(\"Table ('V8') was not found\")),\n",
       " ('select G-m(y)/d-Z*q+t(P)*C from tG2C9',\n",
       "  InformationFlow.SQLException(\"Table ('tG2C9') was not found\")),\n",
       " (\"insert into P498R (Y) values (96,-3.9,'Y','T')\",\n",
       "  InformationFlow.SQLException(\"Table ('P498R') was not found\")),\n",
       " ('delete from k5 where J660==(1.42)!=(--41)',\n",
       "  InformationFlow.SQLException(\"Table ('k5') was not found\")),\n",
       " ('insert into i (Z814,m,V5) values (8)',\n",
       "  InformationFlow.SQLException(\"Table ('i') was not found\")),\n",
       " ('select (((1))!=(pO)) from B',\n",
       "  InformationFlow.SQLException(\"Table ('B') was not found\")),\n",
       " ('select (m-q-i/D) from GC4w where A!=o==s',\n",
       "  InformationFlow.SQLException(\"Table ('GC4w') was not found\")),\n",
       " ('select s5H,-5,-21 from m',\n",
       "  InformationFlow.SQLException(\"Table ('m') was not found\")),\n",
       " ('delete from p where Q>((_))==(U-:/:+x/J>l+O+G)',\n",
       "  InformationFlow.SQLException(\"Table ('p') was not found\")),\n",
       " ('select G>Z(w),Z from a where Z!=.>L!=n==R',\n",
       "  InformationFlow.SQLException(\"Table ('a') was not found\")),\n",
       " ('select E6((e),a),z,J,c,T from U7K',\n",
       "  InformationFlow.SQLException(\"Table ('U7K') was not found\")),\n",
       " ('insert into I (i_) values (78)',\n",
       "  InformationFlow.SQLException(\"Table ('I') was not found\")),\n",
       " ('select a(s,_,B) from r30 where bf(_==C)<O(g)*t',\n",
       "  InformationFlow.SQLException(\"Table ('r30') was not found\")),\n",
       " ('select w+f+R<I(I),1,O==V,P from U2',\n",
       "  InformationFlow.SQLException(\"Table ('U2') was not found\")),\n",
       " ('insert into j5 (R48434) values (202.4324)',\n",
       "  InformationFlow.SQLException(\"Table ('j5') was not found\")),\n",
       " ('select 439,(C-w*G(q)*U-v/R-N-Q(I)),p from W_gvD30',\n",
       "  InformationFlow.SQLException(\"Table ('W_gvD30') was not found\")),\n",
       " (\"insert into nI (rT) values (4,6,'}m')\",\n",
       "  InformationFlow.SQLException(\"Table ('nI') was not found\")),\n",
       " ('select t*e*F-l(e)*t/d+d+f+I from Q4',\n",
       "  InformationFlow.SQLException(\"Table ('Q4') was not found\")),\n",
       " ('delete from v where (-33.1)==(6)',\n",
       "  InformationFlow.SQLException(\"Table ('v') was not found\")),\n",
       " ('select (:),C3==-----73.7==(((--95645.4))) from U7Mz2 where W==q0',\n",
       "  InformationFlow.SQLException(\"Table ('U7Mz2') was not found\")),\n",
       " ('insert into w5i1 (ig,g) values (-1.0)',\n",
       "  InformationFlow.SQLException(\"Table ('w5i1') was not found\")),\n",
       " ('delete from BL7 where X==(G+a/y<o+c)',\n",
       "  InformationFlow.SQLException(\"Table ('BL7') was not found\")),\n",
       " ('select (I(P)/H>g5(i)),(f((b!=b),Y,x)) from KL',\n",
       "  InformationFlow.SQLException(\"Table ('KL') was not found\")),\n",
       " ('select v>u*A,X from DePr where n!=r==c',\n",
       "  InformationFlow.SQLException(\"Table ('DePr') was not found\")),\n",
       " ('delete from P where .(v)-G(N)+(a!=q)/.(W)<C(.<e)',\n",
       "  InformationFlow.SQLException(\"Table ('P') was not found\")),\n",
       " ('select (F-_/T/z>C(J)),(((a/y))),W,R from :',\n",
       "  InformationFlow.SQLException(\"Table (':') was not found\")),\n",
       " ('delete from mM9 where 9>M(((((:Z5)))))',\n",
       "  InformationFlow.SQLException(\"Table ('mM9') was not found\")),\n",
       " ('update nqW6s set H3=w where A>J7(P)',\n",
       "  InformationFlow.SQLException(\"Table ('nqW6s') was not found\")),\n",
       " ('delete from M where pB8!=(82.9)==(s1B6qgI5b0)!=o8',\n",
       "  InformationFlow.SQLException(\"Table ('M') was not found\")),\n",
       " ('select D,F,w,V from w where l(M)+P*M<x(j)/I',\n",
       "  InformationFlow.SQLException(\"Table ('w') was not found\")),\n",
       " ('select J-A+J<B,d/O-v>B-l from GMFsMu_',\n",
       "  InformationFlow.SQLException(\"Table ('GMFsMu_') was not found\")),\n",
       " ('delete from x5nsR: where (LE_1)<Y!=n!=Z*(Cl)-(Y)/Z-T+j',\n",
       "  InformationFlow.SQLException(\"Table ('x5nsR:') was not found\")),\n",
       " ('update i set O5=Uq33 where S/b/N>d*f!=953',\n",
       "  InformationFlow.SQLException(\"Table ('i') was not found\")),\n",
       " ('select Sd,J from l2i where h8(J)<:*o',\n",
       "  InformationFlow.SQLException(\"Table ('l2i') was not found\")),\n",
       " ('insert into k (L,s) values (3.9)',\n",
       "  InformationFlow.SQLException(\"Table ('k') was not found\")),\n",
       " ('delete from p0dE where n(B)-A(p,P)>S101(C-B(B)+R-Q)',\n",
       "  InformationFlow.SQLException(\"Table ('p0dE') was not found\")),\n",
       " ('delete from W where o(g)/q>K*v+f+C==9.811',\n",
       "  InformationFlow.SQLException(\"Table ('W') was not found\")),\n",
       " ('delete from t where :u==-9',\n",
       "  InformationFlow.SQLException(\"Table ('t') was not found\")),\n",
       " ('update w2 set Q2=K,W=. where R<G+C*c',\n",
       "  InformationFlow.SQLException(\"Table ('w2') was not found\")),\n",
       " ('update LB set g=O where D/x+D>E<S',\n",
       "  InformationFlow.SQLException(\"Table ('LB') was not found\")),\n",
       " ('select t,(E*c),j!=K,K from I1 where :!=q!=C==(A>G)',\n",
       "  InformationFlow.SQLException(\"Table ('I1') was not found\")),\n",
       " ('delete from V7 where (314)==((009))',\n",
       "  InformationFlow.SQLException(\"Table ('V7') was not found\")),\n",
       " ('delete from cB7n where l-V/m<j*H+d(v,L)',\n",
       "  InformationFlow.SQLException(\"Table ('cB7n') was not found\")),\n",
       " ('update T7 set g=P,S=z where P+n/x+x/M==--8',\n",
       "  InformationFlow.SQLException(\"Table ('T7') was not found\")),\n",
       " ('update kq set kI0=o where R+a+m!=p*R-:',\n",
       "  InformationFlow.SQLException(\"Table ('kq') was not found\")),\n",
       " ('insert into oF034 (VR) values (-59.9,-9)',\n",
       "  InformationFlow.SQLException(\"Table ('oF034') was not found\")),\n",
       " ('select Z/s,(((u))),Z from OAJ where FO(j)>D/_',\n",
       "  InformationFlow.SQLException(\"Table ('OAJ') was not found\")),\n",
       " ('update m set J76=q7 where PB1<y61S1D1V7(zIp(s,u,B)<T*b/p-Z)',\n",
       "  InformationFlow.SQLException(\"Table ('m') was not found\")),\n",
       " ('select 41,B*A+Z*l(J)-p/T-K-C>u from p0FU',\n",
       "  InformationFlow.SQLException(\"Table ('p0FU') was not found\")),\n",
       " (\"insert into Z1p (J,cc0_t) values ('/`T}Y')\",\n",
       "  InformationFlow.SQLException(\"Table ('Z1p') was not found\")),\n",
       " ('select :2fuTm1Os7,(((qk42g5:13)))!=(((E*i/r!=(((7.4))!=C(M)>J+h)))==y8)==G!=3.37 from FY53',\n",
       "  InformationFlow.SQLException(\"Table ('FY53') was not found\")),\n",
       " ('select -52.2,DV,p!=c,(f(X)*_-z-H-O),g,U from k71',\n",
       "  InformationFlow.SQLException(\"Table ('k71') was not found\")),\n",
       " ('insert into u (G,M) values (4,--11)',\n",
       "  InformationFlow.SQLException(\"Table ('u') was not found\")),\n",
       " ('update : set k=t,c=Y,k=e,z=Z where s/C*I*A<J',\n",
       "  InformationFlow.SQLException(\"Table (':') was not found\")),\n",
       " ('select A,(8.4) from Lgco6',\n",
       "  InformationFlow.SQLException(\"Table ('Lgco6') was not found\")),\n",
       " ('delete from M where x-y*r+A*s/k>H1(8,O)',\n",
       "  InformationFlow.SQLException(\"Table ('M') was not found\")),\n",
       " ('select yv03:42 from cX where -5==c-u>P/o/V/p(k)',\n",
       "  InformationFlow.SQLException(\"Table ('cX') was not found\")),\n",
       " ('select a022_5(b),q/y*R,P==X,N from P0',\n",
       "  InformationFlow.SQLException(\"Table ('P0') was not found\")),\n",
       " ('select -3.51 from x where z+X-W/u>G-b/U',\n",
       "  InformationFlow.SQLException(\"Table ('x') was not found\")),\n",
       " ('delete from z where v/C/Z/I*B>d*F*p-Z+L',\n",
       "  InformationFlow.SQLException(\"Table ('z') was not found\")),\n",
       " ('select (Q/D+o>H) from CQ where K>W',\n",
       "  InformationFlow.SQLException(\"Table ('CQ') was not found\")),\n",
       " ('select Yg2a,X-b/m+d+L,(a*k+d) from qI',\n",
       "  InformationFlow.SQLException(\"Table ('qI') was not found\")),\n",
       " ('delete from xy_9 where i/:*W*s+r>_+p*Z-Q+h',\n",
       "  InformationFlow.SQLException(\"Table ('xy_9') was not found\")),\n",
       " ('select ((P)),U,C,S,K from B5j where O==R+K(U)',\n",
       "  InformationFlow.SQLException(\"Table ('B5j') was not found\")),\n",
       " (\"insert into k8 (.JV3Y) values ('6',78.68)\",\n",
       "  InformationFlow.SQLException(\"Table ('k8') was not found\")),\n",
       " ('delete from NCJ where X3(t)<U(B)-E+G-i',\n",
       "  InformationFlow.SQLException(\"Table ('NCJ') was not found\")),\n",
       " ('delete from a1cNUoA8wk where Q6(:)==Z',\n",
       "  InformationFlow.SQLException(\"Table ('a1cNUoA8wk') was not found\")),\n",
       " ('update H1m25T_ set CS=D where j(U)/U!=x',\n",
       "  InformationFlow.SQLException(\"Table ('H1m25T_') was not found\")),\n",
       " ('select Y<F,B!=Z from F1xg1 where x==yM',\n",
       "  InformationFlow.SQLException(\"Table ('F1xg1') was not found\")),\n",
       " (\"insert into xV1535 (n) values ('j',-0.379,')')\",\n",
       "  InformationFlow.SQLException(\"Table ('xV1535') was not found\")),\n",
       " ('update q set :R=p45 where _/j<p+_-H/B',\n",
       "  InformationFlow.SQLException(\"Table ('q') was not found\")),\n",
       " ('delete from Q where (33)!=Ph',\n",
       "  InformationFlow.SQLException(\"Table ('Q') was not found\")),\n",
       " (\"insert into U (A6v,jo) values ('#')\",\n",
       "  InformationFlow.SQLException(\"Table ('U') was not found\")),\n",
       " ('delete from q72 where K*m+_*c/z-h+u<a-c+g',\n",
       "  InformationFlow.SQLException(\"Table ('q72') was not found\")),\n",
       " ('select (011167591.7) from k',\n",
       "  InformationFlow.SQLException(\"Table ('k') was not found\")),\n",
       " (\"insert into A (Y4Esk,z1h) values ('SK','KJ','}','p')\",\n",
       "  InformationFlow.SQLException(\"Table ('A') was not found\")),\n",
       " ('update : set bu=I where o*_*E<J/F(z)-y',\n",
       "  InformationFlow.SQLException(\"Table (':') was not found\")),\n",
       " (\"insert into yjv (n) values ('W','T',1,-42)\",\n",
       "  InformationFlow.SQLException(\"Table ('yjv') was not found\")),\n",
       " ('update : set G=_,T=o,D=s where T-R-E==6.77',\n",
       "  InformationFlow.SQLException(\"Table (':') was not found\")),\n",
       " ('select f>a/J from C_5 where (H)!=w/P+i',\n",
       "  InformationFlow.SQLException(\"Table ('C_5') was not found\")),\n",
       " ('update q2 set e3f7=W where a(l)<e/e+c+O-f',\n",
       "  InformationFlow.SQLException(\"Table ('q2') was not found\")),\n",
       " ('update Z1 set y=D,a=P where ./u+o+U<W-S',\n",
       "  InformationFlow.SQLException(\"Table ('Z1') was not found\")),\n",
       " (\"insert into Iq_97y (n75) values ('m%')\",\n",
       "  InformationFlow.SQLException(\"Table ('Iq_97y') was not found\")),\n",
       " ('delete from S42t where (f+G)!=c/X*b<a(m,u)',\n",
       "  InformationFlow.SQLException(\"Table ('S42t') was not found\")),\n",
       " ('select .,D,E-D+_ from MP where (P==(q))>r(r)+w==N+f',\n",
       "  InformationFlow.SQLException(\"Table ('MP') was not found\")),\n",
       " ('delete from vAD where (Eca0e)*(G*:-a2(H)*B(U))==-1',\n",
       "  InformationFlow.SQLException(\"Table ('vAD') was not found\")),\n",
       " ('update Vo3 set m2s574t=xgt434 where 170==--8',\n",
       "  InformationFlow.SQLException(\"Table ('Vo3') was not found\")),\n",
       " ('delete from H8 where O(.)>W/r-_*G<h+Q(F)',\n",
       "  InformationFlow.SQLException(\"Table ('H8') was not found\")),\n",
       " ('select (.X(s)+E(B,u)>Y(J==Z)+J/w(r)*m) from L',\n",
       "  InformationFlow.SQLException(\"Table ('L') was not found\")),\n",
       " ('delete from p where s(:,t,V,c)>t+p-k*y/M',\n",
       "  InformationFlow.SQLException(\"Table ('p') was not found\")),\n",
       " (\"insert into zz79G (w54) values ('6e','f',09,8.4,'>p','J')\",\n",
       "  InformationFlow.SQLException(\"Table ('zz79G') was not found\")),\n",
       " ('select b/_==j*G+Z,Y>d==h==X<w from c',\n",
       "  InformationFlow.SQLException(\"Table ('c') was not found\")),\n",
       " ('select .,h from s7 where L-m*k<H-K',\n",
       "  InformationFlow.SQLException(\"Table ('s7') was not found\")),\n",
       " (\"insert into R (K,p) values ('d')\",\n",
       "  InformationFlow.SQLException(\"Table ('R') was not found\")),\n",
       " ('update e7 set o9=KI where 6.389==W89',\n",
       "  InformationFlow.SQLException(\"Table ('e7') was not found\")),\n",
       " ('select (--15.75) from .',\n",
       "  InformationFlow.SQLException(\"Table ('.') was not found\")),\n",
       " (\"insert into gMz (F) values ('ED','*?CEL?',-3,-3.4)\",\n",
       "  InformationFlow.SQLException(\"Table ('gMz') was not found\")),\n",
       " ('insert into j0 (F9YG,ux_f.) values (-472)',\n",
       "  InformationFlow.SQLException(\"Table ('j0') was not found\")),\n",
       " ('insert into T (bmeOX10) values (9,46.5,91,4.96)',\n",
       "  InformationFlow.SQLException(\"Table ('T') was not found\")),\n",
       " ('select (E),o/U/i,c from A6 where j-f==B<o',\n",
       "  InformationFlow.SQLException(\"Table ('A6') was not found\")),\n",
       " ('update d set a=:,N=u,g=G where 5!=R!=b>.',\n",
       "  InformationFlow.SQLException(\"Table ('d') was not found\")),\n",
       " (\"insert into ECM (r3MrA3GopCe4) values ('s','L',4.1)\",\n",
       "  InformationFlow.SQLException(\"Table ('ECM') was not found\")),\n",
       " ('update H2 set l=O,W=f,X=b where _/w/u/_>m',\n",
       "  InformationFlow.SQLException(\"Table ('H2') was not found\")),\n",
       " ('delete from u where r((((l))),g(i))<c/C/Y(m)-Q(r,E)',\n",
       "  InformationFlow.SQLException(\"Table ('u') was not found\")),\n",
       " ('update x set A=B,O=h where 0.5/E>M+y-b',\n",
       "  InformationFlow.SQLException(\"Table ('x') was not found\")),\n",
       " ('delete from SY where G6B<XP',\n",
       "  InformationFlow.SQLException(\"Table ('SY') was not found\")),\n",
       " (\"insert into j (b,kM6vP685C5,W75,D8) values ('sl')\",\n",
       "  InformationFlow.SQLException(\"Table ('j') was not found\")),\n",
       " ('select d/o*m*:(F)*c(q),(-6),(f),V from u3u7',\n",
       "  InformationFlow.SQLException(\"Table ('u3u7') was not found\")),\n",
       " ('select -58554.73 from K86465',\n",
       "  InformationFlow.SQLException(\"Table ('K86465') was not found\")),\n",
       " ('select ((C+B/e-y/X-r-f!=H*A/f)) from w',\n",
       "  InformationFlow.SQLException(\"Table ('w') was not found\")),\n",
       " (\"insert into f (fJz78R6V,U,X_) values ('6|U ')\",\n",
       "  InformationFlow.SQLException(\"Table ('f') was not found\")),\n",
       " ('delete from q1809G where 8.208>h+w+E/u+r*e-Z+(.)/(m==(e))',\n",
       "  InformationFlow.SQLException(\"Table ('q1809G') was not found\")),\n",
       " ('select ((x*T*W/./:+E-h)) from A7u437U',\n",
       "  InformationFlow.SQLException(\"Table ('A7u437U') was not found\")),\n",
       " ('delete from f where (:62h)==G(w,J)==(Q/P<P>M((D)))',\n",
       "  InformationFlow.SQLException(\"Table ('f') was not found\")),\n",
       " ('insert into c (x5,b) values (4)',\n",
       "  InformationFlow.SQLException(\"Table ('c') was not found\")),\n",
       " ('insert into A (b) values (0.96)',\n",
       "  InformationFlow.SQLException(\"Table ('A') was not found\")),\n",
       " ('delete from s8 where Q(e)+h*m-m/w>:-_*v+i',\n",
       "  InformationFlow.SQLException(\"Table ('s8') was not found\")),\n",
       " ('select (F-l-l-O) from dO1l where Y>o(J==d)',\n",
       "  InformationFlow.SQLException(\"Table ('dO1l') was not found\")),\n",
       " (\"insert into k: (Q6) values ('-v')\",\n",
       "  InformationFlow.SQLException(\"Table ('k:') was not found\")),\n",
       " ('select u4 from wa where P-c+Q/P+o==Q+l<T/H',\n",
       "  InformationFlow.SQLException(\"Table ('wa') was not found\")),\n",
       " ('update y8k2 set db=F where (Z2G)==-8.784',\n",
       "  InformationFlow.SQLException(\"Table ('y8k2') was not found\")),\n",
       " ('delete from d where sj1w!=((26))',\n",
       "  InformationFlow.SQLException(\"Table ('d') was not found\")),\n",
       " (\"insert into g7v6 (.3,p,K) values ('+','U')\",\n",
       "  InformationFlow.SQLException(\"Table ('g7v6') was not found\")),\n",
       " ('select k*O*J,q from v2Y where B/c<i(j)',\n",
       "  InformationFlow.SQLException(\"Table ('v2Y') was not found\")),\n",
       " ('update L set b=R,W=H where H-_>H-:/t+_',\n",
       "  InformationFlow.SQLException(\"Table ('L') was not found\")),\n",
       " ('delete from E where (h<k==G==Z)==f/_*a(m,C)',\n",
       "  InformationFlow.SQLException(\"Table ('E') was not found\")),\n",
       " (\"insert into Q0t (k11_1o8,Sy) values ('`')\",\n",
       "  InformationFlow.SQLException(\"Table ('Q0t') was not found\")),\n",
       " ('select H==t from G8S where U/I+e+C>u-a-D',\n",
       "  InformationFlow.SQLException(\"Table ('G8S') was not found\")),\n",
       " ('select IE from L3.',\n",
       "  InformationFlow.SQLException(\"Table ('L3.') was not found\")),\n",
       " ('select :/T-m(x)*W(h)*h from cT9y7',\n",
       "  InformationFlow.SQLException(\"Table ('cT9y7') was not found\")),\n",
       " ('select rrq(.+T*e*I+L/z-T/i,9,W) from b1',\n",
       "  InformationFlow.SQLException(\"Table ('b1') was not found\")),\n",
       " ('select f/pG(h)/i+V+Q9P,F from EEGrk9Mgs',\n",
       "  InformationFlow.SQLException(\"Table ('EEGrk9Mgs') was not found\")),\n",
       " (\"insert into h59X (G) values ('b_','g',9)\",\n",
       "  InformationFlow.SQLException(\"Table ('h59X') was not found\")),\n",
       " ('select i!=T!=H,(c(S)-w/R/c*Z+m*D) from M49',\n",
       "  InformationFlow.SQLException(\"Table ('M49') was not found\")),\n",
       " ('select T==E from T7 where W-J/H+q/M<e(r)*w',\n",
       "  InformationFlow.SQLException(\"Table ('T7') was not found\")),\n",
       " ('delete from wKh where X-D(H)*D*Z/:<p(i)-W*Q',\n",
       "  InformationFlow.SQLException(\"Table ('wKh') was not found\")),\n",
       " ('insert into z3V4Z (o) values (-41.60)',\n",
       "  InformationFlow.SQLException(\"Table ('z3V4Z') was not found\")),\n",
       " ('select (f*P>I-t(V)+wL(o))*T6(--2.6) from P where 41!=(6)',\n",
       "  InformationFlow.SQLException(\"Table ('P') was not found\")),\n",
       " ('update i set w7=N8 where B>DN1(r,v)',\n",
       "  InformationFlow.SQLException(\"Table ('i') was not found\")),\n",
       " ('update A3 set x3=K where k/:(F)+L(n)>I/E',\n",
       "  InformationFlow.SQLException(\"Table ('A3') was not found\")),\n",
       " ('update A set e=U,G=S,v=z where X*u>g/Y',\n",
       "  InformationFlow.SQLException(\"Table ('A') was not found\")),\n",
       " ('update Y0 set M=B,l=y,P=a where K(b)<i',\n",
       "  InformationFlow.SQLException(\"Table ('Y0') was not found\")),\n",
       " ('select (W),a,: from f where E*i+m<c/r+i-Z',\n",
       "  InformationFlow.SQLException(\"Table ('f') was not found\")),\n",
       " ('delete from m where (h>q+W-E)<R+m-c(E!=j,r,.)',\n",
       "  InformationFlow.SQLException(\"Table ('m') was not found\")),\n",
       " (\"insert into H2973 (l,f9k21) values ('7')\",\n",
       "  InformationFlow.SQLException(\"Table ('H2973') was not found\")),\n",
       " ('update dV set o=C,K=L where G/Z-O<A',\n",
       "  InformationFlow.SQLException(\"Table ('dV') was not found\")),\n",
       " ('select (m-E(Y)-(d+a)) from U where (jp)==817.3',\n",
       "  InformationFlow.SQLException(\"Table ('U') was not found\")),\n",
       " ('delete from H7I72 where N==_<q==N-E+M<i(U)',\n",
       "  InformationFlow.SQLException(\"Table ('H7I72') was not found\")),\n",
       " ('select h>:,b,X from w5 where i>s(J)',\n",
       "  InformationFlow.SQLException(\"Table ('w5') was not found\")),\n",
       " ('delete from dk81v6 where t-a>O+C+G!=r(O)==d',\n",
       "  InformationFlow.SQLException(\"Table ('dk81v6') was not found\")),\n",
       " ('delete from eB9 where U_!=(R-G/k*z+f*p-M/p*E(H))',\n",
       "  InformationFlow.SQLException(\"Table ('eB9') was not found\")),\n",
       " ('update V30xG set U11m=e where 2.4==E>Q(pw8((V*A)!=H>y,V+Z+Q,U3))',\n",
       "  InformationFlow.SQLException(\"Table ('V30xG') was not found\")),\n",
       " ('select n!=X,i,w from A8T where i+t>Y*T',\n",
       "  InformationFlow.SQLException(\"Table ('A8T') was not found\")),\n",
       " ('insert into h6A (AY8) values (-239,7)',\n",
       "  InformationFlow.SQLException(\"Table ('h6A') was not found\")),\n",
       " ('insert into g (a1) values (1.4)',\n",
       "  InformationFlow.SQLException(\"Table ('g') was not found\")),\n",
       " ('delete from Q6vD9w where v8h56+F(((-76.0))==o,(((319.608))))>(L9ak3y)',\n",
       "  InformationFlow.SQLException(\"Table ('Q6vD9w') was not found\")),\n",
       " (\"insert into Z5BT (aBAira) values (-31418,'#u','uM','Q')\",\n",
       "  InformationFlow.SQLException(\"Table ('Z5BT') was not found\")),\n",
       " ('update :4 set Y=U,y=z where r1(v)<g',\n",
       "  InformationFlow.SQLException(\"Table (':4') was not found\")),\n",
       " ('delete from x where J(i)+m>FV(P!=V,.)*u(g,K)',\n",
       "  InformationFlow.SQLException(\"Table ('x') was not found\")),\n",
       " ('select a6 from p029 where (f==l)==M/F<k/C',\n",
       "  InformationFlow.SQLException(\"Table ('p029') was not found\")),\n",
       " ('delete from o6D0 where w11E==(_*F+T*P+.*o/N/s-u-S)',\n",
       "  InformationFlow.SQLException(\"Table ('o6D0') was not found\")),\n",
       " ('select c2E1 from b where T(I)*e<r!=L-S+T*VY(C)',\n",
       "  InformationFlow.SQLException(\"Table ('b') was not found\")),\n",
       " ('delete from F where s0(:7(A,K))>--0.5/((L))/D*j+t(p)',\n",
       "  InformationFlow.SQLException(\"Table ('F') was not found\")),\n",
       " ('delete from V3a7 where zq<r(t*k,((P)),U)/g(j)/l/D-B+C',\n",
       "  InformationFlow.SQLException(\"Table ('V3a7') was not found\")),\n",
       " ('delete from m1 where z+_/G-v==O(z,O)>PU(h)',\n",
       "  InformationFlow.SQLException(\"Table ('m1') was not found\")),\n",
       " ('delete from a5 where 9.0!=-7',\n",
       "  InformationFlow.SQLException(\"Table ('a5') was not found\")),\n",
       " (\"insert into f (h) values (92.879,'S','Qu',3555.34)\",\n",
       "  InformationFlow.SQLException(\"Table ('f') was not found\")),\n",
       " (\"insert into t4aW (U.9fQ) values ('T$')\",\n",
       "  InformationFlow.SQLException(\"Table ('t4aW') was not found\"))]"
      ]
     },
     "execution_count": 26,
     "metadata": {},
     "output_type": "execute_result"
    }
   ],
   "source": [
    "result2.exceptions"
   ]
  },
  {
   "cell_type": "markdown",
   "metadata": {
    "slideshow": {
     "slide_type": "skip"
    }
   },
   "source": [
    "As we can see, the inputs are actually produced correctly according to the grammar. However, the grammar itself is not enough to produce inputs depending on the state of the database."
   ]
  },
  {
   "cell_type": "markdown",
   "metadata": {
    "slideshow": {
     "slide_type": "skip"
    }
   },
   "source": [
    "Let's compare the elapsed time for each fuzzer."
   ]
  },
  {
   "cell_type": "code",
   "execution_count": 27,
   "metadata": {
    "slideshow": {
     "slide_type": "slide"
    }
   },
   "outputs": [
    {
     "name": "stdout",
     "output_type": "stream",
     "text": [
      "\n",
      "\n",
      "Elapsed Time                   ConcolicGrammarFuzzer     GrammarFuzzer            \n",
      "---------------------------------------------------------------------------\n",
      "in minutes                     2.08 m                    0.51 m                   \n",
      "in seconds                     124.59 s                  30.41 s                  \n",
      "in milliseconds                124594 ms                 30413 ms                 \n"
     ]
    }
   ],
   "source": [
    "result_comparator.compare_elapsed_time()"
   ]
  },
  {
   "cell_type": "markdown",
   "metadata": {
    "slideshow": {
     "slide_type": "skip"
    }
   },
   "source": [
    "As expected, concolic fuzzer runs much slower because of the concolic execution and the constraint solving.\n",
    "\n",
    "Now, let's implement a function to encapsulate this comperative running process."
   ]
  },
  {
   "cell_type": "code",
   "execution_count": 28,
   "metadata": {
    "slideshow": {
     "slide_type": "slide"
    }
   },
   "outputs": [],
   "source": [
    "def comperative_run(runner1, config1, runner2, config2): \n",
    "    result1 = runner1(**config1)\n",
    "    result2 = runner2(**config2)\n",
    "    rc = ResultComparator(result1, result2)\n",
    "    rc.compare_all()\n",
    "    return result1, result2"
   ]
  },
  {
   "cell_type": "markdown",
   "metadata": {
    "slideshow": {
     "slide_type": "skip"
    }
   },
   "source": [
    "Let's fuzz 2000 times and compare the results with the `comperative_run` function."
   ]
  },
  {
   "cell_type": "code",
   "execution_count": 29,
   "metadata": {
    "slideshow": {
     "slide_type": "slide"
    }
   },
   "outputs": [
    {
     "name": "stdout",
     "output_type": "stream",
     "text": [
      "ConcolicGrammarFuzzer         -> fuzzed 2000 times in 234.26 seconds!\n",
      "GrammarFuzzer                 -> fuzzed 2000 times in 54.62 seconds!\n",
      "\n",
      "\n",
      "Line Coverage                  ConcolicGrammarFuzzer     GrammarFuzzer            \n",
      "---------------------------------------------------------------------------\n",
      "all functions                  66                        29                       \n",
      "do_delete                      11                        5                        \n",
      "table                          4                         3                        \n",
      "do_update                      21                        6                        \n",
      "sql                            7                         7                        \n",
      "query_db                       3                         3                        \n",
      "do_insert                      20                        5                        \n"
     ]
    },
    {
     "data": {
      "image/png": "[encoded data removed]",
      "text/plain": [
       "<Figure size 432x288 with 1 Axes>"
      ]
     },
     "metadata": {
      "needs_background": "light"
     },
     "output_type": "display_data"
    },
    {
     "name": "stdout",
     "output_type": "stream",
     "text": [
      "\n",
      "\n",
      "Branch Coverage                ConcolicGrammarFuzzer     GrammarFuzzer            \n",
      "---------------------------------------------------------------------------\n",
      "all functions                  65                        25                       \n",
      "do_delete                      10                        4                        \n",
      "table                          4                         3                        \n",
      "do_update                      20                        5                        \n",
      "sql                            7                         7                        \n",
      "query_db                       2                         2                        \n",
      "do_insert                      22                        4                        \n"
     ]
    },
    {
     "data": {
      "image/png": "[encoded data removed]",
      "text/plain": [
       "<Figure size 432x288 with 1 Axes>"
      ]
     },
     "metadata": {
      "needs_background": "light"
     },
     "output_type": "display_data"
    },
    {
     "name": "stdout",
     "output_type": "stream",
     "text": [
      "\n",
      "\n",
      "Exception Type                 ConcolicGrammarFuzzer     GrammarFuzzer            \n",
      "---------------------------------------------------------------------------\n",
      "all exceptions                 1892                      2000                     \n",
      "TypeError                      1                         0                        \n",
      "SQLException                   1891                      2000                     \n",
      "\n",
      "\n",
      "Valid Inputs                   ConcolicGrammarFuzzer     GrammarFuzzer            \n",
      "---------------------------------------------------------------------------\n",
      "Number                         108                       0                        \n",
      "Percentage %                   5.4                       0.0                      \n",
      "\n",
      "\n",
      "Elapsed Time                   ConcolicGrammarFuzzer     GrammarFuzzer            \n",
      "---------------------------------------------------------------------------\n",
      "in minutes                     3.90 m                    0.91 m                   \n",
      "in seconds                     234.26 s                  54.62 s                  \n",
      "in milliseconds                234263 ms                 54617 ms                 \n"
     ]
    }
   ],
   "source": [
    "config = {\n",
    "    'target': TARGET_DEFAULT,       # query_db\n",
    "    'grammar': GRAMMAR_DEFAULT,     # INVENTORY_GRAMMAR\n",
    "    'min_nonterminals': 0,          \n",
    "    'max_nonterminals': 10,         \n",
    "    'n_fuzz': 2000,                 \n",
    "    'functions': FUNCTIONS_DEFAULT  # functions we want to obtain coverage\n",
    "}\n",
    "\n",
    "result1, result2 = comperative_run(\n",
    "    runner1=run_concolic_grammar_fuzzer,\n",
    "    config1=config,\n",
    "    runner2=run_grammar_fuzzer,\n",
    "    config2=config\n",
    ")"
   ]
  },
  {
   "cell_type": "markdown",
   "metadata": {
    "slideshow": {
     "slide_type": "skip"
    }
   },
   "source": [
    "Coverages are similar, but this time we got more valid inputs with the concolic fuzzer."
   ]
  },
  {
   "cell_type": "markdown",
   "metadata": {
    "slideshow": {
     "slide_type": "slide"
    }
   },
   "source": [
    "### Timed Fuzzing\n",
    "\n",
    "So far we have fuzzed our target given number of times but it is also a nice idea to fuzz the target for a given duration. Let's add this with the following function `fuzz_n_minutes` and new runners `run_grammar_fuzzer_timed`, `run_concolic_grammar_fuzzer_timed`."
   ]
  },
  {
   "cell_type": "code",
   "execution_count": 30,
   "metadata": {
    "slideshow": {
     "slide_type": "slide"
    }
   },
   "outputs": [],
   "source": [
    "def fuzz_n_minutes(target, functions, fuzzer, n_minutes):\n",
    "    fuzzer_name = fuzzer.__class__.__name__\n",
    "    \n",
    "    line_coverage = set()\n",
    "    branch_coverage = set()\n",
    "    exceptions = []\n",
    "    valid_inputs = []\n",
    "    \n",
    "    start_time = time.time()\n",
    "    stop_time_wanted = start_time + (n_minutes * 60)\n",
    "    \n",
    "    i = 0\n",
    "    while True:\n",
    "        remaining = stop_time_wanted - time.time()\n",
    "        if remaining < 1:\n",
    "            break\n",
    "        \n",
    "        print('{0:<30}-> fuzz {1} remaining {2:.0f} seconds'.format(\n",
    "              fuzzer_name, i, remaining), end='  \\r')\n",
    "        \n",
    "        inp = fuzzer.fuzz()\n",
    "        with FilteredCoverage(functions) as fc:\n",
    "            try:\n",
    "                run_target(target, inp, fuzzer)\n",
    "                valid_inputs.append(inp)\n",
    "            except Exception as e:\n",
    "                exceptions.append((inp, e))\n",
    "\n",
    "        line_coverage |= fc.get_line_coverage()\n",
    "        branch_coverage |= fc.get_branch_coverage()\n",
    "        i += 1\n",
    "        \n",
    "    elapsed_time = time.time() - start_time\n",
    "\n",
    "    print('{0:<30}-> fuzzed {1} times in {2:.2f} seconds!'.format(fuzzer_name, i, elapsed_time))\n",
    "    \n",
    "    return Result(functions,\n",
    "                  fuzzer_name,\n",
    "                  i,\n",
    "                  line_coverage, \n",
    "                  branch_coverage, \n",
    "                  exceptions,\n",
    "                  valid_inputs,\n",
    "                  elapsed_time)"
   ]
  },
  {
   "cell_type": "code",
   "execution_count": 31,
   "metadata": {
    "slideshow": {
     "slide_type": "slide"
    }
   },
   "outputs": [],
   "source": [
    "def run_grammar_fuzzer_timed(\n",
    "        target, \n",
    "        grammar, \n",
    "        min_nonterminals,\n",
    "        max_nonterminals,\n",
    "        n_minutes,\n",
    "        functions): \n",
    "    \n",
    "    gf = GrammarFuzzer(grammar=grammar, \n",
    "                       min_nonterminals=min_nonterminals,\n",
    "                       max_nonterminals=max_nonterminals)\n",
    "    \n",
    "    result = fuzz_n_minutes(target=target, \n",
    "                          functions=functions, \n",
    "                          fuzzer=gf, \n",
    "                          n_minutes=n_minutes)\n",
    "    \n",
    "    return result"
   ]
  },
  {
   "cell_type": "code",
   "execution_count": 32,
   "metadata": {
    "slideshow": {
     "slide_type": "slide"
    }
   },
   "outputs": [],
   "source": [
    "def run_concolic_grammar_fuzzer_timed(\n",
    "        target, \n",
    "        grammar, \n",
    "        min_nonterminals,\n",
    "        max_nonterminals, \n",
    "        n_minutes,\n",
    "        functions):\n",
    "    \n",
    "    cgf = ConcolicGrammarFuzzer(grammar=grammar,\n",
    "                                min_nonterminals=min_nonterminals,\n",
    "                                max_nonterminals=max_nonterminals)\n",
    "    \n",
    "    cgf.prune_tokens([])\n",
    "    \n",
    "    result = fuzz_n_minutes(target=target, \n",
    "                          functions=functions, \n",
    "                          fuzzer=cgf, \n",
    "                          n_minutes=n_minutes)\n",
    "    \n",
    "    return result"
   ]
  },
  {
   "cell_type": "code",
   "execution_count": 33,
   "metadata": {
    "slideshow": {
     "slide_type": "slide"
    }
   },
   "outputs": [
    {
     "name": "stdout",
     "output_type": "stream",
     "text": [
      "ConcolicGrammarFuzzer         -> fuzzed 510 times in 59.12 seconds!\n",
      "GrammarFuzzer                 -> fuzzed 1842 times in 59.00 seconds!\n",
      "\n",
      "\n",
      "Line Coverage                  ConcolicGrammarFuzzer     GrammarFuzzer            \n",
      "---------------------------------------------------------------------------\n",
      "all functions                  60                        29                       \n",
      "do_delete                      7                         5                        \n",
      "table                          4                         3                        \n",
      "do_update                      19                        6                        \n",
      "sql                            7                         7                        \n",
      "query_db                       3                         3                        \n",
      "do_insert                      20                        5                        \n"
     ]
    },
    {
     "data": {
      "image/png": "[encoded data removed]",
      "text/plain": [
       "<Figure size 432x288 with 1 Axes>"
      ]
     },
     "metadata": {
      "needs_background": "light"
     },
     "output_type": "display_data"
    },
    {
     "name": "stdout",
     "output_type": "stream",
     "text": [
      "\n",
      "\n",
      "Branch Coverage                ConcolicGrammarFuzzer     GrammarFuzzer            \n",
      "---------------------------------------------------------------------------\n",
      "all functions                  58                        25                       \n",
      "do_delete                      5                         4                        \n",
      "table                          4                         3                        \n",
      "do_update                      18                        5                        \n",
      "sql                            7                         7                        \n",
      "query_db                       2                         2                        \n",
      "do_insert                      22                        4                        \n"
     ]
    },
    {
     "data": {
      "image/png": "[encoded data removed]",
      "text/plain": [
       "<Figure size 432x288 with 1 Axes>"
      ]
     },
     "metadata": {
      "needs_background": "light"
     },
     "output_type": "display_data"
    },
    {
     "name": "stdout",
     "output_type": "stream",
     "text": [
      "\n",
      "\n",
      "Exception Type                 ConcolicGrammarFuzzer     GrammarFuzzer            \n",
      "---------------------------------------------------------------------------\n",
      "all exceptions                 485                       1842                     \n",
      "SQLException                   485                       1842                     \n",
      "\n",
      "\n",
      "Valid Inputs                   ConcolicGrammarFuzzer     GrammarFuzzer            \n",
      "---------------------------------------------------------------------------\n",
      "Number                         25                        0                        \n",
      "Percentage %                   4.9                       0.0                      \n",
      "\n",
      "\n",
      "Elapsed Time                   ConcolicGrammarFuzzer     GrammarFuzzer            \n",
      "---------------------------------------------------------------------------\n",
      "in minutes                     0.99 m                    0.98 m                   \n",
      "in seconds                     59.12 s                   59.00 s                  \n",
      "in milliseconds                59115 ms                  59003 ms                 \n"
     ]
    }
   ],
   "source": [
    "config = {\n",
    "    'target': TARGET_DEFAULT,       \n",
    "    'grammar': GRAMMAR_DEFAULT,     \n",
    "    'min_nonterminals': 0,          \n",
    "    'max_nonterminals': 10,         \n",
    "    'n_minutes': 1,                 \n",
    "    'functions': FUNCTIONS_DEFAULT  \n",
    "}\n",
    "\n",
    "result1, result2 = comperative_run(\n",
    "    runner1=run_concolic_grammar_fuzzer_timed,\n",
    "    config1=config,\n",
    "    runner2=run_grammar_fuzzer_timed,\n",
    "    config2=config\n",
    ")"
   ]
  },
  {
   "cell_type": "markdown",
   "metadata": {
    "slideshow": {
     "slide_type": "slide"
    }
   },
   "source": [
    "### Fuzzing for an hour with each fuzzer\n",
    "\n",
    "Let's see if we gain new insights."
   ]
  },
  {
   "cell_type": "code",
   "execution_count": 34,
   "metadata": {
    "slideshow": {
     "slide_type": "slide"
    }
   },
   "outputs": [
    {
     "name": "stdout",
     "output_type": "stream",
     "text": [
      "ConcolicGrammarFuzzer         -> fuzzed 32092 times in 3599.09 seconds!\n",
      "GrammarFuzzer                 -> fuzzed 134744 times in 3599.03 seconds!                                                     \n",
      "\n",
      "\n",
      "Line Coverage                  ConcolicGrammarFuzzer     GrammarFuzzer            \n",
      "---------------------------------------------------------------------------\n",
      "all functions                  66                        29                       \n",
      "do_delete                      11                        5                        \n",
      "table                          4                         3                        \n",
      "do_update                      21                        6                        \n",
      "sql                            7                         7                        \n",
      "query_db                       3                         3                        \n",
      "do_insert                      20                        5                        \n"
     ]
    },
    {
     "data": {
      "image/png": "[encoded data removed]",
      "text/plain": [
       "<Figure size 432x288 with 1 Axes>"
      ]
     },
     "metadata": {
      "needs_background": "light"
     },
     "output_type": "display_data"
    },
    {
     "name": "stdout",
     "output_type": "stream",
     "text": [
      "\n",
      "\n",
      "Branch Coverage                ConcolicGrammarFuzzer     GrammarFuzzer            \n",
      "---------------------------------------------------------------------------\n",
      "all functions                  65                        25                       \n",
      "do_delete                      10                        4                        \n",
      "table                          4                         3                        \n",
      "do_update                      20                        5                        \n",
      "sql                            7                         7                        \n",
      "query_db                       2                         2                        \n",
      "do_insert                      22                        4                        \n"
     ]
    },
    {
     "data": {
      "image/png": "[encoded data removed]",
      "text/plain": [
       "<Figure size 432x288 with 1 Axes>"
      ]
     },
     "metadata": {
      "needs_background": "light"
     },
     "output_type": "display_data"
    },
    {
     "name": "stdout",
     "output_type": "stream",
     "text": [
      "\n",
      "\n",
      "Exception Type                 ConcolicGrammarFuzzer     GrammarFuzzer            \n",
      "---------------------------------------------------------------------------\n",
      "all exceptions                 30348                     134744                   \n",
      "TypeError                      23                        0                        \n",
      "SQLException                   30325                     134744                   \n",
      "\n",
      "\n",
      "Valid Inputs                   ConcolicGrammarFuzzer     GrammarFuzzer            \n",
      "---------------------------------------------------------------------------\n",
      "Number                         1744                      0                        \n",
      "Percentage %                   5.43                      0.0                      \n",
      "\n",
      "\n",
      "Elapsed Time                   ConcolicGrammarFuzzer     GrammarFuzzer            \n",
      "---------------------------------------------------------------------------\n",
      "in minutes                     59.98 m                   59.98 m                  \n",
      "in seconds                     3599.09 s                 3599.03 s                \n",
      "in milliseconds                3599089 ms                3599031 ms               \n"
     ]
    }
   ],
   "source": [
    "config = {\n",
    "    'target': TARGET_DEFAULT,       \n",
    "    'grammar': GRAMMAR_DEFAULT,     \n",
    "    'min_nonterminals': 0,         \n",
    "    'max_nonterminals': 10,         \n",
    "    'n_minutes': 60,            \n",
    "    'functions': FUNCTIONS_DEFAULT\n",
    "}\n",
    "\n",
    "result1, result2 = comperative_run(\n",
    "    runner1=run_concolic_grammar_fuzzer_timed,\n",
    "    config1=config,\n",
    "    runner2=run_grammar_fuzzer_timed,\n",
    "    config2=config\n",
    ")"
   ]
  },
  {
   "cell_type": "markdown",
   "metadata": {
    "slideshow": {
     "slide_type": "slide"
    }
   },
   "source": [
    "## 7. Comments, Conclusion and Future Work <a name=\"comments\"></a>"
   ]
  },
  {
   "cell_type": "markdown",
   "metadata": {
    "slideshow": {
     "slide_type": "slide"
    }
   },
   "source": [
    "### Speed\n",
    "* `GrammarFuzzer` runs ~4 times faster than `ConcolicGrammarFuzzer`.\n",
    "* `ConcolicGrammarFuzzer`'s is limited by concolic execution, constraint solving, z3, theory of strings ..."
   ]
  },
  {
   "cell_type": "markdown",
   "metadata": {
    "slideshow": {
     "slide_type": "slide"
    }
   },
   "source": [
    "### Inputs produced and coverage\n",
    "* `ConcolicGrammarFuzzer` is able to generate inputs that **depend on the state**.\n",
    "\n",
    "* Not only uses the given grammar, but updates it with the help of the concolic execution and the constraint solver (e.g adds required table and column names which depend on the state of the database).\n",
    "\n",
    "* Hence, `ConcolicGrammarFuzzer` is able to produce **valid inputs** and achieves a **higher coverage**.\n",
    "\n",
    "* On the other hand, `GrammarFuzzer` works only with the information provided by the grammar. Therefore it can't generate inputs that depend on the state of the database."
   ]
  },
  {
   "cell_type": "markdown",
   "metadata": {
    "slideshow": {
     "slide_type": "slide"
    }
   },
   "source": [
    "### Obtaining Coverage\n",
    "* Obtaining coverage from concolic execution requires some extra work.\n",
    "* I chose whitelisting the functions because it is simpler and suitable for the target program in this evaluation. \n",
    "* Downside of whitelisting is that we need to know the functions we are interested **beforehand**. \n",
    "* Blacklisting might also work, but is much harder to implement (because of all the wrapping in concolic execution)."
   ]
  },
  {
   "cell_type": "markdown",
   "metadata": {
    "slideshow": {
     "slide_type": "slide"
    }
   },
   "source": [
    "### Future work\n",
    "\n",
    "* `ConcolicGrammarFuzzer` can be improved with the advances in SMT solvers.\n",
    "\n",
    "* Should test fuzzing other programs too. Any program with a changing state might be a good candidate (e.g. web applications, file systems, CISCO routers, FTP, IMAP...)"
   ]
  },
  {
   "cell_type": "code",
   "execution_count": null,
   "metadata": {},
   "outputs": [],
   "source": []
  }
 ],
 "metadata": {
  "kernelspec": {
   "display_name": "Python 3",
   "language": "python",
   "name": "python3"
  },
  "language_info": {
   "codemirror_mode": {
    "name": "ipython",
    "version": 3
   },
   "file_extension": ".py",
   "mimetype": "text/x-python",
   "name": "python",
   "nbconvert_exporter": "python",
   "pygments_lexer": "ipython3",
   "version": "3.7.4"
  }
 },
 "nbformat": 4,
 "nbformat_minor": 2
}
