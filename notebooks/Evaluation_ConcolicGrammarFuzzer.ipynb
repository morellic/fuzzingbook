{
 "cells": [
  {
   "cell_type": "markdown",
   "metadata": {},
   "source": [
    "## Evaluating ConcolicGrammarFuzzer"
   ]
  },
  {
   "cell_type": "markdown",
   "metadata": {},
   "source": [
    "In this chapter, we will evaluate `ConcolicGrammarFuzzer`, which is our concolic fuzzer that uses grammars.\n",
    "\n",
    "Our target will be a basic program that mimics an SQL database. We will fuzz this program using the `INVENTORY_GRAMMAR`, both with `ConcolicGrammarFuzzer` and `GrammarCoverageFuzzer`, then we will compare the success of these fuzzers. Namely, we will consider **line coverage**, **branch coverage** and **program depth** reached."
   ]
  },
  {
   "cell_type": "code",
   "execution_count": 1,
   "metadata": {},
   "outputs": [],
   "source": [
    "import fuzzingbook_utils"
   ]
  },
  {
   "cell_type": "code",
   "execution_count": 2,
   "metadata": {},
   "outputs": [],
   "source": [
    "from ConcolicFuzzer import ConcolicGrammarFuzzer, ConcolicTracer\n",
    "from GrammarCoverageFuzzer import GrammarCoverageFuzzer"
   ]
  },
  {
   "cell_type": "markdown",
   "metadata": {},
   "source": [
    "## Target Program"
   ]
  },
  {
   "cell_type": "code",
   "execution_count": 3,
   "metadata": {},
   "outputs": [],
   "source": [
    "from InformationFlow import INVENTORY_GRAMMAR, SQLException\n",
    "from ConcolicFuzzer import ConcolicDB\n",
    "\n",
    "INITIAL_DB = [\n",
    "    (\n",
    "        'vehicles',\n",
    "        (\n",
    "            {'year': int, 'kind': str, 'company': str, 'model': str},\n",
    "            [\n",
    "                {'year': 1997, 'kind': 'van', 'company': 'Ford', 'model': 'E350'},\n",
    "                {'year': 2000, 'kind': 'car', 'company': 'Mercury', 'model': 'Cougar'},\n",
    "                {'year': 1999, 'kind': 'car', 'company': 'Chevy', 'model': 'Venture'}\n",
    "            ]\n",
    "        )\n",
    "    ),\n",
    "    (\n",
    "        'months',\n",
    "        (\n",
    "            {'month': int, 'name': str},\n",
    "            [\n",
    "                {'month': 1, 'name': 'jan'},\n",
    "                {'month': 2, 'name': 'feb'},\n",
    "                {'month': 3, 'name': 'mar'},\n",
    "                {'month': 4, 'name': 'apr'},\n",
    "                {'month': 5, 'name': 'may'},\n",
    "                {'month': 6, 'name': 'jun'},\n",
    "                {'month': 7, 'name': 'jul'},\n",
    "                {'month': 8, 'name': 'aug'},\n",
    "                {'month': 9, 'name': 'sep'},\n",
    "                {'month': 10, 'name': 'oct'},\n",
    "                {'month': 11, 'name': 'nov'},\n",
    "                {'month': 12, 'name': 'dec'}\n",
    "            ]\n",
    "        )\n",
    "    )\n",
    "]\n",
    "\n",
    "def db_select(query):\n",
    "    global INITIAL_DB\n",
    "    concolic_db = ConcolicDB()\n",
    "    concolic_db.db = INITIAL_DB\n",
    "    return concolic_db.sql(query)"
   ]
  },
  {
   "cell_type": "markdown",
   "metadata": {},
   "source": [
    "## Coverage"
   ]
  },
  {
   "cell_type": "code",
   "execution_count": 4,
   "metadata": {},
   "outputs": [],
   "source": [
    "import sys\n",
    "\n",
    "class CoverageCollector:\n",
    "    def __init__(self, functions=set()):\n",
    "        self._traces = []\n",
    "        self._coverage = set()\n",
    "        self._branch_coverage = set()\n",
    "        self._functions = functions\n",
    "    \n",
    "    def __enter__(self):\n",
    "        self.original_tracer = sys.gettrace()\n",
    "        sys.settrace(self._tracer)\n",
    "        return self\n",
    "\n",
    "    def __exit__(self, exc_type, exc_value, tb):\n",
    "        sys.settrace(self.original_tracer)\n",
    "        \n",
    "    def _tracer(self, frame, event, arg):\n",
    "        if self.original_tracer is not None:\n",
    "            self.original_tracer(frame, event, arg)\n",
    "            \n",
    "        should_trace = (event == 'line' and \n",
    "                        frame.f_code.co_name in self._functions)\n",
    "        \n",
    "        if should_trace:\n",
    "            function_name = frame.f_code.co_name\n",
    "            line_no = frame.f_lineno\n",
    "            trace = (function_name, line_no)\n",
    "            \n",
    "            if len(self._traces) > 0:\n",
    "                last_trace = self._traces[-1]\n",
    "                self._branch_coverage.add((last_trace, trace))\n",
    "                \n",
    "            self._traces.append(trace)\n",
    "            self._coverage.add(trace)\n",
    "\n",
    "        return self._tracer\n",
    "    \n",
    "    def get_traces(self):\n",
    "        return self._traces\n",
    "\n",
    "    def get_coverage(self):\n",
    "        return self._coverage\n",
    "    \n",
    "    def get_branch_coverage(self):\n",
    "        return self._branch_coverage"
   ]
  },
  {
   "cell_type": "code",
   "execution_count": 5,
   "metadata": {},
   "outputs": [],
   "source": [
    "class Coverage:\n",
    "    def __init__(self):\n",
    "        self._line_coverage = set()\n",
    "        self._branch_coverage = set()\n",
    "\n",
    "    def update_coverage(self, coverage_collector):\n",
    "        self._line_coverage |= coverage_collector.get_coverage()\n",
    "        self._branch_coverage |= coverage_collector.get_branch_coverage()\n",
    "    \n",
    "    def get_line_coverage(self):\n",
    "        line_dict = defaultdict(int)\n",
    "        n_lines_covered = len(self._line_coverage)\n",
    "        for func_name, line in self._line_coverage:\n",
    "            line_dict[func_name] += 1\n",
    "        return line_dict, n_lines_covered\n",
    "    \n",
    "    def get_branch_coverage(self):\n",
    "        branch_dict = defaultdict(int)\n",
    "        n_branches_covered = len(self._branch_coverage)\n",
    "        for branch in self._branch_coverage:\n",
    "            func_name = branch[0][0]\n",
    "            branch_dict[func_name] += 1\n",
    "        return branch_dict, n_branches_covered"
   ]
  },
  {
   "cell_type": "markdown",
   "metadata": {},
   "source": [
    "## Runners"
   ]
  },
  {
   "cell_type": "code",
   "execution_count": 6,
   "metadata": {},
   "outputs": [],
   "source": [
    "import time"
   ]
  },
  {
   "cell_type": "code",
   "execution_count": 7,
   "metadata": {},
   "outputs": [],
   "source": [
    "def run_grammar_coverage_fuzzer(\n",
    "        target, \n",
    "        grammar, \n",
    "        max_nonterminals,\n",
    "        n_fuzz,\n",
    "        functions): \n",
    "    \n",
    "    gcf = GrammarCoverageFuzzer(grammar=grammar, \n",
    "                                max_nonterminals=max_nonterminals)\n",
    "    \n",
    "    coverage = Coverage()\n",
    "    sql_exceptions = []\n",
    "    other_exceptions = []\n",
    "    \n",
    "    start_time = time.time()\n",
    "    \n",
    "    for _ in range(n_fuzz):\n",
    "        query = gcf.fuzz()\n",
    "        with CoverageCollector(functions) as cov_collector:\n",
    "            try:\n",
    "                target(query)\n",
    "            except SQLException as e:\n",
    "                sql_exceptions.append(e)\n",
    "            except Exception as e:\n",
    "                other_exceptions.append(e)\n",
    "        \n",
    "        coverage.update_coverage(cov_collector)\n",
    "    \n",
    "    elapsed_time = time.time() - start_time\n",
    "    \n",
    "    return coverage, sql_exceptions, other_exceptions, elapsed_time"
   ]
  },
  {
   "cell_type": "code",
   "execution_count": 8,
   "metadata": {},
   "outputs": [],
   "source": [
    "def run_concolic_grammar_fuzzer(\n",
    "        target, \n",
    "        grammar, \n",
    "        max_nonterminals, \n",
    "        n_fuzz,\n",
    "        functions):\n",
    "    \n",
    "    cgf = ConcolicGrammarFuzzer(grammar=grammar,\n",
    "                                max_nonterminals=max_nonterminals)\n",
    "\n",
    "    tokens_to_prune = ['<value>', '<table>', '<column>', \n",
    "                       '<literals>', '<exprs>', '<bexpr>']    \n",
    "    cgf.prune_tokens(tokens_to_prune)\n",
    "    \n",
    "    coverage = Coverage()\n",
    "    sql_exceptions = []\n",
    "    other_exceptions = []\n",
    "    \n",
    "    start_time = time.time()\n",
    "\n",
    "    for _ in range(n_fuzz):\n",
    "        query = cgf.fuzz()\n",
    "        with ConcolicTracer() as tracer, \\\n",
    "             CoverageCollector(functions) as cov_collector:\n",
    "            try:\n",
    "                tracer[target](query)\n",
    "            except SQLException as e:\n",
    "                sql_exceptions.append(e)\n",
    "            except Exception as e:\n",
    "                other_exceptions.append(e)\n",
    "                \n",
    "        cgf.update_grammar(tracer)\n",
    "        coverage.update_coverage(cov_collector)\n",
    "\n",
    "    elapsed_time = time.time() - start_time\n",
    "\n",
    "    return coverage, sql_exceptions, other_exceptions, elapsed_time"
   ]
  },
  {
   "cell_type": "markdown",
   "metadata": {},
   "source": [
    "## Fuzzing Configuration"
   ]
  },
  {
   "cell_type": "code",
   "execution_count": 9,
   "metadata": {},
   "outputs": [],
   "source": [
    "N_FUZZ = 10\n",
    "TARGET = db_select\n",
    "GRAMMAR = INVENTORY_GRAMMAR\n",
    "MAX_NONTERMINALS = 10\n",
    "FUNCTIONS = {\n",
    "    'sql', \n",
    "    'table',\n",
    "    'do_update', \n",
    "    'do_insert', \n",
    "    'do_delete', \n",
    "    'db_select'\n",
    "}"
   ]
  },
  {
   "cell_type": "markdown",
   "metadata": {},
   "source": [
    "# Evaluation"
   ]
  },
  {
   "cell_type": "markdown",
   "metadata": {},
   "source": [
    "## Comparative Run"
   ]
  },
  {
   "cell_type": "code",
   "execution_count": 10,
   "metadata": {},
   "outputs": [],
   "source": [
    "from collections import defaultdict\n",
    "import matplotlib.pyplot as plt\n",
    "import numpy as np\n",
    "\n",
    "def compare_coverage(ch1, name1, ch2, name2, functions):\n",
    "    \n",
    "    def print_plot_coverage(cov_dict1, total1, cov_dict2, total2, title):\n",
    "        \n",
    "        def print_coverage():\n",
    "            print_format = '{0: <30} {1: <25} {2: <25}'\n",
    "            print(print_format.format(title, name1, name2))\n",
    "            print('-' * 80)\n",
    "            print(print_format.format('all functions', total1, total2))\n",
    "            for f in functions:\n",
    "                print(print_format.format(f, cov_dict1[f], cov_dict2[f]))\n",
    "\n",
    "        def plot_coverage():\n",
    "            x_indexes = [i for i in range(len(functions) + 1)]\n",
    "            x_labels = ['all functions'] + list(functions)\n",
    "\n",
    "            plt.title(title)\n",
    "            plt.bar([x-0.1 for x in x_indexes], \n",
    "                    [total1] + [cov_dict1[f] for f in functions],  \n",
    "                    width=0.2, align='center', label=name1)\n",
    "\n",
    "            plt.bar([x+0.1 for x in x_indexes], \n",
    "                    [total2] + [cov_dict2[f] for f in functions],  \n",
    "                    width=0.2, align='center', label=name2)\n",
    "\n",
    "            plt.legend(loc='upper right')\n",
    "            plt.xticks(x_indexes, x_labels, rotation=20)\n",
    "            plt.show()\n",
    "            \n",
    "        print_coverage()\n",
    "        plot_coverage()\n",
    "    \n",
    "    def compare_line_coverage():\n",
    "        print_plot_coverage(*ch1.get_line_coverage(),\n",
    "                            *ch2.get_line_coverage(),\n",
    "                            'Line Coverage')\n",
    "        \n",
    "    \n",
    "    def compare_branch_coverage():\n",
    "        print_plot_coverage(*ch1.get_branch_coverage(),\n",
    "                            *ch2.get_branch_coverage(),\n",
    "                            'Branch Coverage')\n",
    "        \n",
    "    compare_line_coverage()\n",
    "    compare_branch_coverage()\n",
    "\n",
    "def compare_exceptions(sql1, other1, name1, sql2, other2, name2):\n",
    "    print_format = '{0: <30} {1: <25} {2: <25}'\n",
    "    print(print_format.format('Exception Type', name1, name2))\n",
    "    print('-' * 80)\n",
    "    print(print_format.format('sql', len(sql1), len(sql2)))\n",
    "    print(print_format.format('other', len(other1), len(other2)))\n",
    "\n",
    "def compare_elapsed_time(t1, name1, t2, name2):\n",
    "    print_format = '{0: <30} {1: <25} {2: <25}'\n",
    "    print(print_format.format('', name1, name2))\n",
    "    print('-' * 80)\n",
    "    print(print_format.format('Elapsed Time (s)', round(t1, 2), round(t2, 2)))\n",
    "    x_indexes = [0, 1]\n",
    "    x_labels = [name1, name2]\n",
    "    plt.title('Elapsed Time (s)')\n",
    "    plt.bar(0, t1, width=0.2, align='center', label=name1)\n",
    "    plt.bar(0.2, t2, width=0.2, align='center', label=name2)\n",
    "    plt.xticks(np.arange(0, 1, 0.2), x_labels, rotation=20)\n",
    "    plt.legend(loc='upper right')\n",
    "    plt.show()\n",
    "        \n",
    "def comperative_run(target, grammar, max_nonterminals, n_fuzz, functions):\n",
    "    cov1, sql1, other1, t1 = run_concolic_grammar_fuzzer(\n",
    "        target=target, \n",
    "        grammar=grammar, \n",
    "        max_nonterminals=max_nonterminals, \n",
    "        n_fuzz=n_fuzz,\n",
    "        functions=functions\n",
    "    )\n",
    "    \n",
    "    cov2, sql2, other2, t2 = run_grammar_coverage_fuzzer(\n",
    "        target=target, \n",
    "        grammar=grammar, \n",
    "        max_nonterminals=max_nonterminals, \n",
    "        n_fuzz=n_fuzz,\n",
    "        functions=functions\n",
    "    )\n",
    "\n",
    "    compare_coverage(cov1, 'ConcolicGrammarFuzzer',\n",
    "                     cov2, 'GrammarCoverageFuzzer',\n",
    "                     functions)\n",
    "        \n",
    "    compare_elapsed_time(t1, 'ConcolicGrammarFuzzer',\n",
    "                         t2, 'GrammarCoverageFuzzer')\n",
    "    \n",
    "    compare_exceptions(sql1, other1, 'ConcolicGrammarFuzzer',\n",
    "                       sql2, other2, 'GrammarCoverageFuzzer')"
   ]
  },
  {
   "cell_type": "code",
   "execution_count": 11,
   "metadata": {},
   "outputs": [
    {
     "name": "stdout",
     "output_type": "stream",
     "text": [
      "Line Coverage                  ConcolicGrammarFuzzer     GrammarCoverageFuzzer    \n",
      "--------------------------------------------------------------------------------\n",
      "all functions                  56                        29                       \n",
      "sql                            7                         7                        \n",
      "table                          4                         3                        \n",
      "do_update                      16                        6                        \n",
      "do_insert                      15                        5                        \n",
      "do_delete                      11                        5                        \n",
      "db_select                      3                         3                        \n"
     ]
    },
    {
     "data": {
      "image/png": "[encoded data removed]",
      "text/plain": [
       "<Figure size 432x288 with 1 Axes>"
      ]
     },
     "metadata": {
      "needs_background": "light"
     },
     "output_type": "display_data"
    },
    {
     "name": "stdout",
     "output_type": "stream",
     "text": [
      "Branch Coverage                ConcolicGrammarFuzzer     GrammarCoverageFuzzer    \n",
      "--------------------------------------------------------------------------------\n",
      "all functions                  63                        33                       \n",
      "sql                            11                        11                       \n",
      "table                          7                         3                        \n",
      "do_update                      16                        6                        \n",
      "do_insert                      15                        5                        \n",
      "do_delete                      11                        5                        \n",
      "db_select                      3                         3                        \n"
     ]
    },
    {
     "data": {
      "image/png": "[encoded data removed]",
      "text/plain": [
       "<Figure size 432x288 with 1 Axes>"
      ]
     },
     "metadata": {
      "needs_background": "light"
     },
     "output_type": "display_data"
    },
    {
     "name": "stdout",
     "output_type": "stream",
     "text": [
      "                               ConcolicGrammarFuzzer     GrammarCoverageFuzzer    \n",
      "--------------------------------------------------------------------------------\n",
      "Elapsed Time (s)               7.55                      60.9                     \n"
     ]
    },
    {
     "data": {
      "image/png": "[encoded data removed]",
      "text/plain": [
       "<Figure size 432x288 with 1 Axes>"
      ]
     },
     "metadata": {
      "needs_background": "light"
     },
     "output_type": "display_data"
    },
    {
     "name": "stdout",
     "output_type": "stream",
     "text": [
      "Exception Type                 ConcolicGrammarFuzzer     GrammarCoverageFuzzer    \n",
      "--------------------------------------------------------------------------------\n",
      "sql                            94                        100                      \n",
      "other                          1                         0                        \n"
     ]
    }
   ],
   "source": [
    "comperative_run(\n",
    "    target=TARGET, \n",
    "    grammar=GRAMMAR, \n",
    "    max_nonterminals=MAX_NONTERMINALS, \n",
    "    n_fuzz=100,\n",
    "    functions=FUNCTIONS\n",
    ")"
   ]
  },
  {
   "cell_type": "markdown",
   "metadata": {},
   "source": [
    "## Solo Run"
   ]
  },
  {
   "cell_type": "code",
   "execution_count": 12,
   "metadata": {},
   "outputs": [],
   "source": [
    "def solo_run(target, grammar, max_nonterminals, n_fuzz, functions, runner, name):\n",
    "    def print_plot_coverage(cov_dict, total, title): \n",
    "        def print_coverage():\n",
    "            print_format = '{0: <40} {1}'\n",
    "            print(print_format.format(title, name))\n",
    "            print('-' * 80)\n",
    "            print(print_format.format('all functions', total))\n",
    "            for f in functions:\n",
    "                print(print_format.format(f, cov_dict[f]))\n",
    "\n",
    "        def plot_coverage():\n",
    "            x_indexes = [i for i in range(len(functions) + 1)]\n",
    "            x_labels = ['all functions'] + list(functions)\n",
    "\n",
    "            plt.title(title)\n",
    "            plt.bar(x_indexes, \n",
    "                    [total] + [cov_dict[f] for f in functions],  \n",
    "                    width=0.2, align='center', label=name)\n",
    "\n",
    "            plt.legend(loc='upper right')\n",
    "            plt.xticks(x_indexes, x_labels, rotation=20)\n",
    "            plt.show()\n",
    "        \n",
    "        print_coverage()\n",
    "        plot_coverage()\n",
    "   \n",
    "    def print_exceptions(sql_exceptions, other_exceptions):\n",
    "        print_format = '{0: <40} {1}'\n",
    "        print('-' * 80)\n",
    "        print(print_format.format('Exception Type', 'Number of Occurrences'))\n",
    "        print('-' * 80)\n",
    "        print(print_format.format('SQLException', len(sql_exceptions)))\n",
    "        print(print_format.format('Other', len(other_exceptions)))    \n",
    "\n",
    "    cov, sql, other, t = runner(\n",
    "        target=target, \n",
    "        grammar=grammar, \n",
    "        max_nonterminals=max_nonterminals, \n",
    "        n_fuzz=n_fuzz,\n",
    "        functions=functions\n",
    "    )\n",
    "    \n",
    "    print_plot_coverage(*cov.get_line_coverage(),\n",
    "                        'Line Coverage')\n",
    "    \n",
    "    print_plot_coverage(*cov.get_branch_coverage(),\n",
    "                        'Branch Coverage')\n",
    "    \n",
    "    print_exceptions(sql, other)"
   ]
  },
  {
   "cell_type": "code",
   "execution_count": 13,
   "metadata": {},
   "outputs": [
    {
     "name": "stdout",
     "output_type": "stream",
     "text": [
      "Line Coverage                            ConcolicGrammarFuzzer\n",
      "--------------------------------------------------------------------------------\n",
      "all functions                            35\n",
      "sql                                      7\n",
      "table                                    4\n",
      "do_update                                14\n",
      "do_insert                                0\n",
      "do_delete                                7\n",
      "db_select                                3\n"
     ]
    },
    {
     "data": {
      "image/png": "[encoded data removed]",
      "text/plain": [
       "<Figure size 432x288 with 1 Axes>"
      ]
     },
     "metadata": {
      "needs_background": "light"
     },
     "output_type": "display_data"
    },
    {
     "name": "stdout",
     "output_type": "stream",
     "text": [
      "Branch Coverage                          ConcolicGrammarFuzzer\n",
      "--------------------------------------------------------------------------------\n",
      "all functions                            38\n",
      "sql                                      10\n",
      "table                                    6\n",
      "do_update                                13\n",
      "do_insert                                0\n",
      "do_delete                                6\n",
      "db_select                                3\n"
     ]
    },
    {
     "data": {
      "image/png": "[encoded data removed]",
      "text/plain": [
       "<Figure size 432x288 with 1 Axes>"
      ]
     },
     "metadata": {
      "needs_background": "light"
     },
     "output_type": "display_data"
    },
    {
     "name": "stdout",
     "output_type": "stream",
     "text": [
      "--------------------------------------------------------------------------------\n",
      "Exception Type                           Number of Occurrences\n",
      "--------------------------------------------------------------------------------\n",
      "SQLException                             7\n",
      "Other                                    0\n"
     ]
    }
   ],
   "source": [
    "solo_run(\n",
    "    target=TARGET, \n",
    "    grammar=GRAMMAR, \n",
    "    max_nonterminals=MAX_NONTERMINALS, \n",
    "    n_fuzz=10,\n",
    "    functions=FUNCTIONS,\n",
    "    runner=run_concolic_grammar_fuzzer,\n",
    "    name='ConcolicGrammarFuzzer'\n",
    ")"
   ]
  },
  {
   "cell_type": "code",
   "execution_count": 14,
   "metadata": {},
   "outputs": [
    {
     "name": "stdout",
     "output_type": "stream",
     "text": [
      "Line Coverage                            GrammarCoverageFuzzer\n",
      "--------------------------------------------------------------------------------\n",
      "all functions                            29\n",
      "sql                                      7\n",
      "table                                    3\n",
      "do_update                                6\n",
      "do_insert                                5\n",
      "do_delete                                5\n",
      "db_select                                3\n"
     ]
    },
    {
     "data": {
      "image/png": "[encoded data removed]",
      "text/plain": [
       "<Figure size 432x288 with 1 Axes>"
      ]
     },
     "metadata": {
      "needs_background": "light"
     },
     "output_type": "display_data"
    },
    {
     "name": "stdout",
     "output_type": "stream",
     "text": [
      "Branch Coverage                          GrammarCoverageFuzzer\n",
      "--------------------------------------------------------------------------------\n",
      "all functions                            33\n",
      "sql                                      11\n",
      "table                                    3\n",
      "do_update                                6\n",
      "do_insert                                5\n",
      "do_delete                                5\n",
      "db_select                                3\n"
     ]
    },
    {
     "data": {
      "image/png": "[encoded data removed]",
      "text/plain": [
       "<Figure size 432x288 with 1 Axes>"
      ]
     },
     "metadata": {
      "needs_background": "light"
     },
     "output_type": "display_data"
    },
    {
     "name": "stdout",
     "output_type": "stream",
     "text": [
      "--------------------------------------------------------------------------------\n",
      "Exception Type                           Number of Occurrences\n",
      "--------------------------------------------------------------------------------\n",
      "SQLException                             10\n",
      "Other                                    0\n"
     ]
    }
   ],
   "source": [
    "solo_run(\n",
    "    target=TARGET, \n",
    "    grammar=GRAMMAR, \n",
    "    max_nonterminals=MAX_NONTERMINALS, \n",
    "    n_fuzz=10,\n",
    "    functions=FUNCTIONS,\n",
    "    runner=run_grammar_coverage_fuzzer,\n",
    "    name='GrammarCoverageFuzzer'\n",
    ")"
   ]
  },
  {
   "cell_type": "code",
   "execution_count": null,
   "metadata": {},
   "outputs": [],
   "source": []
  }
 ],
 "metadata": {
  "kernelspec": {
   "display_name": "Python 3",
   "language": "python",
   "name": "python3"
  },
  "language_info": {
   "codemirror_mode": {
    "name": "ipython",
    "version": 3
   },
   "file_extension": ".py",
   "mimetype": "text/x-python",
   "name": "python",
   "nbconvert_exporter": "python",
   "pygments_lexer": "ipython3",
   "version": "3.7.3"
  }
 },
 "nbformat": 4,
 "nbformat_minor": 2
}
