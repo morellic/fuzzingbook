{
 "cells": [
  {
   "cell_type": "markdown",
   "metadata": {},
   "source": [
    "## Evaluating ConcolicGrammarFuzzer"
   ]
  },
  {
   "cell_type": "markdown",
   "metadata": {},
   "source": [
    "In this chapter, we will evaluate `ConcolicGrammarFuzzer`, which is our concolic fuzzer that uses grammars.\n",
    "\n",
    "Our target will be a basic program that mimics an SQL database. We will fuzz this program using the `INVENTORY_GRAMMAR`, both with `ConcolicGrammarFuzzer` and `GrammarCoverageFuzzer`, then we will compare the success of these fuzzers. Namely, we will consider **line coverage**, **branch coverage** and **program depth** reached."
   ]
  },
  {
   "cell_type": "code",
   "execution_count": null,
   "metadata": {},
   "outputs": [],
   "source": [
    "import fuzzingbook_utils"
   ]
  },
  {
   "cell_type": "code",
   "execution_count": null,
   "metadata": {},
   "outputs": [],
   "source": [
    "from ConcolicFuzzer import ConcolicGrammarFuzzer\n",
    "from GrammarCoverageFuzzer import GrammarCoverageFuzzer\n",
    "from Coverage import Coverage"
   ]
  },
  {
   "cell_type": "markdown",
   "metadata": {},
   "source": [
    "## ConcolicCoverageTracer"
   ]
  },
  {
   "cell_type": "code",
   "execution_count": null,
   "metadata": {},
   "outputs": [],
   "source": [
    "from ConcolicFuzzer import ConcolicTracer\n",
    "import sys\n",
    "\n",
    "class ConcolicCoverageTracer(ConcolicTracer):\n",
    "    def __init__(self, context=None):\n",
    "        self._trace = []\n",
    "        super().__init__(context)\n",
    "\n",
    "    def traceit(self, frame, event, arg):\n",
    "        if self.original_trace_function is not None:\n",
    "            self.original_trace_function(frame, event, arg)\n",
    "\n",
    "        if event == \"line\":\n",
    "            function_name = frame.f_code.co_name\n",
    "            lineno = frame.f_lineno\n",
    "            self._trace.append((function_name, lineno))\n",
    "\n",
    "        return self.traceit\n",
    "\n",
    "    def __enter__(self):\n",
    "        self.original_trace_function = sys.gettrace()\n",
    "        sys.settrace(self.traceit)\n",
    "        return self\n",
    "\n",
    "    def __exit__(self, exc_type, exc_value, tb):\n",
    "        sys.settrace(self.original_trace_function)\n",
    "\n",
    "    def coverage(self):\n",
    "        return set(self._trace)"
   ]
  },
  {
   "cell_type": "markdown",
   "metadata": {},
   "source": [
    "## Target Program"
   ]
  },
  {
   "cell_type": "code",
   "execution_count": null,
   "metadata": {},
   "outputs": [],
   "source": [
    "from InformationFlow import INVENTORY_GRAMMAR, SQLException\n",
    "from ConcolicFuzzer import ConcolicDB\n",
    "\n",
    "INITIAL_DB = [\n",
    "    (\n",
    "        'vehicles',\n",
    "        (\n",
    "            {'year': int, 'kind': str, 'company': str, 'model': str},\n",
    "            [\n",
    "                {'year': 1997, 'kind': 'van', 'company': 'Ford', 'model': 'E350'},\n",
    "                {'year': 2000, 'kind': 'car', 'company': 'Mercury', 'model': 'Cougar'},\n",
    "                {'year': 1999, 'kind': 'car', 'company': 'Chevy', 'model': 'Venture'}\n",
    "            ]\n",
    "        )\n",
    "    ),\n",
    "    (\n",
    "        'months',\n",
    "        (\n",
    "            {'month': int, 'name': str},\n",
    "            [\n",
    "                {'month': 1, 'name': 'jan'},\n",
    "                {'month': 2, 'name': 'feb'},\n",
    "                {'month': 3, 'name': 'mar'},\n",
    "                {'month': 4, 'name': 'apr'},\n",
    "                {'month': 5, 'name': 'may'},\n",
    "                {'month': 6, 'name': 'jun'},\n",
    "                {'month': 7, 'name': 'jul'},\n",
    "                {'month': 8, 'name': 'aug'},\n",
    "                {'month': 9, 'name': 'sep'},\n",
    "                {'month': 10, 'name': 'oct'},\n",
    "                {'month': 11, 'name': 'nov'},\n",
    "                {'month': 12, 'name': 'dec'}\n",
    "            ]\n",
    "        )\n",
    "    )\n",
    "]\n",
    "\n",
    "def db_select(query):\n",
    "    global INITIAL_DB\n",
    "    concolic_db = ConcolicDB()\n",
    "    concolic_db.db = INITIAL_DB\n",
    "    return concolic_db.sql(query)"
   ]
  },
  {
   "cell_type": "markdown",
   "metadata": {},
   "source": [
    "## Fuzzer Runners"
   ]
  },
  {
   "cell_type": "code",
   "execution_count": null,
   "metadata": {},
   "outputs": [],
   "source": [
    "def run_grammar_coverage_fuzzer(target, grammar, max_nonterminals, n_fuzz): \n",
    "    gcf = GrammarCoverageFuzzer(grammar=grammar, \n",
    "                                max_nonterminals=max_nonterminals)\n",
    "    total_coverage = set()\n",
    "    sql_exceptions = []\n",
    "    other_exceptions = []\n",
    "    \n",
    "    for _ in range(n_fuzz):\n",
    "        query = gcf.fuzz()\n",
    "        with Coverage() as cov:\n",
    "            try:\n",
    "                target(query)\n",
    "            except SQLException as e:\n",
    "                sql_exceptions.append(e)\n",
    "            except Exception as e:\n",
    "                other_exceptions.append(e)\n",
    "            \n",
    "        total_coverage |= cov.coverage()\n",
    "    \n",
    "    return total_coverage, sql_exceptions, other_exceptions"
   ]
  },
  {
   "cell_type": "code",
   "execution_count": null,
   "metadata": {},
   "outputs": [],
   "source": [
    "def run_concolic_grammar_fuzzer(target, grammar, max_nonterminals, n_fuzz):\n",
    "    cgf = ConcolicGrammarFuzzer(grammar=grammar,\n",
    "                                max_nonterminals=max_nonterminals)\n",
    "\n",
    "    tokens_to_prune = ['<value>', '<table>', '<column>', \n",
    "                       '<literals>', '<exprs>', '<bexpr>']    \n",
    "    cgf.prune_tokens(tokens_to_prune)\n",
    "    \n",
    "    total_coverage = set()\n",
    "    sql_exceptions = []\n",
    "    other_exceptions = []\n",
    "    \n",
    "    for _ in range(n_fuzz):\n",
    "        query = cgf.fuzz()\n",
    "        \n",
    "        with ConcolicCoverageTracer() as context_manager:\n",
    "            try:\n",
    "                context_manager[target](query)\n",
    "            except SQLException as e:\n",
    "                sql_exceptions.append(e)\n",
    "            except Exception as e:\n",
    "                other_exceptions.append(e)\n",
    "\n",
    "        cgf.update_grammar(context_manager)\n",
    "            \n",
    "        total_coverage |= context_manager.coverage()\n",
    "    \n",
    "    return total_coverage, sql_exceptions, other_exceptions"
   ]
  },
  {
   "cell_type": "markdown",
   "metadata": {},
   "source": [
    "## Reporters"
   ]
  },
  {
   "cell_type": "code",
   "execution_count": null,
   "metadata": {},
   "outputs": [],
   "source": [
    "from collections import defaultdict\n",
    "    \n",
    "def report_line_coverage(coverage):\n",
    "    n_lines_covered = defaultdict(int)\n",
    "    n_lines_covered['all functions'] = len(coverage)\n",
    "    \n",
    "    for func_name, line in coverage:\n",
    "        n_lines_covered[func_name] += 1\n",
    "    \n",
    "    print('-' * 80)\n",
    "    print(' {0: <40} {1}'.format('Function Name', 'Number of Lines Covered'))\n",
    "    print('-' * 80)\n",
    "    \n",
    "    sorted_by_n_lines = sorted(n_lines_covered.items(), \n",
    "                               key=lambda x: x[1],\n",
    "                               reverse=True)\n",
    "    \n",
    "    for func_name, n_lines in sorted_by_n_lines:\n",
    "        print(' {0: <40} {1}'.format(func_name, n_lines))\n",
    "        \n",
    "    print('-' * 80 + '\\n')"
   ]
  },
  {
   "cell_type": "code",
   "execution_count": null,
   "metadata": {},
   "outputs": [],
   "source": [
    "def report_exceptions(sql_exceptions, other_exceptions):\n",
    "    print('-' * 80)\n",
    "    print(' {0: <40} {1}'.format('Exception Type', 'Number of Occurrences'))\n",
    "    print('-' * 80)\n",
    "    print(' {0: <40} {1}'.format('SQLException', len(sql_exceptions)))\n",
    "    print(' {0: <40} {1}'.format('Other', len(other_exceptions)))    \n",
    "    print('-' * 80 + '\\n')"
   ]
  },
  {
   "cell_type": "markdown",
   "metadata": {},
   "source": [
    "## Fuzzing Configuration"
   ]
  },
  {
   "cell_type": "code",
   "execution_count": null,
   "metadata": {},
   "outputs": [],
   "source": [
    "N_FUZZ = 100\n",
    "TARGET = db_select\n",
    "GRAMMAR = INVENTORY_GRAMMAR\n",
    "MAX_NONTERMINALS = 10"
   ]
  },
  {
   "cell_type": "markdown",
   "metadata": {},
   "source": [
    "## Evaluation"
   ]
  },
  {
   "cell_type": "code",
   "execution_count": null,
   "metadata": {},
   "outputs": [],
   "source": [
    "coverage, sql_exceptions, other_exceptions = run_grammar_coverage_fuzzer(\n",
    "    target=TARGET, \n",
    "    grammar=GRAMMAR, \n",
    "    max_nonterminals=MAX_NONTERMINALS, \n",
    "    n_fuzz=10\n",
    ")\n",
    "\n",
    "report_line_coverage(coverage)\n",
    "report_exceptions(sql_exceptions, other_exceptions)"
   ]
  },
  {
   "cell_type": "code",
   "execution_count": null,
   "metadata": {},
   "outputs": [],
   "source": [
    "coverage, sql_exceptions, other_exceptions = run_concolic_grammar_fuzzer(\n",
    "    target=TARGET, \n",
    "    grammar=GRAMMAR, \n",
    "    max_nonterminals=MAX_NONTERMINALS, \n",
    "    n_fuzz=100\n",
    ")\n",
    "\n",
    "report_line_coverage(coverage)\n",
    "report_exceptions(sql_exceptions, other_exceptions)"
   ]
  },
  {
   "cell_type": "code",
   "execution_count": null,
   "metadata": {},
   "outputs": [],
   "source": []
  },
  {
   "cell_type": "code",
   "execution_count": null,
   "metadata": {},
   "outputs": [],
   "source": []
  }
 ],
 "metadata": {
  "kernelspec": {
   "display_name": "Python 3",
   "language": "python",
   "name": "python3"
  },
  "language_info": {
   "codemirror_mode": {
    "name": "ipython",
    "version": 3
   },
   "file_extension": ".py",
   "mimetype": "text/x-python",
   "name": "python",
   "nbconvert_exporter": "python",
   "pygments_lexer": "ipython3",
   "version": "3.7.3"
  }
 },
 "nbformat": 4,
 "nbformat_minor": 2
}
