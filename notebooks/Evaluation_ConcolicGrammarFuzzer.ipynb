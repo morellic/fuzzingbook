{
 "cells": [
  {
   "cell_type": "markdown",
   "metadata": {},
   "source": [
    "## Evaluating ConcolicGrammarFuzzer"
   ]
  },
  {
   "cell_type": "markdown",
   "metadata": {},
   "source": [
    "In this chapter, we will evaluate `ConcolicGrammarFuzzer`, which is our concolic fuzzer that uses grammars.\n",
    "\n",
    "Our target will be a basic program that mimics an SQL database. We will fuzz this program using the `INVENTORY_GRAMMAR`, both with `ConcolicGrammarFuzzer` and `GrammarCoverageFuzzer`, then we will compare the success of these fuzzers. Namely, we will consider **line coverage**, **branch coverage** and **program depth** reached."
   ]
  },
  {
   "cell_type": "code",
   "execution_count": 1,
   "metadata": {},
   "outputs": [],
   "source": [
    "import fuzzingbook_utils"
   ]
  },
  {
   "cell_type": "code",
   "execution_count": 2,
   "metadata": {},
   "outputs": [],
   "source": [
    "from ConcolicFuzzer import ConcolicGrammarFuzzer, ConcolicTracer\n",
    "from GrammarFuzzer import GrammarFuzzer\n",
    "from GrammarCoverageFuzzer import GrammarCoverageFuzzer"
   ]
  },
  {
   "cell_type": "markdown",
   "metadata": {},
   "source": [
    "## Target Program"
   ]
  },
  {
   "cell_type": "code",
   "execution_count": 3,
   "metadata": {},
   "outputs": [],
   "source": [
    "from InformationFlow import INVENTORY_GRAMMAR, SQLException\n",
    "from ConcolicFuzzer import ConcolicDB\n",
    "from copy import deepcopy\n",
    "\n",
    "INITIAL_DB = [\n",
    "    (\n",
    "        'vehicles',\n",
    "        (\n",
    "            {'year': int, 'kind': str, 'company': str, 'model': str},\n",
    "            [\n",
    "                {'year': 1997, 'kind': 'van', 'company': 'Ford', 'model': 'E350'},\n",
    "                {'year': 2000, 'kind': 'car', 'company': 'Mercury', 'model': 'Cougar'},\n",
    "                {'year': 1999, 'kind': 'car', 'company': 'Chevy', 'model': 'Venture'}\n",
    "            ]\n",
    "        )\n",
    "    ),\n",
    "    (\n",
    "        'months',\n",
    "        (\n",
    "            {'month': int, 'name': str},\n",
    "            [\n",
    "                {'month': 1, 'name': 'jan'},\n",
    "                {'month': 2, 'name': 'feb'},\n",
    "                {'month': 3, 'name': 'mar'},\n",
    "                {'month': 4, 'name': 'apr'},\n",
    "                {'month': 5, 'name': 'may'},\n",
    "                {'month': 6, 'name': 'jun'},\n",
    "                {'month': 7, 'name': 'jul'},\n",
    "                {'month': 8, 'name': 'aug'},\n",
    "                {'month': 9, 'name': 'sep'},\n",
    "                {'month': 10, 'name': 'oct'},\n",
    "                {'month': 11, 'name': 'nov'},\n",
    "                {'month': 12, 'name': 'dec'}\n",
    "            ]\n",
    "        )\n",
    "    )\n",
    "]\n",
    "\n",
    "def db_select(query):\n",
    "    global INITIAL_DB\n",
    "    concolic_db = ConcolicDB()\n",
    "    concolic_db.db = deepcopy(INITIAL_DB)\n",
    "    return concolic_db.sql(query)"
   ]
  },
  {
   "cell_type": "markdown",
   "metadata": {},
   "source": [
    "## Coverage"
   ]
  },
  {
   "cell_type": "code",
   "execution_count": 25,
   "metadata": {},
   "outputs": [],
   "source": [
    "import sys\n",
    "\n",
    "class FilteredCoverage:\n",
    "    def __init__(self, functions=set()):\n",
    "        self._traces = []\n",
    "        self._line_coverage = set()\n",
    "        self._branch_coverage = set()\n",
    "        self._functions = functions\n",
    "    \n",
    "    def __enter__(self):\n",
    "        self.original_tracer = sys.gettrace()\n",
    "        sys.settrace(self._tracer)\n",
    "        return self\n",
    "\n",
    "    def __exit__(self, exc_type, exc_value, tb):\n",
    "        sys.settrace(self.original_tracer)\n",
    "        \n",
    "    def _tracer(self, frame, event, arg):\n",
    "        if self.original_tracer is not None:\n",
    "            self.original_tracer(frame, event, arg)\n",
    "            \n",
    "        should_trace = (event == 'line' and \n",
    "                        frame.f_code.co_name in self._functions)\n",
    "        \n",
    "        if should_trace:\n",
    "            function_name = frame.f_code.co_name\n",
    "            line_no = frame.f_lineno\n",
    "            trace = (function_name, line_no)\n",
    "            \n",
    "            if len(self._traces) > 0:\n",
    "                last_trace = self._traces[-1]\n",
    "                self._branch_coverage.add((last_trace, trace))\n",
    "                \n",
    "            self._traces.append(trace)\n",
    "            self._line_coverage.add(trace)\n",
    "\n",
    "        return self._tracer\n",
    "    \n",
    "    def get_traces(self):\n",
    "        return self._traces\n",
    "\n",
    "    def get_line_coverage(self):\n",
    "        return self._line_coverage\n",
    "    \n",
    "    def get_branch_coverage(self):\n",
    "        return self._branch_coverage"
   ]
  },
  {
   "cell_type": "code",
   "execution_count": 26,
   "metadata": {},
   "outputs": [],
   "source": [
    "from collections import defaultdict\n",
    "\n",
    "class Result:\n",
    "    def __init__(\n",
    "            self, \n",
    "            functions,\n",
    "            fuzzer_name,\n",
    "            line_coverage, \n",
    "            branch_coverage, \n",
    "            exceptions, \n",
    "            elapsed_time):\n",
    "        \n",
    "        self.line_coverage = line_coverage\n",
    "        self.branch_coverage = branch_coverage\n",
    "        self.exceptions = exceptions\n",
    "        \n",
    "        self.functions = functions\n",
    "        self.fuzzer_name = fuzzer_name\n",
    "        \n",
    "        self.n_lines_covered = len(line_coverage)\n",
    "        self.n_branches_covered = len(branch_coverage)\n",
    "        self.n_exceptions = len(exceptions)\n",
    "\n",
    "        self.line_coverage_dict = self._generate_line_coverage_dict()\n",
    "        self.branch_coverage_dict = self._generate_branch_coverage_dict()\n",
    "        self.exceptions_dict = self._generate_exceptions_dict()\n",
    "        \n",
    "        self.elapsed_time = elapsed_time\n",
    "\n",
    "    def _generate_line_coverage_dict(self):\n",
    "        line_coverage_dict = defaultdict(list)\n",
    "        for function_name, line in self.line_coverage:\n",
    "            line_coverage_dict[function_name].append(line)\n",
    "        return line_coverage_dict\n",
    "\n",
    "    def _generate_branch_coverage_dict(self):\n",
    "        branch_coverage_dict = defaultdict(list)\n",
    "        for branch in self.branch_coverage:\n",
    "            function_name = branch[0][0]\n",
    "            branch_coverage_dict[function_name].append(branch)\n",
    "        return branch_coverage_dict\n",
    "            \n",
    "    def _generate_exceptions_dict(self):\n",
    "        exceptions_dict = defaultdict(list)\n",
    "        for e in self.exceptions:\n",
    "            e_type = type(e).__name__\n",
    "            exceptions_dict[e_type].append(e)\n",
    "        return exceptions_dict"
   ]
  },
  {
   "cell_type": "code",
   "execution_count": 27,
   "metadata": {},
   "outputs": [],
   "source": [
    "import matplotlib.pyplot as plt\n",
    "import numpy as np\n",
    "\n",
    "class ResultComparator:\n",
    "    def __init__(self, result1, result2):\n",
    "        self._result1 = result1\n",
    "        self._result2 = result2\n",
    "        \n",
    "        self._name1 = result1.fuzzer_name\n",
    "        self._name2 = result2.fuzzer_name\n",
    "        \n",
    "        assert(result1.functions == result2.functions)\n",
    "        self._functions = result1.functions\n",
    "\n",
    "    def _print_coverage_comparison(self, cov_dict1, n1, cov_dict2, n2, title):\n",
    "        print_format = '{0: <30} {1: <25} {2: <25}'\n",
    "        print()\n",
    "        print(print_format.format(title, self._name1, self._name2))\n",
    "        print('-' * 80)\n",
    "        print(print_format.format('all functions', n1, n2))\n",
    "        \n",
    "        for f in self._functions:\n",
    "            n_lines1 = len(cov_dict1[f])\n",
    "            n_lines2 = len(cov_dict2[f])\n",
    "            print(print_format.format(f, n_lines1, n_lines2))\n",
    "    \n",
    "    def _plot_coverage_comparison(self, cov_dict1, n1, cov_dict2, n2, title):\n",
    "        x_indexes = [i for i in range(len(self._functions) + 1)]\n",
    "        x_labels = ['all functions'] + list(self._functions)\n",
    "\n",
    "        plt.title(title)\n",
    "        plt.bar([x-0.1 for x in x_indexes], \n",
    "                [n1] + [len(cov_dict1[f]) for f in self._functions],  \n",
    "                width=0.2, align='center', label=self._name1)\n",
    "\n",
    "        plt.bar([x+0.1 for x in x_indexes], \n",
    "                [n2] + [len(cov_dict2[f]) for f in self._functions],  \n",
    "                width=0.2, align='center', label=self._name2)\n",
    "\n",
    "        plt.legend(loc='upper right')\n",
    "        plt.xticks(x_indexes, x_labels, rotation=20)\n",
    "        plt.show()\n",
    "        \n",
    "    def compare_line_coverage(self):\n",
    "        args = [\n",
    "            self._result1.line_coverage_dict,\n",
    "            self._result1.n_lines_covered,\n",
    "            self._result2.line_coverage_dict,\n",
    "            self._result2.n_lines_covered,\n",
    "            'Line Coverage'\n",
    "        ]\n",
    "        \n",
    "        self._print_coverage_comparison(*args)\n",
    "        self._plot_coverage_comparison(*args)\n",
    "    \n",
    "    def compare_branch_coverage(self):\n",
    "        args = [\n",
    "            self._result1.branch_coverage_dict,\n",
    "            self._result1.n_branches_covered,\n",
    "            self._result2.branch_coverage_dict,\n",
    "            self._result2.n_branches_covered,\n",
    "            'Branch Coverage'\n",
    "        ]\n",
    "        \n",
    "        self._print_coverage_comparison(*args)\n",
    "        self._plot_coverage_comparison(*args)\n",
    "    \n",
    "    def compare_exceptions(self):\n",
    "        e_dict1 = self._result1.exceptions_dict\n",
    "        e_dict2 = self._result2.exceptions_dict\n",
    "        \n",
    "        print_format = '{0: <30} {1: <25} {2: <25}'\n",
    "        print()\n",
    "        print(print_format.format('Exception Type', self._name1, self._name2))\n",
    "        print('-' * 80)\n",
    "        \n",
    "        all_e_types = e_dict1.keys() | e_dict2.keys()\n",
    "        for e_type in all_e_types:\n",
    "            n1 = len(e_dict1[e_type])\n",
    "            n2 = len(e_dict2[e_type])\n",
    "            print(print_format.format(e_type, n1, n2))\n",
    "    \n",
    "    def compare_elapsed_time(self):\n",
    "        t1 = self._result1.elapsed_time\n",
    "        t2 = self._result2.elapsed_time\n",
    "        \n",
    "        print_format = '{0: <30} {1: <25} {2: <25}'\n",
    "        print()\n",
    "        print(print_format.format('Elapsed Time (s)', self._name1, self._name2))\n",
    "        print('-' * 80)\n",
    "        print(print_format.format('', round(t1, 2), round(t2, 2)))\n",
    "        \n",
    "    def compare_all(self):\n",
    "        self.compare_line_coverage()\n",
    "        self.compare_branch_coverage()\n",
    "        self.compare_exceptions()\n",
    "        self.compare_elapsed_time()"
   ]
  },
  {
   "cell_type": "markdown",
   "metadata": {},
   "source": [
    "## Runners"
   ]
  },
  {
   "cell_type": "code",
   "execution_count": 28,
   "metadata": {},
   "outputs": [],
   "source": [
    "import time"
   ]
  },
  {
   "cell_type": "code",
   "execution_count": 35,
   "metadata": {},
   "outputs": [],
   "source": [
    "def fuzz_n_times(target, functions, fuzzer, n):\n",
    "    def run_target(inp):\n",
    "        if 'concolic' in fuzzer.__class__.__name__.lower():\n",
    "            with ConcolicTracer() as tracer:\n",
    "                try:\n",
    "                    return tracer[target](inp)\n",
    "                except Exception as e:\n",
    "                    raise e\n",
    "                finally:\n",
    "                    fuzzer.update_grammar(tracer)\n",
    "        else:\n",
    "            return target(inp)\n",
    "    \n",
    "    line_coverage = set()\n",
    "    branch_coverage = set()\n",
    "    exceptions = []\n",
    "\n",
    "    start_time = time.time()\n",
    "    \n",
    "    for _ in range(n):\n",
    "        inp = fuzzer.fuzz()\n",
    "        with FilteredCoverage(functions) as fc:\n",
    "            try:\n",
    "                run_target(inp)\n",
    "            except Exception as e:\n",
    "                exceptions.append(e)\n",
    "\n",
    "        line_coverage |= fc.get_line_coverage()\n",
    "        branch_coverage |= fc.get_branch_coverage()\n",
    "        \n",
    "    elapsed_time = time.time() - start_time\n",
    "    \n",
    "    return Result(functions,\n",
    "                  fuzzer.__class__.__name__,\n",
    "                  line_coverage, \n",
    "                  branch_coverage, \n",
    "                  exceptions, \n",
    "                  elapsed_time)"
   ]
  },
  {
   "cell_type": "code",
   "execution_count": null,
   "metadata": {},
   "outputs": [],
   "source": [
    "def run_fuzzer_class(fuzzer_class, fuzzer_config, run_config):\n",
    "    fuzzer = fuzzer_class(**fuzzer_config)  \n",
    "    fuzzer_name = fuzzer.__class__.__name__\n",
    "    \n",
    "    if 'concolic' in fuzzer_name.lower():\n",
    "        pass\n",
    "    else:\n",
    "        assert ('grammar' in fuzzer_name.lower())\n",
    "        pass"
   ]
  },
  {
   "cell_type": "code",
   "execution_count": 42,
   "metadata": {},
   "outputs": [],
   "source": [
    "def run_grammar_fuzzer(\n",
    "        target, \n",
    "        grammar, \n",
    "        max_nonterminals,\n",
    "        n_fuzz,\n",
    "        functions): \n",
    "    \n",
    "    gf = GrammarFuzzer(grammar=grammar, \n",
    "                        max_nonterminals=max_nonterminals)\n",
    "    \n",
    "    result = fuzz_n_times(target=target, \n",
    "                          functions=functions, \n",
    "                          fuzzer=gf, \n",
    "                          n=n_fuzz)\n",
    "    \n",
    "    return result"
   ]
  },
  {
   "cell_type": "code",
   "execution_count": 43,
   "metadata": {},
   "outputs": [],
   "source": [
    "def run_concolic_grammar_fuzzer(\n",
    "        target, \n",
    "        grammar, \n",
    "        max_nonterminals, \n",
    "        n_fuzz,\n",
    "        functions):\n",
    "    \n",
    "    cgf = ConcolicGrammarFuzzer(grammar=grammar,\n",
    "                                max_nonterminals=max_nonterminals)\n",
    "\n",
    "    tokens_to_prune = ['<value>', '<table>', '<column>', \n",
    "                       '<literals>', '<exprs>', '<bexpr>'] \n",
    "    \n",
    "    cgf.prune_tokens(tokens_to_prune)\n",
    "    \n",
    "    result = fuzz_n_times(target=target, \n",
    "                          functions=functions, \n",
    "                          fuzzer=cgf, \n",
    "                          n=n_fuzz)\n",
    "    \n",
    "    return result"
   ]
  },
  {
   "cell_type": "markdown",
   "metadata": {},
   "source": [
    "## Fuzzing Configuration"
   ]
  },
  {
   "cell_type": "code",
   "execution_count": 45,
   "metadata": {},
   "outputs": [],
   "source": [
    "N_FUZZ = 10\n",
    "TARGET = db_select\n",
    "GRAMMAR = INVENTORY_GRAMMAR\n",
    "MAX_NONTERMINALS = 10\n",
    "FUNCTIONS = {\n",
    "    'sql', \n",
    "    'table',\n",
    "    'do_update', \n",
    "    'do_insert', \n",
    "    'do_delete', \n",
    "    'db_select'\n",
    "}"
   ]
  },
  {
   "cell_type": "markdown",
   "metadata": {},
   "source": [
    "# Evaluation"
   ]
  },
  {
   "cell_type": "markdown",
   "metadata": {},
   "source": [
    "## Comparative Run"
   ]
  },
  {
   "cell_type": "code",
   "execution_count": 53,
   "metadata": {},
   "outputs": [],
   "source": [
    "def comperative_run(runner1, config1, runner2, config2):\n",
    "    result1 = runner1(**config1)\n",
    "    result2 = runner2(**config2)\n",
    "    result_comparator = ResultComparator(result1, result2)    \n",
    "    result_comparator.compare_all()\n",
    "    return result1, result2"
   ]
  },
  {
   "cell_type": "code",
   "execution_count": 55,
   "metadata": {},
   "outputs": [
    {
     "name": "stdout",
     "output_type": "stream",
     "text": [
      "\n",
      "Line Coverage                  ConcolicGrammarFuzzer     GrammarFuzzer            \n",
      "--------------------------------------------------------------------------------\n",
      "all functions                  56                        29                       \n",
      "sql                            7                         7                        \n",
      "do_update                      16                        6                        \n",
      "db_select                      3                         3                        \n",
      "do_delete                      11                        5                        \n",
      "table                          4                         3                        \n",
      "do_insert                      15                        5                        \n"
     ]
    },
    {
     "data": {
      "image/png": "[encoded data removed]",
      "text/plain": [
       "<Figure size 432x288 with 1 Axes>"
      ]
     },
     "metadata": {
      "needs_background": "light"
     },
     "output_type": "display_data"
    },
    {
     "name": "stdout",
     "output_type": "stream",
     "text": [
      "\n",
      "Branch Coverage                ConcolicGrammarFuzzer     GrammarFuzzer            \n",
      "--------------------------------------------------------------------------------\n",
      "all functions                  63                        33                       \n",
      "sql                            11                        11                       \n",
      "do_update                      16                        6                        \n",
      "db_select                      3                         3                        \n",
      "do_delete                      11                        5                        \n",
      "table                          7                         3                        \n",
      "do_insert                      15                        5                        \n"
     ]
    },
    {
     "data": {
      "image/png": "[encoded data removed]",
      "text/plain": [
       "<Figure size 432x288 with 1 Axes>"
      ]
     },
     "metadata": {
      "needs_background": "light"
     },
     "output_type": "display_data"
    },
    {
     "name": "stdout",
     "output_type": "stream",
     "text": [
      "\n",
      "Exception Type                 ConcolicGrammarFuzzer     GrammarFuzzer            \n",
      "--------------------------------------------------------------------------------\n",
      "SQLException                   95                        100                      \n",
      "TypeError                      4                         0                        \n",
      "\n",
      "Elapsed Time (s)               ConcolicGrammarFuzzer     GrammarFuzzer            \n",
      "--------------------------------------------------------------------------------\n",
      "                               9.49                      2.52                     \n"
     ]
    }
   ],
   "source": [
    "config = {\n",
    "    'target': TARGET, \n",
    "    'grammar': GRAMMAR, \n",
    "    'max_nonterminals': MAX_NONTERMINALS, \n",
    "    'n_fuzz': 100,\n",
    "    'functions': FUNCTIONS\n",
    "}\n",
    "\n",
    "result1, result2 = comperative_run(\n",
    "    runner1=run_concolic_grammar_fuzzer,\n",
    "    config1=config,\n",
    "    runner2=run_grammar_fuzzer,\n",
    "    config2=config\n",
    ")"
   ]
  },
  {
   "cell_type": "code",
   "execution_count": 82,
   "metadata": {},
   "outputs": [],
   "source": [
    "def sum_results(results):\n",
    "    assert (len(results) > 1)\n",
    "    \n",
    "    functions = sorted(results[0].functions)\n",
    "    fuzzer_name = results[0].fuzzer_name\n",
    "    line_coverage = {}\n",
    "    branch_coverage = {}\n",
    "    exceptions = []\n",
    "    elapsed_time = 0\n",
    "    \n",
    "    assert (all(sorted(r.functions) == functions for r in results))\n",
    "    assert (all(r.fuzzer_name == fuzzer_name for r in results))\n",
    "    \n",
    "    for result in results:\n",
    "        line_coverage |= result.line_coverage\n",
    "        branch_coverage |= result.branch_coverage\n",
    "        exceptions += result.exceptions\n",
    "        elapsed_time += result.elapsed_time\n",
    "        \n",
    "    return Result(functions,\n",
    "                  fuzzer_name,\n",
    "                  line_coverage, \n",
    "                  branch_coverage, \n",
    "                  exceptions, \n",
    "                  elapsed_time)"
   ]
  },
  {
   "cell_type": "code",
   "execution_count": null,
   "metadata": {},
   "outputs": [],
   "source": []
  }
 ],
 "metadata": {
  "kernelspec": {
   "display_name": "Python 3",
   "language": "python",
   "name": "python3"
  },
  "language_info": {
   "codemirror_mode": {
    "name": "ipython",
    "version": 3
   },
   "file_extension": ".py",
   "mimetype": "text/x-python",
   "name": "python",
   "nbconvert_exporter": "python",
   "pygments_lexer": "ipython3",
   "version": "3.7.3"
  }
 },
 "nbformat": 4,
 "nbformat_minor": 2
}
