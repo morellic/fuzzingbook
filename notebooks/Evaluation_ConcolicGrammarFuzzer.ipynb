{
 "cells": [
  {
   "cell_type": "markdown",
   "metadata": {},
   "source": [
    "# Evaluation: ConcolicGrammarFuzzer"
   ]
  },
  {
   "cell_type": "markdown",
   "metadata": {},
   "source": [
    "In this chapter, we will evaluate our concolic fuzzer that uses grammars. Namely, we want to compare  `ConcolicGrammarFuzzer` and `GrammarFuzzer`. We are mainly interested in **speed**, **coverage** and **number of valid inputs** achieved by these fuzzers.\n",
    "\n",
    "We will fuzz a simple Python program with both fuzzers and compare their success. Note that the features of `ConcolicGrammarFuzzer` is limited by symbolic execution and the SMT solver used ([Z3](https://github.com/Z3Prover/z3)), so we restricted our target to be a simple program. We believe this evaluation could be extended to more complex programs (which would lead to amore comprehensive evaluation of our concolic fuzzer) when more features are added to `ConcolicGrammarFuzzer` or Z3.\n",
    "\n",
    "We explain our evaluation step by step, starting from the target program. We also describe our implementation details such as how we obtain the metrics (e.g. coverage) or how we run our fuzzers. Those who are interested only in the results can jump right in to [Evaluation](#evaluation) part. \n",
    "\n",
    "It is very easy to replicate our evaluation. You can try out the evaluation with different configurations, how to do this is explained in [Evaluation](#evaluation). \n",
    "\n",
    "**Important Note:** `Z3 version 4.8.5 - 64 bit` was used."
   ]
  },
  {
   "cell_type": "markdown",
   "metadata": {},
   "source": [
    "### Table of Contents\n",
    "1. [Target Program](#target-program)\n",
    "2. [Calculating Coverage](#calculating-coverage)\n",
    "3. [Metrics](#metrics)\n",
    "4. [Running Fuzzers](#running-fuzzers)\n",
    "5. [Comparing Fuzzing Results](#comparing-fuzzing-results)\n",
    "6. [Evaluation](#evaluation)\n",
    "7. [Comments and Conclusion](#conclusion)"
   ]
  },
  {
   "cell_type": "markdown",
   "metadata": {},
   "source": [
    "Let's import our fuzzingbook utils and fuzzers first."
   ]
  },
  {
   "cell_type": "code",
   "execution_count": 1,
   "metadata": {},
   "outputs": [],
   "source": [
    "import fuzzingbook_utils\n",
    "from ConcolicFuzzer import ConcolicGrammarFuzzer, ConcolicTracer\n",
    "from GrammarFuzzer import GrammarFuzzer"
   ]
  },
  {
   "cell_type": "markdown",
   "metadata": {},
   "source": [
    "## 1. Target Program: `query_db` function <a name=\"target-program\"></a>\n",
    "\n",
    "Our target program, `query_db`, is a function defined as below. This simple function mimics querying an SQL database. We mock an SQL database using the `ConcolicDB` and its grammar `INVENTORY_GRAMMAR` from the [InformationFlow](InformationFlow.ipynb) chapter.\n",
    "\n",
    "We should point some important aspects of `query_db`:\n",
    "* The databese is initialized to `INITIAL_DB` in each execution. This is done mainly because we want the database to be in the same state for each query created by the fuzzers so that our results can be reproduced easily. Later on, we will also test our fuzzers with different `INITIAL_DB` values.\n",
    "\n",
    "\n",
    "* If the query input is not valid, our target throws an `SQLException`. For example, if the table targeted by the query doesn't exist in the database, we would get an `SQLException`. This makes fuzzing challenging because fuzzers need to produce queries that have specific table or field names. Also, because of this, we expect the `ConcolicGrammarFuzzer` to be more successfull since it should be able to find out these specific values with symbolic execution and update its grammar to produce better queries."
   ]
  },
  {
   "cell_type": "code",
   "execution_count": 2,
   "metadata": {},
   "outputs": [],
   "source": [
    "from InformationFlow import INVENTORY_GRAMMAR, SQLException\n",
    "from ConcolicFuzzer import ConcolicDB\n",
    "from copy import deepcopy\n",
    "\n",
    "INITIAL_DB = [\n",
    "    (\n",
    "        'vehicles',\n",
    "        (\n",
    "            {'year': int, 'kind': str, 'company': str, 'model': str},\n",
    "            [\n",
    "                {'year': 1997, 'kind': 'van', 'company': 'Ford', 'model': 'E350'},\n",
    "                {'year': 2000, 'kind': 'car', 'company': 'Mercury', 'model': 'Cougar'},\n",
    "                {'year': 1999, 'kind': 'car', 'company': 'Chevy', 'model': 'Venture'},\n",
    "                {'year': 1975, 'kind': 'bus', 'company': 'Mercedes', 'model': 'Busy'},\n",
    "                {'year': 1996, 'kind': 'motorcycle', 'company': 'Yamaha', 'model': 'Storm'}\n",
    "            ]\n",
    "        )\n",
    "    ),\n",
    "    (\n",
    "        'months',\n",
    "        (\n",
    "            {'month': int, 'name': str},\n",
    "            [\n",
    "                {'month': 1, 'name': 'jan'},\n",
    "                {'month': 2, 'name': 'feb'},\n",
    "                {'month': 3, 'name': 'mar'},\n",
    "                {'month': 4, 'name': 'apr'},\n",
    "                {'month': 5, 'name': 'may'},\n",
    "                {'month': 6, 'name': 'jun'},\n",
    "                {'month': 7, 'name': 'jul'},\n",
    "                {'month': 8, 'name': 'aug'},\n",
    "                {'month': 9, 'name': 'sep'},\n",
    "                {'month': 10, 'name': 'oct'},\n",
    "                {'month': 11, 'name': 'nov'},\n",
    "                {'month': 12, 'name': 'dec'}\n",
    "            ]\n",
    "        )\n",
    "    )\n",
    "]\n",
    "\n",
    "def query_db(query):\n",
    "    global INITIAL_DB\n",
    "    concolic_db = ConcolicDB()\n",
    "    concolic_db.db = deepcopy(INITIAL_DB)\n",
    "    return concolic_db.sql(query)"
   ]
  },
  {
   "cell_type": "markdown",
   "metadata": {},
   "source": [
    "## 2. Calculating Coverage: `FilteredCoverage` class <a name=\"calculating-coverage\"></a>\n",
    "\n",
    "We calculate the coverage achieved by the fuzzers with the context manager below (`FilteredCoverage`). This coverage class works very similar to `Coverage` and `BranchCoverage` classes which are described in the [Coverage](Coverage.ipynb) chapter. Further information about context managers can be found at [docs](https://docs.python.org/3/library/contextlib.html) and [PEP343](https://docs.python.org/3/whatsnew/2.6.html#pep-343-the-with-statement).\n",
    "\n",
    "First, we should clarify why we chose to implement the `FilteredCoverage` class instead of using our already available `Coverage` and `BranchCoverage` classes. Main reason is that the execution of the target program is wrapped by concolic execution in `ConcolicGrammarFuzzer`. Instances of many types (`int`, `str`, `float` etc.) are replaced by their symbolic equivalents (`zint`, `zstr`, `zfloat` etc.) and during the execution, methods of these symbolic types are called frequently. However, we are not interested in these methods since they are not related to the target program. In other words, if we were to use `Coverage` or `BranchCoverage` class, we would obtain coverages from many functions which are not related to target program but to our concolic execution implementation.\n",
    "\n",
    "In order to avoid this, we chose to whitelist the functions that we are interested in. The `FilteredCoverage` class takes a set of function names and traces only the functions included in this set, obtaining their line/branch coverage. In other words, it provides a filtered coverage (hence the name) which includes only the functions we whitelist. Also, note that `FilteredCoverage` provides both line coverage and branch coverage.\n",
    "\n",
    "Another option is to blacklist the functions that we are not interested in. However, this also requires to blacklist all the functions used in concolic execution, which could be cumbersome because of the third-party software components used (e.g. Z3). Thus, for simplicity, we chose whitelisting.\n",
    "\n",
    "You don't need to understand fully how the following works, but if you are interested in, we encourage you to check out the [Coverage](Coverage.ipynb) chapter."
   ]
  },
  {
   "cell_type": "code",
   "execution_count": 3,
   "metadata": {},
   "outputs": [],
   "source": [
    "import sys\n",
    "\n",
    "class FilteredCoverage:\n",
    "    def __init__(self, functions=set()):\n",
    "        self._traces = []\n",
    "        self._line_coverage = set()\n",
    "        self._branch_coverage = set()\n",
    "        self._functions = functions\n",
    "    \n",
    "    def __enter__(self):\n",
    "        self.original_tracer = sys.gettrace()\n",
    "        sys.settrace(self._tracer)\n",
    "        return self\n",
    "\n",
    "    def __exit__(self, exc_type, exc_value, tb):\n",
    "        sys.settrace(self.original_tracer)\n",
    "        \n",
    "    def _tracer(self, frame, event, arg):\n",
    "        if self.original_tracer is not None:\n",
    "            self.original_tracer(frame, event, arg)\n",
    "            \n",
    "        should_trace = (event == 'line' and \n",
    "                        frame.f_code.co_name in self._functions)\n",
    "        \n",
    "        if should_trace:\n",
    "            function_name = frame.f_code.co_name\n",
    "            line_no = frame.f_lineno\n",
    "            trace = (function_name, line_no)\n",
    "            \n",
    "            if len(self._traces) > 0:\n",
    "                last_trace = self._traces[-1]\n",
    "                if last_trace[0] == function_name:\n",
    "                    self._branch_coverage.add((last_trace, trace))\n",
    "                \n",
    "            self._traces.append(trace)\n",
    "            self._line_coverage.add(trace)\n",
    "\n",
    "        return self._tracer\n",
    "    \n",
    "    def get_traces(self):\n",
    "        return self._traces\n",
    "\n",
    "    def get_line_coverage(self):\n",
    "        return self._line_coverage\n",
    "    \n",
    "    def get_branch_coverage(self):\n",
    "        return self._branch_coverage"
   ]
  },
  {
   "cell_type": "markdown",
   "metadata": {},
   "source": [
    "Here is how this class can be used."
   ]
  },
  {
   "cell_type": "code",
   "execution_count": 4,
   "metadata": {},
   "outputs": [],
   "source": [
    "def my_multiply(n1, n2):\n",
    "    r = n1 * n2\n",
    "    return r\n",
    "\n",
    "def my_square(n):\n",
    "    r = my_multiply(n, n)\n",
    "    return r"
   ]
  },
  {
   "cell_type": "code",
   "execution_count": 5,
   "metadata": {},
   "outputs": [
    {
     "name": "stdout",
     "output_type": "stream",
     "text": [
      "{('my_square', 7), ('my_multiply', 3), ('my_square', 6), ('my_multiply', 2)}\n",
      "{(('my_multiply', 2), ('my_multiply', 3))}\n"
     ]
    }
   ],
   "source": [
    "functions = {'my_multiply', 'my_square'}\n",
    "with FilteredCoverage(functions) as fc:\n",
    "    my_square(3)\n",
    "\n",
    "print(fc.get_line_coverage())\n",
    "print(fc.get_branch_coverage())"
   ]
  },
  {
   "cell_type": "markdown",
   "metadata": {},
   "source": [
    "Let's try obtaining coverage only from `my_multiply` function."
   ]
  },
  {
   "cell_type": "code",
   "execution_count": 6,
   "metadata": {},
   "outputs": [
    {
     "name": "stdout",
     "output_type": "stream",
     "text": [
      "{('my_multiply', 3), ('my_multiply', 2)}\n",
      "{(('my_multiply', 2), ('my_multiply', 3))}\n"
     ]
    }
   ],
   "source": [
    "functions = {'my_multiply'}\n",
    "with FilteredCoverage(functions) as fc:\n",
    "    my_square(3)\n",
    "\n",
    "print(fc.get_line_coverage())\n",
    "print(fc.get_branch_coverage())"
   ]
  },
  {
   "cell_type": "markdown",
   "metadata": {},
   "source": [
    "## 3. Metrics: `Result` class <a name=\"metrics\"></a>\n",
    "\n",
    "We will obtain many metrics (line coverage, branch coverage, expeptions raised ...) when we fuzz our target program. To easily represent and compare these with other fuzzer's results, we define a class called `Result`. It contains all the metrics we obtain from fuzzing a target. For convenience, each fuzzer runner will return a `Result` object.\n",
    "\n",
    "Implementation is fairly simple and self-explanatory. Nevertheless, here are some basic explanations for constructor parameters and metrics provided as class fields.\n",
    "\n",
    "Constructor takes these parameters:\n",
    "* **functions**: set of function names that we want to obtain coverage from\n",
    "* **fuzzer_name**: name of the fuzzer\n",
    "* **n_fuzz**: number of fuzzes\n",
    "* **line_coverage**: set of `(function_name, line_no)` tuples, represents total line coverage\n",
    "* **branch_coverage**: set of `((function_name, line_no1), (function_name, line_no2))` tuples, represents total branch coverage\n",
    "* **exceptions**:  list of `(input, exception)` tuples representing exceptions thrown while fuzzing\n",
    "* **valid_inputs**:  list of inputs produced by fuzzer which did not cause an exception\n",
    "* **elapsed_time**:  seconds it took to fuzz n_fuzz times\n",
    "\n",
    "Main metric fields (remaining fields are self-explanatory):\n",
    "* **line_coverage_dict**: dictionary of lines covered of each function (function_name -> list_lines_covered)\n",
    "* **branch_coverage_dict**: dictionary of branches covered of each function (function_name -> list_branches_covered)\n",
    "* **exceptions_dict**: dictionary of exceptions raised of each type (exception_type -> list_exceptions)\n"
   ]
  },
  {
   "cell_type": "code",
   "execution_count": 7,
   "metadata": {},
   "outputs": [],
   "source": [
    "from collections import defaultdict\n",
    "\n",
    "class Result:\n",
    "    def __init__(\n",
    "            self, \n",
    "            functions,\n",
    "            fuzzer_name,\n",
    "            n_fuzz,\n",
    "            line_coverage, \n",
    "            branch_coverage, \n",
    "            exceptions, \n",
    "            valid_inputs,\n",
    "            elapsed_time):\n",
    "        \n",
    "        self.functions = functions\n",
    "        self.fuzzer_name = fuzzer_name\n",
    "        self.n_fuzz = n_fuzz\n",
    "        \n",
    "        self.line_coverage = line_coverage\n",
    "        self.branch_coverage = branch_coverage\n",
    "    \n",
    "        self.exceptions = exceptions\n",
    "        self.valid_inputs = valid_inputs\n",
    "        \n",
    "        self.n_lines_covered = len(line_coverage)\n",
    "        self.n_branches_covered = len(branch_coverage)\n",
    "        self.n_exceptions = len(exceptions)\n",
    "        self.n_valid_inputs = len(valid_inputs)\n",
    "        self.valid_input_percentage = (len(valid_inputs) / float(n_fuzz)) * 100\n",
    "        \n",
    "        self.elapsed_time = elapsed_time\n",
    "        \n",
    "        self.line_coverage_dict = self._generate_line_coverage_dict()\n",
    "        self.branch_coverage_dict = self._generate_branch_coverage_dict()\n",
    "        self.exceptions_dict = self._generate_exceptions_dict()\n",
    "\n",
    "    def _generate_line_coverage_dict(self):\n",
    "        line_coverage_dict = defaultdict(list)\n",
    "        for function_name, line in self.line_coverage:\n",
    "            line_coverage_dict[function_name].append(line)\n",
    "        return line_coverage_dict\n",
    "\n",
    "    def _generate_branch_coverage_dict(self):\n",
    "        branch_coverage_dict = defaultdict(list)\n",
    "        for branch in self.branch_coverage:\n",
    "            function_name = branch[0][0]\n",
    "            branch_coverage_dict[function_name].append(branch)\n",
    "        return branch_coverage_dict\n",
    "            \n",
    "    def _generate_exceptions_dict(self):\n",
    "        exceptions_dict = defaultdict(list)\n",
    "        for inp, exp in self.exceptions:\n",
    "            exp_type = type(exp).__name__\n",
    "            exceptions_dict[exp_type].append(exp)\n",
    "        return exceptions_dict"
   ]
  },
  {
   "cell_type": "markdown",
   "metadata": {},
   "source": [
    "Now, we have a class to represent the \"success\" of a fuzzer. Let's see how we can run our fuzzers and create a `Result` object."
   ]
  },
  {
   "cell_type": "markdown",
   "metadata": {},
   "source": [
    "## 4. Running Fuzzers: `run_grammar_fuzzer` and `run_concolic_grammar_fuzzer` <a name=\"running-fuzzers\"></a>"
   ]
  },
  {
   "cell_type": "markdown",
   "metadata": {},
   "source": [
    "A single function that fuzzes a given target multiple times using a given fuzzer object would be pretty useful. For this purpose, we implement the `fuzz_n_times` function, which takes a target, set of functions to obtain coverage from, a fuzzer instance, and number of fuzzes. This function not only fuzzes the target, but also saves line coverage, branch coverage, exceptions, valid inputs, elapsed time, and returns a `Result` object that contains these metrics.\n",
    "\n",
    "**A tiny implementation detail - `run_target`**: Note that while fuzzing with `ConcolicGrammarFuzzer`, we need to do some extra work compared to `GrammarFuzzer`. Namely, we need to invoke the target program in the context of `ConcolicTracer` (so we have concolic execution) and update the grammar in `ConcolicGrammarFuzzer` after each execution. Because of this, we also implement the function `run_target` which runs the target program with the given input properly according the fuzzer's type."
   ]
  },
  {
   "cell_type": "code",
   "execution_count": 8,
   "metadata": {},
   "outputs": [],
   "source": [
    "import time\n",
    "\n",
    "def run_target(target, inp, fuzzer):\n",
    "    if 'concolic' in fuzzer.__class__.__name__.lower():\n",
    "        with ConcolicTracer() as tracer:\n",
    "            try:\n",
    "                return tracer[target](inp)\n",
    "            except Exception as e:\n",
    "                raise e\n",
    "            finally:\n",
    "                fuzzer.update_grammar(tracer)\n",
    "    else:\n",
    "        return target(inp)\n",
    "    \n",
    "def fuzz_n_times(target, functions, fuzzer, n_fuzz):\n",
    "    fuzzer_name = fuzzer.__class__.__name__\n",
    "    \n",
    "    line_coverage = set()\n",
    "    branch_coverage = set()\n",
    "    exceptions = []\n",
    "    valid_inputs = []\n",
    "    invalid_inputs = dict()\n",
    "    \n",
    "    start_time = time.time()\n",
    "\n",
    "    for i in range(n_fuzz):\n",
    "        print('{0:<30}-> fuzz {1} of {2}'.format(fuzzer_name, i, n_fuzz), end='\\r')\n",
    "        inp = fuzzer.fuzz()\n",
    "        with FilteredCoverage(functions) as fc:\n",
    "            try:\n",
    "                run_target(target, inp, fuzzer)\n",
    "                valid_inputs.append(inp)\n",
    "            except Exception as e:\n",
    "                exceptions.append((inp, e))\n",
    "                #raise e\n",
    "\n",
    "        line_coverage |= fc.get_line_coverage()\n",
    "        branch_coverage |= fc.get_branch_coverage()\n",
    "        \n",
    "    elapsed_time = time.time() - start_time\n",
    "\n",
    "    print('{0:<30}-> fuzzed {1} times in {2:.2f} seconds!'.format(fuzzer_name, n_fuzz, elapsed_time))\n",
    "    \n",
    "    return Result(functions,\n",
    "                  fuzzer_name,\n",
    "                  n_fuzz,\n",
    "                  line_coverage, \n",
    "                  branch_coverage, \n",
    "                  exceptions,\n",
    "                  valid_inputs,\n",
    "                  elapsed_time)"
   ]
  },
  {
   "cell_type": "markdown",
   "metadata": {},
   "source": [
    "Now that we have our \"generic\" function to run fuzzer instances of different types, let's continue with runners of each fuzzer, `run_grammar_fuzzer` and `run_concolic_grammar_fuzzer`. These are very simple functions that properly instantiate a fuzzer with the given configurations and fuzz the target many times with the help of the function `fuzz_n_times`. When the fuzzing is all done, these runners return a `Result` object which contains all the metrics we are interested in."
   ]
  },
  {
   "cell_type": "code",
   "execution_count": 9,
   "metadata": {},
   "outputs": [],
   "source": [
    "def run_grammar_fuzzer(\n",
    "        target, \n",
    "        grammar, \n",
    "        min_nonterminals,\n",
    "        max_nonterminals,\n",
    "        n_fuzz,\n",
    "        functions): \n",
    "    \n",
    "    gf = GrammarFuzzer(grammar=grammar, \n",
    "                       min_nonterminals=min_nonterminals,\n",
    "                       max_nonterminals=max_nonterminals)\n",
    "    \n",
    "    result = fuzz_n_times(target=target, \n",
    "                          functions=functions, \n",
    "                          fuzzer=gf, \n",
    "                          n_fuzz=n_fuzz)\n",
    "    \n",
    "    return result"
   ]
  },
  {
   "cell_type": "code",
   "execution_count": 10,
   "metadata": {},
   "outputs": [],
   "source": [
    "def run_concolic_grammar_fuzzer(\n",
    "        target, \n",
    "        grammar, \n",
    "        min_nonterminals,\n",
    "        max_nonterminals, \n",
    "        n_fuzz,\n",
    "        functions):\n",
    "    \n",
    "    cgf = ConcolicGrammarFuzzer(grammar=grammar,\n",
    "                                min_nonterminals=min_nonterminals,\n",
    "                                max_nonterminals=max_nonterminals)\n",
    "\n",
    "    cgf.prune_tokens([])\n",
    "    \n",
    "    result = fuzz_n_times(target=target, \n",
    "                          functions=functions, \n",
    "                          fuzzer=cgf, \n",
    "                          n_fuzz=n_fuzz)\n",
    "    \n",
    "    return result"
   ]
  },
  {
   "cell_type": "markdown",
   "metadata": {},
   "source": [
    "We can now run our fuzzers and obtain the metrics we are interested in. \n",
    "\n",
    "Let's see if our runners work as expected. First, we define the default configurations for our runners."
   ]
  },
  {
   "cell_type": "code",
   "execution_count": 11,
   "metadata": {},
   "outputs": [],
   "source": [
    "N_FUZZ_DEFAULT = 100                  # how many times we fuzz\n",
    "TARGET_DEFAULT = query_db             # target function we are fuzzing\n",
    "GRAMMAR_DEFAULT = INVENTORY_GRAMMAR   # grammar for fuzzing\n",
    "MIN_NONTERMINALS_DEFAULT = 0          # min nonterminal grammar expansions for fuzzing\n",
    "MAX_NONTERMINALS_DEFAULT = 10         # max nonterminal grammar expansions for fuzzing\n",
    "FUNCTIONS_DEFAULT = {                 # functions we want to obtain coverage from\n",
    "    'sql', \n",
    "    'table',\n",
    "    'do_update', \n",
    "    'do_insert', \n",
    "    'do_delete', \n",
    "    'query_db'\n",
    "}\n",
    "\n",
    "DEFAULT_CONFIG = {\n",
    "    'target': TARGET_DEFAULT, \n",
    "    'grammar': GRAMMAR_DEFAULT, \n",
    "    'min_nonterminals': MIN_NONTERMINALS_DEFAULT, \n",
    "    'max_nonterminals': MAX_NONTERMINALS_DEFAULT, \n",
    "    'n_fuzz': N_FUZZ_DEFAULT,\n",
    "    'functions': FUNCTIONS_DEFAULT\n",
    "}"
   ]
  },
  {
   "cell_type": "markdown",
   "metadata": {},
   "source": [
    "Time to run! \n",
    "\n",
    "(**Tiny Python note:** We pass the dictionary items as function arguments using `**`. If there is a function defined as `def foo(x, y)`, we can pass the items of the dictionary `bar = {'x': 1, 'y': 2}` to this function by `foo(**bar)`, which is equivalent to `foo(x=1, y=2)`.)"
   ]
  },
  {
   "cell_type": "code",
   "execution_count": 12,
   "metadata": {},
   "outputs": [
    {
     "name": "stdout",
     "output_type": "stream",
     "text": [
      "ConcolicGrammarFuzzer         -> fuzzed 100 times in 10.45 seconds!\n",
      "GrammarFuzzer                 -> fuzzed 100 times in 2.64 seconds!\n"
     ]
    }
   ],
   "source": [
    "result1 = run_concolic_grammar_fuzzer(**DEFAULT_CONFIG)\n",
    "result2 = run_grammar_fuzzer(**DEFAULT_CONFIG)"
   ]
  },
  {
   "cell_type": "markdown",
   "metadata": {},
   "source": [
    "Seems like everything ran smoothly, let's have a look at which lines of the functions are executed."
   ]
  },
  {
   "cell_type": "code",
   "execution_count": 13,
   "metadata": {},
   "outputs": [
    {
     "name": "stdout",
     "output_type": "stream",
     "text": [
      "--- ConcolicGrammarFuzzer ---\n",
      "defaultdict(<class 'list'>, {'sql': [58, 52, 57, 54, 53, 55, 56], 'do_delete': [190, 182, 188, 192, 191, 186, 183, 189, 184, 193, 187], 'table': [741, 743, 740, 742], 'do_update': [156, 162, 169, 155, 161, 150, 143, 149, 166, 152, 144, 165, 151, 168, 154, 146], 'do_insert': [107, 125, 110, 109, 127, 129, 114, 122, 113, 116, 106, 105, 118, 108, 126], 'query_db': [45, 43, 44]})\n",
      "\n",
      "--- GrammarFuzzer ---\n",
      "defaultdict(<class 'list'>, {'do_update': [143, 149, 144, 151, 150, 146], 'sql': [58, 53, 52, 57, 55, 56, 54], 'do_delete': [186, 183, 182, 184, 187], 'table': [741, 740, 743], 'do_insert': [107, 106, 109, 105, 108], 'query_db': [45, 43, 44]})\n"
     ]
    }
   ],
   "source": [
    "print('--- ConcolicGrammarFuzzer ---')\n",
    "print(result1.line_coverage_dict)\n",
    "print()\n",
    "print('--- GrammarFuzzer ---')\n",
    "print(result2.line_coverage_dict)"
   ]
  },
  {
   "cell_type": "markdown",
   "metadata": {},
   "source": [
    "It works, but looks very ugly. Also, we not only have line coverage but many other metrics. Wouldn't it be nice to have some fancy prints and plots for our metrics? Well, let's have that!\n",
    "\n",
    "If you are not interested in how we print/plot and compare two `Result` objects, you can jump right into [Evaluation](#evaluation)."
   ]
  },
  {
   "cell_type": "markdown",
   "metadata": {},
   "source": [
    "## 5. Comparing Fuzzing Results: `ResultComparator` class <a name=\"comparing-fuzzing-results\"></a>"
   ]
  },
  {
   "cell_type": "markdown",
   "metadata": {},
   "source": [
    "The last step before the [Evaluation](#evaluation) is the `ResultComparator` class, which basically takes two `Result` objects upon initialization and compares them by nicely printing/plotting their metrics.\n",
    "\n",
    "Its main methods are:\n",
    "* **compare_line_coverage**: prints and plots line coverage by function name\n",
    "* **compare_branch_coverage**: prints and plots branch coverage by function name\n",
    "* **compare_exceptions**: prints the exceptions thrown by their type\n",
    "* **compare_valid_inputs**: prints percentage and number of inputs that did not raise any exceptions\n",
    "* **compare_elapsed_time**: prints time it took to fuzz in minutes, seconds and milliseconds\n",
    "* **compare_all**: calls all the methods above\n"
   ]
  },
  {
   "cell_type": "code",
   "execution_count": 14,
   "metadata": {},
   "outputs": [],
   "source": [
    "import matplotlib.pyplot as plt\n",
    "import numpy as np\n",
    "\n",
    "class ResultComparator:\n",
    "    def __init__(self, result1, result2):\n",
    "        self.result1 = result1\n",
    "        self.result2 = result2\n",
    "        \n",
    "        self.name1 = result1.fuzzer_name\n",
    "        self.name2 = result2.fuzzer_name\n",
    "        \n",
    "        assert(result1.functions == result2.functions)\n",
    "        self.functions = result1.functions\n",
    " \n",
    "    def _print_formatted(self, arg1, arg2, arg3):\n",
    "        print('{0: <30} {1: <25} {2: <25}'.format(arg1, arg2, arg3))\n",
    "        \n",
    "    def _print_title(self, title):\n",
    "        print('\\n')\n",
    "        self._print_formatted(title, self.name1, self.name2)\n",
    "        print('-' * 80)\n",
    "        \n",
    "    def _print_coverage_comparison(self, cov_dict1, n1, cov_dict2, n2, title):\n",
    "        self._print_title(title)\n",
    "        self._print_formatted('all functions', n1, n2)\n",
    "        for f in self.functions:\n",
    "            n_lines1 = len(cov_dict1[f])\n",
    "            n_lines2 = len(cov_dict2[f])\n",
    "            self._print_formatted(f, n_lines1, n_lines2)\n",
    "    \n",
    "    def _plot_coverage_comparison(self, cov_dict1, n1, cov_dict2, n2, title):\n",
    "        x_indexes = [i for i in range(len(self.functions) + 1)]\n",
    "        x_labels = ['all functions'] + list(self.functions)\n",
    "\n",
    "        plt.title(title)\n",
    "        plt.bar([x-0.1 for x in x_indexes], \n",
    "                [n1] + [len(cov_dict1[f]) for f in self.functions],  \n",
    "                width=0.2, align='center', label=self.name1)\n",
    "\n",
    "        plt.bar([x+0.1 for x in x_indexes], \n",
    "                [n2] + [len(cov_dict2[f]) for f in self.functions],  \n",
    "                width=0.2, align='center', label=self.name2)\n",
    "            \n",
    "        plt.legend(loc='upper right')\n",
    "        plt.xticks(x_indexes, x_labels, rotation=20)\n",
    "        plt.show()\n",
    "        \n",
    "    def compare_line_coverage(self):\n",
    "        args = [\n",
    "            self.result1.line_coverage_dict,\n",
    "            self.result1.n_lines_covered,\n",
    "            self.result2.line_coverage_dict,\n",
    "            self.result2.n_lines_covered,\n",
    "            'Line Coverage'\n",
    "        ]\n",
    "        \n",
    "        self._print_coverage_comparison(*args)\n",
    "        self._plot_coverage_comparison(*args)\n",
    "    \n",
    "    def compare_branch_coverage(self):\n",
    "        args = [\n",
    "            self.result1.branch_coverage_dict,\n",
    "            self.result1.n_branches_covered,\n",
    "            self.result2.branch_coverage_dict,\n",
    "            self.result2.n_branches_covered,\n",
    "            'Branch Coverage'\n",
    "        ]\n",
    "        \n",
    "        self._print_coverage_comparison(*args)\n",
    "        self._plot_coverage_comparison(*args)\n",
    "    \n",
    "    def compare_exceptions(self):\n",
    "        n_all1 = self.result1.n_exceptions\n",
    "        n_all2 = self.result2.n_exceptions\n",
    "\n",
    "        e_dict1 = self.result1.exceptions_dict\n",
    "        e_dict2 = self.result2.exceptions_dict\n",
    "\n",
    "        self._print_title('Exception Type')\n",
    "        self._print_formatted('all exceptions', n_all1, n_all2)\n",
    "        \n",
    "        all_e_types = e_dict1.keys() | e_dict2.keys()\n",
    "        for e_type in all_e_types:\n",
    "            n1 = len(e_dict1[e_type])\n",
    "            n2 = len(e_dict2[e_type])\n",
    "            self._print_formatted(e_type, n1, n2)\n",
    "\n",
    "    def compare_valid_inputs(self):\n",
    "        n1 = self.result1.n_valid_inputs\n",
    "        n2 = self.result2.n_valid_inputs\n",
    "        \n",
    "        perc1 = self.result1.valid_input_percentage\n",
    "        perc2 = self.result2.valid_input_percentage\n",
    "\n",
    "        self._print_title('Valid Inputs')\n",
    "        self._print_formatted('Number', n1, n2)\n",
    "        self._print_formatted('Percentage %', round(perc1, 2), round(perc2, 2))\n",
    "\n",
    "    def compare_elapsed_time(self):\n",
    "        t1_ms = '{:.0f} ms'.format(self.result1.elapsed_time * 1000)\n",
    "        t2_ms = '{:.0f} ms'.format(self.result2.elapsed_time * 1000)\n",
    "        \n",
    "        t1_s = '{:.2f} s'.format(self.result1.elapsed_time)\n",
    "        t2_s = '{:.2f} s'.format(self.result2.elapsed_time)\n",
    "        \n",
    "        t1_m = '{:.2f} m'.format(self.result1.elapsed_time / 60.0)\n",
    "        t2_m = '{:.2f} m'.format(self.result2.elapsed_time / 60.0)\n",
    "        \n",
    "        self._print_title('Elapsed Time')\n",
    "        self._print_formatted('in minutes', t1_m, t2_m)\n",
    "        self._print_formatted('in seconds', t1_s, t2_s)\n",
    "        self._print_formatted('in milliseconds', t1_ms, t2_ms)\n",
    "\n",
    "    def compare_all(self):\n",
    "        self.compare_line_coverage()\n",
    "        self.compare_branch_coverage()\n",
    "        self.compare_exceptions()\n",
    "        self.compare_valid_inputs()\n",
    "        self.compare_elapsed_time()"
   ]
  },
  {
   "cell_type": "markdown",
   "metadata": {},
   "source": [
    "Time to make some experiments!"
   ]
  },
  {
   "cell_type": "markdown",
   "metadata": {},
   "source": [
    "## 6. Evaluation <a name=\"evaluation\"></a>\n",
    "\n",
    "First, we will see how we can use the classes implemented in evaluation. Then, we will provide a **single function** that runs two fuzzers with given configurations and compares their success. Using that function, you can easily try out different configurations and compare fuzzers.\n",
    "\n",
    "For a start, let's see how we can run our fuzzers just 100 times and compare their success."
   ]
  },
  {
   "cell_type": "code",
   "execution_count": 15,
   "metadata": {},
   "outputs": [],
   "source": [
    "config = {\n",
    "    'target': TARGET_DEFAULT,       # target function we are fuzzing (query_db)\n",
    "    'grammar': GRAMMAR_DEFAULT,     # grammar for fuzzing (INVENTORY_GRAMMAR)\n",
    "    'min_nonterminals': 0,          # min nonterminal grammar expansions for fuzzing\n",
    "    'max_nonterminals': 10,         # max nonterminal grammar expansions for fuzzing\n",
    "    'n_fuzz': 100,                  # how many times we fuzz\n",
    "    'functions': FUNCTIONS_DEFAULT  # functions we want to obtain coverage from\n",
    "}"
   ]
  },
  {
   "cell_type": "code",
   "execution_count": 16,
   "metadata": {},
   "outputs": [
    {
     "name": "stdout",
     "output_type": "stream",
     "text": [
      "ConcolicGrammarFuzzer         -> fuzzed 100 times in 8.80 seconds!\n",
      "GrammarFuzzer                 -> fuzzed 100 times in 2.61 seconds!\n"
     ]
    }
   ],
   "source": [
    "result1 = run_concolic_grammar_fuzzer(**config)\n",
    "result2 = run_grammar_fuzzer(**config)"
   ]
  },
  {
   "cell_type": "markdown",
   "metadata": {},
   "source": [
    "Let's compare these results using the `ResultComparator`."
   ]
  },
  {
   "cell_type": "code",
   "execution_count": 17,
   "metadata": {},
   "outputs": [],
   "source": [
    "result_comparator = ResultComparator(result1, result2)"
   ]
  },
  {
   "cell_type": "markdown",
   "metadata": {},
   "source": [
    "Let's compare the line coverage first."
   ]
  },
  {
   "cell_type": "code",
   "execution_count": 18,
   "metadata": {},
   "outputs": [
    {
     "name": "stdout",
     "output_type": "stream",
     "text": [
      "\n",
      "\n",
      "Line Coverage                  ConcolicGrammarFuzzer     GrammarFuzzer            \n",
      "--------------------------------------------------------------------------------\n",
      "all functions                  55                        29                       \n",
      "do_update                      19                        6                        \n",
      "query_db                       3                         3                        \n",
      "table                          4                         3                        \n",
      "do_delete                      7                         5                        \n",
      "sql                            7                         7                        \n",
      "do_insert                      15                        5                        \n"
     ]
    },
    {
     "data": {
      "image/png": "[encoded data removed]",
      "text/plain": [
       "<Figure size 432x288 with 1 Axes>"
      ]
     },
     "metadata": {
      "needs_background": "light"
     },
     "output_type": "display_data"
    }
   ],
   "source": [
    "result_comparator.compare_line_coverage()"
   ]
  },
  {
   "cell_type": "markdown",
   "metadata": {},
   "source": [
    "Looks like the `ConcolicGrammarFuzzer` is winning. This is what we expected because the concolic fuzzer should be able to figure out precise table/field names with the help of symbolic execution, and update its grammar in order produce better queries.\n",
    "\n",
    "Let's see the branch coverage."
   ]
  },
  {
   "cell_type": "code",
   "execution_count": 19,
   "metadata": {},
   "outputs": [
    {
     "name": "stdout",
     "output_type": "stream",
     "text": [
      "\n",
      "\n",
      "Branch Coverage                ConcolicGrammarFuzzer     GrammarFuzzer            \n",
      "--------------------------------------------------------------------------------\n",
      "all functions                  50                        25                       \n",
      "do_update                      18                        5                        \n",
      "query_db                       2                         2                        \n",
      "table                          4                         3                        \n",
      "do_delete                      5                         4                        \n",
      "sql                            7                         7                        \n",
      "do_insert                      14                        4                        \n"
     ]
    },
    {
     "data": {
      "image/png": "[encoded data removed]",
      "text/plain": [
       "<Figure size 432x288 with 1 Axes>"
      ]
     },
     "metadata": {
      "needs_background": "light"
     },
     "output_type": "display_data"
    }
   ],
   "source": [
    "result_comparator.compare_branch_coverage()"
   ]
  },
  {
   "cell_type": "markdown",
   "metadata": {},
   "source": [
    "This is similar to line coverage."
   ]
  },
  {
   "cell_type": "code",
   "execution_count": 20,
   "metadata": {},
   "outputs": [
    {
     "name": "stdout",
     "output_type": "stream",
     "text": [
      "\n",
      "\n",
      "Exception Type                 ConcolicGrammarFuzzer     GrammarFuzzer            \n",
      "--------------------------------------------------------------------------------\n",
      "all exceptions                 97                        100                      \n",
      "TypeError                      2                         0                        \n",
      "SQLException                   95                        100                      \n"
     ]
    }
   ],
   "source": [
    "result_comparator.compare_exceptions()"
   ]
  },
  {
   "cell_type": "markdown",
   "metadata": {},
   "source": [
    "Looks like both fuzzers had many `SQLException`s. We can see the concolic fuzzer had some runs without any exceptions where as the grammar fuzzer had none. \n",
    "\n",
    "You might see that the concolic fuzzer had some `TypeError`s. Let's examine what are these about."
   ]
  },
  {
   "cell_type": "code",
   "execution_count": 21,
   "metadata": {},
   "outputs": [
    {
     "data": {
      "text/plain": [
       "[TypeError(\"unhashable type: 'zstr'\"), TypeError(\"unhashable type: 'zstr'\")]"
      ]
     },
     "execution_count": 21,
     "metadata": {},
     "output_type": "execute_result"
    }
   ],
   "source": [
    "result1.exceptions_dict['TypeError']"
   ]
  },
  {
   "cell_type": "markdown",
   "metadata": {},
   "source": [
    "We see that these all are `TypeError(\"unhashable type: 'zstr'\")`. Concolic fuzzer could raise this exception because the symbolic equivalent class used to wrap `str` objects during concolic execution is not hashable yet. \n",
    "\n",
    "Let's now have a look at the valid inputs produced."
   ]
  },
  {
   "cell_type": "code",
   "execution_count": 22,
   "metadata": {},
   "outputs": [
    {
     "name": "stdout",
     "output_type": "stream",
     "text": [
      "\n",
      "\n",
      "Valid Inputs                   ConcolicGrammarFuzzer     GrammarFuzzer            \n",
      "--------------------------------------------------------------------------------\n",
      "Number                         3                         0                        \n",
      "Percentage %                   3.0                       0.0                      \n"
     ]
    }
   ],
   "source": [
    "result_comparator.compare_valid_inputs()"
   ]
  },
  {
   "cell_type": "markdown",
   "metadata": {},
   "source": [
    "We can also see what exactly are these valid inputs."
   ]
  },
  {
   "cell_type": "code",
   "execution_count": 23,
   "metadata": {},
   "outputs": [
    {
     "data": {
      "text/plain": [
       "['update vehicles set company=yearZ where kind==year>vehicles*year!=year*kind(company,months)*company',\n",
       " 'select year(company)>kind from vehicles where kind!=kind<year*months-model(model)',\n",
       " 'select (7) from vehicles']"
      ]
     },
     "execution_count": 23,
     "metadata": {},
     "output_type": "execute_result"
    }
   ],
   "source": [
    "result1.valid_inputs"
   ]
  },
  {
   "cell_type": "markdown",
   "metadata": {},
   "source": [
    "We see that the `ConcolicGrammarFuzzer` is able to update the grammar to include values that depend on the state of the database such as table names (`vehicles`, `months`, ...)."
   ]
  },
  {
   "cell_type": "markdown",
   "metadata": {},
   "source": [
    "Let's check was is wrong with the inputs produced by the `GrammarFuzzer`."
   ]
  },
  {
   "cell_type": "code",
   "execution_count": 24,
   "metadata": {},
   "outputs": [
    {
     "data": {
      "text/plain": [
       "[('select (-42) from _k where L.w9M5(l>e*b==(_+u*M*Q-l(l)))>U',\n",
       "  InformationFlow.SQLException(\"Table ('_k') was not found\")),\n",
       " ('select kw,X,v*a from Xc where q(D)*y+x-R*f==u',\n",
       "  InformationFlow.SQLException(\"Table ('Xc') was not found\")),\n",
       " ('update a set g=Kb where Y+P/N<i-x/u-I',\n",
       "  InformationFlow.SQLException(\"Table ('a') was not found\")),\n",
       " ('select R*R+U,c from _:Y where q>G*E/.',\n",
       "  InformationFlow.SQLException(\"Table ('_:Y') was not found\")),\n",
       " (\"insert into g9Hb (xx) values (')C2vYZ','/P',49.5)\",\n",
       "  InformationFlow.SQLException(\"Table ('g9Hb') was not found\")),\n",
       " ('insert into g6 (QqAs) values (6461,902.9,16274283)',\n",
       "  InformationFlow.SQLException(\"Table ('g6') was not found\")),\n",
       " ('delete from f0 where ((M(x)/f-c*A/H))==F+A<I81d',\n",
       "  InformationFlow.SQLException(\"Table ('f0') was not found\")),\n",
       " ('select (pc7(D==e,d,x)) from K where X/A-7<I((J),Q)',\n",
       "  InformationFlow.SQLException(\"Table ('K') was not found\")),\n",
       " (\"insert into A (r) values (']')\",\n",
       "  InformationFlow.SQLException(\"Table ('A') was not found\")),\n",
       " ('select O+c/s*D,(E!=z-Z<X((Z),i)) from U10',\n",
       "  InformationFlow.SQLException(\"Table ('U10') was not found\")),\n",
       " ('insert into d8 (N1) values (-4)',\n",
       "  InformationFlow.SQLException(\"Table ('d8') was not found\")),\n",
       " ('select G*X,k,O!=G from Q where r+H/Q*:>X',\n",
       "  InformationFlow.SQLException(\"Table ('Q') was not found\")),\n",
       " (\"insert into B (Kh032l7wEV5,x,soJeUW,.,m,G06) values ('}','G')\",\n",
       "  InformationFlow.SQLException(\"Table ('B') was not found\")),\n",
       " ('delete from r where J+z/U/Y/I/d==w>((w)!=B==N)',\n",
       "  InformationFlow.SQLException(\"Table ('r') was not found\")),\n",
       " ('select (F5n),./l-g+H/t==(A)!=j,19.9 from gT',\n",
       "  InformationFlow.SQLException(\"Table ('gT') was not found\")),\n",
       " ('update gf3q set B=g,v=C,A=C where v==b',\n",
       "  InformationFlow.SQLException(\"Table ('gf3q') was not found\")),\n",
       " ('select ((((I-h)))),z/H-3.6-H+b*N-G from I5V',\n",
       "  InformationFlow.SQLException(\"Table ('I5V') was not found\")),\n",
       " ('update HB set N=dA,e=n where e*_+W*X<P<e',\n",
       "  InformationFlow.SQLException(\"Table ('HB') was not found\")),\n",
       " ('update ri set V=W,G=f,W=e where h-T+d<K',\n",
       "  InformationFlow.SQLException(\"Table ('ri') was not found\")),\n",
       " ('select t>X!=x,. from v where I*o+R>B-N',\n",
       "  InformationFlow.SQLException(\"Table ('v') was not found\")),\n",
       " ('select (l+q)!=2,(n/y-.*P*(E)+f*P) from v4',\n",
       "  InformationFlow.SQLException(\"Table ('v4') was not found\")),\n",
       " ('select (P!=q),(x),T from D where (I==:)!=k*y*U+p/(5)',\n",
       "  InformationFlow.SQLException(\"Table ('D') was not found\")),\n",
       " (\"insert into G (j,g) values (6,'1`i,&','+')\",\n",
       "  InformationFlow.SQLException(\"Table ('G') was not found\")),\n",
       " ('delete from p4 where (f==j!=M>:)!=((Y*y/g+a*C))',\n",
       "  InformationFlow.SQLException(\"Table ('p4') was not found\")),\n",
       " ('select (I),Q,X from j5.8 where .*J<w(t)',\n",
       "  InformationFlow.SQLException(\"Table ('j5.8') was not found\")),\n",
       " ('delete from _w where C*2+T/J>m==:-SR(z,.)',\n",
       "  InformationFlow.SQLException(\"Table ('_w') was not found\")),\n",
       " ('select s2:(T!=B,Z)>F(Sl(S)>D*M) from U134',\n",
       "  InformationFlow.SQLException(\"Table ('U134') was not found\")),\n",
       " (\"insert into pwS8 (X43g,I) values (-8,')')\",\n",
       "  InformationFlow.SQLException(\"Table ('pwS8') was not found\")),\n",
       " ('select S<J,(m!=G) from K7 where E(R)>W/g-F',\n",
       "  InformationFlow.SQLException(\"Table ('K7') was not found\")),\n",
       " ('update g0H set W2=q where e(R)>G==:!=T',\n",
       "  InformationFlow.SQLException(\"Table ('g0H') was not found\")),\n",
       " ('select h/i+E*u*t,u from D where s*s<w/.',\n",
       "  InformationFlow.SQLException(\"Table ('D') was not found\")),\n",
       " ('delete from G where 1.09!=((x))',\n",
       "  InformationFlow.SQLException(\"Table ('G') was not found\")),\n",
       " (\"insert into p (pHI,u3) values ('G','p','G','?')\",\n",
       "  InformationFlow.SQLException(\"Table ('p') was not found\")),\n",
       " ('select .==h==(Ak7),I+X(R)!=x(K) from wC887',\n",
       "  InformationFlow.SQLException(\"Table ('wC887') was not found\")),\n",
       " ('delete from k:IV where --3==u(f68,s-g+b-N-b*Y+A)/P((K),t,x)',\n",
       "  InformationFlow.SQLException(\"Table ('k:IV') was not found\")),\n",
       " (\"insert into jN5394 (wJ1j5B,mGJ) values (';x?~')\",\n",
       "  InformationFlow.SQLException(\"Table ('jN5394') was not found\")),\n",
       " ('select -0,.,A from Z9 where L+b<R(a)==((l*K))',\n",
       "  InformationFlow.SQLException(\"Table ('Z9') was not found\")),\n",
       " ('delete from c8z342 where p(i(L,k),l)>T+j-s-t-w(J)==---4.7',\n",
       "  InformationFlow.SQLException(\"Table ('c8z342') was not found\")),\n",
       " ('select l+j(R)+:+b,L,j from M909I97',\n",
       "  InformationFlow.SQLException(\"Table ('M909I97') was not found\")),\n",
       " ('select (n<H),.(b),d from L76 where a!=Z/r',\n",
       "  InformationFlow.SQLException(\"Table ('L76') was not found\")),\n",
       " (\"insert into v25: (lR,nq,V,V) values ('0',1)\",\n",
       "  InformationFlow.SQLException(\"Table ('v25:') was not found\")),\n",
       " ('select i-:/O+f(O)-T2:(f,o)*-48397.2>G(VK581) from D',\n",
       "  InformationFlow.SQLException(\"Table ('D') was not found\")),\n",
       " ('update uH set o=t where o*Y-u*E(:,H)>p+Q',\n",
       "  InformationFlow.SQLException(\"Table ('uH') was not found\")),\n",
       " ('delete from X9 where g(U<W-G)<A/g/Z+M(r,H)',\n",
       "  InformationFlow.SQLException(\"Table ('X9') was not found\")),\n",
       " ('delete from Kg9 where tn==W<H*q/j-Y9(P,N)',\n",
       "  InformationFlow.SQLException(\"Table ('Kg9') was not found\")),\n",
       " ('update wQ set S=s,o=R,Q=H where (f<s)==(j!=(D))',\n",
       "  InformationFlow.SQLException(\"Table ('wQ') was not found\")),\n",
       " ('insert into I649 (D,n,A,.5,LF,V8u7,V3V) values (544.9)',\n",
       "  InformationFlow.SQLException(\"Table ('I649') was not found\")),\n",
       " ('select (u),i0,B<m from gB where Q0X!=((A)!=c)',\n",
       "  InformationFlow.SQLException(\"Table ('gB') was not found\")),\n",
       " ('select 3,:==m!=h,f(u)-T/d+:*d/30 from :K',\n",
       "  InformationFlow.SQLException(\"Table (':K') was not found\")),\n",
       " (\"insert into gu (j) values (6697.935,'8FM','v')\",\n",
       "  InformationFlow.SQLException(\"Table ('gu') was not found\")),\n",
       " ('select :,c from n556b where u>Dq(_)',\n",
       "  InformationFlow.SQLException(\"Table ('n556b') was not found\")),\n",
       " ('select 33.56,1.1 from l where S>y2(v)',\n",
       "  InformationFlow.SQLException(\"Table ('l') was not found\")),\n",
       " ('delete from q3C61 where 0!=(c+v/d+M+.!=R-Q>d+V+U-B)',\n",
       "  InformationFlow.SQLException(\"Table ('q3C61') was not found\")),\n",
       " ('delete from _l where p((a!=G-P)==Y)>((w*q/R!=i<(B==_)/c))',\n",
       "  InformationFlow.SQLException(\"Table ('_l') was not found\")),\n",
       " (\"insert into Am (yG80b5) values ('IY/')\",\n",
       "  InformationFlow.SQLException(\"Table ('Am') was not found\")),\n",
       " ('update q set z=Q,v=M where x<S*S-W+v+Q',\n",
       "  InformationFlow.SQLException(\"Table ('q') was not found\")),\n",
       " ('insert into R9 (e05r57:,J,c,XN,p,F) values (--5)',\n",
       "  InformationFlow.SQLException(\"Table ('R9') was not found\")),\n",
       " ('select JB2,xl(H,j,Q)>Sl(p) from P6',\n",
       "  InformationFlow.SQLException(\"Table ('P6') was not found\")),\n",
       " ('delete from gu where d==_+R*q/K>v!=_==(U-o*u+Y)',\n",
       "  InformationFlow.SQLException(\"Table ('gu') was not found\")),\n",
       " ('select Y*R,Q!=n,x,x from k4 where W(E,c)>U*u',\n",
       "  InformationFlow.SQLException(\"Table ('k4') was not found\")),\n",
       " ('select T(G)+Q/Z/v,m,R,o,f,h from Qt',\n",
       "  InformationFlow.SQLException(\"Table ('Qt') was not found\")),\n",
       " ('delete from Z1F where G*E/P-r/B>H/j+l+E(W)',\n",
       "  InformationFlow.SQLException(\"Table ('Z1F') was not found\")),\n",
       " ('select (b*h+h+Y/Q(T)) from v where J==A+m+r',\n",
       "  InformationFlow.SQLException(\"Table ('v') was not found\")),\n",
       " ('select K<p(z) from q573IF3_ where P==w>w+q',\n",
       "  InformationFlow.SQLException(\"Table ('q573IF3_') was not found\")),\n",
       " ('update iC set PZ=bk where W-Z/s*X/y-j<b/z-.*W',\n",
       "  InformationFlow.SQLException(\"Table ('iC') was not found\")),\n",
       " (\"insert into okan (M21) values ('h','s')\",\n",
       "  InformationFlow.SQLException(\"Table ('okan') was not found\")),\n",
       " (\"insert into W (S,z,e,H) values ('K4|',0,'J')\",\n",
       "  InformationFlow.SQLException(\"Table ('W') was not found\")),\n",
       " ('update c set a=V4,dl0=b where G*J-g!=W',\n",
       "  InformationFlow.SQLException(\"Table ('c') was not found\")),\n",
       " ('insert into i8 (L4) values (--40.67)',\n",
       "  InformationFlow.SQLException(\"Table ('i8') was not found\")),\n",
       " ('delete from u where p+n*R/N+a/(Z)<L(O,G,J/S)',\n",
       "  InformationFlow.SQLException(\"Table ('u') was not found\")),\n",
       " ('select 448,3,(((55636.441))) from d',\n",
       "  InformationFlow.SQLException(\"Table ('d') was not found\")),\n",
       " ('select ((Wpq2(-055.41))),LD9,12,(M) from a',\n",
       "  InformationFlow.SQLException(\"Table ('a') was not found\")),\n",
       " ('select ((N<o*a!=g<s/d)) from h.o where m==w',\n",
       "  InformationFlow.SQLException(\"Table ('h.o') was not found\")),\n",
       " (\"insert into J (N,D,dSP7P,M,_EA) values ('[','5Z')\",\n",
       "  InformationFlow.SQLException(\"Table ('J') was not found\")),\n",
       " ('insert into m337 (yB8W3) values (-8.90)',\n",
       "  InformationFlow.SQLException(\"Table ('m337') was not found\")),\n",
       " ('select (f7(d871979189,(9.89),QP)) from vm33H4N',\n",
       "  InformationFlow.SQLException(\"Table ('vm33H4N') was not found\")),\n",
       " ('select ((r(k(j)+s*N,(UY(D+e/P-_))))) from M',\n",
       "  InformationFlow.SQLException(\"Table ('M') was not found\")),\n",
       " ('select 27.2,V==b from :H where r==j>x*M-F',\n",
       "  InformationFlow.SQLException(\"Table (':H') was not found\")),\n",
       " ('update P set U=ir where i+Z/j<I!=xm3',\n",
       "  InformationFlow.SQLException(\"Table ('P') was not found\")),\n",
       " ('delete from xw5 where P/x*g+z/J(.)*z(e,x)-h<7',\n",
       "  InformationFlow.SQLException(\"Table ('xw5') was not found\")),\n",
       " ('update h44y set mzO=m where j!=(j)!=s',\n",
       "  InformationFlow.SQLException(\"Table ('h44y') was not found\")),\n",
       " ('select 91.4320,(G61I5),(V7862P) from A',\n",
       "  InformationFlow.SQLException(\"Table ('A') was not found\")),\n",
       " (\"insert into L (Cp) values ('H',',A','W',00)\",\n",
       "  InformationFlow.SQLException(\"Table ('L') was not found\")),\n",
       " ('select (-5.029)/L(j*w*C(P)+J(j)) from fqQ',\n",
       "  InformationFlow.SQLException(\"Table ('fqQ') was not found\")),\n",
       " ('select a1c1C0((s/L))>(O)*I!=(C)-l(C!=f==(w)) from :6',\n",
       "  InformationFlow.SQLException(\"Table (':6') was not found\")),\n",
       " ('update N34z set X=X,i=Z where V+w>b+v',\n",
       "  InformationFlow.SQLException(\"Table ('N34z') was not found\")),\n",
       " (\"insert into Z7N5 (yvO) values ('!',198.8,'8k')\",\n",
       "  InformationFlow.SQLException(\"Table ('Z7N5') was not found\")),\n",
       " (\"insert into j4X8gH9h0K9 (U,J,o83Fc) values ('[')\",\n",
       "  InformationFlow.SQLException(\"Table ('j4X8gH9h0K9') was not found\")),\n",
       " ('delete from H where ((Q==e==j))>a-X+C-u*N-r((00))',\n",
       "  InformationFlow.SQLException(\"Table ('H') was not found\")),\n",
       " ('select (P*K>t*l-h) from l where z((5.1),H)>T+O',\n",
       "  InformationFlow.SQLException(\"Table ('l') was not found\")),\n",
       " ('select (-88==(M/f-p)) from _x where 7.9!=w*E*Q(m)',\n",
       "  InformationFlow.SQLException(\"Table ('_x') was not found\")),\n",
       " ('select _>n+A-j-p(F)>Y(H(o,a),n,y) from f7SjkOL',\n",
       "  InformationFlow.SQLException(\"Table ('f7SjkOL') was not found\")),\n",
       " ('delete from :70o7j where Zbl==((((Q7(O)<I+c-v/w-z*J+Y))))',\n",
       "  InformationFlow.SQLException(\"Table (':70o7j') was not found\")),\n",
       " ('update o set u_Wu=Y,B=d where -5<S*.-O!=7',\n",
       "  InformationFlow.SQLException(\"Table ('o') was not found\")),\n",
       " ('delete from v9VX where u/q*r/k<q-Up(.)==z!=(Fa)',\n",
       "  InformationFlow.SQLException(\"Table ('v9VX') was not found\")),\n",
       " ('delete from g where x-v+r(C)/a<F>R==Fl',\n",
       "  InformationFlow.SQLException(\"Table ('g') was not found\")),\n",
       " ('insert into vd8 (J3,z,n) values (12.41)',\n",
       "  InformationFlow.SQLException(\"Table ('vd8') was not found\")),\n",
       " ('delete from Y where i+j>p/q==e/Q-l*f-O',\n",
       "  InformationFlow.SQLException(\"Table ('Y') was not found\")),\n",
       " ('select (L(J,h))!=u!=(5!=v) from k where (Dv7)!=(0.5)',\n",
       "  InformationFlow.SQLException(\"Table ('k') was not found\")),\n",
       " ('update H5 set iP=y where D+v*A+H!=(w*j/L8e(x))',\n",
       "  InformationFlow.SQLException(\"Table ('H5') was not found\"))]"
      ]
     },
     "execution_count": 24,
     "metadata": {},
     "output_type": "execute_result"
    }
   ],
   "source": [
    "result2.exceptions"
   ]
  },
  {
   "cell_type": "markdown",
   "metadata": {},
   "source": [
    "As we can see, the inputs are actually produced correctly according to the grammar. However, the grammar itself is not enough to produce inputs depending on the state of the database."
   ]
  },
  {
   "cell_type": "markdown",
   "metadata": {},
   "source": [
    "Let's compare the elapsed time for each fuzzer."
   ]
  },
  {
   "cell_type": "code",
   "execution_count": 25,
   "metadata": {},
   "outputs": [
    {
     "name": "stdout",
     "output_type": "stream",
     "text": [
      "\n",
      "\n",
      "Elapsed Time                   ConcolicGrammarFuzzer     GrammarFuzzer            \n",
      "--------------------------------------------------------------------------------\n",
      "in minutes                     0.15 m                    0.04 m                   \n",
      "in seconds                     8.80 s                    2.61 s                   \n",
      "in milliseconds                8799 ms                   2613 ms                  \n"
     ]
    }
   ],
   "source": [
    "result_comparator.compare_elapsed_time()"
   ]
  },
  {
   "cell_type": "markdown",
   "metadata": {},
   "source": [
    "As expected, concolic fuzzer runs much slower because of the concolic execution and the constraint solving.\n",
    "\n",
    "Now, let's implement a function to encapsulate this comperative running process."
   ]
  },
  {
   "cell_type": "code",
   "execution_count": 26,
   "metadata": {},
   "outputs": [],
   "source": [
    "def comperative_run(runner1, config1, runner2, config2): \n",
    "    result1 = runner1(**config1)\n",
    "    result2 = runner2(**config2)\n",
    "    rc = ResultComparator(result1, result2)\n",
    "    rc.compare_all()\n",
    "    return result1, result2"
   ]
  },
  {
   "cell_type": "markdown",
   "metadata": {},
   "source": [
    "Let's fuzz 1000 times and compare the results with the `comperative_run` function."
   ]
  },
  {
   "cell_type": "code",
   "execution_count": 27,
   "metadata": {},
   "outputs": [
    {
     "name": "stdout",
     "output_type": "stream",
     "text": [
      "ConcolicGrammarFuzzer         -> fuzzed 1000 times in 98.46 seconds!\n",
      "GrammarFuzzer                 -> fuzzed 1000 times in 25.36 seconds!\n",
      "\n",
      "\n",
      "Line Coverage                  ConcolicGrammarFuzzer     GrammarFuzzer            \n",
      "--------------------------------------------------------------------------------\n",
      "all functions                  61                        29                       \n",
      "do_update                      21                        6                        \n",
      "query_db                       3                         3                        \n",
      "table                          4                         3                        \n",
      "do_delete                      11                        5                        \n",
      "sql                            7                         7                        \n",
      "do_insert                      15                        5                        \n"
     ]
    },
    {
     "data": {
      "image/png": "[encoded data removed]",
      "text/plain": [
       "<Figure size 432x288 with 1 Axes>"
      ]
     },
     "metadata": {
      "needs_background": "light"
     },
     "output_type": "display_data"
    },
    {
     "name": "stdout",
     "output_type": "stream",
     "text": [
      "\n",
      "\n",
      "Branch Coverage                ConcolicGrammarFuzzer     GrammarFuzzer            \n",
      "--------------------------------------------------------------------------------\n",
      "all functions                  57                        25                       \n",
      "do_update                      20                        5                        \n",
      "query_db                       2                         2                        \n",
      "table                          4                         3                        \n",
      "do_delete                      10                        4                        \n",
      "sql                            7                         7                        \n",
      "do_insert                      14                        4                        \n"
     ]
    },
    {
     "data": {
      "image/png": "[encoded data removed]",
      "text/plain": [
       "<Figure size 432x288 with 1 Axes>"
      ]
     },
     "metadata": {
      "needs_background": "light"
     },
     "output_type": "display_data"
    },
    {
     "name": "stdout",
     "output_type": "stream",
     "text": [
      "\n",
      "\n",
      "Exception Type                 ConcolicGrammarFuzzer     GrammarFuzzer            \n",
      "--------------------------------------------------------------------------------\n",
      "all exceptions                 970                       1000                     \n",
      "TypeError                      37                        0                        \n",
      "SQLException                   933                       1000                     \n",
      "\n",
      "\n",
      "Valid Inputs                   ConcolicGrammarFuzzer     GrammarFuzzer            \n",
      "--------------------------------------------------------------------------------\n",
      "Number                         30                        0                        \n",
      "Percentage %                   3.0                       0.0                      \n",
      "\n",
      "\n",
      "Elapsed Time                   ConcolicGrammarFuzzer     GrammarFuzzer            \n",
      "--------------------------------------------------------------------------------\n",
      "in minutes                     1.64 m                    0.42 m                   \n",
      "in seconds                     98.46 s                   25.36 s                  \n",
      "in milliseconds                98459 ms                  25359 ms                 \n"
     ]
    }
   ],
   "source": [
    "config = {\n",
    "    'target': TARGET_DEFAULT,       # target function we are fuzzing (query_db)\n",
    "    'grammar': GRAMMAR_DEFAULT,     # grammar for fuzzing (INVENTORY_GRAMMAR)\n",
    "    'min_nonterminals': 0,          # min nonterminal grammar expansions for fuzzing\n",
    "    'max_nonterminals': 10,         # max nonterminal grammar expansions for fuzzing\n",
    "    'n_fuzz': 1000,                 # how many times we fuzz\n",
    "    'functions': FUNCTIONS_DEFAULT  # functions we want to obtain coverage from\n",
    "}\n",
    "\n",
    "result1, result2 = comperative_run(\n",
    "    runner1=run_concolic_grammar_fuzzer,\n",
    "    config1=config,\n",
    "    runner2=run_grammar_fuzzer,\n",
    "    config2=config\n",
    ")"
   ]
  },
  {
   "cell_type": "markdown",
   "metadata": {},
   "source": [
    "Coverages are similar, but this time we got more valid inputs with the concolic fuzzer."
   ]
  },
  {
   "cell_type": "code",
   "execution_count": 28,
   "metadata": {},
   "outputs": [
    {
     "data": {
      "text/plain": [
       "['select 779.457 from months',\n",
       " 'select company from vehicles',\n",
       " 'select name,(--80) from months',\n",
       " 'select name from months',\n",
       " 'delete from months where 0==8.091',\n",
       " 'select (kind)==kind<kind,month<name,4 from months where 1.8==-5',\n",
       " 'select (28),688 from vehicles',\n",
       " 'select (846) from months',\n",
       " 'delete from vehicles where (77)==-7.06==(model)',\n",
       " 'delete from months where 0.3!=-877',\n",
       " 'delete from months where (0.3)!=name',\n",
       " 'update months set name=months where 8.9==84.9',\n",
       " 'delete from vehicles where 2==3!=(month/name*company(model)-model/month/company(model)*kind((monthV)))',\n",
       " 'select months4,P from vehicles where (11)==45.84',\n",
       " 'update vehicles set model=year where 0804.6==1',\n",
       " 'select 058.8 from vehicles',\n",
       " 'select year from vehicles',\n",
       " 'select 2 from vehicles where --5702.2==3.415',\n",
       " 'select ((--8)),--93.696 from months',\n",
       " 'select 52.58 from vehicles',\n",
       " 'select -37 from months',\n",
       " 'select (-6927),((company)) from vehicles',\n",
       " 'select 05.4 from months',\n",
       " 'delete from months where 24!=8.7==(780.7234)',\n",
       " 'select (22) from months',\n",
       " 'delete from vehicles where (--554)==97==(company)',\n",
       " 'select 6 from months',\n",
       " 'select nameE((model(company)*month)<companyB0(months)) from vehicles where 6==model!=kind+company/year',\n",
       " 'select kind from vehicles',\n",
       " 'select 09.4 from vehicles']"
      ]
     },
     "execution_count": 28,
     "metadata": {},
     "output_type": "execute_result"
    }
   ],
   "source": [
    "result1.valid_inputs"
   ]
  },
  {
   "cell_type": "markdown",
   "metadata": {},
   "source": [
    "### Timed Fuzzing\n",
    "\n",
    "So far we have fuzzed our target given number of times but it is also a nice idea to fuzz the target for a given duration. Let's add this with the following function `fuzz_n_minutes` and new runners `run_grammar_fuzzer_timed`, `run_concolic_grammar_fuzzer_timed`."
   ]
  },
  {
   "cell_type": "code",
   "execution_count": 29,
   "metadata": {},
   "outputs": [],
   "source": [
    "def fuzz_n_minutes(target, functions, fuzzer, n_minutes):\n",
    "    fuzzer_name = fuzzer.__class__.__name__\n",
    "    \n",
    "    line_coverage = set()\n",
    "    branch_coverage = set()\n",
    "    exceptions = []\n",
    "    valid_inputs = []\n",
    "    \n",
    "    start_time = time.time()\n",
    "    stop_time_wanted = start_time + (n_minutes * 60)\n",
    "    \n",
    "    i = 0\n",
    "    while True:\n",
    "        remaining = stop_time_wanted - time.time()\n",
    "        if remaining < 1:\n",
    "            break\n",
    "        \n",
    "        print('{0:<30}-> fuzz {1} remaining {2:.0f} seconds'.format(\n",
    "              fuzzer_name, i, remaining), end='  \\r')\n",
    "        \n",
    "        inp = fuzzer.fuzz()\n",
    "        with FilteredCoverage(functions) as fc:\n",
    "            try:\n",
    "                run_target(target, inp, fuzzer)\n",
    "                valid_inputs.append(inp)\n",
    "            except Exception as e:\n",
    "                exceptions.append((inp, e))\n",
    "\n",
    "        line_coverage |= fc.get_line_coverage()\n",
    "        branch_coverage |= fc.get_branch_coverage()\n",
    "        i += 1\n",
    "        \n",
    "    elapsed_time = time.time() - start_time\n",
    "\n",
    "    print('{0:<30}-> fuzzed {1} times in {2:.2f} seconds!'.format(fuzzer_name, i, elapsed_time))\n",
    "    \n",
    "    return Result(functions,\n",
    "                  fuzzer_name,\n",
    "                  i,\n",
    "                  line_coverage, \n",
    "                  branch_coverage, \n",
    "                  exceptions,\n",
    "                  valid_inputs,\n",
    "                  elapsed_time)"
   ]
  },
  {
   "cell_type": "code",
   "execution_count": 30,
   "metadata": {},
   "outputs": [],
   "source": [
    "def run_grammar_fuzzer_timed(\n",
    "        target, \n",
    "        grammar, \n",
    "        min_nonterminals,\n",
    "        max_nonterminals,\n",
    "        n_minutes,\n",
    "        functions): \n",
    "    \n",
    "    gf = GrammarFuzzer(grammar=grammar, \n",
    "                       min_nonterminals=min_nonterminals,\n",
    "                       max_nonterminals=max_nonterminals)\n",
    "    \n",
    "    result = fuzz_n_minutes(target=target, \n",
    "                          functions=functions, \n",
    "                          fuzzer=gf, \n",
    "                          n_minutes=n_minutes)\n",
    "    \n",
    "    return result"
   ]
  },
  {
   "cell_type": "code",
   "execution_count": 31,
   "metadata": {},
   "outputs": [],
   "source": [
    "def run_concolic_grammar_fuzzer_timed(\n",
    "        target, \n",
    "        grammar, \n",
    "        min_nonterminals,\n",
    "        max_nonterminals, \n",
    "        n_minutes,\n",
    "        functions):\n",
    "    \n",
    "    cgf = ConcolicGrammarFuzzer(grammar=grammar,\n",
    "                                min_nonterminals=min_nonterminals,\n",
    "                                max_nonterminals=max_nonterminals)\n",
    "    \n",
    "    cgf.prune_tokens([])\n",
    "    \n",
    "    result = fuzz_n_minutes(target=target, \n",
    "                          functions=functions, \n",
    "                          fuzzer=cgf, \n",
    "                          n_minutes=n_minutes)\n",
    "    \n",
    "    return result"
   ]
  },
  {
   "cell_type": "code",
   "execution_count": 32,
   "metadata": {},
   "outputs": [
    {
     "name": "stdout",
     "output_type": "stream",
     "text": [
      "ConcolicGrammarFuzzer         -> fuzzed 603 times in 59.09 seconds!\n",
      "GrammarFuzzer                 -> fuzzed 2301 times in 59.01 seconds!\n",
      "\n",
      "\n",
      "Line Coverage                  ConcolicGrammarFuzzer     GrammarFuzzer            \n",
      "--------------------------------------------------------------------------------\n",
      "all functions                  61                        29                       \n",
      "do_update                      21                        6                        \n",
      "query_db                       3                         3                        \n",
      "table                          4                         3                        \n",
      "do_delete                      11                        5                        \n",
      "sql                            7                         7                        \n",
      "do_insert                      15                        5                        \n"
     ]
    },
    {
     "data": {
      "image/png": "[encoded data removed]",
      "text/plain": [
       "<Figure size 432x288 with 1 Axes>"
      ]
     },
     "metadata": {
      "needs_background": "light"
     },
     "output_type": "display_data"
    },
    {
     "name": "stdout",
     "output_type": "stream",
     "text": [
      "\n",
      "\n",
      "Branch Coverage                ConcolicGrammarFuzzer     GrammarFuzzer            \n",
      "--------------------------------------------------------------------------------\n",
      "all functions                  57                        25                       \n",
      "do_update                      20                        5                        \n",
      "query_db                       2                         2                        \n",
      "table                          4                         3                        \n",
      "do_delete                      10                        4                        \n",
      "sql                            7                         7                        \n",
      "do_insert                      14                        4                        \n"
     ]
    },
    {
     "data": {
      "image/png": "[encoded data removed]",
      "text/plain": [
       "<Figure size 432x288 with 1 Axes>"
      ]
     },
     "metadata": {
      "needs_background": "light"
     },
     "output_type": "display_data"
    },
    {
     "name": "stdout",
     "output_type": "stream",
     "text": [
      "\n",
      "\n",
      "Exception Type                 ConcolicGrammarFuzzer     GrammarFuzzer            \n",
      "--------------------------------------------------------------------------------\n",
      "all exceptions                 587                       2301                     \n",
      "TypeError                      17                        0                        \n",
      "SQLException                   570                       2301                     \n",
      "\n",
      "\n",
      "Valid Inputs                   ConcolicGrammarFuzzer     GrammarFuzzer            \n",
      "--------------------------------------------------------------------------------\n",
      "Number                         16                        0                        \n",
      "Percentage %                   2.65                      0.0                      \n",
      "\n",
      "\n",
      "Elapsed Time                   ConcolicGrammarFuzzer     GrammarFuzzer            \n",
      "--------------------------------------------------------------------------------\n",
      "in minutes                     0.98 m                    0.98 m                   \n",
      "in seconds                     59.09 s                   59.01 s                  \n",
      "in milliseconds                59086 ms                  59006 ms                 \n"
     ]
    }
   ],
   "source": [
    "config = {\n",
    "    'target': TARGET_DEFAULT,       # target function we are fuzzing (query_db)\n",
    "    'grammar': GRAMMAR_DEFAULT,     # grammar for fuzzing (INVENTORY_GRAMMAR)\n",
    "    'min_nonterminals': 0,          # min nonterminal grammar expansions for fuzzing\n",
    "    'max_nonterminals': 10,         # max nonterminal grammar expansions for fuzzing\n",
    "    'n_minutes': 1,                 # how many minutes we fuzz\n",
    "    'functions': FUNCTIONS_DEFAULT  # functions we want to obtain coverage from\n",
    "}\n",
    "\n",
    "result1, result2 = comperative_run(\n",
    "    runner1=run_concolic_grammar_fuzzer_timed,\n",
    "    config1=config,\n",
    "    runner2=run_grammar_fuzzer_timed,\n",
    "    config2=config\n",
    ")"
   ]
  },
  {
   "cell_type": "markdown",
   "metadata": {},
   "source": [
    "### Fuzzing an hour\n",
    "\n",
    "Let's see if we gain new insights by fuzzing for an hour with each fuzzer."
   ]
  },
  {
   "cell_type": "code",
   "execution_count": 33,
   "metadata": {},
   "outputs": [
    {
     "name": "stdout",
     "output_type": "stream",
     "text": [
      "ConcolicGrammarFuzzer         -> fuzzed 35764 times in 3599.08 seconds!\n",
      "GrammarFuzzer                 -> fuzzed 140670 times in 3599.02 seconds!                   \n",
      "\n",
      "\n",
      "Line Coverage                  ConcolicGrammarFuzzer     GrammarFuzzer            \n",
      "--------------------------------------------------------------------------------\n",
      "all functions                  61                        29                       \n",
      "do_update                      21                        6                        \n",
      "query_db                       3                         3                        \n",
      "table                          4                         3                        \n",
      "do_delete                      11                        5                        \n",
      "sql                            7                         7                        \n",
      "do_insert                      15                        5                        \n"
     ]
    },
    {
     "data": {
      "image/png": "[encoded data removed]",
      "text/plain": [
       "<Figure size 432x288 with 1 Axes>"
      ]
     },
     "metadata": {
      "needs_background": "light"
     },
     "output_type": "display_data"
    },
    {
     "name": "stdout",
     "output_type": "stream",
     "text": [
      "\n",
      "\n",
      "Branch Coverage                ConcolicGrammarFuzzer     GrammarFuzzer            \n",
      "--------------------------------------------------------------------------------\n",
      "all functions                  57                        25                       \n",
      "do_update                      20                        5                        \n",
      "query_db                       2                         2                        \n",
      "table                          4                         3                        \n",
      "do_delete                      10                        4                        \n",
      "sql                            7                         7                        \n",
      "do_insert                      14                        4                        \n"
     ]
    },
    {
     "data": {
      "image/png": "[encoded data removed]",
      "text/plain": [
       "<Figure size 432x288 with 1 Axes>"
      ]
     },
     "metadata": {
      "needs_background": "light"
     },
     "output_type": "display_data"
    },
    {
     "name": "stdout",
     "output_type": "stream",
     "text": [
      "\n",
      "\n",
      "Exception Type                 ConcolicGrammarFuzzer     GrammarFuzzer            \n",
      "--------------------------------------------------------------------------------\n",
      "all exceptions                 34706                     140670                   \n",
      "TypeError                      1187                      0                        \n",
      "SQLException                   33519                     140670                   \n",
      "\n",
      "\n",
      "Valid Inputs                   ConcolicGrammarFuzzer     GrammarFuzzer            \n",
      "--------------------------------------------------------------------------------\n",
      "Number                         1058                      0                        \n",
      "Percentage %                   2.96                      0.0                      \n",
      "\n",
      "\n",
      "Elapsed Time                   ConcolicGrammarFuzzer     GrammarFuzzer            \n",
      "--------------------------------------------------------------------------------\n",
      "in minutes                     59.98 m                   59.98 m                  \n",
      "in seconds                     3599.08 s                 3599.02 s                \n",
      "in milliseconds                3599082 ms                3599022 ms               \n"
     ]
    }
   ],
   "source": [
    "config = {\n",
    "    'target': TARGET_DEFAULT,       # target function we are fuzzing (query_db)\n",
    "    'grammar': GRAMMAR_DEFAULT,     # grammar for fuzzing (INVENTORY_GRAMMAR)\n",
    "    'min_nonterminals': 0,          # min nonterminal grammar expansions for fuzzing\n",
    "    'max_nonterminals': 10,         # max nonterminal grammar expansions for fuzzing\n",
    "    'n_minutes': 60,            # how many minutes we fuzz\n",
    "    'functions': FUNCTIONS_DEFAULT  # functions we want to obtain coverage from\n",
    "}\n",
    "\n",
    "result1, result2 = comperative_run(\n",
    "    runner1=run_concolic_grammar_fuzzer_timed,\n",
    "    config1=config,\n",
    "    runner2=run_grammar_fuzzer_timed,\n",
    "    config2=config\n",
    ")"
   ]
  },
  {
   "cell_type": "markdown",
   "metadata": {},
   "source": [
    "## 7.Comments and Conclusion <a name=\"conclusion\"></a>"
   ]
  },
  {
   "cell_type": "markdown",
   "metadata": {},
   "source": []
  },
  {
   "cell_type": "code",
   "execution_count": null,
   "metadata": {},
   "outputs": [],
   "source": []
  }
 ],
 "metadata": {
  "kernelspec": {
   "display_name": "Python 3",
   "language": "python",
   "name": "python3"
  },
  "language_info": {
   "codemirror_mode": {
    "name": "ipython",
    "version": 3
   },
   "file_extension": ".py",
   "mimetype": "text/x-python",
   "name": "python",
   "nbconvert_exporter": "python",
   "pygments_lexer": "ipython3",
   "version": "3.7.4"
  }
 },
 "nbformat": 4,
 "nbformat_minor": 2
}
